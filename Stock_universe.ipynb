{
 "cells": [
  {
   "cell_type": "code",
   "execution_count": 1,
   "metadata": {
    "execution": {
     "iopub.execute_input": "2025-04-06T17:17:54.607326Z",
     "iopub.status.busy": "2025-04-06T17:17:54.607072Z",
     "iopub.status.idle": "2025-04-06T17:19:50.571454Z",
     "shell.execute_reply": "2025-04-06T17:19:50.570524Z"
    }
   },
   "outputs": [
    {
     "name": "stdout",
     "output_type": "stream",
     "text": [
      "✅ AAPL - Date: 2025-04-06, Price: 188.3800048828125, P/E: 29.949127, Avg P/E: 31.531283602010745, Net Worth: 66.67\n"
     ]
    },
    {
     "name": "stdout",
     "output_type": "stream",
     "text": [
      "✅ MSFT - Date: 2025-04-06, Price: 359.8399963378906, P/E: 28.995972, Avg P/E: 37.414551934790865, Net Worth: 302.65\n"
     ]
    },
    {
     "name": "stdout",
     "output_type": "stream",
     "text": [
      "✅ GOOGL - Date: 2025-04-06, Price: 145.60000610351562, P/E: 18.109453, Avg P/E: 33.16782169838194, Net Worth: 326.67\n"
     ]
    },
    {
     "name": "stdout",
     "output_type": "stream",
     "text": [
      "✅ NVDA - Date: 2025-04-06, Price: 94.30999755859375, P/E: 32.078228, Avg P/E: 227.76401334792615, Net Worth: 79.08\n"
     ]
    },
    {
     "name": "stdout",
     "output_type": "stream",
     "text": [
      "✅ META - Date: 2025-04-06, Price: 504.7300109863281, P/E: 21.14495, Avg P/E: 37.62720852033674, Net Worth: 182.61\n"
     ]
    },
    {
     "name": "stdout",
     "output_type": "stream",
     "text": [
      "✅ JPM - Date: 2025-04-06, Price: 210.27999877929688, P/E: 10.647089, Avg P/E: 13.671583247725726, Net Worth: 324.53\n"
     ]
    },
    {
     "name": "stdout",
     "output_type": "stream",
     "text": [
      "✅ BAC - Date: 2025-04-06, Price: 34.38999938964844, P/E: 10.713395, Avg P/E: 10.573149197054683, Net Worth: 272.11\n"
     ]
    },
    {
     "name": "stdout",
     "output_type": "stream",
     "text": [
      "✅ WFC - Date: 2025-04-06, Price: 60.97999954223633, P/E: 11.3556795, Avg P/E: 46.27286648719745, Net Worth: 159.35\n"
     ]
    },
    {
     "name": "stdout",
     "output_type": "stream",
     "text": [
      "✅ C - Date: 2025-04-06, Price: 58.130001068115234, P/E: 9.769749, Avg P/E: 10.0904967259658, Net Worth: 191.27\n"
     ]
    },
    {
     "name": "stdout",
     "output_type": "stream",
     "text": [
      "✅ GS - Date: 2025-04-06, Price: 470.80999755859375, P/E: 11.613468, Avg P/E: 13.945398876112145, Net Worth: 104.17\n"
     ]
    },
    {
     "name": "stdout",
     "output_type": "stream",
     "text": [
      "✅ PG - Date: 2025-04-06, Price: 163.75, P/E: 26.033386, Avg P/E: 28.228031617740434, Net Worth: 50.38\n"
     ]
    },
    {
     "name": "stdout",
     "output_type": "stream",
     "text": [
      "✅ KO - Date: 2025-04-06, Price: 69.93000030517578, P/E: 28.426828, Avg P/E: 32.59757185379354, Net Worth: 24.87\n"
     ]
    },
    {
     "name": "stdout",
     "output_type": "stream",
     "text": [
      "✅ PEP - Date: 2025-04-06, Price: 146.61000061035156, P/E: 21.094965, Avg P/E: 25.13130451006689, Net Worth: 18.03\n"
     ]
    },
    {
     "name": "stdout",
     "output_type": "stream",
     "text": [
      "✅ MO - Date: 2025-04-06, Price: 56.06999969482422, P/E: 8.573395, Avg P/E: 20.065656689200985, Net Worth: N/A\n"
     ]
    },
    {
     "name": "stdout",
     "output_type": "stream",
     "text": [
      "✅ MNST - Date: 2025-04-06, Price: 57.08000183105469, P/E: 38.308727, Avg P/E: 43.98010588145198, Net Worth: 5.96\n"
     ]
    },
    {
     "name": "stdout",
     "output_type": "stream",
     "text": [
      "✅ JNJ - Date: 2025-04-06, Price: 153.24000549316406, P/E: 26.466322, Avg P/E: 20.00652675151122, Net Worth: 71.58\n"
     ]
    },
    {
     "name": "stdout",
     "output_type": "stream",
     "text": [
      "✅ PFE - Date: 2025-04-06, Price: 22.969999313354492, P/E: 16.29078, Avg P/E: 21.419832390669, Net Worth: 88.27\n"
     ]
    },
    {
     "name": "stdout",
     "output_type": "stream",
     "text": [
      "✅ MRNA - Date: 2025-04-06, Price: 25.110000610351562, P/E: N/A, Avg P/E: -0.6516776654607546, Net Worth: 10.92\n"
     ]
    },
    {
     "name": "stdout",
     "output_type": "stream",
     "text": [
      "✅ LLY - Date: 2025-04-06, Price: 738.2100219726562, P/E: 62.8799, Avg P/E: 107.19180674763024, Net Worth: 14.2\n"
     ]
    },
    {
     "name": "stdout",
     "output_type": "stream",
     "text": [
      "✅ UNH - Date: 2025-04-06, Price: 525.0499877929688, P/E: 33.89606, Avg P/E: 27.4220178635439, Net Worth: 92.63\n"
     ]
    },
    {
     "name": "stdout",
     "output_type": "stream",
     "text": [
      "✅ XOM - Date: 2025-04-06, Price: 104.33999633789062, P/E: 13.308673, Avg P/E: 13.06807582958756, Net Worth: 262.87\n"
     ]
    },
    {
     "name": "stdout",
     "output_type": "stream",
     "text": [
      "✅ CVX - Date: 2025-04-06, Price: 143.27999877929688, P/E: 14.755921, Avg P/E: 13.198364086877305, Net Worth: 151.59\n"
     ]
    },
    {
     "name": "stdout",
     "output_type": "stream",
     "text": [
      "✅ COP - Date: 2025-04-06, Price: 86.29000091552734, P/E: 11.0486555, Avg P/E: -1.1789861705769482, Net Worth: 64.2\n"
     ]
    },
    {
     "name": "stdout",
     "output_type": "stream",
     "text": [
      "✅ PSX - Date: 2025-04-06, Price: 98.80999755859375, P/E: 19.801603, Avg P/E: 8.248123291963152, Net Worth: 27.36\n"
     ]
    },
    {
     "name": "stdout",
     "output_type": "stream",
     "text": [
      "✅ SLB - Date: 2025-04-06, Price: 34.779998779296875, P/E: 11.18328, Avg P/E: 16.00898840833008, Net Worth: 20.51\n"
     ]
    },
    {
     "name": "stdout",
     "output_type": "stream",
     "text": [
      "✅ TSLA - Date: 2025-04-06, Price: 239.42999267578125, P/E: 117.367645, Avg P/E: 347.72812369962077, Net Worth: 72.92\n"
     ]
    },
    {
     "name": "stdout",
     "output_type": "stream",
     "text": [
      "✅ F - Date: 2025-04-06, Price: 9.579999923706055, P/E: 6.5616436, Avg P/E: -0.49154929943846426, Net Worth: 44.98\n"
     ]
    },
    {
     "name": "stdout",
     "output_type": "stream",
     "text": [
      "✅ GM - Date: 2025-04-06, Price: 44.18000030517578, P/E: 6.935636, Avg P/E: 6.693090692042228, Net Worth: 62.76\n"
     ]
    },
    {
     "name": "stdout",
     "output_type": "stream",
     "text": [
      "✅ RIVN - Date: 2025-04-06, Price: 11.210000038146973, P/E: N/A, Avg P/E: -2.002527215007722, Net Worth: 6.56\n"
     ]
    },
    {
     "name": "stdout",
     "output_type": "stream",
     "text": [
      "✅ LCID - Date: 2025-04-06, Price: 2.2799999713897705, P/E: N/A, Avg P/E: -1.3415246308757947, Net Worth: 3.87\n"
     ]
    },
    {
     "name": "stdout",
     "output_type": "stream",
     "text": [
      "✅ AMZN - Date: 2025-04-06, Price: 171.0, P/E: 30.97826, Avg P/E: -109.95966975675974, Net Worth: 286.1\n"
     ]
    },
    {
     "name": "stdout",
     "output_type": "stream",
     "text": [
      "✅ WMT - Date: 2025-04-06, Price: 83.19000244140625, P/E: 34.518673, Avg P/E: 46.94184727620539, Net Worth: 90.94\n"
     ]
    },
    {
     "name": "stdout",
     "output_type": "stream",
     "text": [
      "✅ COST - Date: 2025-04-06, Price: 916.47998046875, P/E: 53.470245, Avg P/E: 67.78345226057714, Net Worth: 25.57\n"
     ]
    },
    {
     "name": "stdout",
     "output_type": "stream",
     "text": [
      "✅ TGT - Date: 2025-04-06, Price: 95.72000122070312, P/E: 10.803613, Avg P/E: 11.076472217924549, Net Worth: 14.67\n"
     ]
    },
    {
     "name": "stdout",
     "output_type": "stream",
     "text": [
      "✅ HD - Date: 2025-04-06, Price: 353.8999938964844, P/E: 23.751678, Avg P/E: 24.263476340757215, Net Worth: 6.64\n"
     ]
    },
    {
     "name": "stdout",
     "output_type": "stream",
     "text": [
      "✅ BA - Date: 2025-04-06, Price: 136.58999633789062, P/E: N/A, Avg P/E: -20.054411748423625, Net Worth: N/A\n"
     ]
    },
    {
     "name": "stdout",
     "output_type": "stream",
     "text": [
      "✅ LMT - Date: 2025-04-06, Price: 432.1499938964844, P/E: 19.378923, Avg P/E: 18.49876095464714, Net Worth: 6.32\n"
     ]
    },
    {
     "name": "stdout",
     "output_type": "stream",
     "text": [
      "✅ NOC - Date: 2025-04-06, Price: 485.5199890136719, P/E: 17.125925, Avg P/E: 19.89895497664923, Net Worth: 15.27\n"
     ]
    },
    {
     "name": "stdout",
     "output_type": "stream",
     "text": [
      "✅ GD - Date: 2025-04-06, Price: 250.00999450683594, P/E: 18.342627, Avg P/E: 20.32436175322745, Net Worth: 21.94\n"
     ]
    },
    {
     "name": "stdout",
     "output_type": "stream",
     "text": [
      "✅ RTX - Date: 2025-04-06, Price: 117.44999694824219, P/E: 33.084507, Avg P/E: 41.29717832304973, Net Worth: 60.29\n"
     ]
    },
    {
     "name": "stdout",
     "output_type": "stream",
     "text": [
      "✅ VZ - Date: 2025-04-06, Price: 43.029998779296875, P/E: 10.39372, Avg P/E: 10.561636676703188, Net Worth: 99.24\n"
     ]
    },
    {
     "name": "stdout",
     "output_type": "stream",
     "text": [
      "✅ T - Date: 2025-04-06, Price: 26.639999389648438, P/E: 17.879194, Avg P/E: 4.369747386027256, Net Worth: 104.41\n"
     ]
    },
    {
     "name": "stdout",
     "output_type": "stream",
     "text": [
      "✅ DIS - Date: 2025-04-06, Price: 83.52999877929688, P/E: 27.12013, Avg P/E: 55.164618648660436, Net Worth: 101.81\n"
     ]
    },
    {
     "name": "stdout",
     "output_type": "stream",
     "text": [
      "✅ NFLX - Date: 2025-04-06, Price: 855.8599853515625, P/E: 43.09466, Avg P/E: 69.11596743316892, Net Worth: 24.74\n"
     ]
    },
    {
     "name": "stdout",
     "output_type": "stream",
     "text": [
      "✅ CMCSA - Date: 2025-04-06, Price: 33.380001068115234, P/E: 8.062802, Avg P/E: 15.551174366817232, Net Worth: 85.41\n"
     ]
    },
    {
     "name": "stdout",
     "output_type": "stream",
     "text": [
      "✅ AMD - Date: 2025-04-06, Price: 85.76000213623047, P/E: 85.76, Avg P/E: 95.75905454915153, Net Worth: 57.66\n"
     ]
    },
    {
     "name": "stdout",
     "output_type": "stream",
     "text": [
      "✅ TSM - Date: 2025-04-06, Price: 146.8000030517578, P/E: 21.588236, Avg P/E: 0.8954754284582792, Net Worth: 857.71\n"
     ]
    },
    {
     "name": "stdout",
     "output_type": "stream",
     "text": [
      "✅ INTC - Date: 2025-04-06, Price: 19.850000381469727, P/E: N/A, Avg P/E: 16.989885208076643, Net Worth: 99.97\n"
     ]
    },
    {
     "name": "stdout",
     "output_type": "stream",
     "text": [
      "✅ AVGO - Date: 2025-04-06, Price: 146.2899932861328, P/E: 67.41474, Avg P/E: 79.08569081236254, Net Worth: 278.45\n"
     ]
    },
    {
     "name": "stdout",
     "output_type": "stream",
     "text": [
      "✅ QCOM - Date: 2025-04-06, Price: 127.45999908447266, P/E: 13.749729, Avg P/E: 15.367262927586157, Net Worth: 26.89\n"
     ]
    },
    {
     "name": "stdout",
     "output_type": "stream",
     "text": [
      "   Date Fetched                Sector  Stock  Last Price ($)  \\\n",
      "0    2025-04-06            Technology   AAPL          188.38   \n",
      "1    2025-04-06            Technology   MSFT          359.84   \n",
      "2    2025-04-06            Technology  GOOGL          145.60   \n",
      "3    2025-04-06            Technology   NVDA           94.31   \n",
      "4    2025-04-06            Technology   META          504.73   \n",
      "5    2025-04-06  Banking & Financials    JPM          210.28   \n",
      "6    2025-04-06  Banking & Financials    BAC           34.39   \n",
      "7    2025-04-06  Banking & Financials    WFC           60.98   \n",
      "8    2025-04-06  Banking & Financials      C           58.13   \n",
      "9    2025-04-06  Banking & Financials     GS          470.81   \n",
      "10   2025-04-06        Consumer Goods     PG          163.75   \n",
      "11   2025-04-06        Consumer Goods     KO           69.93   \n",
      "12   2025-04-06        Consumer Goods    PEP          146.61   \n",
      "13   2025-04-06        Consumer Goods     MO           56.07   \n",
      "14   2025-04-06        Consumer Goods   MNST           57.08   \n",
      "15   2025-04-06   Pharma & Healthcare    JNJ          153.24   \n",
      "16   2025-04-06   Pharma & Healthcare    PFE           22.97   \n",
      "17   2025-04-06   Pharma & Healthcare   MRNA           25.11   \n",
      "18   2025-04-06   Pharma & Healthcare    LLY          738.21   \n",
      "19   2025-04-06   Pharma & Healthcare    UNH          525.05   \n",
      "20   2025-04-06                Energy    XOM          104.34   \n",
      "21   2025-04-06                Energy    CVX          143.28   \n",
      "22   2025-04-06                Energy    COP           86.29   \n",
      "23   2025-04-06                Energy    PSX           98.81   \n",
      "24   2025-04-06                Energy    SLB           34.78   \n",
      "25   2025-04-06            Automobile   TSLA          239.43   \n",
      "26   2025-04-06            Automobile      F            9.58   \n",
      "27   2025-04-06            Automobile     GM           44.18   \n",
      "28   2025-04-06            Automobile   RIVN           11.21   \n",
      "29   2025-04-06            Automobile   LCID            2.28   \n",
      "30   2025-04-06   Retail & E-commerce   AMZN          171.00   \n",
      "31   2025-04-06   Retail & E-commerce    WMT           83.19   \n",
      "32   2025-04-06   Retail & E-commerce   COST          916.48   \n",
      "33   2025-04-06   Retail & E-commerce    TGT           95.72   \n",
      "34   2025-04-06   Retail & E-commerce     HD          353.90   \n",
      "35   2025-04-06   Aerospace & Defense     BA          136.59   \n",
      "36   2025-04-06   Aerospace & Defense    LMT          432.15   \n",
      "37   2025-04-06   Aerospace & Defense    NOC          485.52   \n",
      "38   2025-04-06   Aerospace & Defense     GD          250.01   \n",
      "39   2025-04-06   Aerospace & Defense    RTX          117.45   \n",
      "40   2025-04-06       Telecom & Media     VZ           43.03   \n",
      "41   2025-04-06       Telecom & Media      T           26.64   \n",
      "42   2025-04-06       Telecom & Media    DIS           83.53   \n",
      "43   2025-04-06       Telecom & Media   NFLX          855.86   \n",
      "44   2025-04-06       Telecom & Media  CMCSA           33.38   \n",
      "45   2025-04-06        Semiconductors    AMD           85.76   \n",
      "46   2025-04-06        Semiconductors    TSM          146.80   \n",
      "47   2025-04-06        Semiconductors   INTC           19.85   \n",
      "48   2025-04-06        Semiconductors   AVGO          146.29   \n",
      "49   2025-04-06        Semiconductors   QCOM          127.46   \n",
      "\n",
      "   Current P/E Ratio  Historical Avg P/E Ratio Net Worth ($B)  \n",
      "0              29.95                     31.53          66.67  \n",
      "1               29.0                     37.41         302.65  \n",
      "2              18.11                     33.17         326.67  \n",
      "3              32.08                    227.76          79.08  \n",
      "4              21.14                     37.63         182.61  \n",
      "5              10.65                     13.67         324.53  \n",
      "6              10.71                     10.57         272.11  \n",
      "7              11.36                     46.27         159.35  \n",
      "8               9.77                     10.09         191.27  \n",
      "9              11.61                     13.95         104.17  \n",
      "10             26.03                     28.23          50.38  \n",
      "11             28.43                     32.60          24.87  \n",
      "12             21.09                     25.13          18.03  \n",
      "13              8.57                     20.07            N/A  \n",
      "14             38.31                     43.98           5.96  \n",
      "15             26.47                     20.01          71.58  \n",
      "16             16.29                     21.42          88.27  \n",
      "17               N/A                     -0.65          10.92  \n",
      "18             62.88                    107.19           14.2  \n",
      "19              33.9                     27.42          92.63  \n",
      "20             13.31                     13.07         262.87  \n",
      "21             14.76                     13.20         151.59  \n",
      "22             11.05                     -1.18           64.2  \n",
      "23              19.8                      8.25          27.36  \n",
      "24             11.18                     16.01          20.51  \n",
      "25            117.37                    347.73          72.92  \n",
      "26              6.56                     -0.49          44.98  \n",
      "27              6.94                      6.69          62.76  \n",
      "28               N/A                     -2.00           6.56  \n",
      "29               N/A                     -1.34           3.87  \n",
      "30             30.98                   -109.96          286.1  \n",
      "31             34.52                     46.94          90.94  \n",
      "32             53.47                     67.78          25.57  \n",
      "33              10.8                     11.08          14.67  \n",
      "34             23.75                     24.26           6.64  \n",
      "35               N/A                    -20.05            N/A  \n",
      "36             19.38                     18.50           6.32  \n",
      "37             17.13                     19.90          15.27  \n",
      "38             18.34                     20.32          21.94  \n",
      "39             33.08                     41.30          60.29  \n",
      "40             10.39                     10.56          99.24  \n",
      "41             17.88                      4.37         104.41  \n",
      "42             27.12                     55.16         101.81  \n",
      "43             43.09                     69.12          24.74  \n",
      "44              8.06                     15.55          85.41  \n",
      "45             85.76                     95.76          57.66  \n",
      "46             21.59                      0.90         857.71  \n",
      "47               N/A                     16.99          99.97  \n",
      "48             67.41                     79.09         278.45  \n",
      "49             13.75                     15.37          26.89  \n"
     ]
    }
   ],
   "source": [
    "import yfinance as yf\n",
    "import pandas as pd\n",
    "import time\n",
    "from datetime import datetime\n",
    "\n",
    "# ✅ Full US Stock Universe (Sector-Wise 50 Stocks)\n",
    "us_stock_universe = {\n",
    "    \"Technology\": [\"AAPL\", \"MSFT\", \"GOOGL\", \"NVDA\", \"META\"],\n",
    "    \"Banking & Financials\": [\"JPM\", \"BAC\", \"WFC\", \"C\", \"GS\"],\n",
    "    \"Consumer Goods\": [\"PG\", \"KO\", \"PEP\", \"MO\", \"MNST\"],\n",
    "    \"Pharma & Healthcare\": [\"JNJ\", \"PFE\", \"MRNA\", \"LLY\", \"UNH\"],\n",
    "    \"Energy\": [\"XOM\", \"CVX\", \"COP\", \"PSX\", \"SLB\"],\n",
    "    \"Automobile\": [\"TSLA\", \"F\", \"GM\", \"RIVN\", \"LCID\"],\n",
    "    \"Retail & E-commerce\": [\"AMZN\", \"WMT\", \"COST\", \"TGT\", \"HD\"],\n",
    "    \"Aerospace & Defense\": [\"BA\", \"LMT\", \"NOC\", \"GD\", \"RTX\"],\n",
    "    \"Telecom & Media\": [\"VZ\", \"T\", \"DIS\", \"NFLX\", \"CMCSA\"],\n",
    "    \"Semiconductors\": [\"AMD\", \"TSM\", \"INTC\", \"AVGO\", \"QCOM\"]\n",
    "}\n",
    "\n",
    "# ✅ Data Storage List\n",
    "stock_data = []\n",
    "fetch_date = datetime.now().strftime('%Y-%m-%d')  # ✅ Get current date\n",
    "\n",
    "# ✅ Fetch Data for Each Stock\n",
    "for sector, stocks in us_stock_universe.items():\n",
    "    for stock in stocks:\n",
    "        try:\n",
    "            ticker = yf.Ticker(stock)\n",
    "\n",
    "            # ✅ Fetch Last Closing Price\n",
    "            hist = ticker.history(period=\"1d\")\n",
    "            last_price = hist[\"Close\"].iloc[-1] if not hist.empty else \"N/A\"\n",
    "\n",
    "            # ✅ Fetch Current P/E Ratio\n",
    "            current_pe = ticker.info.get(\"trailingPE\", \"N/A\")\n",
    "\n",
    "            # ✅ Fetch Historical Avg P/E Ratio (Past 3 Years)\n",
    "            eps_values = ticker.financials.loc[\"Diluted EPS\"].dropna() if \"Diluted EPS\" in ticker.financials.index else pd.Series()\n",
    "            avg_pe = (last_price / eps_values).mean() if not eps_values.empty else \"N/A\"\n",
    "\n",
    "            # ✅ Fetch Direct Net Worth (Shareholder's Equity)\n",
    "            net_worth = ticker.balance_sheet.loc[\"Total Stockholder Equity\"].iloc[0] if \"Total Stockholder Equity\" in ticker.balance_sheet.index else \"N/A\"\n",
    "\n",
    "            # ✅ If Direct Net Worth is N/A, Approximate It\n",
    "            if net_worth == \"N/A\":\n",
    "                market_cap = ticker.info.get(\"marketCap\", \"N/A\")\n",
    "                price_to_book = ticker.info.get(\"priceToBook\", \"N/A\")\n",
    "\n",
    "                if market_cap != \"N/A\" and price_to_book != \"N/A\" and price_to_book > 0:\n",
    "                    net_worth = market_cap / price_to_book  # **Estimate Net Worth**\n",
    "                else:\n",
    "                    net_worth = \"N/A\"\n",
    "\n",
    "            # ✅ Convert Net Worth to Billion $\n",
    "            net_worth_billion = round(net_worth / 1e9, 2) if net_worth != \"N/A\" else \"N/A\"\n",
    "\n",
    "            # ✅ Store Data\n",
    "            stock_data.append({\n",
    "                \"Date Fetched\": fetch_date,\n",
    "                \"Sector\": sector,\n",
    "                \"Stock\": stock,\n",
    "                \"Last Price ($)\": round(last_price, 2) if last_price != \"N/A\" else \"N/A\",\n",
    "                \"Current P/E Ratio\": round(current_pe, 2) if current_pe != \"N/A\" else \"N/A\",\n",
    "                \"Historical Avg P/E Ratio\": round(avg_pe, 2) if avg_pe != \"N/A\" else \"N/A\",\n",
    "                \"Net Worth ($B)\": net_worth_billion\n",
    "            })\n",
    "\n",
    "            print(f\"✅ {stock} - Date: {fetch_date}, Price: {last_price}, P/E: {current_pe}, Avg P/E: {avg_pe}, Net Worth: {net_worth_billion}\")\n",
    "\n",
    "        except Exception as e:\n",
    "            print(f\"❌ Error fetching {stock}: {e}\")\n",
    "\n",
    "        time.sleep(1)  # ✅ API Rate Limit Avoid Karne ke liye\n",
    "\n",
    "# ✅ Convert to Pandas DataFrame\n",
    "df = pd.DataFrame(stock_data)\n",
    "\n",
    "# ✅ Print as Table\n",
    "print(df)\n",
    "\n",
    "# ✅ Save to CSV File (Optional)\n",
    "df.to_csv(\"stock_prices.csv\", index=False)"
   ]
  },
  {
   "cell_type": "code",
   "execution_count": 2,
   "metadata": {
    "execution": {
     "iopub.execute_input": "2025-04-06T17:19:50.574947Z",
     "iopub.status.busy": "2025-04-06T17:19:50.574636Z",
     "iopub.status.idle": "2025-04-06T17:20:02.132431Z",
     "shell.execute_reply": "2025-04-06T17:20:02.131592Z"
    }
   },
   "outputs": [
    {
     "name": "stdout",
     "output_type": "stream",
     "text": [
      "                      Avg Last Price  Avg Open Price  Avg Highest  Avg Lowest\n",
      "Sector                                                                       \n",
      "Technology                258.572003      262.312000   268.734001  255.702005\n",
      "Banking & Financials      166.917999      172.120000   173.895999  163.723998\n",
      "Consumer Goods             98.688000      102.868002   104.072002   98.502001\n",
      "Pharma & Healthcare       292.916003      302.209001   305.940004  291.836206\n",
      "Energy                     93.499998       98.755999    99.418002   92.368001\n",
      "Automobile                 61.335999       64.534001    65.836000   60.070000\n",
      "Retail & E-commerce       324.057996      330.067996   338.474004  320.490005\n",
      "Aerospace & Defense       284.343994      299.551999   301.964006  283.382002\n",
      "Telecom & Media           208.487997      218.038000   220.750001  207.923999\n",
      "Semiconductors            105.232000      109.039999   110.650001  102.811999\n",
      "✅ Sector-wise stock data saved to sector_stock_data.csv\n"
     ]
    }
   ],
   "source": [
    "# Define stock universe\n",
    "us_stock_universe = {\n",
    "    \"Technology\": [\"AAPL\", \"MSFT\", \"GOOGL\", \"NVDA\", \"META\"],\n",
    "    \"Banking & Financials\": [\"JPM\", \"BAC\", \"WFC\", \"C\", \"GS\"],\n",
    "    \"Consumer Goods\": [\"PG\", \"KO\", \"PEP\", \"MO\", \"MNST\"],\n",
    "    \"Pharma & Healthcare\": [\"JNJ\", \"PFE\", \"MRNA\", \"LLY\", \"UNH\"],\n",
    "    \"Energy\": [\"XOM\", \"CVX\", \"COP\", \"PSX\", \"SLB\"],\n",
    "    \"Automobile\": [\"TSLA\", \"F\", \"GM\", \"RIVN\", \"LCID\"],\n",
    "    \"Retail & E-commerce\": [\"AMZN\", \"WMT\", \"COST\", \"TGT\", \"HD\"],\n",
    "    \"Aerospace & Defense\": [\"BA\", \"LMT\", \"NOC\", \"GD\", \"RTX\"],\n",
    "    \"Telecom & Media\": [\"VZ\", \"T\", \"DIS\", \"NFLX\", \"CMCSA\"],\n",
    "    \"Semiconductors\": [\"AMD\", \"TSM\", \"INTC\", \"AVGO\", \"QCOM\"]\n",
    "}\n",
    "\n",
    "# Function to fetch sector-wise stock data\n",
    "def get_sector_stock_data():\n",
    "    sector_data = {}\n",
    "\n",
    "    for sector, tickers in us_stock_universe.items():\n",
    "        sector_prices = {\"Last Price\": [], \"Open Price\": [], \"Highest\": [], \"Lowest\": []}\n",
    "\n",
    "        for ticker in tickers:\n",
    "            stock = yf.Ticker(ticker)\n",
    "            hist = stock.history(period=\"1mo\")  # Fetch latest monthly data\n",
    "\n",
    "            if not hist.empty:\n",
    "                sector_prices[\"Last Price\"].append(hist[\"Close\"].iloc[-1])\n",
    "                sector_prices[\"Open Price\"].append(hist[\"Open\"].iloc[-1])\n",
    "                sector_prices[\"Highest\"].append(hist[\"High\"].iloc[-1])\n",
    "                sector_prices[\"Lowest\"].append(hist[\"Low\"].iloc[-1])\n",
    "\n",
    "        # Calculate average prices for the sector\n",
    "        if sector_prices[\"Last Price\"]:\n",
    "            sector_data[sector] = {\n",
    "                \"Avg Last Price\": sum(sector_prices[\"Last Price\"]) / len(sector_prices[\"Last Price\"]),\n",
    "                \"Avg Open Price\": sum(sector_prices[\"Open Price\"]) / len(sector_prices[\"Open Price\"]),\n",
    "                \"Avg Highest\": sum(sector_prices[\"Highest\"]) / len(sector_prices[\"Highest\"]),\n",
    "                \"Avg Lowest\": sum(sector_prices[\"Lowest\"]) / len(sector_prices[\"Lowest\"]),\n",
    "            }\n",
    "        else:\n",
    "            sector_data[sector] = [\"Data not available\"]\n",
    "\n",
    "    return pd.DataFrame(sector_data).T\n",
    "\n",
    "# Fetch sector data\n",
    "sector_stock_data = get_sector_stock_data()\n",
    "\n",
    "# Rename the index to \"Sector\"\n",
    "sector_stock_data.index.name = \"Sector\"\n",
    "\n",
    "# Display and save the data\n",
    "print(sector_stock_data)\n",
    "sector_stock_data.to_csv(\"sector_data.csv\", index=True)\n",
    "\n",
    "print(\"✅ Sector-wise stock data saved to sector_stock_data.csv\")\n"
   ]
  },
  {
   "cell_type": "code",
   "execution_count": 3,
   "metadata": {
    "execution": {
     "iopub.execute_input": "2025-04-06T17:20:02.135318Z",
     "iopub.status.busy": "2025-04-06T17:20:02.135103Z",
     "iopub.status.idle": "2025-04-06T17:20:24.757624Z",
     "shell.execute_reply": "2025-04-06T17:20:24.756419Z"
    }
   },
   "outputs": [
    {
     "name": "stdout",
     "output_type": "stream",
     "text": [
      "                      Avg P/E Ratio  Avg Historical P/E  Total Net Worth ($B)\n",
      "Sector                                                                       \n",
      "Technology                26.055546           21.165844          10871.513022\n",
      "Banking & Financials      10.819876           10.495691           1304.268800\n",
      "Consumer Goods            24.487460           20.721408           1036.066566\n",
      "Pharma & Healthcare       34.883266           13.909571           1652.440779\n",
      "Energy                    14.019627           11.374202            901.670425\n",
      "Automobile                43.621642           15.374008            871.772978\n",
      "Retail & E-commerce       30.704494           27.350390           3281.150624\n",
      "Aerospace & Defense       21.982996           71.612785            498.328412\n",
      "Telecom & Media           21.310101           16.164255           1015.685325\n",
      "Semiconductors            47.128176           17.915944           1816.090485\n",
      "✅ Sector-wise average P/E, historical P/E, and net worth saved to sector_avg_data.csv\n"
     ]
    }
   ],
   "source": [
    "import yfinance as yf\n",
    "import pandas as pd\n",
    "\n",
    "# Define stock universe\n",
    "us_stock_universe = {\n",
    "    \"Technology\": [\"AAPL\", \"MSFT\", \"GOOGL\", \"NVDA\", \"META\"],\n",
    "    \"Banking & Financials\": [\"JPM\", \"BAC\", \"WFC\", \"C\", \"GS\"],\n",
    "    \"Consumer Goods\": [\"PG\", \"KO\", \"PEP\", \"MO\", \"MNST\"],\n",
    "    \"Pharma & Healthcare\": [\"JNJ\", \"PFE\", \"MRNA\", \"LLY\", \"UNH\"],\n",
    "    \"Energy\": [\"XOM\", \"CVX\", \"COP\", \"PSX\", \"SLB\"],\n",
    "    \"Automobile\": [\"TSLA\", \"F\", \"GM\", \"RIVN\", \"LCID\"],\n",
    "    \"Retail & E-commerce\": [\"AMZN\", \"WMT\", \"COST\", \"TGT\", \"HD\"],\n",
    "    \"Aerospace & Defense\": [\"BA\", \"LMT\", \"NOC\", \"GD\", \"RTX\"],\n",
    "    \"Telecom & Media\": [\"VZ\", \"T\", \"DIS\", \"NFLX\", \"CMCSA\"],\n",
    "    \"Semiconductors\": [\"AMD\", \"TSM\", \"INTC\", \"AVGO\", \"QCOM\"]\n",
    "}\n",
    "\n",
    "# Function to fetch sector-wise averages\n",
    "def get_sector_averages():\n",
    "    sector_data = {}\n",
    "    \n",
    "    for sector, tickers in us_stock_universe.items():\n",
    "        pe_ratios = []\n",
    "        hist_avg_pe_ratios = []\n",
    "        net_worths = []\n",
    "        \n",
    "        for ticker in tickers:\n",
    "            stock = yf.Ticker(ticker)\n",
    "            try:\n",
    "                pe_ratio = stock.info.get(\"trailingPE\")\n",
    "                hist_avg_pe = stock.info.get(\"forwardPE\")\n",
    "                net_worth = stock.info.get(\"marketCap\") / 1e9 if stock.info.get(\"marketCap\") else None\n",
    "                \n",
    "                if pe_ratio is not None:\n",
    "                    pe_ratios.append(pe_ratio)\n",
    "                if hist_avg_pe is not None:\n",
    "                    hist_avg_pe_ratios.append(hist_avg_pe)\n",
    "                if net_worth is not None:\n",
    "                    net_worths.append(net_worth)\n",
    "            except:\n",
    "                continue\n",
    "        \n",
    "        sector_data[sector] = {\n",
    "            \"Avg P/E Ratio\": sum(pe_ratios) / len(pe_ratios) if pe_ratios else None,\n",
    "            \"Avg Historical P/E\": sum(hist_avg_pe_ratios) / len(hist_avg_pe_ratios) if hist_avg_pe_ratios else None,\n",
    "            \"Total Net Worth ($B)\": sum(net_worths) if net_worths else None,\n",
    "        }\n",
    "    \n",
    "    return pd.DataFrame(sector_data).T\n",
    "\n",
    "# Fetch sector averages\n",
    "sector_avg_data = get_sector_averages()\n",
    "\n",
    "# Rename index to \"Sector\"\n",
    "sector_avg_data.index.name = \"Sector\"\n",
    "\n",
    "# Display and save data\n",
    "print(sector_avg_data)\n",
    "sector_avg_data.to_csv(\"sector_avg_data.csv\", index=True)\n",
    "\n",
    "print(\"✅ Sector-wise average P/E, historical P/E, and net worth saved to sector_avg_data.csv\")\n"
   ]
  }
 ],
 "metadata": {
  "kernelspec": {
   "display_name": "Python 3",
   "language": "python",
   "name": "python3"
  },
  "language_info": {
   "codemirror_mode": {
    "name": "ipython",
    "version": 3
   },
   "file_extension": ".py",
   "mimetype": "text/x-python",
   "name": "python",
   "nbconvert_exporter": "python",
   "pygments_lexer": "ipython3",
   "version": "3.13.1"
  }
 },
 "nbformat": 4,
 "nbformat_minor": 2
}
