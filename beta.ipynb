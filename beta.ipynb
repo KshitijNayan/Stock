{
 "cells": [
  {
   "cell_type": "code",
   "execution_count": null,
   "metadata": {},
   "outputs": [],
   "source": [
    "import yfinance as yf\n",
    "import pandas as pd\n",
    "\n",
    "# Define the full stock universe\n",
    "us_stock_universe = {\n",
    "    \"Technology\": [\"AAPL\", \"MSFT\", \"GOOGL\", \"NVDA\", \"META\"],\n",
    "    \"Banking & Financials\": [\"JPM\", \"BAC\", \"WFC\", \"C\", \"GS\"],\n",
    "    \"Consumer Goods\": [\"PG\", \"KO\", \"PEP\", \"MO\", \"MNST\"],\n",
    "    \"Pharma & Healthcare\": [\"JNJ\", \"PFE\", \"MRNA\", \"LLY\", \"UNH\"],\n",
    "    \"Energy\": [\"XOM\", \"CVX\", \"COP\", \"PSX\", \"SLB\"],\n",
    "    \"Automobile\": [\"TSLA\", \"F\", \"GM\", \"RIVN\", \"LCID\"],\n",
    "    \"Retail & E-commerce\": [\"AMZN\", \"WMT\", \"COST\", \"TGT\", \"HD\"],\n",
    "    \"Aerospace & Defense\": [\"BA\", \"LMT\", \"NOC\", \"GD\", \"RTX\"],\n",
    "    \"Telecom & Media\": [\"VZ\", \"T\", \"DIS\", \"NFLX\", \"CMCSA\"],\n",
    "    \"Semiconductors\": [\"AMD\", \"TSM\", \"INTC\", \"AVGO\", \"QCOM\"]\n",
    "}\n",
    "\n",
    "# Flatten stock universe to get all tickers\n",
    "stocks = [ticker for sector in us_stock_universe.values() for ticker in sector]\n",
    "\n",
    "# Initialize list to store stock Beta values\n",
    "beta_data = []\n",
    "\n",
    "for stock in stocks:\n",
    "    try:\n",
    "        stock_info = yf.Ticker(stock).info  # Fetch stock info\n",
    "        beta = stock_info.get(\"beta\", \"N/A\")  # Get Beta (if available)\n",
    "\n",
    "        beta_data.append({\"Ticker\": stock, \"Beta\": beta})\n",
    "\n",
    "    except Exception as e:\n",
    "        print(f\"Error fetching Beta for {stock}: {e}\")\n",
    "\n",
    "# Convert to DataFrame\n",
    "df = pd.DataFrame(beta_data)\n",
    "\n",
    "# Save to CSV\n",
    "df.to_csv(\"beta.csv\", index=False)\n",
    "\n",
    "print(\"Beta values saved to stock_beta_direct.csv\")\n"
   ]
  }
 ],
 "metadata": {
  "kernelspec": {
   "display_name": "Python 3",
   "language": "python",
   "name": "python3"
  },
  "language_info": {
   "codemirror_mode": {
    "name": "ipython",
    "version": 3
   },
   "file_extension": ".py",
   "mimetype": "text/x-python",
   "name": "python",
   "nbconvert_exporter": "python",
   "pygments_lexer": "ipython3",
   "version": "3.13.1"
  }
 },
 "nbformat": 4,
 "nbformat_minor": 2
}
