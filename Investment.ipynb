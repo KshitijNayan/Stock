{
 "cells": [
  {
   "cell_type": "code",
   "execution_count": 2,
   "metadata": {},
   "outputs": [
    {
     "name": "stdout",
     "output_type": "stream",
     "text": [
      "Columns after merge: Index(['Sector', 'Avg Last Price', 'Avg Open Price', 'Avg Highest',\n",
      "       'Avg Lowest', 'Current P/E Ratio', 'Historical Avg P/E Ratio',\n",
      "       'Net Worth ($B)'],\n",
      "      dtype='object')\n",
      "                  Sector  Stock  Last Price ($)  Investment Weight\n",
      "1             Technology   MSFT          365.33           0.073515\n",
      "2             Technology  GOOGL          148.47           0.073515\n",
      "4             Technology   META          508.45           0.073515\n",
      "5   Banking & Financials    JPM          213.63           0.052716\n",
      "6   Banking & Financials    BAC           34.92           0.052716\n",
      "8   Banking & Financials      C           58.32           0.052716\n",
      "10        Consumer Goods     PG          172.77           0.037610\n",
      "11        Consumer Goods     KO           72.79           0.037610\n",
      "12        Consumer Goods    PEP          154.25           0.037610\n",
      "20                Energy    XOM          108.37           0.036255\n",
      "21                Energy    CVX          149.60           0.036255\n",
      "26            Automobile      F            9.35           0.028649\n",
      "27            Automobile     GM           44.20           0.028649\n",
      "31   Retail & E-commerce    WMT           85.65           0.088780\n",
      "37   Aerospace & Defense     GD          263.01           0.081606\n",
      "38   Aerospace & Defense    RTX          124.80           0.081606\n",
      "39       Telecom & Media     VZ           45.69           0.063338\n",
      "43       Telecom & Media  CMCSA           35.21           0.063338\n"
     ]
    }
   ],
   "source": [
    "import pandas as pd\n",
    "import numpy as np\n",
    "from sklearn.linear_model import LinearRegression\n",
    "\n",
    "# Load data\n",
    "sector_data = pd.read_csv(\"sector_data.csv\")\n",
    "stock_data = pd.read_csv(\"stock_prices.csv\")\n",
    "\n",
    "# Compute sector-wise averages\n",
    "sector_pe_avg = stock_data.groupby(\"Sector\")[[\"Current P/E Ratio\", \"Historical Avg P/E Ratio\"]].mean()\n",
    "sector_networth_avg = stock_data.groupby(\"Sector\")[[\"Net Worth ($B)\"]].mean()\n",
    "\n",
    "# Merge with sector data\n",
    "sector_data = sector_data.merge(sector_pe_avg, on=\"Sector\")\n",
    "sector_data = sector_data.merge(sector_networth_avg, on=\"Sector\", suffixes=(\"\", \"_avg\"))\n",
    "\n",
    "# Check the columns after merging\n",
    "print(\"Columns after merge:\", sector_data.columns)\n",
    "\n",
    "# Select stocks based on criteria\n",
    "filtered_stocks = []\n",
    "for _, row in stock_data.iterrows():\n",
    "    sector = row[\"Sector\"]\n",
    "    \n",
    "    # Extract sector-wise values\n",
    "    sector_row = sector_data.loc[sector_data[\"Sector\"] == sector]\n",
    "    \n",
    "    # Ensure the sector exists in sector_data before accessing values\n",
    "    if not sector_row.empty:\n",
    "        pe_diff = abs(row[\"Current P/E Ratio\"] - row[\"Historical Avg P/E Ratio\"])\n",
    "        sector_pe_diff = abs(sector_row[\"Current P/E Ratio\"].values[0] - sector_row[\"Historical Avg P/E Ratio\"].values[0])\n",
    "        \n",
    "        # Ensure the correct column name is being accessed\n",
    "        if \"Net Worth ($B)\" in sector_row.columns:\n",
    "            min_networth = 0.6 * sector_row[\"Net Worth ($B)\"].values[0]\n",
    "        else:\n",
    "            print(f\"Column 'Net Worth ($B)' is missing in sector_data for sector {sector}\")\n",
    "            continue\n",
    "        \n",
    "        if pe_diff < sector_pe_diff and row[\"Net Worth ($B)\"] > min_networth:\n",
    "            filtered_stocks.append(row)\n",
    "\n",
    "# Convert list to DataFrame\n",
    "filtered_stocks_df = pd.DataFrame(filtered_stocks)\n",
    "\n",
    "# If no stocks pass the filter, handle gracefully\n",
    "if filtered_stocks_df.empty:\n",
    "    print(\"No stocks meet the filtering criteria.\")\n",
    "else:\n",
    "    # Assign weights based on sector Avg Lowest Price\n",
    "    if \"Avg Lowest\" in sector_data.columns:\n",
    "        sector_lowest_avg = sector_data.set_index(\"Sector\")[\"Avg Lowest\"]\n",
    "        sector_weights = sector_lowest_avg / sector_lowest_avg.sum()\n",
    "        filtered_stocks_df[\"Sector Weight\"] = filtered_stocks_df[\"Sector\"].map(sector_weights)\n",
    "    else:\n",
    "        print(\"Column 'Avg Lowest' not found in sector_data. Skipping weight assignment.\")\n",
    "        filtered_stocks_df[\"Sector Weight\"] = np.nan  # Placeholder if missing\n",
    "\n",
    "    # Prepare data for regression\n",
    "    if \"Sector Weight\" in filtered_stocks_df.columns and \"Last Price ($)\" in filtered_stocks_df.columns:\n",
    "        X = filtered_stocks_df[[\"Sector Weight\"]].dropna()  # Drop NaN values if any\n",
    "        y = filtered_stocks_df.loc[X.index, \"Last Price ($)\"]  # Ensure y matches X indices\n",
    "\n",
    "        if not X.empty and not y.empty:\n",
    "            # Train Linear Regression Model\n",
    "            model = LinearRegression()\n",
    "            model.fit(X, y)\n",
    "\n",
    "            # Predict investment allocation\n",
    "            predictions = model.predict(X)\n",
    "            filtered_stocks_df.loc[X.index, \"Investment Weight\"] = predictions / predictions.sum()\n",
    "\n",
    "            # Display selected stocks with investment allocation\n",
    "            print(filtered_stocks_df[[\"Sector\", \"Stock\", \"Last Price ($)\", \"Investment Weight\"]])\n",
    "        else:\n",
    "            print(\"Not enough data for regression model.\")\n",
    "    else:\n",
    "        print(\"Required columns for regression are missing.\")\n"
   ]
  },
  {
   "cell_type": "code",
   "execution_count": 3,
   "metadata": {},
   "outputs": [
    {
     "name": "stdout",
     "output_type": "stream",
     "text": [
      "Mean Squared Error: 13078.670309268282\n",
      "R-squared: 0.1614749286892293\n"
     ]
    }
   ],
   "source": [
    "from sklearn.metrics import mean_squared_error, r2_score\n",
    "\n",
    "# Evaluate the model\n",
    "predictions = model.predict(X)\n",
    "mse = mean_squared_error(y, predictions)\n",
    "r2 = r2_score(y, predictions)\n",
    "\n",
    "print(f\"Mean Squared Error: {mse}\")\n",
    "print(f\"R-squared: {r2}\")"
   ]
  }
 ],
 "metadata": {
  "kernelspec": {
   "display_name": "Python 3",
   "language": "python",
   "name": "python3"
  },
  "language_info": {
   "codemirror_mode": {
    "name": "ipython",
    "version": 3
   },
   "file_extension": ".py",
   "mimetype": "text/x-python",
   "name": "python",
   "nbconvert_exporter": "python",
   "pygments_lexer": "ipython3",
   "version": "3.13.1"
  }
 },
 "nbformat": 4,
 "nbformat_minor": 2
}
