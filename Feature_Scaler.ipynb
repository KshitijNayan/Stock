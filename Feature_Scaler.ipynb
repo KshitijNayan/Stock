{
 "cells": [
  {
   "cell_type": "code",
   "execution_count": 1,
   "metadata": {},
   "outputs": [],
   "source": [
    "import copy, math\n",
    "import numpy as np\n",
    "import pandas as pd\n",
    "import csv, random\n",
    "import os\n",
    "import matplotlib.pyplot as plt\n",
    "# plt.style.use('./deeplearning.mplstyle')\n",
    "np.set_printoptions(precision=2)  # reduced display precision on numpy arrays"
   ]
  },
  {
   "cell_type": "code",
   "execution_count": 2,
   "metadata": {},
   "outputs": [],
   "source": [
    "stock_predicted=pd.read_csv(\"stock_price_predictions.csv\")[\"Predicted Price ($)\"]"
   ]
  },
  {
   "cell_type": "code",
   "execution_count": 3,
   "metadata": {},
   "outputs": [],
   "source": [
    "sector_data=pd.read_csv(\"sector_data.csv\")\n",
    "stock_data=pd.read_csv(\"stock_prices.csv\")\n",
    "sector_pe_data=pd.read_csv(\"sector_avg_data.csv\")"
   ]
  },
  {
   "cell_type": "code",
   "execution_count": 4,
   "metadata": {},
   "outputs": [],
   "source": [
    "sector=(sector_data[\"Sector\"])\n",
    "sector_lowest=(sector_data[\"Avg Lowest\"])"
   ]
  },
  {
   "cell_type": "code",
   "execution_count": 5,
   "metadata": {},
   "outputs": [],
   "source": [
    "stock_name=(stock_data[\"Stock\"])\n",
    "stock_sector=(stock_data[\"Sector\"])\n",
    "stock_price=(stock_data[\"Last Price ($)\"])\n",
    "current_pe=(stock_data[\"Current P/E Ratio\"])\n",
    "historic_pe=(stock_data[\"Historical Avg P/E Ratio\"])\n",
    "diff_pe=current_pe-historic_pe\n",
    "diff_sector_pe = sector_pe_data[\"Avg P/E Ratio\"]-sector_pe_data[\"Avg Historical P/E\"]\n",
    "net_worth=(stock_data[\"Net Worth ($B)\"])\n",
    "net_worth_sector=sector_pe_data[\"Total Net Worth ($B)\"]\n",
    "estimated_diff=stock_predicted-stock_price"
   ]
  },
  {
   "cell_type": "code",
   "execution_count": 6,
   "metadata": {},
   "outputs": [],
   "source": [
    "stock_sector_lowest = np.zeros(50)  # Assuming 50 stocks\n",
    "\n",
    "for name, low in zip(sector_data[\"Sector\"], sector_data[\"Avg Lowest\"]):\n",
    "    for i in range(50):\n",
    "        if name == stock_sector[i]:  # Compare with stock's sector, not stock name\n",
    "            stock_sector_lowest[i] = low  # Assign sector lowest value\n"
   ]
  },
  {
   "cell_type": "code",
   "execution_count": 7,
   "metadata": {},
   "outputs": [],
   "source": [
    "week_52_data=pd.read_csv(\"200dema_52_week_high.csv\")\n",
    "high_52=(week_52_data[\"52-Week High\"])"
   ]
  },
  {
   "cell_type": "code",
   "execution_count": 8,
   "metadata": {},
   "outputs": [],
   "source": [
    "dema_data=pd.read_csv(\"200dema_52_week_high.csv\")\n",
    "dema=(dema_data[\"200d EMA\"])"
   ]
  },
  {
   "cell_type": "code",
   "execution_count": 9,
   "metadata": {},
   "outputs": [],
   "source": [
    "alpha_data=pd.read_csv(\"alpha_beta.csv\")\n",
    "alpha=(alpha_data[\"Alpha (Annualized)\"])"
   ]
  },
  {
   "cell_type": "code",
   "execution_count": 10,
   "metadata": {},
   "outputs": [],
   "source": [
    "beta_data=pd.read_csv(\"alpha_beta.csv\")\n",
    "beta=(beta_data[\"Beta\"])"
   ]
  },
  {
   "cell_type": "code",
   "execution_count": 11,
   "metadata": {},
   "outputs": [
    {
     "data": {
      "text/plain": [
       "0     207.41\n",
       "1     396.54\n",
       "2     167.44\n",
       "3     108.46\n",
       "4     580.44\n",
       "5     241.82\n",
       "6      39.55\n",
       "7      70.13\n",
       "8      61.04\n",
       "9     541.43\n",
       "10    188.31\n",
       "11     77.97\n",
       "12    168.60\n",
       "13     64.48\n",
       "14     59.93\n",
       "15    160.90\n",
       "16     24.12\n",
       "17       NaN\n",
       "18    848.94\n",
       "19    538.70\n",
       "20    109.56\n",
       "21    164.77\n",
       "22     90.60\n",
       "23    103.75\n",
       "24     34.81\n",
       "25    251.40\n",
       "26     10.06\n",
       "27     46.39\n",
       "28       NaN\n",
       "29       NaN\n",
       "30    196.65\n",
       "31     87.35\n",
       "32    940.31\n",
       "33    100.51\n",
       "34    379.38\n",
       "35       NaN\n",
       "36    453.76\n",
       "37    509.80\n",
       "38    285.26\n",
       "39    123.21\n",
       "40     45.18\n",
       "41     30.64\n",
       "42     96.06\n",
       "43    984.24\n",
       "44     38.39\n",
       "45     90.05\n",
       "46    168.82\n",
       "47       NaN\n",
       "48    168.23\n",
       "49    146.58\n",
       "Name: Intrinsic Value, dtype: float64"
      ]
     },
     "execution_count": 11,
     "metadata": {},
     "output_type": "execute_result"
    }
   ],
   "source": [
    "intrinsic_data=pd.read_csv(\"intrinsic_value.csv\")\n",
    "intrinsic_value=(intrinsic_data[\"Intrinsic Value\"])\n",
    "intrinsic_value"
   ]
  },
  {
   "cell_type": "code",
   "execution_count": 12,
   "metadata": {},
   "outputs": [
    {
     "name": "stdout",
     "output_type": "stream",
     "text": [
      "testing_data.csv created successfully.\n"
     ]
    }
   ],
   "source": [
    "data = {\n",
    "    \"Sector\": stock_sector,\n",
    "    \"Stock\": stock_name,\n",
    "    \"Price\": stock_price,\n",
    "    \"P/E\": diff_pe,\n",
    "    \"Sector Lowest\": stock_sector_lowest,\n",
    "    \"52 Week High\": high_52,\n",
    "    \"200d-EMA\": dema,\n",
    "    \"Alpha\": alpha,\n",
    "    \"Beta\": beta,\n",
    "    \"Worth\": estimated_diff\n",
    "}\n",
    "    \n",
    "df = pd.DataFrame(data)\n",
    "df.to_csv(\"testing_data.csv\", index=False)\n",
    "print(\"testing_data.csv created successfully.\") "
   ]
  },
  {
   "cell_type": "code",
   "execution_count": 13,
   "metadata": {},
   "outputs": [
    {
     "name": "stdout",
     "output_type": "stream",
     "text": [
      "Stock prices updated successfully with date format fixed!\n"
     ]
    }
   ],
   "source": [
    "import pandas as pd\n",
    "\n",
    "# Load the existing stock prices file (if it exists)\n",
    "try:\n",
    "    existing_df = pd.read_csv(\"stock_prices_training.csv\")\n",
    "except FileNotFoundError:\n",
    "    existing_df = pd.DataFrame(columns=[\"Stock\", \"Date Fetched\", \"Last Price ($)\"])\n",
    "\n",
    "# Load the newly fetched stock prices\n",
    "new_df = pd.read_csv(\"stock_prices.csv\")\n",
    "\n",
    "# Keep only required columns\n",
    "new_df = new_df[[\"Stock\", \"Date Fetched\", \"Last Price ($)\"]]\n",
    "\n",
    "# Convert 'Date Fetched' to datetime format\n",
    "new_df[\"Date Fetched\"] = pd.to_datetime(new_df[\"Date Fetched\"])\n",
    "\n",
    "# Append new data to existing data\n",
    "updated_df = pd.concat([existing_df, new_df]).drop_duplicates(subset=[\"Stock\", \"Date Fetched\"]).reset_index(drop=True)\n",
    "\n",
    "# Ensure 'Date Fetched' is datetime and format it as string 'YYYY-MM-DD'\n",
    "if not pd.api.types.is_datetime64_any_dtype(updated_df[\"Date Fetched\"]):\n",
    "    updated_df[\"Date Fetched\"] = pd.to_datetime(updated_df[\"Date Fetched\"])\n",
    "\n",
    "updated_df[\"Date Fetched\"] = updated_df[\"Date Fetched\"].dt.strftime(\"%Y-%m-%d\")\n",
    "\n",
    "# Save the updated file\n",
    "updated_df.to_csv(\"stock_prices_training.csv\", index=False)\n",
    "\n",
    "print(\"Stock prices updated successfully with date format fixed!\")\n"
   ]
  }
 ],
 "metadata": {
  "kernelspec": {
   "display_name": "Python 3",
   "language": "python",
   "name": "python3"
  },
  "language_info": {
   "codemirror_mode": {
    "name": "ipython",
    "version": 3
   },
   "file_extension": ".py",
   "mimetype": "text/x-python",
   "name": "python",
   "nbconvert_exporter": "python",
   "pygments_lexer": "ipython3",
   "version": "3.13.1"
  }
 },
 "nbformat": 4,
 "nbformat_minor": 2
}
