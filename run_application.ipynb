{
 "cells": [
  {
   "cell_type": "code",
   "execution_count": null,
   "metadata": {},
   "outputs": [],
   "source": [
    "import schedule\n",
    "import time\n",
    "import subprocess\n",
    "from datetime import datetime\n",
    "\n",
    "# Define the notebook schedule: (notebook name, interval type, interval value)\n",
    "NOTEBOOK_SCHEDULE = [\n",
    "    (\"Macroeconomic.ipynb\", \"monthly\", \"00:20\"),  # Runs on the 1st of every month at midnight 00:20am\n",
    "    (\"GDP_Interest_Analyze.ipynb\", \"monthly\", \"00:250\"),  # Runs on the 1st of every month at midnight 00:25am\n",
    "    (\"Stock_universe.ipynb\", \"daily\", \"10:00\"),    # Runs daily at 10 AM\n",
    "    (\"CryptoTrends.ipynb\", \"weekly\", \"Monday 10:00\"),  # Runs every Monday at 10 AM\n",
    "]\n",
    "\n",
    "def run_notebook(notebook_name):\n",
    "    \"\"\"Execute a Jupyter Notebook\"\"\"\n",
    "    print(f\"Running {notebook_name} at {datetime.now()}...\")\n",
    "    subprocess.run([\"jupyter\", \"nbconvert\", \"--execute\", \"--to\", \"notebook\", \"--inplace\", notebook_name])\n",
    "    print(f\"Completed execution of {notebook_name}.\\n\")\n",
    "\n",
    "# Schedule each notebook at the specified interval\n",
    "for notebook, interval_type, interval_value in NOTEBOOK_SCHEDULE:\n",
    "    if interval_type == \"daily\":\n",
    "        schedule.every().day.at(interval_value).do(run_notebook, notebook)\n",
    "    elif interval_type == \"weekly\":\n",
    "        day, time_value = interval_value.split()\n",
    "        getattr(schedule.every(), day.lower()).at(time_value).do(run_notebook, notebook)\n",
    "\n",
    "# Handle Monthly Scheduling Separately\n",
    "def check_and_run_monthly():\n",
    "    \"\"\"Runs all monthly scheduled notebooks on the 1st of the month\"\"\"\n",
    "    if datetime.now().day == 1:  # If today is the 1st of the month\n",
    "        for notebook, interval_type, interval_value in NOTEBOOK_SCHEDULE:\n",
    "            if interval_type == \"monthly\":\n",
    "                run_notebook(notebook)\n",
    "\n",
    "schedule.every().day.at(\"00:01\").do(check_and_run_monthly)  # Check every day at midnight\n",
    "\n",
    "print(\"Notebook scheduler started...\")\n",
    "\n",
    "# Keep the scheduler running\n",
    "while True:\n",
    "    schedule.run_pending()\n",
    "    time.sleep(60)  # Check every minute\n"
   ]
  }
 ],
 "metadata": {
  "kernelspec": {
   "display_name": "Python 3",
   "language": "python",
   "name": "python3"
  },
  "language_info": {
   "codemirror_mode": {
    "name": "ipython",
    "version": 3
   },
   "file_extension": ".py",
   "mimetype": "text/x-python",
   "name": "python",
   "nbconvert_exporter": "python",
   "pygments_lexer": "ipython3",
   "version": "3.13.1"
  }
 },
 "nbformat": 4,
 "nbformat_minor": 2
}
