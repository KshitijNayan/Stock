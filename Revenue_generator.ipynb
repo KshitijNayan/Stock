{
 "cells": [
  {
   "cell_type": "code",
   "execution_count": 1,
   "metadata": {},
   "outputs": [],
   "source": [
    "import copy\n",
    "import requests\n",
    "import numpy as np\n",
    "import pandas as pd\n",
    "import csv\n",
    "import os\n",
    "import time\n",
    "import subprocess"
   ]
  },
  {
   "cell_type": "code",
   "execution_count": 2,
   "metadata": {},
   "outputs": [],
   "source": [
    "def Price_update():\n",
    "    # Load both CSV files\n",
    "    investment_df = pd.read_csv(\"Stock_final_investment.csv\")\n",
    "    prices_df = pd.read_csv(\"stock_prices.csv\")\n",
    "\n",
    "    # Merge and extract 'Last Price ($)' column\n",
    "    merged_df = pd.merge(\n",
    "        investment_df[['Sector', 'Stock']],\n",
    "        prices_df[['Sector', 'Stock', 'Last Price ($)']],\n",
    "        on=['Sector', 'Stock'],\n",
    "        how='left'\n",
    "    )   \n",
    "    # Return just the 'Last Price ($)' column\n",
    "    last_prices = merged_df['Last Price ($)']\n",
    "    return last_prices"
   ]
  },
  {
   "cell_type": "code",
   "execution_count": 3,
   "metadata": {},
   "outputs": [],
   "source": [
    "wallet = pd.read_csv(\"Money.csv\")[\"Wallet\"].iloc[0]"
   ]
  },
  {
   "cell_type": "markdown",
   "metadata": {},
   "source": [
    "#### Variables for New Stocks"
   ]
  },
  {
   "cell_type": "code",
   "execution_count": 4,
   "metadata": {},
   "outputs": [],
   "source": [
    "stocks = pd.read_csv(\"Stock_final_investment.csv\")\n",
    "stocks_name = stocks[\"Stock\"]\n",
    "stock_old_price = stocks[\"Price\"]\n",
    "stock_buy_price = copy.deepcopy(stock_old_price)\n",
    "stock_weights = stocks[\"Weights\"]\n",
    "returns = pd.read_csv(\"Money.csv\")[\"Returns\"].iloc[0]\n",
    "stock_quant=[0 for i in range(10)]"
   ]
  },
  {
   "cell_type": "markdown",
   "metadata": {},
   "source": [
    "#### Calculating Quantity of each stock to purchase"
   ]
  },
  {
   "cell_type": "code",
   "execution_count": 5,
   "metadata": {},
   "outputs": [
    {
     "data": {
      "text/plain": [
       "0     72.0\n",
       "1     16.0\n",
       "2     69.0\n",
       "3    344.0\n",
       "4     11.0\n",
       "5      7.0\n",
       "6     13.0\n",
       "7      8.0\n",
       "8     11.0\n",
       "9      7.0\n",
       "dtype: float64"
      ]
     },
     "execution_count": 5,
     "metadata": {},
     "output_type": "execute_result"
    }
   ],
   "source": [
    "if (pd.read_csv(\"old_stock_data.csv\")[\"Buy Price\"]).empty:\n",
    "    stock_quant = (wallet * (stock_weights / 100)) // stock_buy_price\n",
    "else:\n",
    "    stock_quant = ((10000+wallet) * (stock_weights / 100)) // stock_buy_price\n",
    "best_choice=stock_buy_price.iloc[0]\n",
    "best_choice_index=0\n",
    "current_wallet=0\n",
    "for i in range(len(stocks_name)):\n",
    "    stock_quant[i]=int(stock_quant[i])\n",
    "    current_wallet+=stock_quant[i]*stock_buy_price.iloc[i]\n",
    "for i in range(len(stocks_name)//2):\n",
    "    if(stock_buy_price.iloc[i]<best_choice):\n",
    "        best_choice=stock_buy_price.iloc[i]\n",
    "        best_price_index=i\n",
    "\n",
    "current_wallet=wallet-current_wallet\n",
    "if(current_wallet//best_choice>0):\n",
    "    stock_quant[best_choice_index]+=int(current_wallet//best_choice)\n",
    "\n",
    "current_wallet=0\n",
    "for i in range(len(stocks_name)):\n",
    "    stock_quant[i]=int(stock_quant[i])\n",
    "    current_wallet+=stock_quant[i]*stock_buy_price.iloc[i]\n",
    "for i in range(best_choice_index,len(stocks_name)):\n",
    "    if(stock_buy_price.iloc[i]<best_choice):\n",
    "        best_choice=stock_buy_price.iloc[i]\n",
    "        best_price_index=i\n",
    "\n",
    "current_wallet=wallet-current_wallet\n",
    "if(current_wallet//best_choice>0):\n",
    "    stock_quant[best_choice_index]+=int(current_wallet//best_choice)\n",
    "\n",
    "current_wallet-=(current_wallet//best_choice)*best_choice\n",
    "stock_quant"
   ]
  },
  {
   "cell_type": "markdown",
   "metadata": {},
   "source": [
    "#### Variables for Old Stocks"
   ]
  },
  {
   "cell_type": "code",
   "execution_count": 6,
   "metadata": {},
   "outputs": [],
   "source": [
    "stocks_old = pd.read_csv(\"old_stock_data.csv\")\n",
    "stocks_name_old = stocks_old[\"Stock\"]\n",
    "stock_buy_price_old = stocks_old[\"Buy Price\"]\n",
    "stock_quant_old = stocks_old[\"Quantity\"]\n",
    "stock_last_price = stocks_old[\"Last Price\"]"
   ]
  },
  {
   "cell_type": "markdown",
   "metadata": {},
   "source": [
    "#### Removing capital from stocks which aren't in new chosen stocks"
   ]
  },
  {
   "cell_type": "code",
   "execution_count": 7,
   "metadata": {},
   "outputs": [],
   "source": [
    "rp = np.zeros(len(stock_buy_price))  # match size with number of stocks\n",
    "map=[0 for i in range(10)]\n",
    "for i in range(len(stocks_name_old)):\n",
    "    for j in range(len(stocks_name)):\n",
    "        if stocks_name_old.iloc[i] == stocks_name.iloc[j]:\n",
    "            diff = stock_quant_old.iloc[i] - stock_quant.iloc[j]\n",
    "            if diff > 0:\n",
    "                returns += diff * (stock_last_price.iloc[i] - stock_buy_price.iloc[j])\n",
    "                wallet += diff * stock_last_price.iloc[i]\n",
    "            elif diff < 0:\n",
    "                wallet -= diff * stock_buy_price.iloc[j]\n",
    "            map[i]=1\n",
    "    for j in range(len(stocks_name)):\n",
    "        if(map[j]!=1):\n",
    "            wallet+=stock_last_price.iloc[j]*stock_quant_old.iloc[j]"
   ]
  },
  {
   "cell_type": "markdown",
   "metadata": {},
   "source": [
    "#### Investing and withdrawing again and again"
   ]
  },
  {
   "cell_type": "code",
   "execution_count": 8,
   "metadata": {},
   "outputs": [],
   "source": [
    "# Control flag\n",
    "f = 1\n",
    "start_time = time.time()  # Start timer\n",
    "\n",
    "while f == 1:\n",
    "    subprocess.run([\"jupyter\", \"nbconvert\", \"--execute\", \"--to\", \"notebook\", \"--inplace\", \"Stock_universe.ipynb\"])\n",
    "    stock_new_price = Price_update()\n",
    "    diff_price = stock_new_price - stock_old_price\n",
    "\n",
    "    for i in range(len(stock_new_price)):\n",
    "        if diff_price.iloc[i] < 0:\n",
    "            wallet += stock_new_price.iloc[i] * stock_quant[i]\n",
    "            returns += (stock_new_price.iloc[i]-stock_old_price.iloc[i]) * stock_quant[i]\n",
    "            rp[i] += stock_new_price.iloc[i] * stock_quant[i]\n",
    "            stock_quant[i] = 0\n",
    "\n",
    "        elif (diff_price.iloc[i] > 0) and (wallet > stock_new_price.iloc[i]):\n",
    "            quantity = int(wallet*stock_weights.iloc[i]/ stock_new_price.iloc[i])\n",
    "            wallet -= quantity * stock_new_price.iloc[i]\n",
    "            stock_quant[i] += quantity\n",
    "            stock_buy_price[i] = stock_new_price.iloc[i]\n",
    "\n",
    "        if wallet>0:\n",
    "            quantity = int(wallet/stock_new_price.iloc[best_choice_index])\n",
    "            wallet -= quantity * stock_new_price.iloc[best_choice_index]\n",
    "            stock_quant[best_choice_index] += quantity\n",
    "            stock_buy_price[best_choice_index] = stock_new_price.iloc[best_choice_index]\n",
    "\n",
    "\n",
    "    stock_old_price = stock_new_price.copy()\n",
    "    # Check if 45 minutes passed\n",
    "    # if (time.time() - start_time) >= 60 * 30:\n",
    "        # print(\"30 minutes passed — ending loop.\")\n",
    "    f = 0"
   ]
  },
  {
   "cell_type": "markdown",
   "metadata": {},
   "source": [
    "#### Storing Data"
   ]
  },
  {
   "cell_type": "code",
   "execution_count": 9,
   "metadata": {},
   "outputs": [],
   "source": [
    "stocks_data_old={\n",
    "    \"Stock\":stocks_name,\n",
    "    \"Quantity\":stock_quant,\n",
    "    \"Buy Price\":stock_buy_price,\n",
    "    \"Last Price\":Price_update()\n",
    "}\n",
    "df=pd.DataFrame(stocks_data_old)\n",
    "df.to_csv(\"old_stock_data.csv\",index=False)"
   ]
  },
  {
   "cell_type": "code",
   "execution_count": 10,
   "metadata": {},
   "outputs": [],
   "source": [
    "money = {\n",
    "    \"Wallet\": [wallet],\n",
    "    \"Returns\": [returns]\n",
    "}\n",
    "dframe = pd.DataFrame(money)\n",
    "dframe.to_csv(\"Money.csv\", index=False)\n"
   ]
  },
  {
   "cell_type": "code",
   "execution_count": 11,
   "metadata": {},
   "outputs": [],
   "source": [
    "file_path = \"return_statements.csv\"\n",
    "file_exists = os.path.isfile(file_path) and os.path.getsize(file_path) > 0\n",
    "\n",
    "with open(file_path, mode='a', newline='') as file:\n",
    "    writer = csv.writer(file)\n",
    "    if not file_exists:\n",
    "        writer.writerow([\"Returns\"])  # Write header only once\n",
    "    writer.writerow([returns])  # Write the actual return value"
   ]
  },
  {
   "cell_type": "markdown",
   "metadata": {},
   "source": [
    "#### Fetching Yield Percent and Calculating Sharpe Ratio and Total Returns"
   ]
  },
  {
   "cell_type": "code",
   "execution_count": 12,
   "metadata": {},
   "outputs": [
    {
     "name": "stdout",
     "output_type": "stream",
     "text": [
      "Latest 10-Year Treasury Yield: 4.06%\n"
     ]
    }
   ],
   "source": [
    "# Replace with your FRED API Key\n",
    "API_KEY = \"d19ebaf43edd81021d47f34677bbfc3f\"\n",
    "\n",
    "# 10-Year Treasury Yield (You can change the series ID for other maturities)\n",
    "URL = f\"https://api.stlouisfed.org/fred/series/observations?series_id=DGS10&api_key={API_KEY}&file_type=json\"\n",
    "\n",
    "response = requests.get(URL)\n",
    "\n",
    "if response.status_code == 200:\n",
    "    data = response.json()\n",
    "    latest_yield = data['observations'][-1]['value']  # Last available value\n",
    "    print(f\"Latest 10-Year Treasury Yield: {latest_yield}%\")\n",
    "else:\n",
    "    print(\"Error fetching data\")"
   ]
  },
  {
   "cell_type": "code",
   "execution_count": 13,
   "metadata": {},
   "outputs": [
    {
     "name": "stdout",
     "output_type": "stream",
     "text": [
      "Sharpe Ratio = 0.028958469365802198\n",
      "\n",
      "Today's Returns = 15965.100000000002$\n",
      "\n",
      "Total Returns = 36497.65500000001$\n",
      "\n"
     ]
    }
   ],
   "source": [
    "return_prev=pd.read_csv(\"return_statements.csv\")[\"Returns\"]\n",
    "std_dev = np.std(return_prev)\n",
    "if std_dev != 0:\n",
    "    Sharpe_Ratio = (returns/100 - float(latest_yield)) / std_dev\n",
    "else:\n",
    "    Sharpe_Ratio = 0  # or float('nan') or some default value\n",
    "print(f\"Sharpe Ratio = {Sharpe_Ratio}\\n\")\n",
    "print(f\"Today's Returns = {returns}$\\n\")\n",
    "total_returns=sum(return_prev)\n",
    "print(f\"Total Returns = {total_returns}$\\n\")\n",
    "\n",
    "profit={\n",
    "    \"Sharpe Ratio\":[Sharpe_Ratio],\n",
    "    \"Today's Returns\":[returns],\n",
    "    \"Total Returns\":[total_returns]\n",
    "}\n",
    "dtframe=pd.DataFrame(profit)\n",
    "dtframe.to_csv(\"Net_profit.csv\",index=False)"
   ]
  }
 ],
 "metadata": {
  "kernelspec": {
   "display_name": "Python 3",
   "language": "python",
   "name": "python3"
  },
  "language_info": {
   "codemirror_mode": {
    "name": "ipython",
    "version": 3
   },
   "file_extension": ".py",
   "mimetype": "text/x-python",
   "name": "python",
   "nbconvert_exporter": "python",
   "pygments_lexer": "ipython3",
   "version": "3.13.1"
  }
 },
 "nbformat": 4,
 "nbformat_minor": 2
}
