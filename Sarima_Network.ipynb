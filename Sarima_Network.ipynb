{
 "cells": [
  {
   "cell_type": "markdown",
   "metadata": {},
   "source": [
    "#### CLeaning training data( removing inconvertible rows of data and converting rest to date time )"
   ]
  },
  {
   "cell_type": "code",
   "execution_count": 1,
   "metadata": {
    "execution": {
     "iopub.execute_input": "2025-04-06T13:43:02.493543Z",
     "iopub.status.busy": "2025-04-06T13:43:02.493373Z",
     "iopub.status.idle": "2025-04-06T13:43:02.678473Z",
     "shell.execute_reply": "2025-04-06T13:43:02.678179Z"
    }
   },
   "outputs": [
    {
     "name": "stdout",
     "output_type": "stream",
     "text": [
      "  Stock Date Fetched  Last Price ($)\n",
      "0  AAPL   2024-03-18      171.470352\n",
      "1  AAPL   2024-03-25      170.674103\n",
      "2  AAPL   2024-04-01      168.783020\n",
      "3  AAPL   2024-04-08      175.720291\n",
      "4  AAPL   2024-04-15      164.224564\n"
     ]
    }
   ],
   "source": [
    "import pandas as pd\n",
    "\n",
    "# Read the data\n",
    "df = pd.read_csv(\"stock_prices_training.csv\")\n",
    "\n",
    "# Strip spaces and convert Date Fetched column to datetime (Handles both date and timestamp formats)\n",
    "df[\"Date Fetched\"] = pd.to_datetime(df[\"Date Fetched\"].str.strip(), errors='coerce')\n",
    "\n",
    "# Check for any rows where Date Fetched couldn't be converted\n",
    "if df[\"Date Fetched\"].isna().sum() > 0:\n",
    "    print(\"⚠️ Warning: Some dates could not be parsed. Check for inconsistencies.\")\n",
    "\n",
    "# Save cleaned data (optional)\n",
    "df.to_csv(\"stock_prices_training.csv\", index=False)\n",
    "\n",
    "# Display the first few rows\n",
    "print(df.head())"
   ]
  },
  {
   "cell_type": "markdown",
   "metadata": {},
   "source": [
    "## SARIMA Model "
   ]
  },
  {
   "cell_type": "code",
   "execution_count": 2,
   "metadata": {
    "execution": {
     "iopub.execute_input": "2025-04-06T13:43:02.696344Z",
     "iopub.status.busy": "2025-04-06T13:43:02.696148Z",
     "iopub.status.idle": "2025-04-06T13:43:33.969402Z",
     "shell.execute_reply": "2025-04-06T13:43:33.969017Z"
    }
   },
   "outputs": [
    {
     "name": "stderr",
     "output_type": "stream",
     "text": [
      "C:\\Users\\kshit\\AppData\\Local\\Programs\\Python\\Python313\\Lib\\site-packages\\statsmodels\\tsa\\base\\tsa_model.py:473: ValueWarning: No frequency information was provided, so inferred frequency W-MON will be used.\n",
      "  self._init_dates(dates, freq)\n",
      "C:\\Users\\kshit\\AppData\\Local\\Programs\\Python\\Python313\\Lib\\site-packages\\statsmodels\\tsa\\base\\tsa_model.py:473: ValueWarning: No frequency information was provided, so inferred frequency W-MON will be used.\n",
      "  self._init_dates(dates, freq)\n",
      "C:\\Users\\kshit\\AppData\\Local\\Programs\\Python\\Python313\\Lib\\site-packages\\statsmodels\\tsa\\statespace\\sarimax.py:866: UserWarning: Too few observations to estimate starting parameters for ARMA and trend. All parameters except for variances will be set to zeros.\n",
      "  warn('Too few observations to estimate starting parameters%s.'\n",
      "C:\\Users\\kshit\\AppData\\Local\\Programs\\Python\\Python313\\Lib\\site-packages\\statsmodels\\tsa\\statespace\\sarimax.py:866: UserWarning: Too few observations to estimate starting parameters for seasonal ARMA. All parameters except for variances will be set to zeros.\n",
      "  warn('Too few observations to estimate starting parameters%s.'\n"
     ]
    },
    {
     "name": "stdout",
     "output_type": "stream",
     "text": [
      " Predicted Price for AAPL on 2025-04-06: $195.32\n"
     ]
    },
    {
     "name": "stderr",
     "output_type": "stream",
     "text": [
      "C:\\Users\\kshit\\AppData\\Local\\Programs\\Python\\Python313\\Lib\\site-packages\\statsmodels\\tsa\\base\\tsa_model.py:473: ValueWarning: No frequency information was provided, so inferred frequency W-MON will be used.\n",
      "  self._init_dates(dates, freq)\n",
      "C:\\Users\\kshit\\AppData\\Local\\Programs\\Python\\Python313\\Lib\\site-packages\\statsmodels\\tsa\\base\\tsa_model.py:473: ValueWarning: No frequency information was provided, so inferred frequency W-MON will be used.\n",
      "  self._init_dates(dates, freq)\n",
      "C:\\Users\\kshit\\AppData\\Local\\Programs\\Python\\Python313\\Lib\\site-packages\\statsmodels\\tsa\\statespace\\sarimax.py:866: UserWarning: Too few observations to estimate starting parameters for ARMA and trend. All parameters except for variances will be set to zeros.\n",
      "  warn('Too few observations to estimate starting parameters%s.'\n",
      "C:\\Users\\kshit\\AppData\\Local\\Programs\\Python\\Python313\\Lib\\site-packages\\statsmodels\\tsa\\statespace\\sarimax.py:866: UserWarning: Too few observations to estimate starting parameters for seasonal ARMA. All parameters except for variances will be set to zeros.\n",
      "  warn('Too few observations to estimate starting parameters%s.'\n"
     ]
    },
    {
     "name": "stdout",
     "output_type": "stream",
     "text": [
      " Predicted Price for AMD on 2025-04-06: $78.62\n"
     ]
    },
    {
     "name": "stderr",
     "output_type": "stream",
     "text": [
      "C:\\Users\\kshit\\AppData\\Local\\Programs\\Python\\Python313\\Lib\\site-packages\\statsmodels\\tsa\\base\\tsa_model.py:473: ValueWarning: No frequency information was provided, so inferred frequency W-MON will be used.\n",
      "  self._init_dates(dates, freq)\n",
      "C:\\Users\\kshit\\AppData\\Local\\Programs\\Python\\Python313\\Lib\\site-packages\\statsmodels\\tsa\\base\\tsa_model.py:473: ValueWarning: No frequency information was provided, so inferred frequency W-MON will be used.\n",
      "  self._init_dates(dates, freq)\n",
      "C:\\Users\\kshit\\AppData\\Local\\Programs\\Python\\Python313\\Lib\\site-packages\\statsmodels\\tsa\\statespace\\sarimax.py:866: UserWarning: Too few observations to estimate starting parameters for ARMA and trend. All parameters except for variances will be set to zeros.\n",
      "  warn('Too few observations to estimate starting parameters%s.'\n",
      "C:\\Users\\kshit\\AppData\\Local\\Programs\\Python\\Python313\\Lib\\site-packages\\statsmodels\\tsa\\statespace\\sarimax.py:866: UserWarning: Too few observations to estimate starting parameters for seasonal ARMA. All parameters except for variances will be set to zeros.\n",
      "  warn('Too few observations to estimate starting parameters%s.'\n"
     ]
    },
    {
     "name": "stdout",
     "output_type": "stream",
     "text": [
      " Predicted Price for AMZN on 2025-04-06: $172.06\n"
     ]
    },
    {
     "name": "stderr",
     "output_type": "stream",
     "text": [
      "C:\\Users\\kshit\\AppData\\Local\\Programs\\Python\\Python313\\Lib\\site-packages\\statsmodels\\tsa\\base\\tsa_model.py:473: ValueWarning: No frequency information was provided, so inferred frequency W-MON will be used.\n",
      "  self._init_dates(dates, freq)\n",
      "C:\\Users\\kshit\\AppData\\Local\\Programs\\Python\\Python313\\Lib\\site-packages\\statsmodels\\tsa\\base\\tsa_model.py:473: ValueWarning: No frequency information was provided, so inferred frequency W-MON will be used.\n",
      "  self._init_dates(dates, freq)\n",
      "C:\\Users\\kshit\\AppData\\Local\\Programs\\Python\\Python313\\Lib\\site-packages\\statsmodels\\tsa\\statespace\\sarimax.py:866: UserWarning: Too few observations to estimate starting parameters for ARMA and trend. All parameters except for variances will be set to zeros.\n",
      "  warn('Too few observations to estimate starting parameters%s.'\n",
      "C:\\Users\\kshit\\AppData\\Local\\Programs\\Python\\Python313\\Lib\\site-packages\\statsmodels\\tsa\\statespace\\sarimax.py:866: UserWarning: Too few observations to estimate starting parameters for seasonal ARMA. All parameters except for variances will be set to zeros.\n",
      "  warn('Too few observations to estimate starting parameters%s.'\n"
     ]
    },
    {
     "name": "stdout",
     "output_type": "stream",
     "text": [
      " Predicted Price for AVGO on 2025-04-06: $146.75\n"
     ]
    },
    {
     "name": "stderr",
     "output_type": "stream",
     "text": [
      "C:\\Users\\kshit\\AppData\\Local\\Programs\\Python\\Python313\\Lib\\site-packages\\statsmodels\\tsa\\base\\tsa_model.py:473: ValueWarning: No frequency information was provided, so inferred frequency W-MON will be used.\n",
      "  self._init_dates(dates, freq)\n",
      "C:\\Users\\kshit\\AppData\\Local\\Programs\\Python\\Python313\\Lib\\site-packages\\statsmodels\\tsa\\base\\tsa_model.py:473: ValueWarning: No frequency information was provided, so inferred frequency W-MON will be used.\n",
      "  self._init_dates(dates, freq)\n",
      "C:\\Users\\kshit\\AppData\\Local\\Programs\\Python\\Python313\\Lib\\site-packages\\statsmodels\\tsa\\statespace\\sarimax.py:866: UserWarning: Too few observations to estimate starting parameters for ARMA and trend. All parameters except for variances will be set to zeros.\n",
      "  warn('Too few observations to estimate starting parameters%s.'\n",
      "C:\\Users\\kshit\\AppData\\Local\\Programs\\Python\\Python313\\Lib\\site-packages\\statsmodels\\tsa\\statespace\\sarimax.py:866: UserWarning: Too few observations to estimate starting parameters for seasonal ARMA. All parameters except for variances will be set to zeros.\n",
      "  warn('Too few observations to estimate starting parameters%s.'\n"
     ]
    },
    {
     "name": "stdout",
     "output_type": "stream",
     "text": [
      " Predicted Price for BA on 2025-04-06: $123.00\n"
     ]
    },
    {
     "name": "stderr",
     "output_type": "stream",
     "text": [
      "C:\\Users\\kshit\\AppData\\Local\\Programs\\Python\\Python313\\Lib\\site-packages\\statsmodels\\tsa\\base\\tsa_model.py:473: ValueWarning: No frequency information was provided, so inferred frequency W-MON will be used.\n",
      "  self._init_dates(dates, freq)\n",
      "C:\\Users\\kshit\\AppData\\Local\\Programs\\Python\\Python313\\Lib\\site-packages\\statsmodels\\tsa\\base\\tsa_model.py:473: ValueWarning: No frequency information was provided, so inferred frequency W-MON will be used.\n",
      "  self._init_dates(dates, freq)\n",
      "C:\\Users\\kshit\\AppData\\Local\\Programs\\Python\\Python313\\Lib\\site-packages\\statsmodels\\tsa\\statespace\\sarimax.py:866: UserWarning: Too few observations to estimate starting parameters for ARMA and trend. All parameters except for variances will be set to zeros.\n",
      "  warn('Too few observations to estimate starting parameters%s.'\n",
      "C:\\Users\\kshit\\AppData\\Local\\Programs\\Python\\Python313\\Lib\\site-packages\\statsmodels\\tsa\\statespace\\sarimax.py:866: UserWarning: Too few observations to estimate starting parameters for seasonal ARMA. All parameters except for variances will be set to zeros.\n",
      "  warn('Too few observations to estimate starting parameters%s.'\n"
     ]
    },
    {
     "name": "stdout",
     "output_type": "stream",
     "text": [
      " Predicted Price for BAC on 2025-04-06: $33.10\n"
     ]
    },
    {
     "name": "stderr",
     "output_type": "stream",
     "text": [
      "C:\\Users\\kshit\\AppData\\Local\\Programs\\Python\\Python313\\Lib\\site-packages\\statsmodels\\tsa\\base\\tsa_model.py:473: ValueWarning: No frequency information was provided, so inferred frequency W-MON will be used.\n",
      "  self._init_dates(dates, freq)\n",
      "C:\\Users\\kshit\\AppData\\Local\\Programs\\Python\\Python313\\Lib\\site-packages\\statsmodels\\tsa\\base\\tsa_model.py:473: ValueWarning: No frequency information was provided, so inferred frequency W-MON will be used.\n",
      "  self._init_dates(dates, freq)\n",
      "C:\\Users\\kshit\\AppData\\Local\\Programs\\Python\\Python313\\Lib\\site-packages\\statsmodels\\tsa\\statespace\\sarimax.py:866: UserWarning: Too few observations to estimate starting parameters for ARMA and trend. All parameters except for variances will be set to zeros.\n",
      "  warn('Too few observations to estimate starting parameters%s.'\n",
      "C:\\Users\\kshit\\AppData\\Local\\Programs\\Python\\Python313\\Lib\\site-packages\\statsmodels\\tsa\\statespace\\sarimax.py:866: UserWarning: Too few observations to estimate starting parameters for seasonal ARMA. All parameters except for variances will be set to zeros.\n",
      "  warn('Too few observations to estimate starting parameters%s.'\n"
     ]
    },
    {
     "name": "stdout",
     "output_type": "stream",
     "text": [
      " Predicted Price for C on 2025-04-06: $56.27\n"
     ]
    },
    {
     "name": "stderr",
     "output_type": "stream",
     "text": [
      "C:\\Users\\kshit\\AppData\\Local\\Programs\\Python\\Python313\\Lib\\site-packages\\statsmodels\\tsa\\base\\tsa_model.py:473: ValueWarning: No frequency information was provided, so inferred frequency W-MON will be used.\n",
      "  self._init_dates(dates, freq)\n",
      "C:\\Users\\kshit\\AppData\\Local\\Programs\\Python\\Python313\\Lib\\site-packages\\statsmodels\\tsa\\base\\tsa_model.py:473: ValueWarning: No frequency information was provided, so inferred frequency W-MON will be used.\n",
      "  self._init_dates(dates, freq)\n",
      "C:\\Users\\kshit\\AppData\\Local\\Programs\\Python\\Python313\\Lib\\site-packages\\statsmodels\\tsa\\statespace\\sarimax.py:866: UserWarning: Too few observations to estimate starting parameters for ARMA and trend. All parameters except for variances will be set to zeros.\n",
      "  warn('Too few observations to estimate starting parameters%s.'\n",
      "C:\\Users\\kshit\\AppData\\Local\\Programs\\Python\\Python313\\Lib\\site-packages\\statsmodels\\tsa\\statespace\\sarimax.py:866: UserWarning: Too few observations to estimate starting parameters for seasonal ARMA. All parameters except for variances will be set to zeros.\n",
      "  warn('Too few observations to estimate starting parameters%s.'\n"
     ]
    },
    {
     "name": "stdout",
     "output_type": "stream",
     "text": [
      " Predicted Price for CMCSA on 2025-04-06: $32.19\n"
     ]
    },
    {
     "name": "stderr",
     "output_type": "stream",
     "text": [
      "C:\\Users\\kshit\\AppData\\Local\\Programs\\Python\\Python313\\Lib\\site-packages\\statsmodels\\tsa\\base\\tsa_model.py:473: ValueWarning: No frequency information was provided, so inferred frequency W-MON will be used.\n",
      "  self._init_dates(dates, freq)\n",
      "C:\\Users\\kshit\\AppData\\Local\\Programs\\Python\\Python313\\Lib\\site-packages\\statsmodels\\tsa\\base\\tsa_model.py:473: ValueWarning: No frequency information was provided, so inferred frequency W-MON will be used.\n",
      "  self._init_dates(dates, freq)\n",
      "C:\\Users\\kshit\\AppData\\Local\\Programs\\Python\\Python313\\Lib\\site-packages\\statsmodels\\tsa\\statespace\\sarimax.py:866: UserWarning: Too few observations to estimate starting parameters for ARMA and trend. All parameters except for variances will be set to zeros.\n",
      "  warn('Too few observations to estimate starting parameters%s.'\n",
      "C:\\Users\\kshit\\AppData\\Local\\Programs\\Python\\Python313\\Lib\\site-packages\\statsmodels\\tsa\\statespace\\sarimax.py:866: UserWarning: Too few observations to estimate starting parameters for seasonal ARMA. All parameters except for variances will be set to zeros.\n",
      "  warn('Too few observations to estimate starting parameters%s.'\n"
     ]
    },
    {
     "name": "stdout",
     "output_type": "stream",
     "text": [
      " Predicted Price for COP on 2025-04-06: $84.04\n"
     ]
    },
    {
     "name": "stderr",
     "output_type": "stream",
     "text": [
      "C:\\Users\\kshit\\AppData\\Local\\Programs\\Python\\Python313\\Lib\\site-packages\\statsmodels\\tsa\\base\\tsa_model.py:473: ValueWarning: No frequency information was provided, so inferred frequency W-MON will be used.\n",
      "  self._init_dates(dates, freq)\n",
      "C:\\Users\\kshit\\AppData\\Local\\Programs\\Python\\Python313\\Lib\\site-packages\\statsmodels\\tsa\\base\\tsa_model.py:473: ValueWarning: No frequency information was provided, so inferred frequency W-MON will be used.\n",
      "  self._init_dates(dates, freq)\n",
      "C:\\Users\\kshit\\AppData\\Local\\Programs\\Python\\Python313\\Lib\\site-packages\\statsmodels\\tsa\\statespace\\sarimax.py:866: UserWarning: Too few observations to estimate starting parameters for ARMA and trend. All parameters except for variances will be set to zeros.\n",
      "  warn('Too few observations to estimate starting parameters%s.'\n",
      "C:\\Users\\kshit\\AppData\\Local\\Programs\\Python\\Python313\\Lib\\site-packages\\statsmodels\\tsa\\statespace\\sarimax.py:866: UserWarning: Too few observations to estimate starting parameters for seasonal ARMA. All parameters except for variances will be set to zeros.\n",
      "  warn('Too few observations to estimate starting parameters%s.'\n"
     ]
    },
    {
     "name": "stdout",
     "output_type": "stream",
     "text": [
      " Predicted Price for COST on 2025-04-06: $933.97\n"
     ]
    },
    {
     "name": "stderr",
     "output_type": "stream",
     "text": [
      "C:\\Users\\kshit\\AppData\\Local\\Programs\\Python\\Python313\\Lib\\site-packages\\statsmodels\\tsa\\base\\tsa_model.py:473: ValueWarning: No frequency information was provided, so inferred frequency W-MON will be used.\n",
      "  self._init_dates(dates, freq)\n",
      "C:\\Users\\kshit\\AppData\\Local\\Programs\\Python\\Python313\\Lib\\site-packages\\statsmodels\\tsa\\base\\tsa_model.py:473: ValueWarning: No frequency information was provided, so inferred frequency W-MON will be used.\n",
      "  self._init_dates(dates, freq)\n",
      "C:\\Users\\kshit\\AppData\\Local\\Programs\\Python\\Python313\\Lib\\site-packages\\statsmodels\\tsa\\statespace\\sarimax.py:866: UserWarning: Too few observations to estimate starting parameters for ARMA and trend. All parameters except for variances will be set to zeros.\n",
      "  warn('Too few observations to estimate starting parameters%s.'\n",
      "C:\\Users\\kshit\\AppData\\Local\\Programs\\Python\\Python313\\Lib\\site-packages\\statsmodels\\tsa\\statespace\\sarimax.py:866: UserWarning: Too few observations to estimate starting parameters for seasonal ARMA. All parameters except for variances will be set to zeros.\n",
      "  warn('Too few observations to estimate starting parameters%s.'\n"
     ]
    },
    {
     "name": "stdout",
     "output_type": "stream",
     "text": [
      " Predicted Price for CVX on 2025-04-06: $140.75\n"
     ]
    },
    {
     "name": "stderr",
     "output_type": "stream",
     "text": [
      "C:\\Users\\kshit\\AppData\\Local\\Programs\\Python\\Python313\\Lib\\site-packages\\statsmodels\\tsa\\base\\tsa_model.py:473: ValueWarning: No frequency information was provided, so inferred frequency W-MON will be used.\n",
      "  self._init_dates(dates, freq)\n",
      "C:\\Users\\kshit\\AppData\\Local\\Programs\\Python\\Python313\\Lib\\site-packages\\statsmodels\\tsa\\base\\tsa_model.py:473: ValueWarning: No frequency information was provided, so inferred frequency W-MON will be used.\n",
      "  self._init_dates(dates, freq)\n",
      "C:\\Users\\kshit\\AppData\\Local\\Programs\\Python\\Python313\\Lib\\site-packages\\statsmodels\\tsa\\statespace\\sarimax.py:866: UserWarning: Too few observations to estimate starting parameters for ARMA and trend. All parameters except for variances will be set to zeros.\n",
      "  warn('Too few observations to estimate starting parameters%s.'\n",
      "C:\\Users\\kshit\\AppData\\Local\\Programs\\Python\\Python313\\Lib\\site-packages\\statsmodels\\tsa\\statespace\\sarimax.py:866: UserWarning: Too few observations to estimate starting parameters for seasonal ARMA. All parameters except for variances will be set to zeros.\n",
      "  warn('Too few observations to estimate starting parameters%s.'\n"
     ]
    },
    {
     "name": "stdout",
     "output_type": "stream",
     "text": [
      " Predicted Price for DIS on 2025-04-06: $79.20\n"
     ]
    },
    {
     "name": "stderr",
     "output_type": "stream",
     "text": [
      "C:\\Users\\kshit\\AppData\\Local\\Programs\\Python\\Python313\\Lib\\site-packages\\statsmodels\\tsa\\base\\tsa_model.py:473: ValueWarning: No frequency information was provided, so inferred frequency W-MON will be used.\n",
      "  self._init_dates(dates, freq)\n",
      "C:\\Users\\kshit\\AppData\\Local\\Programs\\Python\\Python313\\Lib\\site-packages\\statsmodels\\tsa\\base\\tsa_model.py:473: ValueWarning: No frequency information was provided, so inferred frequency W-MON will be used.\n",
      "  self._init_dates(dates, freq)\n",
      "C:\\Users\\kshit\\AppData\\Local\\Programs\\Python\\Python313\\Lib\\site-packages\\statsmodels\\tsa\\statespace\\sarimax.py:866: UserWarning: Too few observations to estimate starting parameters for ARMA and trend. All parameters except for variances will be set to zeros.\n",
      "  warn('Too few observations to estimate starting parameters%s.'\n",
      "C:\\Users\\kshit\\AppData\\Local\\Programs\\Python\\Python313\\Lib\\site-packages\\statsmodels\\tsa\\statespace\\sarimax.py:866: UserWarning: Too few observations to estimate starting parameters for seasonal ARMA. All parameters except for variances will be set to zeros.\n",
      "  warn('Too few observations to estimate starting parameters%s.'\n"
     ]
    },
    {
     "name": "stdout",
     "output_type": "stream",
     "text": [
      " Predicted Price for F on 2025-04-06: $8.96\n"
     ]
    },
    {
     "name": "stderr",
     "output_type": "stream",
     "text": [
      "C:\\Users\\kshit\\AppData\\Local\\Programs\\Python\\Python313\\Lib\\site-packages\\statsmodels\\tsa\\base\\tsa_model.py:473: ValueWarning: No frequency information was provided, so inferred frequency W-MON will be used.\n",
      "  self._init_dates(dates, freq)\n",
      "C:\\Users\\kshit\\AppData\\Local\\Programs\\Python\\Python313\\Lib\\site-packages\\statsmodels\\tsa\\base\\tsa_model.py:473: ValueWarning: No frequency information was provided, so inferred frequency W-MON will be used.\n",
      "  self._init_dates(dates, freq)\n",
      "C:\\Users\\kshit\\AppData\\Local\\Programs\\Python\\Python313\\Lib\\site-packages\\statsmodels\\tsa\\statespace\\sarimax.py:866: UserWarning: Too few observations to estimate starting parameters for ARMA and trend. All parameters except for variances will be set to zeros.\n",
      "  warn('Too few observations to estimate starting parameters%s.'\n",
      "C:\\Users\\kshit\\AppData\\Local\\Programs\\Python\\Python313\\Lib\\site-packages\\statsmodels\\tsa\\statespace\\sarimax.py:866: UserWarning: Too few observations to estimate starting parameters for seasonal ARMA. All parameters except for variances will be set to zeros.\n",
      "  warn('Too few observations to estimate starting parameters%s.'\n"
     ]
    },
    {
     "name": "stdout",
     "output_type": "stream",
     "text": [
      " Predicted Price for GD on 2025-04-06: $242.84\n"
     ]
    },
    {
     "name": "stderr",
     "output_type": "stream",
     "text": [
      "C:\\Users\\kshit\\AppData\\Local\\Programs\\Python\\Python313\\Lib\\site-packages\\statsmodels\\tsa\\base\\tsa_model.py:473: ValueWarning: No frequency information was provided, so inferred frequency W-MON will be used.\n",
      "  self._init_dates(dates, freq)\n",
      "C:\\Users\\kshit\\AppData\\Local\\Programs\\Python\\Python313\\Lib\\site-packages\\statsmodels\\tsa\\base\\tsa_model.py:473: ValueWarning: No frequency information was provided, so inferred frequency W-MON will be used.\n",
      "  self._init_dates(dates, freq)\n",
      "C:\\Users\\kshit\\AppData\\Local\\Programs\\Python\\Python313\\Lib\\site-packages\\statsmodels\\tsa\\statespace\\sarimax.py:866: UserWarning: Too few observations to estimate starting parameters for ARMA and trend. All parameters except for variances will be set to zeros.\n",
      "  warn('Too few observations to estimate starting parameters%s.'\n",
      "C:\\Users\\kshit\\AppData\\Local\\Programs\\Python\\Python313\\Lib\\site-packages\\statsmodels\\tsa\\statespace\\sarimax.py:866: UserWarning: Too few observations to estimate starting parameters for seasonal ARMA. All parameters except for variances will be set to zeros.\n",
      "  warn('Too few observations to estimate starting parameters%s.'\n"
     ]
    },
    {
     "name": "stdout",
     "output_type": "stream",
     "text": [
      " Predicted Price for GM on 2025-04-06: $43.04\n"
     ]
    },
    {
     "name": "stderr",
     "output_type": "stream",
     "text": [
      "C:\\Users\\kshit\\AppData\\Local\\Programs\\Python\\Python313\\Lib\\site-packages\\statsmodels\\tsa\\base\\tsa_model.py:473: ValueWarning: No frequency information was provided, so inferred frequency W-MON will be used.\n",
      "  self._init_dates(dates, freq)\n",
      "C:\\Users\\kshit\\AppData\\Local\\Programs\\Python\\Python313\\Lib\\site-packages\\statsmodels\\tsa\\base\\tsa_model.py:473: ValueWarning: No frequency information was provided, so inferred frequency W-MON will be used.\n",
      "  self._init_dates(dates, freq)\n",
      "C:\\Users\\kshit\\AppData\\Local\\Programs\\Python\\Python313\\Lib\\site-packages\\statsmodels\\tsa\\statespace\\sarimax.py:866: UserWarning: Too few observations to estimate starting parameters for ARMA and trend. All parameters except for variances will be set to zeros.\n",
      "  warn('Too few observations to estimate starting parameters%s.'\n",
      "C:\\Users\\kshit\\AppData\\Local\\Programs\\Python\\Python313\\Lib\\site-packages\\statsmodels\\tsa\\statespace\\sarimax.py:866: UserWarning: Too few observations to estimate starting parameters for seasonal ARMA. All parameters except for variances will be set to zeros.\n",
      "  warn('Too few observations to estimate starting parameters%s.'\n"
     ]
    },
    {
     "name": "stdout",
     "output_type": "stream",
     "text": [
      " Predicted Price for GOOGL on 2025-04-06: $150.81\n"
     ]
    },
    {
     "name": "stderr",
     "output_type": "stream",
     "text": [
      "C:\\Users\\kshit\\AppData\\Local\\Programs\\Python\\Python313\\Lib\\site-packages\\statsmodels\\tsa\\base\\tsa_model.py:473: ValueWarning: No frequency information was provided, so inferred frequency W-MON will be used.\n",
      "  self._init_dates(dates, freq)\n",
      "C:\\Users\\kshit\\AppData\\Local\\Programs\\Python\\Python313\\Lib\\site-packages\\statsmodels\\tsa\\base\\tsa_model.py:473: ValueWarning: No frequency information was provided, so inferred frequency W-MON will be used.\n",
      "  self._init_dates(dates, freq)\n",
      "C:\\Users\\kshit\\AppData\\Local\\Programs\\Python\\Python313\\Lib\\site-packages\\statsmodels\\tsa\\statespace\\sarimax.py:866: UserWarning: Too few observations to estimate starting parameters for ARMA and trend. All parameters except for variances will be set to zeros.\n",
      "  warn('Too few observations to estimate starting parameters%s.'\n",
      "C:\\Users\\kshit\\AppData\\Local\\Programs\\Python\\Python313\\Lib\\site-packages\\statsmodels\\tsa\\statespace\\sarimax.py:866: UserWarning: Too few observations to estimate starting parameters for seasonal ARMA. All parameters except for variances will be set to zeros.\n",
      "  warn('Too few observations to estimate starting parameters%s.'\n"
     ]
    },
    {
     "name": "stdout",
     "output_type": "stream",
     "text": [
      " Predicted Price for GS on 2025-04-06: $452.63\n"
     ]
    },
    {
     "name": "stderr",
     "output_type": "stream",
     "text": [
      "C:\\Users\\kshit\\AppData\\Local\\Programs\\Python\\Python313\\Lib\\site-packages\\statsmodels\\tsa\\base\\tsa_model.py:473: ValueWarning: No frequency information was provided, so inferred frequency W-MON will be used.\n",
      "  self._init_dates(dates, freq)\n",
      "C:\\Users\\kshit\\AppData\\Local\\Programs\\Python\\Python313\\Lib\\site-packages\\statsmodels\\tsa\\base\\tsa_model.py:473: ValueWarning: No frequency information was provided, so inferred frequency W-MON will be used.\n",
      "  self._init_dates(dates, freq)\n",
      "C:\\Users\\kshit\\AppData\\Local\\Programs\\Python\\Python313\\Lib\\site-packages\\statsmodels\\tsa\\statespace\\sarimax.py:866: UserWarning: Too few observations to estimate starting parameters for ARMA and trend. All parameters except for variances will be set to zeros.\n",
      "  warn('Too few observations to estimate starting parameters%s.'\n",
      "C:\\Users\\kshit\\AppData\\Local\\Programs\\Python\\Python313\\Lib\\site-packages\\statsmodels\\tsa\\statespace\\sarimax.py:866: UserWarning: Too few observations to estimate starting parameters for seasonal ARMA. All parameters except for variances will be set to zeros.\n",
      "  warn('Too few observations to estimate starting parameters%s.'\n"
     ]
    },
    {
     "name": "stdout",
     "output_type": "stream",
     "text": [
      " Predicted Price for HD on 2025-04-06: $339.26\n"
     ]
    },
    {
     "name": "stderr",
     "output_type": "stream",
     "text": [
      "C:\\Users\\kshit\\AppData\\Local\\Programs\\Python\\Python313\\Lib\\site-packages\\statsmodels\\tsa\\base\\tsa_model.py:473: ValueWarning: No frequency information was provided, so inferred frequency W-MON will be used.\n",
      "  self._init_dates(dates, freq)\n",
      "C:\\Users\\kshit\\AppData\\Local\\Programs\\Python\\Python313\\Lib\\site-packages\\statsmodels\\tsa\\base\\tsa_model.py:473: ValueWarning: No frequency information was provided, so inferred frequency W-MON will be used.\n",
      "  self._init_dates(dates, freq)\n",
      "C:\\Users\\kshit\\AppData\\Local\\Programs\\Python\\Python313\\Lib\\site-packages\\statsmodels\\tsa\\statespace\\sarimax.py:866: UserWarning: Too few observations to estimate starting parameters for ARMA and trend. All parameters except for variances will be set to zeros.\n",
      "  warn('Too few observations to estimate starting parameters%s.'\n",
      "C:\\Users\\kshit\\AppData\\Local\\Programs\\Python\\Python313\\Lib\\site-packages\\statsmodels\\tsa\\statespace\\sarimax.py:866: UserWarning: Too few observations to estimate starting parameters for seasonal ARMA. All parameters except for variances will be set to zeros.\n",
      "  warn('Too few observations to estimate starting parameters%s.'\n"
     ]
    },
    {
     "name": "stdout",
     "output_type": "stream",
     "text": [
      " Predicted Price for INTC on 2025-04-06: $16.86\n"
     ]
    },
    {
     "name": "stderr",
     "output_type": "stream",
     "text": [
      "C:\\Users\\kshit\\AppData\\Local\\Programs\\Python\\Python313\\Lib\\site-packages\\statsmodels\\tsa\\base\\tsa_model.py:473: ValueWarning: No frequency information was provided, so inferred frequency W-MON will be used.\n",
      "  self._init_dates(dates, freq)\n",
      "C:\\Users\\kshit\\AppData\\Local\\Programs\\Python\\Python313\\Lib\\site-packages\\statsmodels\\tsa\\base\\tsa_model.py:473: ValueWarning: No frequency information was provided, so inferred frequency W-MON will be used.\n",
      "  self._init_dates(dates, freq)\n",
      "C:\\Users\\kshit\\AppData\\Local\\Programs\\Python\\Python313\\Lib\\site-packages\\statsmodels\\tsa\\statespace\\sarimax.py:866: UserWarning: Too few observations to estimate starting parameters for ARMA and trend. All parameters except for variances will be set to zeros.\n",
      "  warn('Too few observations to estimate starting parameters%s.'\n",
      "C:\\Users\\kshit\\AppData\\Local\\Programs\\Python\\Python313\\Lib\\site-packages\\statsmodels\\tsa\\statespace\\sarimax.py:866: UserWarning: Too few observations to estimate starting parameters for seasonal ARMA. All parameters except for variances will be set to zeros.\n",
      "  warn('Too few observations to estimate starting parameters%s.'\n"
     ]
    },
    {
     "name": "stdout",
     "output_type": "stream",
     "text": [
      " Predicted Price for JNJ on 2025-04-06: $148.52\n"
     ]
    },
    {
     "name": "stderr",
     "output_type": "stream",
     "text": [
      "C:\\Users\\kshit\\AppData\\Local\\Programs\\Python\\Python313\\Lib\\site-packages\\statsmodels\\tsa\\base\\tsa_model.py:473: ValueWarning: No frequency information was provided, so inferred frequency W-MON will be used.\n",
      "  self._init_dates(dates, freq)\n",
      "C:\\Users\\kshit\\AppData\\Local\\Programs\\Python\\Python313\\Lib\\site-packages\\statsmodels\\tsa\\base\\tsa_model.py:473: ValueWarning: No frequency information was provided, so inferred frequency W-MON will be used.\n",
      "  self._init_dates(dates, freq)\n",
      "C:\\Users\\kshit\\AppData\\Local\\Programs\\Python\\Python313\\Lib\\site-packages\\statsmodels\\tsa\\statespace\\sarimax.py:866: UserWarning: Too few observations to estimate starting parameters for ARMA and trend. All parameters except for variances will be set to zeros.\n",
      "  warn('Too few observations to estimate starting parameters%s.'\n",
      "C:\\Users\\kshit\\AppData\\Local\\Programs\\Python\\Python313\\Lib\\site-packages\\statsmodels\\tsa\\statespace\\sarimax.py:866: UserWarning: Too few observations to estimate starting parameters for seasonal ARMA. All parameters except for variances will be set to zeros.\n",
      "  warn('Too few observations to estimate starting parameters%s.'\n"
     ]
    },
    {
     "name": "stdout",
     "output_type": "stream",
     "text": [
      " Predicted Price for JPM on 2025-04-06: $197.07\n"
     ]
    },
    {
     "name": "stderr",
     "output_type": "stream",
     "text": [
      "C:\\Users\\kshit\\AppData\\Local\\Programs\\Python\\Python313\\Lib\\site-packages\\statsmodels\\tsa\\base\\tsa_model.py:473: ValueWarning: No frequency information was provided, so inferred frequency W-MON will be used.\n",
      "  self._init_dates(dates, freq)\n",
      "C:\\Users\\kshit\\AppData\\Local\\Programs\\Python\\Python313\\Lib\\site-packages\\statsmodels\\tsa\\base\\tsa_model.py:473: ValueWarning: No frequency information was provided, so inferred frequency W-MON will be used.\n",
      "  self._init_dates(dates, freq)\n",
      "C:\\Users\\kshit\\AppData\\Local\\Programs\\Python\\Python313\\Lib\\site-packages\\statsmodels\\tsa\\statespace\\sarimax.py:866: UserWarning: Too few observations to estimate starting parameters for ARMA and trend. All parameters except for variances will be set to zeros.\n",
      "  warn('Too few observations to estimate starting parameters%s.'\n",
      "C:\\Users\\kshit\\AppData\\Local\\Programs\\Python\\Python313\\Lib\\site-packages\\statsmodels\\tsa\\statespace\\sarimax.py:866: UserWarning: Too few observations to estimate starting parameters for seasonal ARMA. All parameters except for variances will be set to zeros.\n",
      "  warn('Too few observations to estimate starting parameters%s.'\n"
     ]
    },
    {
     "name": "stdout",
     "output_type": "stream",
     "text": [
      " Predicted Price for KO on 2025-04-06: $68.74\n"
     ]
    },
    {
     "name": "stderr",
     "output_type": "stream",
     "text": [
      "C:\\Users\\kshit\\AppData\\Local\\Programs\\Python\\Python313\\Lib\\site-packages\\statsmodels\\tsa\\base\\tsa_model.py:473: ValueWarning: No frequency information was provided, so inferred frequency W-MON will be used.\n",
      "  self._init_dates(dates, freq)\n",
      "C:\\Users\\kshit\\AppData\\Local\\Programs\\Python\\Python313\\Lib\\site-packages\\statsmodels\\tsa\\base\\tsa_model.py:473: ValueWarning: No frequency information was provided, so inferred frequency W-MON will be used.\n",
      "  self._init_dates(dates, freq)\n",
      "C:\\Users\\kshit\\AppData\\Local\\Programs\\Python\\Python313\\Lib\\site-packages\\statsmodels\\tsa\\statespace\\sarimax.py:866: UserWarning: Too few observations to estimate starting parameters for ARMA and trend. All parameters except for variances will be set to zeros.\n",
      "  warn('Too few observations to estimate starting parameters%s.'\n",
      "C:\\Users\\kshit\\AppData\\Local\\Programs\\Python\\Python313\\Lib\\site-packages\\statsmodels\\tsa\\statespace\\sarimax.py:866: UserWarning: Too few observations to estimate starting parameters for seasonal ARMA. All parameters except for variances will be set to zeros.\n",
      "  warn('Too few observations to estimate starting parameters%s.'\n"
     ]
    },
    {
     "name": "stdout",
     "output_type": "stream",
     "text": [
      " Predicted Price for LCID on 2025-04-06: $2.16\n"
     ]
    },
    {
     "name": "stderr",
     "output_type": "stream",
     "text": [
      "C:\\Users\\kshit\\AppData\\Local\\Programs\\Python\\Python313\\Lib\\site-packages\\statsmodels\\tsa\\base\\tsa_model.py:473: ValueWarning: No frequency information was provided, so inferred frequency W-MON will be used.\n",
      "  self._init_dates(dates, freq)\n",
      "C:\\Users\\kshit\\AppData\\Local\\Programs\\Python\\Python313\\Lib\\site-packages\\statsmodels\\tsa\\base\\tsa_model.py:473: ValueWarning: No frequency information was provided, so inferred frequency W-MON will be used.\n",
      "  self._init_dates(dates, freq)\n",
      "C:\\Users\\kshit\\AppData\\Local\\Programs\\Python\\Python313\\Lib\\site-packages\\statsmodels\\tsa\\statespace\\sarimax.py:866: UserWarning: Too few observations to estimate starting parameters for ARMA and trend. All parameters except for variances will be set to zeros.\n",
      "  warn('Too few observations to estimate starting parameters%s.'\n",
      "C:\\Users\\kshit\\AppData\\Local\\Programs\\Python\\Python313\\Lib\\site-packages\\statsmodels\\tsa\\statespace\\sarimax.py:866: UserWarning: Too few observations to estimate starting parameters for seasonal ARMA. All parameters except for variances will be set to zeros.\n",
      "  warn('Too few observations to estimate starting parameters%s.'\n"
     ]
    },
    {
     "name": "stdout",
     "output_type": "stream",
     "text": [
      " Predicted Price for LLY on 2025-04-06: $705.85\n"
     ]
    },
    {
     "name": "stderr",
     "output_type": "stream",
     "text": [
      "C:\\Users\\kshit\\AppData\\Local\\Programs\\Python\\Python313\\Lib\\site-packages\\statsmodels\\tsa\\base\\tsa_model.py:473: ValueWarning: No frequency information was provided, so inferred frequency W-MON will be used.\n",
      "  self._init_dates(dates, freq)\n",
      "C:\\Users\\kshit\\AppData\\Local\\Programs\\Python\\Python313\\Lib\\site-packages\\statsmodels\\tsa\\base\\tsa_model.py:473: ValueWarning: No frequency information was provided, so inferred frequency W-MON will be used.\n",
      "  self._init_dates(dates, freq)\n",
      "C:\\Users\\kshit\\AppData\\Local\\Programs\\Python\\Python313\\Lib\\site-packages\\statsmodels\\tsa\\statespace\\sarimax.py:866: UserWarning: Too few observations to estimate starting parameters for ARMA and trend. All parameters except for variances will be set to zeros.\n",
      "  warn('Too few observations to estimate starting parameters%s.'\n",
      "C:\\Users\\kshit\\AppData\\Local\\Programs\\Python\\Python313\\Lib\\site-packages\\statsmodels\\tsa\\statespace\\sarimax.py:866: UserWarning: Too few observations to estimate starting parameters for seasonal ARMA. All parameters except for variances will be set to zeros.\n",
      "  warn('Too few observations to estimate starting parameters%s.'\n"
     ]
    },
    {
     "name": "stdout",
     "output_type": "stream",
     "text": [
      " Predicted Price for LMT on 2025-04-06: $427.30\n"
     ]
    },
    {
     "name": "stderr",
     "output_type": "stream",
     "text": [
      "C:\\Users\\kshit\\AppData\\Local\\Programs\\Python\\Python313\\Lib\\site-packages\\statsmodels\\tsa\\base\\tsa_model.py:473: ValueWarning: No frequency information was provided, so inferred frequency W-MON will be used.\n",
      "  self._init_dates(dates, freq)\n",
      "C:\\Users\\kshit\\AppData\\Local\\Programs\\Python\\Python313\\Lib\\site-packages\\statsmodels\\tsa\\base\\tsa_model.py:473: ValueWarning: No frequency information was provided, so inferred frequency W-MON will be used.\n",
      "  self._init_dates(dates, freq)\n",
      "C:\\Users\\kshit\\AppData\\Local\\Programs\\Python\\Python313\\Lib\\site-packages\\statsmodels\\tsa\\statespace\\sarimax.py:866: UserWarning: Too few observations to estimate starting parameters for ARMA and trend. All parameters except for variances will be set to zeros.\n",
      "  warn('Too few observations to estimate starting parameters%s.'\n",
      "C:\\Users\\kshit\\AppData\\Local\\Programs\\Python\\Python313\\Lib\\site-packages\\statsmodels\\tsa\\statespace\\sarimax.py:866: UserWarning: Too few observations to estimate starting parameters for seasonal ARMA. All parameters except for variances will be set to zeros.\n",
      "  warn('Too few observations to estimate starting parameters%s.'\n"
     ]
    },
    {
     "name": "stdout",
     "output_type": "stream",
     "text": [
      " Predicted Price for META on 2025-04-06: $489.35\n"
     ]
    },
    {
     "name": "stderr",
     "output_type": "stream",
     "text": [
      "C:\\Users\\kshit\\AppData\\Local\\Programs\\Python\\Python313\\Lib\\site-packages\\statsmodels\\tsa\\base\\tsa_model.py:473: ValueWarning: No frequency information was provided, so inferred frequency W-MON will be used.\n",
      "  self._init_dates(dates, freq)\n",
      "C:\\Users\\kshit\\AppData\\Local\\Programs\\Python\\Python313\\Lib\\site-packages\\statsmodels\\tsa\\base\\tsa_model.py:473: ValueWarning: No frequency information was provided, so inferred frequency W-MON will be used.\n",
      "  self._init_dates(dates, freq)\n",
      "C:\\Users\\kshit\\AppData\\Local\\Programs\\Python\\Python313\\Lib\\site-packages\\statsmodels\\tsa\\statespace\\sarimax.py:866: UserWarning: Too few observations to estimate starting parameters for ARMA and trend. All parameters except for variances will be set to zeros.\n",
      "  warn('Too few observations to estimate starting parameters%s.'\n",
      "C:\\Users\\kshit\\AppData\\Local\\Programs\\Python\\Python313\\Lib\\site-packages\\statsmodels\\tsa\\statespace\\sarimax.py:866: UserWarning: Too few observations to estimate starting parameters for seasonal ARMA. All parameters except for variances will be set to zeros.\n",
      "  warn('Too few observations to estimate starting parameters%s.'\n"
     ]
    },
    {
     "name": "stdout",
     "output_type": "stream",
     "text": [
      " Predicted Price for MNST on 2025-04-06: $56.19\n"
     ]
    },
    {
     "name": "stderr",
     "output_type": "stream",
     "text": [
      "C:\\Users\\kshit\\AppData\\Local\\Programs\\Python\\Python313\\Lib\\site-packages\\statsmodels\\tsa\\base\\tsa_model.py:473: ValueWarning: No frequency information was provided, so inferred frequency W-MON will be used.\n",
      "  self._init_dates(dates, freq)\n",
      "C:\\Users\\kshit\\AppData\\Local\\Programs\\Python\\Python313\\Lib\\site-packages\\statsmodels\\tsa\\base\\tsa_model.py:473: ValueWarning: No frequency information was provided, so inferred frequency W-MON will be used.\n",
      "  self._init_dates(dates, freq)\n",
      "C:\\Users\\kshit\\AppData\\Local\\Programs\\Python\\Python313\\Lib\\site-packages\\statsmodels\\tsa\\statespace\\sarimax.py:866: UserWarning: Too few observations to estimate starting parameters for ARMA and trend. All parameters except for variances will be set to zeros.\n",
      "  warn('Too few observations to estimate starting parameters%s.'\n",
      "C:\\Users\\kshit\\AppData\\Local\\Programs\\Python\\Python313\\Lib\\site-packages\\statsmodels\\tsa\\statespace\\sarimax.py:866: UserWarning: Too few observations to estimate starting parameters for seasonal ARMA. All parameters except for variances will be set to zeros.\n",
      "  warn('Too few observations to estimate starting parameters%s.'\n"
     ]
    },
    {
     "name": "stdout",
     "output_type": "stream",
     "text": [
      " Predicted Price for MO on 2025-04-06: $55.52\n"
     ]
    },
    {
     "name": "stderr",
     "output_type": "stream",
     "text": [
      "C:\\Users\\kshit\\AppData\\Local\\Programs\\Python\\Python313\\Lib\\site-packages\\statsmodels\\tsa\\base\\tsa_model.py:473: ValueWarning: No frequency information was provided, so inferred frequency W-MON will be used.\n",
      "  self._init_dates(dates, freq)\n",
      "C:\\Users\\kshit\\AppData\\Local\\Programs\\Python\\Python313\\Lib\\site-packages\\statsmodels\\tsa\\base\\tsa_model.py:473: ValueWarning: No frequency information was provided, so inferred frequency W-MON will be used.\n",
      "  self._init_dates(dates, freq)\n",
      "C:\\Users\\kshit\\AppData\\Local\\Programs\\Python\\Python313\\Lib\\site-packages\\statsmodels\\tsa\\statespace\\sarimax.py:866: UserWarning: Too few observations to estimate starting parameters for ARMA and trend. All parameters except for variances will be set to zeros.\n",
      "  warn('Too few observations to estimate starting parameters%s.'\n",
      "C:\\Users\\kshit\\AppData\\Local\\Programs\\Python\\Python313\\Lib\\site-packages\\statsmodels\\tsa\\statespace\\sarimax.py:866: UserWarning: Too few observations to estimate starting parameters for seasonal ARMA. All parameters except for variances will be set to zeros.\n",
      "  warn('Too few observations to estimate starting parameters%s.'\n"
     ]
    },
    {
     "name": "stdout",
     "output_type": "stream",
     "text": [
      " Predicted Price for MRNA on 2025-04-06: $27.37\n"
     ]
    },
    {
     "name": "stderr",
     "output_type": "stream",
     "text": [
      "C:\\Users\\kshit\\AppData\\Local\\Programs\\Python\\Python313\\Lib\\site-packages\\statsmodels\\tsa\\base\\tsa_model.py:473: ValueWarning: No frequency information was provided, so inferred frequency W-MON will be used.\n",
      "  self._init_dates(dates, freq)\n",
      "C:\\Users\\kshit\\AppData\\Local\\Programs\\Python\\Python313\\Lib\\site-packages\\statsmodels\\tsa\\base\\tsa_model.py:473: ValueWarning: No frequency information was provided, so inferred frequency W-MON will be used.\n",
      "  self._init_dates(dates, freq)\n",
      "C:\\Users\\kshit\\AppData\\Local\\Programs\\Python\\Python313\\Lib\\site-packages\\statsmodels\\tsa\\statespace\\sarimax.py:866: UserWarning: Too few observations to estimate starting parameters for ARMA and trend. All parameters except for variances will be set to zeros.\n",
      "  warn('Too few observations to estimate starting parameters%s.'\n",
      "C:\\Users\\kshit\\AppData\\Local\\Programs\\Python\\Python313\\Lib\\site-packages\\statsmodels\\tsa\\statespace\\sarimax.py:866: UserWarning: Too few observations to estimate starting parameters for seasonal ARMA. All parameters except for variances will be set to zeros.\n",
      "  warn('Too few observations to estimate starting parameters%s.'\n"
     ]
    },
    {
     "name": "stdout",
     "output_type": "stream",
     "text": [
      " Predicted Price for MSFT on 2025-04-06: $356.25\n"
     ]
    },
    {
     "name": "stderr",
     "output_type": "stream",
     "text": [
      "C:\\Users\\kshit\\AppData\\Local\\Programs\\Python\\Python313\\Lib\\site-packages\\statsmodels\\tsa\\base\\tsa_model.py:473: ValueWarning: No frequency information was provided, so inferred frequency W-MON will be used.\n",
      "  self._init_dates(dates, freq)\n",
      "C:\\Users\\kshit\\AppData\\Local\\Programs\\Python\\Python313\\Lib\\site-packages\\statsmodels\\tsa\\base\\tsa_model.py:473: ValueWarning: No frequency information was provided, so inferred frequency W-MON will be used.\n",
      "  self._init_dates(dates, freq)\n",
      "C:\\Users\\kshit\\AppData\\Local\\Programs\\Python\\Python313\\Lib\\site-packages\\statsmodels\\tsa\\statespace\\sarimax.py:866: UserWarning: Too few observations to estimate starting parameters for ARMA and trend. All parameters except for variances will be set to zeros.\n",
      "  warn('Too few observations to estimate starting parameters%s.'\n",
      "C:\\Users\\kshit\\AppData\\Local\\Programs\\Python\\Python313\\Lib\\site-packages\\statsmodels\\tsa\\statespace\\sarimax.py:866: UserWarning: Too few observations to estimate starting parameters for seasonal ARMA. All parameters except for variances will be set to zeros.\n",
      "  warn('Too few observations to estimate starting parameters%s.'\n"
     ]
    },
    {
     "name": "stdout",
     "output_type": "stream",
     "text": [
      " Predicted Price for NFLX on 2025-04-06: $842.51\n"
     ]
    },
    {
     "name": "stderr",
     "output_type": "stream",
     "text": [
      "C:\\Users\\kshit\\AppData\\Local\\Programs\\Python\\Python313\\Lib\\site-packages\\statsmodels\\tsa\\base\\tsa_model.py:473: ValueWarning: No frequency information was provided, so inferred frequency W-MON will be used.\n",
      "  self._init_dates(dates, freq)\n",
      "C:\\Users\\kshit\\AppData\\Local\\Programs\\Python\\Python313\\Lib\\site-packages\\statsmodels\\tsa\\base\\tsa_model.py:473: ValueWarning: No frequency information was provided, so inferred frequency W-MON will be used.\n",
      "  self._init_dates(dates, freq)\n",
      "C:\\Users\\kshit\\AppData\\Local\\Programs\\Python\\Python313\\Lib\\site-packages\\statsmodels\\tsa\\statespace\\sarimax.py:866: UserWarning: Too few observations to estimate starting parameters for ARMA and trend. All parameters except for variances will be set to zeros.\n",
      "  warn('Too few observations to estimate starting parameters%s.'\n",
      "C:\\Users\\kshit\\AppData\\Local\\Programs\\Python\\Python313\\Lib\\site-packages\\statsmodels\\tsa\\statespace\\sarimax.py:866: UserWarning: Too few observations to estimate starting parameters for seasonal ARMA. All parameters except for variances will be set to zeros.\n",
      "  warn('Too few observations to estimate starting parameters%s.'\n"
     ]
    },
    {
     "name": "stdout",
     "output_type": "stream",
     "text": [
      " Predicted Price for NOC on 2025-04-06: $487.10\n"
     ]
    },
    {
     "name": "stderr",
     "output_type": "stream",
     "text": [
      "C:\\Users\\kshit\\AppData\\Local\\Programs\\Python\\Python313\\Lib\\site-packages\\statsmodels\\tsa\\base\\tsa_model.py:473: ValueWarning: No frequency information was provided, so inferred frequency W-MON will be used.\n",
      "  self._init_dates(dates, freq)\n",
      "C:\\Users\\kshit\\AppData\\Local\\Programs\\Python\\Python313\\Lib\\site-packages\\statsmodels\\tsa\\base\\tsa_model.py:473: ValueWarning: No frequency information was provided, so inferred frequency W-MON will be used.\n",
      "  self._init_dates(dates, freq)\n",
      "C:\\Users\\kshit\\AppData\\Local\\Programs\\Python\\Python313\\Lib\\site-packages\\statsmodels\\tsa\\statespace\\sarimax.py:866: UserWarning: Too few observations to estimate starting parameters for ARMA and trend. All parameters except for variances will be set to zeros.\n",
      "  warn('Too few observations to estimate starting parameters%s.'\n",
      "C:\\Users\\kshit\\AppData\\Local\\Programs\\Python\\Python313\\Lib\\site-packages\\statsmodels\\tsa\\statespace\\sarimax.py:866: UserWarning: Too few observations to estimate starting parameters for seasonal ARMA. All parameters except for variances will be set to zeros.\n",
      "  warn('Too few observations to estimate starting parameters%s.'\n"
     ]
    },
    {
     "name": "stdout",
     "output_type": "stream",
     "text": [
      " Predicted Price for NVDA on 2025-04-06: $94.49\n"
     ]
    },
    {
     "name": "stderr",
     "output_type": "stream",
     "text": [
      "C:\\Users\\kshit\\AppData\\Local\\Programs\\Python\\Python313\\Lib\\site-packages\\statsmodels\\tsa\\base\\tsa_model.py:473: ValueWarning: No frequency information was provided, so inferred frequency W-MON will be used.\n",
      "  self._init_dates(dates, freq)\n",
      "C:\\Users\\kshit\\AppData\\Local\\Programs\\Python\\Python313\\Lib\\site-packages\\statsmodels\\tsa\\base\\tsa_model.py:473: ValueWarning: No frequency information was provided, so inferred frequency W-MON will be used.\n",
      "  self._init_dates(dates, freq)\n",
      "C:\\Users\\kshit\\AppData\\Local\\Programs\\Python\\Python313\\Lib\\site-packages\\statsmodels\\tsa\\statespace\\sarimax.py:866: UserWarning: Too few observations to estimate starting parameters for ARMA and trend. All parameters except for variances will be set to zeros.\n",
      "  warn('Too few observations to estimate starting parameters%s.'\n",
      "C:\\Users\\kshit\\AppData\\Local\\Programs\\Python\\Python313\\Lib\\site-packages\\statsmodels\\tsa\\statespace\\sarimax.py:866: UserWarning: Too few observations to estimate starting parameters for seasonal ARMA. All parameters except for variances will be set to zeros.\n",
      "  warn('Too few observations to estimate starting parameters%s.'\n"
     ]
    },
    {
     "name": "stdout",
     "output_type": "stream",
     "text": [
      " Predicted Price for PEP on 2025-04-06: $145.60\n"
     ]
    },
    {
     "name": "stderr",
     "output_type": "stream",
     "text": [
      "C:\\Users\\kshit\\AppData\\Local\\Programs\\Python\\Python313\\Lib\\site-packages\\statsmodels\\tsa\\base\\tsa_model.py:473: ValueWarning: No frequency information was provided, so inferred frequency W-MON will be used.\n",
      "  self._init_dates(dates, freq)\n",
      "C:\\Users\\kshit\\AppData\\Local\\Programs\\Python\\Python313\\Lib\\site-packages\\statsmodels\\tsa\\base\\tsa_model.py:473: ValueWarning: No frequency information was provided, so inferred frequency W-MON will be used.\n",
      "  self._init_dates(dates, freq)\n",
      "C:\\Users\\kshit\\AppData\\Local\\Programs\\Python\\Python313\\Lib\\site-packages\\statsmodels\\tsa\\statespace\\sarimax.py:866: UserWarning: Too few observations to estimate starting parameters for ARMA and trend. All parameters except for variances will be set to zeros.\n",
      "  warn('Too few observations to estimate starting parameters%s.'\n",
      "C:\\Users\\kshit\\AppData\\Local\\Programs\\Python\\Python313\\Lib\\site-packages\\statsmodels\\tsa\\statespace\\sarimax.py:866: UserWarning: Too few observations to estimate starting parameters for seasonal ARMA. All parameters except for variances will be set to zeros.\n",
      "  warn('Too few observations to estimate starting parameters%s.'\n"
     ]
    },
    {
     "name": "stdout",
     "output_type": "stream",
     "text": [
      " Predicted Price for PFE on 2025-04-06: $22.22\n"
     ]
    },
    {
     "name": "stderr",
     "output_type": "stream",
     "text": [
      "C:\\Users\\kshit\\AppData\\Local\\Programs\\Python\\Python313\\Lib\\site-packages\\statsmodels\\tsa\\base\\tsa_model.py:473: ValueWarning: No frequency information was provided, so inferred frequency W-MON will be used.\n",
      "  self._init_dates(dates, freq)\n",
      "C:\\Users\\kshit\\AppData\\Local\\Programs\\Python\\Python313\\Lib\\site-packages\\statsmodels\\tsa\\base\\tsa_model.py:473: ValueWarning: No frequency information was provided, so inferred frequency W-MON will be used.\n",
      "  self._init_dates(dates, freq)\n",
      "C:\\Users\\kshit\\AppData\\Local\\Programs\\Python\\Python313\\Lib\\site-packages\\statsmodels\\tsa\\statespace\\sarimax.py:866: UserWarning: Too few observations to estimate starting parameters for ARMA and trend. All parameters except for variances will be set to zeros.\n",
      "  warn('Too few observations to estimate starting parameters%s.'\n",
      "C:\\Users\\kshit\\AppData\\Local\\Programs\\Python\\Python313\\Lib\\site-packages\\statsmodels\\tsa\\statespace\\sarimax.py:866: UserWarning: Too few observations to estimate starting parameters for seasonal ARMA. All parameters except for variances will be set to zeros.\n",
      "  warn('Too few observations to estimate starting parameters%s.'\n"
     ]
    },
    {
     "name": "stdout",
     "output_type": "stream",
     "text": [
      " Predicted Price for PG on 2025-04-06: $163.00\n"
     ]
    },
    {
     "name": "stderr",
     "output_type": "stream",
     "text": [
      "C:\\Users\\kshit\\AppData\\Local\\Programs\\Python\\Python313\\Lib\\site-packages\\statsmodels\\tsa\\base\\tsa_model.py:473: ValueWarning: No frequency information was provided, so inferred frequency W-MON will be used.\n",
      "  self._init_dates(dates, freq)\n",
      "C:\\Users\\kshit\\AppData\\Local\\Programs\\Python\\Python313\\Lib\\site-packages\\statsmodels\\tsa\\base\\tsa_model.py:473: ValueWarning: No frequency information was provided, so inferred frequency W-MON will be used.\n",
      "  self._init_dates(dates, freq)\n",
      "C:\\Users\\kshit\\AppData\\Local\\Programs\\Python\\Python313\\Lib\\site-packages\\statsmodels\\tsa\\statespace\\sarimax.py:866: UserWarning: Too few observations to estimate starting parameters for ARMA and trend. All parameters except for variances will be set to zeros.\n",
      "  warn('Too few observations to estimate starting parameters%s.'\n",
      "C:\\Users\\kshit\\AppData\\Local\\Programs\\Python\\Python313\\Lib\\site-packages\\statsmodels\\tsa\\statespace\\sarimax.py:866: UserWarning: Too few observations to estimate starting parameters for seasonal ARMA. All parameters except for variances will be set to zeros.\n",
      "  warn('Too few observations to estimate starting parameters%s.'\n"
     ]
    },
    {
     "name": "stdout",
     "output_type": "stream",
     "text": [
      " Predicted Price for PSX on 2025-04-06: $90.83\n"
     ]
    },
    {
     "name": "stderr",
     "output_type": "stream",
     "text": [
      "C:\\Users\\kshit\\AppData\\Local\\Programs\\Python\\Python313\\Lib\\site-packages\\statsmodels\\tsa\\base\\tsa_model.py:473: ValueWarning: No frequency information was provided, so inferred frequency W-MON will be used.\n",
      "  self._init_dates(dates, freq)\n",
      "C:\\Users\\kshit\\AppData\\Local\\Programs\\Python\\Python313\\Lib\\site-packages\\statsmodels\\tsa\\base\\tsa_model.py:473: ValueWarning: No frequency information was provided, so inferred frequency W-MON will be used.\n",
      "  self._init_dates(dates, freq)\n",
      "C:\\Users\\kshit\\AppData\\Local\\Programs\\Python\\Python313\\Lib\\site-packages\\statsmodels\\tsa\\statespace\\sarimax.py:866: UserWarning: Too few observations to estimate starting parameters for ARMA and trend. All parameters except for variances will be set to zeros.\n",
      "  warn('Too few observations to estimate starting parameters%s.'\n",
      "C:\\Users\\kshit\\AppData\\Local\\Programs\\Python\\Python313\\Lib\\site-packages\\statsmodels\\tsa\\statespace\\sarimax.py:866: UserWarning: Too few observations to estimate starting parameters for seasonal ARMA. All parameters except for variances will be set to zeros.\n",
      "  warn('Too few observations to estimate starting parameters%s.'\n"
     ]
    },
    {
     "name": "stdout",
     "output_type": "stream",
     "text": [
      " Predicted Price for QCOM on 2025-04-06: $127.22\n"
     ]
    },
    {
     "name": "stderr",
     "output_type": "stream",
     "text": [
      "C:\\Users\\kshit\\AppData\\Local\\Programs\\Python\\Python313\\Lib\\site-packages\\statsmodels\\tsa\\base\\tsa_model.py:473: ValueWarning: No frequency information was provided, so inferred frequency W-MON will be used.\n",
      "  self._init_dates(dates, freq)\n",
      "C:\\Users\\kshit\\AppData\\Local\\Programs\\Python\\Python313\\Lib\\site-packages\\statsmodels\\tsa\\base\\tsa_model.py:473: ValueWarning: No frequency information was provided, so inferred frequency W-MON will be used.\n",
      "  self._init_dates(dates, freq)\n",
      "C:\\Users\\kshit\\AppData\\Local\\Programs\\Python\\Python313\\Lib\\site-packages\\statsmodels\\tsa\\statespace\\sarimax.py:866: UserWarning: Too few observations to estimate starting parameters for ARMA and trend. All parameters except for variances will be set to zeros.\n",
      "  warn('Too few observations to estimate starting parameters%s.'\n",
      "C:\\Users\\kshit\\AppData\\Local\\Programs\\Python\\Python313\\Lib\\site-packages\\statsmodels\\tsa\\statespace\\sarimax.py:866: UserWarning: Too few observations to estimate starting parameters for seasonal ARMA. All parameters except for variances will be set to zeros.\n",
      "  warn('Too few observations to estimate starting parameters%s.'\n"
     ]
    },
    {
     "name": "stdout",
     "output_type": "stream",
     "text": [
      " Predicted Price for RIVN on 2025-04-06: $10.24\n"
     ]
    },
    {
     "name": "stderr",
     "output_type": "stream",
     "text": [
      "C:\\Users\\kshit\\AppData\\Local\\Programs\\Python\\Python313\\Lib\\site-packages\\statsmodels\\tsa\\base\\tsa_model.py:473: ValueWarning: No frequency information was provided, so inferred frequency W-MON will be used.\n",
      "  self._init_dates(dates, freq)\n",
      "C:\\Users\\kshit\\AppData\\Local\\Programs\\Python\\Python313\\Lib\\site-packages\\statsmodels\\tsa\\base\\tsa_model.py:473: ValueWarning: No frequency information was provided, so inferred frequency W-MON will be used.\n",
      "  self._init_dates(dates, freq)\n",
      "C:\\Users\\kshit\\AppData\\Local\\Programs\\Python\\Python313\\Lib\\site-packages\\statsmodels\\tsa\\statespace\\sarimax.py:866: UserWarning: Too few observations to estimate starting parameters for ARMA and trend. All parameters except for variances will be set to zeros.\n",
      "  warn('Too few observations to estimate starting parameters%s.'\n",
      "C:\\Users\\kshit\\AppData\\Local\\Programs\\Python\\Python313\\Lib\\site-packages\\statsmodels\\tsa\\statespace\\sarimax.py:866: UserWarning: Too few observations to estimate starting parameters for seasonal ARMA. All parameters except for variances will be set to zeros.\n",
      "  warn('Too few observations to estimate starting parameters%s.'\n"
     ]
    },
    {
     "name": "stdout",
     "output_type": "stream",
     "text": [
      " Predicted Price for RTX on 2025-04-06: $115.89\n"
     ]
    },
    {
     "name": "stderr",
     "output_type": "stream",
     "text": [
      "C:\\Users\\kshit\\AppData\\Local\\Programs\\Python\\Python313\\Lib\\site-packages\\statsmodels\\tsa\\base\\tsa_model.py:473: ValueWarning: No frequency information was provided, so inferred frequency W-MON will be used.\n",
      "  self._init_dates(dates, freq)\n",
      "C:\\Users\\kshit\\AppData\\Local\\Programs\\Python\\Python313\\Lib\\site-packages\\statsmodels\\tsa\\base\\tsa_model.py:473: ValueWarning: No frequency information was provided, so inferred frequency W-MON will be used.\n",
      "  self._init_dates(dates, freq)\n",
      "C:\\Users\\kshit\\AppData\\Local\\Programs\\Python\\Python313\\Lib\\site-packages\\statsmodels\\tsa\\statespace\\sarimax.py:866: UserWarning: Too few observations to estimate starting parameters for ARMA and trend. All parameters except for variances will be set to zeros.\n",
      "  warn('Too few observations to estimate starting parameters%s.'\n",
      "C:\\Users\\kshit\\AppData\\Local\\Programs\\Python\\Python313\\Lib\\site-packages\\statsmodels\\tsa\\statespace\\sarimax.py:866: UserWarning: Too few observations to estimate starting parameters for seasonal ARMA. All parameters except for variances will be set to zeros.\n",
      "  warn('Too few observations to estimate starting parameters%s.'\n"
     ]
    },
    {
     "name": "stdout",
     "output_type": "stream",
     "text": [
      " Predicted Price for SLB on 2025-04-06: $31.83\n"
     ]
    },
    {
     "name": "stderr",
     "output_type": "stream",
     "text": [
      "C:\\Users\\kshit\\AppData\\Local\\Programs\\Python\\Python313\\Lib\\site-packages\\statsmodels\\tsa\\base\\tsa_model.py:473: ValueWarning: No frequency information was provided, so inferred frequency W-MON will be used.\n",
      "  self._init_dates(dates, freq)\n",
      "C:\\Users\\kshit\\AppData\\Local\\Programs\\Python\\Python313\\Lib\\site-packages\\statsmodels\\tsa\\base\\tsa_model.py:473: ValueWarning: No frequency information was provided, so inferred frequency W-MON will be used.\n",
      "  self._init_dates(dates, freq)\n",
      "C:\\Users\\kshit\\AppData\\Local\\Programs\\Python\\Python313\\Lib\\site-packages\\statsmodels\\tsa\\statespace\\sarimax.py:866: UserWarning: Too few observations to estimate starting parameters for ARMA and trend. All parameters except for variances will be set to zeros.\n",
      "  warn('Too few observations to estimate starting parameters%s.'\n",
      "C:\\Users\\kshit\\AppData\\Local\\Programs\\Python\\Python313\\Lib\\site-packages\\statsmodels\\tsa\\statespace\\sarimax.py:866: UserWarning: Too few observations to estimate starting parameters for seasonal ARMA. All parameters except for variances will be set to zeros.\n",
      "  warn('Too few observations to estimate starting parameters%s.'\n"
     ]
    },
    {
     "name": "stdout",
     "output_type": "stream",
     "text": [
      " Predicted Price for T on 2025-04-06: $25.59\n"
     ]
    },
    {
     "name": "stderr",
     "output_type": "stream",
     "text": [
      "C:\\Users\\kshit\\AppData\\Local\\Programs\\Python\\Python313\\Lib\\site-packages\\statsmodels\\tsa\\base\\tsa_model.py:473: ValueWarning: No frequency information was provided, so inferred frequency W-MON will be used.\n",
      "  self._init_dates(dates, freq)\n",
      "C:\\Users\\kshit\\AppData\\Local\\Programs\\Python\\Python313\\Lib\\site-packages\\statsmodels\\tsa\\base\\tsa_model.py:473: ValueWarning: No frequency information was provided, so inferred frequency W-MON will be used.\n",
      "  self._init_dates(dates, freq)\n",
      "C:\\Users\\kshit\\AppData\\Local\\Programs\\Python\\Python313\\Lib\\site-packages\\statsmodels\\tsa\\statespace\\sarimax.py:866: UserWarning: Too few observations to estimate starting parameters for ARMA and trend. All parameters except for variances will be set to zeros.\n",
      "  warn('Too few observations to estimate starting parameters%s.'\n",
      "C:\\Users\\kshit\\AppData\\Local\\Programs\\Python\\Python313\\Lib\\site-packages\\statsmodels\\tsa\\statespace\\sarimax.py:866: UserWarning: Too few observations to estimate starting parameters for seasonal ARMA. All parameters except for variances will be set to zeros.\n",
      "  warn('Too few observations to estimate starting parameters%s.'\n"
     ]
    },
    {
     "name": "stdout",
     "output_type": "stream",
     "text": [
      " Predicted Price for TGT on 2025-04-06: $90.24\n"
     ]
    },
    {
     "name": "stderr",
     "output_type": "stream",
     "text": [
      "C:\\Users\\kshit\\AppData\\Local\\Programs\\Python\\Python313\\Lib\\site-packages\\statsmodels\\tsa\\base\\tsa_model.py:473: ValueWarning: No frequency information was provided, so inferred frequency W-MON will be used.\n",
      "  self._init_dates(dates, freq)\n",
      "C:\\Users\\kshit\\AppData\\Local\\Programs\\Python\\Python313\\Lib\\site-packages\\statsmodels\\tsa\\base\\tsa_model.py:473: ValueWarning: No frequency information was provided, so inferred frequency W-MON will be used.\n",
      "  self._init_dates(dates, freq)\n",
      "C:\\Users\\kshit\\AppData\\Local\\Programs\\Python\\Python313\\Lib\\site-packages\\statsmodels\\tsa\\statespace\\sarimax.py:866: UserWarning: Too few observations to estimate starting parameters for ARMA and trend. All parameters except for variances will be set to zeros.\n",
      "  warn('Too few observations to estimate starting parameters%s.'\n",
      "C:\\Users\\kshit\\AppData\\Local\\Programs\\Python\\Python313\\Lib\\site-packages\\statsmodels\\tsa\\statespace\\sarimax.py:866: UserWarning: Too few observations to estimate starting parameters for seasonal ARMA. All parameters except for variances will be set to zeros.\n",
      "  warn('Too few observations to estimate starting parameters%s.'\n"
     ]
    },
    {
     "name": "stdout",
     "output_type": "stream",
     "text": [
      " Predicted Price for TSLA on 2025-04-06: $245.58\n"
     ]
    },
    {
     "name": "stderr",
     "output_type": "stream",
     "text": [
      "C:\\Users\\kshit\\AppData\\Local\\Programs\\Python\\Python313\\Lib\\site-packages\\statsmodels\\tsa\\base\\tsa_model.py:473: ValueWarning: No frequency information was provided, so inferred frequency W-MON will be used.\n",
      "  self._init_dates(dates, freq)\n",
      "C:\\Users\\kshit\\AppData\\Local\\Programs\\Python\\Python313\\Lib\\site-packages\\statsmodels\\tsa\\base\\tsa_model.py:473: ValueWarning: No frequency information was provided, so inferred frequency W-MON will be used.\n",
      "  self._init_dates(dates, freq)\n",
      "C:\\Users\\kshit\\AppData\\Local\\Programs\\Python\\Python313\\Lib\\site-packages\\statsmodels\\tsa\\statespace\\sarimax.py:866: UserWarning: Too few observations to estimate starting parameters for ARMA and trend. All parameters except for variances will be set to zeros.\n",
      "  warn('Too few observations to estimate starting parameters%s.'\n",
      "C:\\Users\\kshit\\AppData\\Local\\Programs\\Python\\Python313\\Lib\\site-packages\\statsmodels\\tsa\\statespace\\sarimax.py:866: UserWarning: Too few observations to estimate starting parameters for seasonal ARMA. All parameters except for variances will be set to zeros.\n",
      "  warn('Too few observations to estimate starting parameters%s.'\n"
     ]
    },
    {
     "name": "stdout",
     "output_type": "stream",
     "text": [
      " Predicted Price for TSM on 2025-04-06: $147.94\n"
     ]
    },
    {
     "name": "stderr",
     "output_type": "stream",
     "text": [
      "C:\\Users\\kshit\\AppData\\Local\\Programs\\Python\\Python313\\Lib\\site-packages\\statsmodels\\tsa\\base\\tsa_model.py:473: ValueWarning: No frequency information was provided, so inferred frequency W-MON will be used.\n",
      "  self._init_dates(dates, freq)\n",
      "C:\\Users\\kshit\\AppData\\Local\\Programs\\Python\\Python313\\Lib\\site-packages\\statsmodels\\tsa\\base\\tsa_model.py:473: ValueWarning: No frequency information was provided, so inferred frequency W-MON will be used.\n",
      "  self._init_dates(dates, freq)\n",
      "C:\\Users\\kshit\\AppData\\Local\\Programs\\Python\\Python313\\Lib\\site-packages\\statsmodels\\tsa\\statespace\\sarimax.py:866: UserWarning: Too few observations to estimate starting parameters for ARMA and trend. All parameters except for variances will be set to zeros.\n",
      "  warn('Too few observations to estimate starting parameters%s.'\n",
      "C:\\Users\\kshit\\AppData\\Local\\Programs\\Python\\Python313\\Lib\\site-packages\\statsmodels\\tsa\\statespace\\sarimax.py:866: UserWarning: Too few observations to estimate starting parameters for seasonal ARMA. All parameters except for variances will be set to zeros.\n",
      "  warn('Too few observations to estimate starting parameters%s.'\n"
     ]
    },
    {
     "name": "stdout",
     "output_type": "stream",
     "text": [
      " Predicted Price for UNH on 2025-04-06: $508.77\n"
     ]
    },
    {
     "name": "stderr",
     "output_type": "stream",
     "text": [
      "C:\\Users\\kshit\\AppData\\Local\\Programs\\Python\\Python313\\Lib\\site-packages\\statsmodels\\tsa\\base\\tsa_model.py:473: ValueWarning: No frequency information was provided, so inferred frequency W-MON will be used.\n",
      "  self._init_dates(dates, freq)\n",
      "C:\\Users\\kshit\\AppData\\Local\\Programs\\Python\\Python313\\Lib\\site-packages\\statsmodels\\tsa\\base\\tsa_model.py:473: ValueWarning: No frequency information was provided, so inferred frequency W-MON will be used.\n",
      "  self._init_dates(dates, freq)\n",
      "C:\\Users\\kshit\\AppData\\Local\\Programs\\Python\\Python313\\Lib\\site-packages\\statsmodels\\tsa\\statespace\\sarimax.py:866: UserWarning: Too few observations to estimate starting parameters for ARMA and trend. All parameters except for variances will be set to zeros.\n",
      "  warn('Too few observations to estimate starting parameters%s.'\n",
      "C:\\Users\\kshit\\AppData\\Local\\Programs\\Python\\Python313\\Lib\\site-packages\\statsmodels\\tsa\\statespace\\sarimax.py:866: UserWarning: Too few observations to estimate starting parameters for seasonal ARMA. All parameters except for variances will be set to zeros.\n",
      "  warn('Too few observations to estimate starting parameters%s.'\n"
     ]
    },
    {
     "name": "stdout",
     "output_type": "stream",
     "text": [
      " Predicted Price for VZ on 2025-04-06: $40.78\n"
     ]
    },
    {
     "name": "stderr",
     "output_type": "stream",
     "text": [
      "C:\\Users\\kshit\\AppData\\Local\\Programs\\Python\\Python313\\Lib\\site-packages\\statsmodels\\tsa\\base\\tsa_model.py:473: ValueWarning: No frequency information was provided, so inferred frequency W-MON will be used.\n",
      "  self._init_dates(dates, freq)\n",
      "C:\\Users\\kshit\\AppData\\Local\\Programs\\Python\\Python313\\Lib\\site-packages\\statsmodels\\tsa\\base\\tsa_model.py:473: ValueWarning: No frequency information was provided, so inferred frequency W-MON will be used.\n",
      "  self._init_dates(dates, freq)\n",
      "C:\\Users\\kshit\\AppData\\Local\\Programs\\Python\\Python313\\Lib\\site-packages\\statsmodels\\tsa\\statespace\\sarimax.py:866: UserWarning: Too few observations to estimate starting parameters for ARMA and trend. All parameters except for variances will be set to zeros.\n",
      "  warn('Too few observations to estimate starting parameters%s.'\n",
      "C:\\Users\\kshit\\AppData\\Local\\Programs\\Python\\Python313\\Lib\\site-packages\\statsmodels\\tsa\\statespace\\sarimax.py:866: UserWarning: Too few observations to estimate starting parameters for seasonal ARMA. All parameters except for variances will be set to zeros.\n",
      "  warn('Too few observations to estimate starting parameters%s.'\n"
     ]
    },
    {
     "name": "stdout",
     "output_type": "stream",
     "text": [
      " Predicted Price for WFC on 2025-04-06: $60.07\n"
     ]
    },
    {
     "name": "stderr",
     "output_type": "stream",
     "text": [
      "C:\\Users\\kshit\\AppData\\Local\\Programs\\Python\\Python313\\Lib\\site-packages\\statsmodels\\tsa\\base\\tsa_model.py:473: ValueWarning: No frequency information was provided, so inferred frequency W-MON will be used.\n",
      "  self._init_dates(dates, freq)\n",
      "C:\\Users\\kshit\\AppData\\Local\\Programs\\Python\\Python313\\Lib\\site-packages\\statsmodels\\tsa\\base\\tsa_model.py:473: ValueWarning: No frequency information was provided, so inferred frequency W-MON will be used.\n",
      "  self._init_dates(dates, freq)\n",
      "C:\\Users\\kshit\\AppData\\Local\\Programs\\Python\\Python313\\Lib\\site-packages\\statsmodels\\tsa\\statespace\\sarimax.py:866: UserWarning: Too few observations to estimate starting parameters for ARMA and trend. All parameters except for variances will be set to zeros.\n",
      "  warn('Too few observations to estimate starting parameters%s.'\n",
      "C:\\Users\\kshit\\AppData\\Local\\Programs\\Python\\Python313\\Lib\\site-packages\\statsmodels\\tsa\\statespace\\sarimax.py:866: UserWarning: Too few observations to estimate starting parameters for seasonal ARMA. All parameters except for variances will be set to zeros.\n",
      "  warn('Too few observations to estimate starting parameters%s.'\n"
     ]
    },
    {
     "name": "stdout",
     "output_type": "stream",
     "text": [
      " Predicted Price for WMT on 2025-04-06: $83.48\n"
     ]
    },
    {
     "name": "stderr",
     "output_type": "stream",
     "text": [
      "C:\\Users\\kshit\\AppData\\Local\\Programs\\Python\\Python313\\Lib\\site-packages\\statsmodels\\tsa\\base\\tsa_model.py:473: ValueWarning: No frequency information was provided, so inferred frequency W-MON will be used.\n",
      "  self._init_dates(dates, freq)\n",
      "C:\\Users\\kshit\\AppData\\Local\\Programs\\Python\\Python313\\Lib\\site-packages\\statsmodels\\tsa\\base\\tsa_model.py:473: ValueWarning: No frequency information was provided, so inferred frequency W-MON will be used.\n",
      "  self._init_dates(dates, freq)\n",
      "C:\\Users\\kshit\\AppData\\Local\\Programs\\Python\\Python313\\Lib\\site-packages\\statsmodels\\tsa\\statespace\\sarimax.py:866: UserWarning: Too few observations to estimate starting parameters for ARMA and trend. All parameters except for variances will be set to zeros.\n",
      "  warn('Too few observations to estimate starting parameters%s.'\n",
      "C:\\Users\\kshit\\AppData\\Local\\Programs\\Python\\Python313\\Lib\\site-packages\\statsmodels\\tsa\\statespace\\sarimax.py:866: UserWarning: Too few observations to estimate starting parameters for seasonal ARMA. All parameters except for variances will be set to zeros.\n",
      "  warn('Too few observations to estimate starting parameters%s.'\n"
     ]
    },
    {
     "name": "stdout",
     "output_type": "stream",
     "text": [
      " Predicted Price for XOM on 2025-04-06: $103.37\n",
      "    Stock  Predicted Price ($) Date Predicted\n",
      "0    AAPL               195.32     2025-04-06\n",
      "1     AMD                78.62     2025-04-06\n",
      "2    AMZN               172.06     2025-04-06\n",
      "3    AVGO               146.75     2025-04-06\n",
      "4      BA               123.00     2025-04-06\n",
      "5     BAC                33.10     2025-04-06\n",
      "6       C                56.27     2025-04-06\n",
      "7   CMCSA                32.19     2025-04-06\n",
      "8     COP                84.04     2025-04-06\n",
      "9    COST               933.97     2025-04-06\n",
      "10    CVX               140.75     2025-04-06\n",
      "11    DIS                79.20     2025-04-06\n",
      "12      F                 8.96     2025-04-06\n",
      "13     GD               242.84     2025-04-06\n",
      "14     GM                43.04     2025-04-06\n",
      "15  GOOGL               150.81     2025-04-06\n",
      "16     GS               452.63     2025-04-06\n",
      "17     HD               339.26     2025-04-06\n",
      "18   INTC                16.86     2025-04-06\n",
      "19    JNJ               148.52     2025-04-06\n",
      "20    JPM               197.07     2025-04-06\n",
      "21     KO                68.74     2025-04-06\n",
      "22   LCID                 2.16     2025-04-06\n",
      "23    LLY               705.85     2025-04-06\n",
      "24    LMT               427.30     2025-04-06\n",
      "25   META               489.35     2025-04-06\n",
      "26   MNST                56.19     2025-04-06\n",
      "27     MO                55.52     2025-04-06\n",
      "28   MRNA                27.37     2025-04-06\n",
      "29   MSFT               356.25     2025-04-06\n",
      "30   NFLX               842.51     2025-04-06\n",
      "31    NOC               487.10     2025-04-06\n",
      "32   NVDA                94.49     2025-04-06\n",
      "33    PEP               145.60     2025-04-06\n",
      "34    PFE                22.22     2025-04-06\n",
      "35     PG               163.00     2025-04-06\n",
      "36    PSX                90.83     2025-04-06\n",
      "37   QCOM               127.22     2025-04-06\n",
      "38   RIVN                10.24     2025-04-06\n",
      "39    RTX               115.89     2025-04-06\n",
      "40    SLB                31.83     2025-04-06\n",
      "41      T                25.59     2025-04-06\n",
      "42    TGT                90.24     2025-04-06\n",
      "43   TSLA               245.58     2025-04-06\n",
      "44    TSM               147.94     2025-04-06\n",
      "45    UNH               508.77     2025-04-06\n",
      "46     VZ                40.78     2025-04-06\n",
      "47    WFC                60.07     2025-04-06\n",
      "48    WMT                83.48     2025-04-06\n",
      "49    XOM               103.37     2025-04-06\n"
     ]
    }
   ],
   "source": [
    "import numpy as np\n",
    "import matplotlib.pyplot as plt\n",
    "import statsmodels.api as sm\n",
    "from statsmodels.tsa.statespace.sarimax import SARIMAX\n",
    "from datetime import datetime, timedelta\n",
    "\n",
    "# Read the Stock Prices Data\n",
    "df = pd.read_csv(\"stock_prices_training.csv\", dtype={\"Date Fetched\": str})  # Read as string first\n",
    "df[\"Date Fetched\"] = df[\"Date Fetched\"].str.strip()  # Remove any extra spaces\n",
    "df[\"Date Fetched\"] = pd.to_datetime(df[\"Date Fetched\"], format=\"%Y-%m-%d\")  # Convert to datetime\n",
    "\n",
    "# Sort by Date (to ensure proper time series order)\n",
    "df = df.sort_values(by=[\"Stock\", \"Date Fetched\"]).reset_index(drop=True)\n",
    "\n",
    "# Get Unique Stocks\n",
    "unique_stocks = df[\"Stock\"].unique()\n",
    "\n",
    "# Store Predictions\n",
    "predictions = []\n",
    "\n",
    "today = datetime.today().strftime(\"%Y-%m-%d\")  # Get today's date\n",
    "\n",
    "# Iterate Over Each Stock to Apply SARIMA Model\n",
    "for stock in unique_stocks:\n",
    "    stock_data = df[df[\"Stock\"] == stock]\n",
    "    stock_data = stock_data.set_index(\"Date Fetched\")[\"Last Price ($)\"].dropna()\n",
    "    \n",
    "    # Check if there is enough data\n",
    "    if len(stock_data) < 10:\n",
    "        print(f\"Not enough data for {stock}, skipping...\")\n",
    "        continue\n",
    "    \n",
    "    # Fit SARIMA Model (Seasonal Order assumes weekly seasonality)\n",
    "    try:\n",
    "        model = SARIMAX(stock_data, order=(1,1,1), seasonal_order=(1,1,1,52), enforce_stationarity=False, enforce_invertibility=False)\n",
    "        results = model.fit(disp=False)\n",
    "        \n",
    "        # Forecast Today's Price\n",
    "        forecast = results.forecast(steps=1)\n",
    "        predicted_price = forecast.iloc[0]\n",
    "        predictions.append({\"Stock\": stock, \"Predicted Price ($)\": round(predicted_price, 2), \"Date Predicted\": today})\n",
    "        \n",
    "        print(f\" Predicted Price for {stock} on {today}: ${predicted_price:.2f}\")\n",
    "    except Exception as e:\n",
    "        print(f\" Error processing {stock}: {e}\")\n",
    "\n",
    "# Convert Predictions to DataFrame\n",
    "pred_df = pd.DataFrame(predictions)\n",
    "print(pred_df)\n",
    "\n",
    "# Save Predictions to CSV (Optional)\n",
    "pred_df.to_csv(\"stock_price_predictions.csv\", index=False)"
   ]
  },
  {
   "cell_type": "markdown",
   "metadata": {},
   "source": [
    "#### Arranging output in same order as stock universe"
   ]
  },
  {
   "cell_type": "code",
   "execution_count": 3,
   "metadata": {
    "execution": {
     "iopub.execute_input": "2025-04-06T13:43:33.971103Z",
     "iopub.status.busy": "2025-04-06T13:43:33.970966Z",
     "iopub.status.idle": "2025-04-06T13:43:33.976388Z",
     "shell.execute_reply": "2025-04-06T13:43:33.976011Z"
    }
   },
   "outputs": [
    {
     "name": "stdout",
     "output_type": "stream",
     "text": [
      " Data successfully saved in stock_price_predictions.csv in the correct sector and stock order.\n"
     ]
    }
   ],
   "source": [
    "# Define the stock order from us_stock_universe\n",
    "us_stock_universe = {\n",
    "    \"Technology\": [\"AAPL\", \"MSFT\", \"GOOGL\", \"NVDA\", \"META\"],\n",
    "    \"Banking & Financials\": [\"JPM\", \"BAC\", \"WFC\", \"C\", \"GS\"],\n",
    "    \"Consumer Goods\": [\"PG\", \"KO\", \"PEP\", \"MO\", \"MNST\"],\n",
    "    \"Pharma & Healthcare\": [\"JNJ\", \"PFE\", \"MRNA\", \"LLY\", \"UNH\"],\n",
    "    \"Energy\": [\"XOM\", \"CVX\", \"COP\", \"PSX\", \"SLB\"],\n",
    "    \"Automobile\": [\"TSLA\", \"F\", \"GM\", \"RIVN\", \"LCID\"],\n",
    "    \"Retail & E-commerce\": [\"AMZN\", \"WMT\", \"COST\", \"TGT\", \"HD\"],\n",
    "    \"Aerospace & Defense\": [\"BA\", \"LMT\", \"NOC\", \"GD\", \"RTX\"],\n",
    "    \"Telecom & Media\": [\"VZ\", \"T\", \"DIS\", \"NFLX\", \"CMCSA\"],\n",
    "    \"Semiconductors\": [\"AMD\", \"TSM\", \"INTC\", \"AVGO\", \"QCOM\"]\n",
    "}\n",
    "\n",
    "# Flatten the stock order list\n",
    "stock_order = [stock for sector in us_stock_universe.values() for stock in sector]\n",
    "\n",
    "# Load the CSV file\n",
    "df = pd.read_csv(\"stock_price_predictions.csv\")\n",
    "\n",
    "# Ensure the stock column is treated as a category with the correct order\n",
    "df[\"Stock\"] = pd.Categorical(df[\"Stock\"], categories=stock_order, ordered=True)\n",
    "\n",
    "# Sort the dataframe by the defined stock order\n",
    "df_sorted = df.sort_values(\"Stock\")\n",
    "\n",
    "# Save the sorted dataframe\n",
    "df_sorted.to_csv(\"stock_price_predictions.csv\", index=False)\n",
    "\n",
    "print(\" Data successfully saved in stock_price_predictions.csv in the correct sector and stock order.\")\n"
   ]
  },
  {
   "cell_type": "markdown",
   "metadata": {},
   "source": [
    "## Stock weight Assigning Model"
   ]
  },
  {
   "cell_type": "code",
   "execution_count": 4,
   "metadata": {
    "execution": {
     "iopub.execute_input": "2025-04-06T13:43:33.977740Z",
     "iopub.status.busy": "2025-04-06T13:43:33.977609Z",
     "iopub.status.idle": "2025-04-06T13:43:33.979939Z",
     "shell.execute_reply": "2025-04-06T13:43:33.979628Z"
    }
   },
   "outputs": [],
   "source": [
    "import csv\n",
    "import os"
   ]
  },
  {
   "cell_type": "code",
   "execution_count": 5,
   "metadata": {
    "execution": {
     "iopub.execute_input": "2025-04-06T13:43:33.981655Z",
     "iopub.status.busy": "2025-04-06T13:43:33.981524Z",
     "iopub.status.idle": "2025-04-06T13:43:33.988554Z",
     "shell.execute_reply": "2025-04-06T13:43:33.987928Z"
    }
   },
   "outputs": [],
   "source": [
    "training_data=pd.read_csv(\"training_data.csv\")"
   ]
  },
  {
   "cell_type": "code",
   "execution_count": 6,
   "metadata": {
    "execution": {
     "iopub.execute_input": "2025-04-06T13:43:33.990748Z",
     "iopub.status.busy": "2025-04-06T13:43:33.990587Z",
     "iopub.status.idle": "2025-04-06T13:43:33.993704Z",
     "shell.execute_reply": "2025-04-06T13:43:33.993371Z"
    }
   },
   "outputs": [],
   "source": [
    "def fetch_row(file_name, row_index):\n",
    "    with open(file_name, mode='r', newline='') as file:\n",
    "        reader = csv.reader(file)\n",
    "        next(reader)  # Skip the header row\n",
    "        for idx, row in enumerate(reader):\n",
    "            if idx == row_index:\n",
    "                return [float(x) if x.strip() else 0.0 for x in row[2:10]] \n",
    "    return None"
   ]
  },
  {
   "cell_type": "code",
   "execution_count": 7,
   "metadata": {
    "execution": {
     "iopub.execute_input": "2025-04-06T13:43:33.994895Z",
     "iopub.status.busy": "2025-04-06T13:43:33.994775Z",
     "iopub.status.idle": "2025-04-06T13:43:33.998014Z",
     "shell.execute_reply": "2025-04-06T13:43:33.997613Z"
    }
   },
   "outputs": [],
   "source": [
    "def Descent_w(x, y, num_rows, w, b, k):\n",
    "    if num_rows == 0:\n",
    "        return 0  # Avoid division by zero\n",
    "\n",
    "    dex_w = 0\n",
    "    nan_detected = False\n",
    "    nan_index = -1  # Store the first index where NaN occurs\n",
    "\n",
    "    for j in range(num_rows):\n",
    "        term = (np.dot(x[j], w) + b - y[j]) * x[j][k]\n",
    "        if np.isnan(term):\n",
    "            nan_detected = True\n",
    "            nan_index = j  # Store the index of the first NaN value\n",
    "        dex_w += term\n",
    "\n",
    "    dex_w /= num_rows  # Average gradient\n",
    "\n",
    "    # Debugging NaN values\n",
    "    if nan_detected:  # If any NaN was found inside sum\n",
    "        print(f\"⚠ NaN detected in Descent_w at index {k} (j={nan_index})!\")\n",
    "        print(f\"x[{nan_index}]: {x[nan_index]}, y[{nan_index}]: {y[nan_index]}, w: {w}, b: {b}\")\n",
    "        dex_w = 0.0  # Prevent NaN propagation\n",
    "    return dex_w\n"
   ]
  },
  {
   "cell_type": "code",
   "execution_count": 8,
   "metadata": {
    "execution": {
     "iopub.execute_input": "2025-04-06T13:43:33.999309Z",
     "iopub.status.busy": "2025-04-06T13:43:33.999185Z",
     "iopub.status.idle": "2025-04-06T13:43:34.002135Z",
     "shell.execute_reply": "2025-04-06T13:43:34.001681Z"
    }
   },
   "outputs": [],
   "source": [
    "def Descent_b(x, y, num_rows, w, b):\n",
    "    if num_rows == 0:\n",
    "        return 0  # Avoid division by zero\n",
    "\n",
    "    dex_b = sum(np.dot(x[j], w) + b - y[j] for j in range(num_rows))\n",
    "    dex_b /= num_rows  # Average gradient\n",
    "\n",
    "    # Debugging NaN values\n",
    "    if np.isnan(dex_b):\n",
    "        print(\"NaN detected in Descent_b!\")\n",
    "        dex_b = 0.0  # Prevent NaN propagation\n",
    "\n",
    "    return dex_b"
   ]
  },
  {
   "cell_type": "code",
   "execution_count": 9,
   "metadata": {
    "execution": {
     "iopub.execute_input": "2025-04-06T13:43:34.003510Z",
     "iopub.status.busy": "2025-04-06T13:43:34.003385Z",
     "iopub.status.idle": "2025-04-06T13:43:34.006171Z",
     "shell.execute_reply": "2025-04-06T13:43:34.005877Z"
    }
   },
   "outputs": [],
   "source": [
    "def Descent(x, y, num_rows, w, b):\n",
    "    if num_rows == 0:\n",
    "        return 0  # Avoid division by zero\n",
    "\n",
    "    dex = (sum(np.dot(x[j], w) + b - y[j] for j in range(num_rows)))**2\n",
    "    dex /= (num_rows*2)  # Average gradient\n",
    "\n",
    "    # Debugging NaN values\n",
    "    if np.isnan(dex):\n",
    "        print(\"NaN detected in Descent_b!\")\n",
    "        dex = 0.0  # Prevent NaN propagation\n",
    "\n",
    "    return dex"
   ]
  },
  {
   "cell_type": "code",
   "execution_count": 10,
   "metadata": {
    "execution": {
     "iopub.execute_input": "2025-04-06T13:43:34.007440Z",
     "iopub.status.busy": "2025-04-06T13:43:34.007318Z",
     "iopub.status.idle": "2025-04-06T13:46:39.536070Z",
     "shell.execute_reply": "2025-04-06T13:46:39.535314Z"
    }
   },
   "outputs": [
    {
     "name": "stderr",
     "output_type": "stream",
     "text": [
      "C:\\Users\\kshit\\AppData\\Local\\Temp\\ipykernel_8628\\3083087831.py:27: DeprecationWarning: Conversion of an array with ndim > 0 to a scalar is deprecated, and will error in future. Ensure you extract a single element from your array before performing this operation. (Deprecated NumPy 1.25.)\n",
      "  temp_w[j]=w[j]-learn_rate*des\n"
     ]
    },
    {
     "name": "stdout",
     "output_type": "stream",
     "text": [
      "descent = [3503450.84097371]\n",
      "descent = [3433801.46861561]\n",
      "descent = [3365604.52788211]\n",
      "descent = [3298828.31974031]\n",
      "descent = [3233441.86771136]\n"
     ]
    },
    {
     "name": "stdout",
     "output_type": "stream",
     "text": [
      "descent = [3169414.9007014]\n",
      "descent = [3106717.83625702]\n",
      "descent = [3045321.76423427]\n",
      "descent = [2985198.43087088]\n",
      "descent = [2926320.22325097]\n"
     ]
    },
    {
     "name": "stdout",
     "output_type": "stream",
     "text": [
      "descent = [2868660.15415251]\n",
      "descent = [2812191.84726756]\n",
      "descent = [2756889.52278588]\n",
      "descent = [2702727.98333247]\n",
      "descent = [2649682.60025021]\n"
     ]
    },
    {
     "name": "stdout",
     "output_type": "stream",
     "text": [
      "descent = [2597729.30021861]\n",
      "descent = [2546844.55220027]\n",
      "descent = [2497005.3547066]\n",
      "descent = [2448189.22337474]\n",
      "descent = [2400374.1788478]\n"
     ]
    },
    {
     "name": "stdout",
     "output_type": "stream",
     "text": [
      "descent = [2353538.73495064]\n",
      "descent = [2307661.88715378]\n",
      "descent = [2262723.10131818]\n",
      "descent = [2218702.30271362]\n",
      "descent = [2175579.86530393]\n"
     ]
    },
    {
     "name": "stdout",
     "output_type": "stream",
     "text": [
      "descent = [2133336.60129232]\n",
      "descent = [2091953.75092013]\n",
      "descent = [2051412.97251278]\n",
      "descent = [2011696.33276652]\n",
      "descent = [1972786.29727011]\n"
     ]
    },
    {
     "name": "stdout",
     "output_type": "stream",
     "text": [
      "descent = [1934665.72125537]\n",
      "descent = [1897317.84057098]\n",
      "descent = [1860726.26287383]\n",
      "descent = [1824874.95903255]\n",
      "descent = [1789748.25473787]\n"
     ]
    },
    {
     "name": "stdout",
     "output_type": "stream",
     "text": [
      "descent = [1755330.82231461]\n",
      "descent = [1721607.67273041]\n",
      "descent = [1688564.14779603]\n",
      "descent = [1656185.91255275]\n",
      "descent = [1624458.94784193]\n"
     ]
    },
    {
     "name": "stdout",
     "output_type": "stream",
     "text": [
      "descent = [1593369.54305242]\n",
      "descent = [1562904.28904128]\n",
      "descent = [1533050.07122349]\n",
      "descent = [1503794.06282655]\n",
      "descent = [1475123.71830583]\n"
     ]
    },
    {
     "name": "stdout",
     "output_type": "stream",
     "text": [
      "descent = [1447026.76691666]\n",
      "descent = [1419491.20643934]\n",
      "descent = [1392505.29705327]\n",
      "descent = [1366057.5553565]\n",
      "descent = [1340136.74852713]\n"
     ]
    },
    {
     "name": "stdout",
     "output_type": "stream",
     "text": [
      "descent = [1314731.88862308]\n",
      "descent = [1289832.22701677]\n",
      "descent = [1265427.24896145]\n",
      "descent = [1241506.66828594]\n",
      "descent = [1218060.42221455]\n"
     ]
    },
    {
     "name": "stdout",
     "output_type": "stream",
     "text": [
      "descent = [1195078.66630925]\n",
      "descent = [1172551.76953089]\n",
      "descent = [1150470.30941687]\n",
      "descent = [1128825.067372]\n",
      "descent = [1107607.02407015]\n"
     ]
    },
    {
     "name": "stdout",
     "output_type": "stream",
     "text": [
      "descent = [1086807.35496381]\n",
      "descent = [1066417.42589894]\n",
      "descent = [1046428.78883256]\n",
      "descent = [1026833.17765057]\n",
      "descent = [1007622.50408345]\n"
     ]
    },
    {
     "name": "stdout",
     "output_type": "stream",
     "text": [
      "descent = [988788.85371728]\n",
      "descent = [970324.48209793]\n",
      "descent = [952221.81092609]\n",
      "descent = [934473.42434095]\n",
      "descent = [917072.06529039]\n"
     ]
    },
    {
     "name": "stdout",
     "output_type": "stream",
     "text": [
      "descent = [900010.63198557]\n",
      "descent = [883282.17443791]\n",
      "descent = [866879.8910764]\n",
      "descent = [850797.12544348]\n",
      "descent = [835027.36296729]\n"
     ]
    },
    {
     "name": "stdout",
     "output_type": "stream",
     "text": [
      "descent = [819564.22780883]\n",
      "descent = [804401.47978186]\n",
      "descent = [789533.01134412]\n",
      "descent = [774952.84465785]\n"
     ]
    },
    {
     "name": "stdout",
     "output_type": "stream",
     "text": [
      "descent = [760655.12871824]\n",
      "descent = [746634.13654793]\n",
      "descent = [732884.2624562]\n",
      "descent = [719400.01936107]\n",
      "descent = [706176.03617304]\n"
     ]
    },
    {
     "name": "stdout",
     "output_type": "stream",
     "text": [
      "descent = [693207.05523884]\n",
      "descent = [680487.92984382]\n",
      "descent = [668013.62177153]\n",
      "descent = [655779.19891926]\n",
      "descent = [643779.83296801]\n"
     ]
    },
    {
     "name": "stdout",
     "output_type": "stream",
     "text": [
      "descent = [632010.7971058]\n",
      "descent = [620467.46380289]\n",
      "descent = [609145.30263775]\n",
      "descent = [598039.87817266]\n",
      "descent = [587146.84787753]\n"
     ]
    },
    {
     "name": "stdout",
     "output_type": "stream",
     "text": [
      "descent = [576461.96010112]\n",
      "descent = [565981.05208819]\n",
      "descent = [555700.04804182]\n",
      "descent = [545614.95722961]\n",
      "descent = [535721.87213281]\n"
     ]
    },
    {
     "name": "stdout",
     "output_type": "stream",
     "text": [
      "descent = [526016.9666374]\n",
      "descent = [516496.49426603]\n",
      "descent = [507156.78644999]\n",
      "descent = [497994.25084016]\n",
      "descent = [489005.36965611]\n"
     ]
    },
    {
     "name": "stdout",
     "output_type": "stream",
     "text": [
      "descent = [480186.69807234]\n",
      "descent = [471534.86264097]\n",
      "descent = [463046.55974982]\n",
      "descent = [454718.55411525]\n",
      "descent = [446547.67730874]\n"
     ]
    },
    {
     "name": "stdout",
     "output_type": "stream",
     "text": [
      "descent = [438530.82631667]\n",
      "descent = [430664.96213227]\n",
      "descent = [422947.10837918]\n",
      "descent = [415374.3499658]\n",
      "descent = [407943.83176972]\n"
     ]
    },
    {
     "name": "stdout",
     "output_type": "stream",
     "text": [
      "descent = [400652.75735155]\n",
      "descent = [393498.38769746]\n",
      "descent = [386478.03998976]\n",
      "descent = [379589.08640488]\n",
      "descent = [372828.95293806]\n"
     ]
    },
    {
     "name": "stdout",
     "output_type": "stream",
     "text": [
      "descent = [366195.1182543]\n",
      "descent = [359685.11256467]\n",
      "descent = [353296.51652774]\n",
      "descent = [347026.96017527]\n",
      "descent = [340874.12186172]\n"
     ]
    },
    {
     "name": "stdout",
     "output_type": "stream",
     "text": [
      "descent = [334835.72723711]\n",
      "descent = [328909.54824245]\n",
      "descent = [323093.40212754]\n",
      "descent = [317385.15049031]\n",
      "descent = [311782.69833749]\n"
     ]
    },
    {
     "name": "stdout",
     "output_type": "stream",
     "text": [
      "descent = [306283.9931659]\n",
      "descent = [300887.02406398]\n",
      "descent = [295589.82083318]\n",
      "descent = [290390.45312851]\n",
      "descent = [285287.02961816]\n"
     ]
    },
    {
     "name": "stdout",
     "output_type": "stream",
     "text": [
      "descent = [280277.69716139]\n",
      "descent = [275360.64000457]\n",
      "descent = [270534.07899477]\n",
      "descent = [265796.2708106]\n",
      "descent = [261145.50720985]\n"
     ]
    },
    {
     "name": "stdout",
     "output_type": "stream",
     "text": [
      "descent = [256580.11429359]\n",
      "descent = [252098.4517863]\n",
      "descent = [247698.91233179]\n",
      "descent = [243379.92080432]\n",
      "descent = [239139.9336349]\n"
     ]
    },
    {
     "name": "stdout",
     "output_type": "stream",
     "text": [
      "descent = [234977.43815208]\n",
      "descent = [230890.9519372]\n",
      "descent = [226879.02219355]\n",
      "descent = [222940.2251293]\n",
      "descent = [219073.16535374]\n"
     ]
    },
    {
     "name": "stdout",
     "output_type": "stream",
     "text": [
      "descent = [215276.47528662]\n",
      "descent = [211548.81458033]\n",
      "descent = [207888.86955449]\n",
      "descent = [204295.3526428]\n",
      "descent = [200767.00185182]\n"
     ]
    },
    {
     "name": "stdout",
     "output_type": "stream",
     "text": [
      "descent = [197302.58023148]\n",
      "descent = [193900.87535689]\n",
      "descent = [190560.69882141]\n",
      "descent = [187280.88574058]\n",
      "descent = [184060.2942667]\n"
     ]
    },
    {
     "name": "stdout",
     "output_type": "stream",
     "text": [
      "descent = [180897.80511389]\n",
      "descent = [177792.32109328]\n",
      "descent = [174742.76665821]\n",
      "descent = [171748.08745914]\n",
      "descent = [168807.24990811]\n"
     ]
    },
    {
     "name": "stdout",
     "output_type": "stream",
     "text": [
      "descent = [165919.24075252]\n",
      "descent = [163083.06665799]\n",
      "descent = [160297.75380011]\n",
      "descent = [157562.34746501]\n",
      "descent = [154875.91165825]\n"
     ]
    },
    {
     "name": "stdout",
     "output_type": "stream",
     "text": [
      "descent = [152237.52872225]\n",
      "descent = [149646.29896169]\n",
      "descent = [147101.34027698]\n",
      "descent = [144601.78780544]\n",
      "descent = [142146.79357017]\n"
     ]
    },
    {
     "name": "stdout",
     "output_type": "stream",
     "text": [
      "descent = [139735.52613631]\n",
      "descent = [137367.17027459]\n",
      "descent = [135040.92663202]\n",
      "descent = [132756.01140953]\n",
      "descent = [130511.65604644]\n"
     ]
    },
    {
     "name": "stdout",
     "output_type": "stream",
     "text": [
      "descent = [128307.10691158]\n",
      "descent = [126141.62500091]\n",
      "descent = [124014.48564153]\n",
      "descent = [121924.97820196]\n",
      "descent = [119872.40580844]\n"
     ]
    },
    {
     "name": "stdout",
     "output_type": "stream",
     "text": [
      "descent = [117856.08506725]\n",
      "descent = [115875.34579286]\n",
      "descent = [113929.53074175]\n",
      "descent = [112017.99535188]\n",
      "descent = [110140.10748752]\n"
     ]
    },
    {
     "name": "stdout",
     "output_type": "stream",
     "text": [
      "descent = [108295.24718955]\n",
      "descent = [106482.80643086]\n",
      "descent = [104702.18887691]\n",
      "descent = [102952.80965136]\n",
      "descent = [101234.09510645]\n"
     ]
    },
    {
     "name": "stdout",
     "output_type": "stream",
     "text": [
      "descent = [99545.48259833]\n",
      "descent = [97886.4202669]\n",
      "descent = [96256.36682038]\n",
      "descent = [94654.79132428]\n",
      "descent = [93081.17299476]\n"
     ]
    },
    {
     "name": "stdout",
     "output_type": "stream",
     "text": [
      "descent = [91535.00099633]\n",
      "descent = [90015.77424368]\n",
      "descent = [88523.00120767]\n",
      "descent = [87056.19972532]\n",
      "descent = [85614.8968137]\n"
     ]
    },
    {
     "name": "stdout",
     "output_type": "stream",
     "text": [
      "descent = [84198.62848775]\n",
      "descent = [82806.93958177]\n",
      "descent = [81439.38357466]\n",
      "descent = [80095.52241875]\n",
      "descent = [78774.92637211]\n"
     ]
    },
    {
     "name": "stdout",
     "output_type": "stream",
     "text": [
      "descent = [77477.17383442]\n",
      "descent = [76201.8511861]\n",
      "descent = [74948.55263081]\n",
      "descent = [73716.88004117]\n",
      "descent = [72506.44280769]\n"
     ]
    },
    {
     "name": "stdout",
     "output_type": "stream",
     "text": [
      "descent = [71316.85769069]\n",
      "descent = [70147.74867539]\n",
      "descent = [68998.74682985]\n",
      "descent = [67869.4901659]\n",
      "descent = [66759.62350286]\n"
     ]
    },
    {
     "name": "stdout",
     "output_type": "stream",
     "text": [
      "descent = [65668.79833406]\n",
      "descent = [64596.67269611]\n",
      "descent = [63542.9110408]\n",
      "descent = [62507.1841096]\n",
      "descent = [61489.16881076]\n"
     ]
    },
    {
     "name": "stdout",
     "output_type": "stream",
     "text": [
      "descent = [60488.54809891]\n",
      "descent = [59505.01085702]\n",
      "descent = [58538.25178088]\n",
      "descent = [57587.97126584]\n",
      "descent = [56653.87529588]\n"
     ]
    },
    {
     "name": "stdout",
     "output_type": "stream",
     "text": [
      "descent = [55735.67533491]\n",
      "descent = [54833.08822029]\n",
      "descent = [53945.83605849]\n",
      "descent = [53073.64612285]\n",
      "descent = [52216.25075343]\n"
     ]
    },
    {
     "name": "stdout",
     "output_type": "stream",
     "text": [
      "descent = [51373.38725887]\n",
      "descent = [50544.79782022]\n",
      "descent = [49730.2293967]\n",
      "descent = [48929.4336334]\n",
      "descent = [48142.16677078]\n"
     ]
    },
    {
     "name": "stdout",
     "output_type": "stream",
     "text": [
      "descent = [47368.18955602]\n",
      "descent = [46607.26715615]\n",
      "descent = [45859.16907293]\n",
      "descent = [45123.66905941]\n",
      "descent = [44400.54503816]\n"
     ]
    },
    {
     "name": "stdout",
     "output_type": "stream",
     "text": [
      "descent = [43689.57902118]\n",
      "descent = [42990.55703139]\n",
      "descent = [42303.26902565]\n",
      "descent = [41627.50881938]\n",
      "descent = [40963.07401263]\n"
     ]
    },
    {
     "name": "stdout",
     "output_type": "stream",
     "text": [
      "descent = [40309.76591768]\n",
      "descent = [39667.38948801]\n",
      "descent = [39035.75324878]\n",
      "descent = [38414.66922856]\n",
      "descent = [37803.95289257]\n"
     ]
    },
    {
     "name": "stdout",
     "output_type": "stream",
     "text": [
      "descent = [37203.42307713]\n",
      "descent = [36612.90192545]\n",
      "descent = [36032.2148247]\n",
      "descent = [35461.19034431]\n",
      "descent = [34899.66017553]\n"
     ]
    },
    {
     "name": "stdout",
     "output_type": "stream",
     "text": [
      "descent = [34347.45907211]\n",
      "descent = [33804.42479225]\n",
      "descent = [33270.39804159]\n",
      "descent = [32745.22241743]\n",
      "descent = [32228.74435397]\n"
     ]
    },
    {
     "name": "stdout",
     "output_type": "stream",
     "text": [
      "descent = [31720.81306865]\n",
      "descent = [31221.28050958]\n",
      "descent = [30730.00130398]\n",
      "descent = [30246.8327076]\n",
      "descent = [29771.63455519]\n"
     ]
    },
    {
     "name": "stdout",
     "output_type": "stream",
     "text": [
      "descent = [29304.26921192]\n",
      "descent = [28844.60152573]\n",
      "descent = [28392.49878064]\n",
      "descent = [27947.83065098]\n",
      "descent = [27510.46915649]\n"
     ]
    },
    {
     "name": "stdout",
     "output_type": "stream",
     "text": [
      "descent = [27080.2886183]\n",
      "descent = [26657.16561582]\n",
      "descent = [26240.97894439]\n",
      "descent = [25831.60957379]\n",
      "descent = [25428.94060761]\n"
     ]
    },
    {
     "name": "stdout",
     "output_type": "stream",
     "text": [
      "descent = [25032.85724335]\n",
      "descent = [24643.24673328]\n",
      "descent = [24259.99834612]\n",
      "descent = [23883.00332946]\n",
      "descent = [23512.15487285]\n"
     ]
    },
    {
     "name": "stdout",
     "output_type": "stream",
     "text": [
      "descent = [23147.34807164]\n",
      "descent = [22788.47989157]\n",
      "descent = [22435.44913396]\n",
      "descent = [22088.1564016]\n",
      "descent = [21746.50406538]\n"
     ]
    },
    {
     "name": "stdout",
     "output_type": "stream",
     "text": [
      "descent = [21410.39623141]\n",
      "descent = [21079.73870894]\n",
      "descent = [20754.43897876]\n",
      "descent = [20434.40616232]\n",
      "descent = [20119.55099134]\n"
     ]
    },
    {
     "name": "stdout",
     "output_type": "stream",
     "text": [
      "descent = [19809.78577812]\n",
      "descent = [19505.02438633]\n",
      "descent = [19205.18220237]\n",
      "descent = [18910.17610734]\n",
      "descent = [18619.9244495]\n"
     ]
    },
    {
     "name": "stdout",
     "output_type": "stream",
     "text": [
      "descent = [18334.34701725]\n",
      "descent = [18053.36501267]\n",
      "descent = [17776.90102551]\n",
      "descent = [17504.87900775]\n",
      "descent = [17237.22424856]\n"
     ]
    },
    {
     "name": "stdout",
     "output_type": "stream",
     "text": [
      "descent = [16973.86334983]\n",
      "descent = [16714.72420208]\n",
      "descent = [16459.7359609]\n",
      "descent = [16208.82902378]\n",
      "descent = [15961.93500745]\n"
     ]
    },
    {
     "name": "stdout",
     "output_type": "stream",
     "text": [
      "descent = [15718.98672556]\n",
      "descent = [15479.91816689]\n",
      "descent = [15244.66447387]\n",
      "descent = [15013.16192159]\n",
      "descent = [14785.34789717]\n"
     ]
    },
    {
     "name": "stdout",
     "output_type": "stream",
     "text": [
      "descent = [14561.16087951]\n",
      "descent = [14340.54041945]\n",
      "descent = [14123.42712031]\n",
      "descent = [13909.76261875]\n",
      "descent = [13699.48956607]\n"
     ]
    },
    {
     "name": "stdout",
     "output_type": "stream",
     "text": [
      "descent = [13492.55160977]\n",
      "descent = [13288.89337553]\n",
      "descent = [13088.46044952]\n",
      "descent = [12891.19936099]\n",
      "descent = [12697.05756527]\n"
     ]
    },
    {
     "name": "stdout",
     "output_type": "stream",
     "text": [
      "descent = [12505.98342702]\n",
      "descent = [12317.92620383]\n",
      "descent = [12132.8360301]\n",
      "descent = [11950.66390127]\n",
      "descent = [11771.36165833]\n"
     ]
    },
    {
     "name": "stdout",
     "output_type": "stream",
     "text": [
      "descent = [11594.88197253]\n",
      "descent = [11421.17833057]\n",
      "descent = [11250.20501984]\n",
      "descent = [11081.91711413]\n",
      "descent = [10916.27045947]\n"
     ]
    },
    {
     "name": "stdout",
     "output_type": "stream",
     "text": [
      "descent = [10753.22166032]\n",
      "descent = [10592.72806599]\n",
      "descent = [10434.74775726]\n",
      "descent = [10279.23953338]\n",
      "descent = [10126.16289916]\n"
     ]
    },
    {
     "name": "stdout",
     "output_type": "stream",
     "text": [
      "descent = [9975.47805239]\n",
      "descent = [9827.14587151]\n",
      "descent = [9681.12790341]\n",
      "descent = [9537.38635159]\n",
      "descent = [9395.88406441]\n"
     ]
    },
    {
     "name": "stdout",
     "output_type": "stream",
     "text": [
      "descent = [9256.58452366]\n",
      "descent = [9119.45183327]\n",
      "descent = [8984.45070827]\n",
      "descent = [8851.54646397]\n",
      "descent = [8720.70500524]\n"
     ]
    },
    {
     "name": "stdout",
     "output_type": "stream",
     "text": [
      "descent = [8591.89281613]\n",
      "descent = [8465.0769496]\n",
      "descent = [8340.22501741]\n",
      "descent = [8217.30518028]\n",
      "descent = [8096.28613817]\n"
     ]
    },
    {
     "name": "stdout",
     "output_type": "stream",
     "text": [
      "descent = [7977.13712076]\n",
      "descent = [7859.8278781]\n",
      "descent = [7744.32867143]\n",
      "descent = [7630.6102642]\n",
      "descent = [7518.64391319]\n"
     ]
    },
    {
     "name": "stdout",
     "output_type": "stream",
     "text": [
      "descent = [7408.40135984]\n",
      "descent = [7299.85482175]\n",
      "descent = [7192.97698429]\n",
      "descent = [7087.74099239]\n",
      "descent = [6984.1204425]\n"
     ]
    },
    {
     "name": "stdout",
     "output_type": "stream",
     "text": [
      "descent = [6882.08937464]\n",
      "descent = [6781.62226466]\n",
      "descent = [6682.6940166]\n",
      "descent = [6585.27995518]\n",
      "descent = [6489.35581849]\n"
     ]
    },
    {
     "name": "stdout",
     "output_type": "stream",
     "text": [
      "descent = [6394.89775073]\n",
      "descent = [6301.88229514]\n",
      "descent = [6210.28638704]\n",
      "descent = [6120.08734698]\n",
      "descent = [6031.26287406]\n"
     ]
    },
    {
     "name": "stdout",
     "output_type": "stream",
     "text": [
      "descent = [5943.79103932]\n",
      "descent = [5857.65027926]\n",
      "descent = [5772.81938954]\n",
      "descent = [5689.27751868]\n",
      "descent = [5607.00416198]\n"
     ]
    },
    {
     "name": "stdout",
     "output_type": "stream",
     "text": [
      "descent = [5525.97915549]\n",
      "descent = [5446.1826701]\n",
      "descent = [5367.59520576]\n",
      "descent = [5290.19758577]\n",
      "descent = [5213.97095119]\n"
     ]
    },
    {
     "name": "stdout",
     "output_type": "stream",
     "text": [
      "descent = [5138.89675537]\n",
      "descent = [5064.95675852]\n",
      "descent = [4992.13302246]\n",
      "descent = [4920.40790539]\n",
      "descent = [4849.76405679]\n"
     ]
    },
    {
     "name": "stdout",
     "output_type": "stream",
     "text": [
      "descent = [4780.1844124]\n",
      "descent = [4711.65218932]\n",
      "descent = [4644.15088113]\n",
      "descent = [4577.66425319]\n",
      "descent = [4512.17633793]\n"
     ]
    },
    {
     "name": "stdout",
     "output_type": "stream",
     "text": [
      "descent = [4447.67143031]\n",
      "descent = [4384.13408328]\n",
      "descent = [4321.54910337]\n",
      "descent = [4259.90154639]\n",
      "descent = [4199.1767131]\n"
     ]
    },
    {
     "name": "stdout",
     "output_type": "stream",
     "text": [
      "descent = [4139.36014507]\n",
      "descent = [4080.43762056]\n",
      "descent = [4022.39515045]\n",
      "descent = [3965.21897432]\n",
      "descent = [3908.89555651]\n"
     ]
    },
    {
     "name": "stdout",
     "output_type": "stream",
     "text": [
      "descent = [3853.41158232]\n",
      "descent = [3798.75395422]\n",
      "descent = [3744.90978819]\n",
      "descent = [3691.86641007]\n",
      "descent = [3639.61135199]\n"
     ]
    },
    {
     "name": "stdout",
     "output_type": "stream",
     "text": [
      "descent = [3588.13234888]\n",
      "descent = [3537.41733505]\n",
      "descent = [3487.45444076]\n",
      "descent = [3438.23198895]\n",
      "descent = [3389.73849195]\n"
     ]
    },
    {
     "name": "stdout",
     "output_type": "stream",
     "text": [
      "descent = [3341.96264829]\n",
      "descent = [3294.89333956]\n",
      "descent = [3248.51962728]\n",
      "descent = [3202.83074992]\n",
      "descent = [3157.81611987]\n"
     ]
    },
    {
     "name": "stdout",
     "output_type": "stream",
     "text": [
      "descent = [3113.46532053]\n",
      "descent = [3069.76810343]\n",
      "descent = [3026.71438538]\n",
      "descent = [2984.29424572]\n",
      "descent = [2942.49792357]\n"
     ]
    },
    {
     "name": "stdout",
     "output_type": "stream",
     "text": [
      "descent = [2901.31581516]\n",
      "descent = [2860.73847116]\n",
      "descent = [2820.75659414]\n",
      "descent = [2781.36103599]\n",
      "descent = [2742.54279542]\n"
     ]
    },
    {
     "name": "stdout",
     "output_type": "stream",
     "text": [
      "descent = [2704.29301551]\n",
      "descent = [2666.60298131]\n",
      "descent = [2629.46411743]\n",
      "descent = [2592.86798576]\n",
      "descent = [2556.80628313]\n"
     ]
    },
    {
     "name": "stdout",
     "output_type": "stream",
     "text": [
      "descent = [2521.27083909]\n",
      "descent = [2486.25361368]\n",
      "descent = [2451.74669527]\n",
      "descent = [2417.74229842]\n",
      "descent = [2384.23276179]\n"
     ]
    },
    {
     "name": "stdout",
     "output_type": "stream",
     "text": [
      "descent = [2351.21054604]\n",
      "descent = [2318.66823187]\n",
      "descent = [2286.59851795]\n",
      "descent = [2254.99421904]\n",
      "descent = [2223.848264]\n"
     ]
    },
    {
     "name": "stdout",
     "output_type": "stream",
     "text": [
      "descent = [2193.15369394]\n",
      "descent = [2162.90366035]\n",
      "descent = [2133.09142327]\n",
      "descent = [2103.71034952]\n",
      "descent = [2074.7539109]\n"
     ]
    },
    {
     "name": "stdout",
     "output_type": "stream",
     "text": [
      "descent = [2046.21568247]\n",
      "descent = [2018.08934087]\n",
      "descent = [1990.3686626]\n",
      "descent = [1963.04752244]\n",
      "descent = [1936.11989175]\n"
     ]
    },
    {
     "name": "stdout",
     "output_type": "stream",
     "text": [
      "descent = [1909.57983697]\n",
      "descent = [1883.42151797]\n",
      "descent = [1857.63918659]\n",
      "descent = [1832.22718509]\n",
      "descent = [1807.17994466]\n"
     ]
    },
    {
     "name": "stdout",
     "output_type": "stream",
     "text": [
      "descent = [1782.491984]\n",
      "descent = [1758.15790785]\n",
      "descent = [1734.17240558]\n",
      "descent = [1710.53024986]\n",
      "descent = [1687.22629522]\n"
     ]
    },
    {
     "name": "stdout",
     "output_type": "stream",
     "text": [
      "descent = [1664.25547677]\n",
      "descent = [1641.61280887]\n",
      "descent = [1619.29338381]\n",
      "descent = [1597.29237059]\n",
      "descent = [1575.60501362]\n"
     ]
    },
    {
     "name": "stdout",
     "output_type": "stream",
     "text": [
      "descent = [1554.22663153]\n",
      "descent = [1533.15261593]\n",
      "descent = [1512.37843026]\n",
      "descent = [1491.89960859]\n",
      "descent = [1471.71175448]\n"
     ]
    },
    {
     "name": "stdout",
     "output_type": "stream",
     "text": [
      "descent = [1451.81053987]\n",
      "descent = [1432.19170396]\n",
      "descent = [1412.85105212]\n",
      "descent = [1393.78445481]\n",
      "descent = [1374.98784653]\n"
     ]
    },
    {
     "name": "stdout",
     "output_type": "stream",
     "text": [
      "descent = [1356.4572248]\n",
      "descent = [1338.18864914]\n",
      "descent = [1320.17824004]\n",
      "descent = [1302.42217799]\n",
      "descent = [1284.91670255]\n"
     ]
    },
    {
     "name": "stdout",
     "output_type": "stream",
     "text": [
      "descent = [1267.65811133]\n",
      "descent = [1250.64275911]\n",
      "descent = [1233.8670569]\n",
      "descent = [1217.32747102]\n",
      "descent = [1201.02052225]\n"
     ]
    },
    {
     "name": "stdout",
     "output_type": "stream",
     "text": [
      "descent = [1184.9427849]\n",
      "descent = [1169.09088602]\n",
      "descent = [1153.46150448]\n",
      "descent = [1138.05137021]\n",
      "descent = [1122.85726331]\n"
     ]
    },
    {
     "name": "stdout",
     "output_type": "stream",
     "text": [
      "descent = [1107.87601332]\n",
      "descent = [1093.10449838]\n",
      "descent = [1078.53964444]\n",
      "descent = [1064.17842457]\n",
      "descent = [1050.01785812]\n"
     ]
    },
    {
     "name": "stdout",
     "output_type": "stream",
     "text": [
      "descent = [1036.05501004]\n",
      "descent = [1022.28699013]\n",
      "descent = [1008.71095232]\n",
      "descent = [995.324094]\n",
      "descent = [982.12365529]\n"
     ]
    },
    {
     "name": "stdout",
     "output_type": "stream",
     "text": [
      "descent = [969.10691837]\n",
      "descent = [956.27120682]\n",
      "descent = [943.61388497]\n",
      "descent = [931.13235722]\n",
      "descent = [918.82406746]\n"
     ]
    },
    {
     "name": "stdout",
     "output_type": "stream",
     "text": [
      "descent = [906.68649837]\n",
      "descent = [894.71717088]\n",
      "descent = [882.91364353]\n",
      "descent = [871.27351184]\n",
      "descent = [859.7944078]\n"
     ]
    },
    {
     "name": "stdout",
     "output_type": "stream",
     "text": [
      "descent = [848.47399923]\n",
      "descent = [837.30998927]\n",
      "descent = [826.30011575]\n",
      "descent = [815.44215071]\n",
      "descent = [804.73389984]\n"
     ]
    },
    {
     "name": "stdout",
     "output_type": "stream",
     "text": [
      "descent = [794.17320193]\n",
      "descent = [783.75792838]\n",
      "descent = [773.48598265]\n",
      "descent = [763.35529981]\n",
      "descent = [753.36384599]\n"
     ]
    },
    {
     "name": "stdout",
     "output_type": "stream",
     "text": [
      "descent = [743.5096179]\n",
      "descent = [733.79064241]\n",
      "descent = [724.20497599]\n",
      "descent = [714.7507043]\n",
      "descent = [705.42594173]\n"
     ]
    },
    {
     "name": "stdout",
     "output_type": "stream",
     "text": [
      "descent = [696.22883093]\n",
      "descent = [687.15754239]\n",
      "descent = [678.21027399]\n",
      "descent = [669.38525057]\n",
      "descent = [660.68072352]\n"
     ]
    },
    {
     "name": "stdout",
     "output_type": "stream",
     "text": [
      "descent = [652.09497038]\n",
      "descent = [643.62629439]\n",
      "descent = [635.27302412]\n",
      "descent = [627.03351307]\n",
      "descent = [618.90613931]\n"
     ]
    },
    {
     "name": "stdout",
     "output_type": "stream",
     "text": [
      "descent = [610.88930502]\n",
      "descent = [602.98143622]\n",
      "descent = [595.18098229]\n",
      "descent = [587.48641572]\n",
      "descent = [579.89623165]\n"
     ]
    },
    {
     "name": "stdout",
     "output_type": "stream",
     "text": [
      "descent = [572.40894759]\n",
      "descent = [565.02310304]\n",
      "descent = [557.73725916]\n",
      "descent = [550.54999843]\n",
      "descent = [543.45992432]\n"
     ]
    },
    {
     "name": "stdout",
     "output_type": "stream",
     "text": [
      "descent = [536.46566097]\n",
      "descent = [529.56585289]\n",
      "descent = [522.75916459]\n",
      "descent = [516.04428034]\n",
      "descent = [509.41990382]\n"
     ]
    },
    {
     "name": "stdout",
     "output_type": "stream",
     "text": [
      "descent = [502.88475783]\n",
      "descent = [496.437584]\n",
      "descent = [490.07714251]\n",
      "descent = [483.8022118]\n",
      "descent = [477.61158827]\n"
     ]
    },
    {
     "name": "stdout",
     "output_type": "stream",
     "text": [
      "descent = [471.50408603]\n",
      "descent = [465.4785366]\n",
      "descent = [459.5337887]\n",
      "descent = [453.66870791]\n",
      "descent = [447.88217646]\n"
     ]
    },
    {
     "name": "stdout",
     "output_type": "stream",
     "text": [
      "descent = [442.17309298]\n",
      "descent = [436.54037222]\n",
      "descent = [430.98294483]\n",
      "descent = [425.49975708]\n",
      "descent = [420.08977068]\n"
     ]
    },
    {
     "name": "stdout",
     "output_type": "stream",
     "text": [
      "descent = [414.75196249]\n",
      "descent = [409.48532432]\n",
      "descent = [404.28886269]\n",
      "descent = [399.16159861]\n",
      "descent = [394.10256736]\n"
     ]
    },
    {
     "name": "stdout",
     "output_type": "stream",
     "text": [
      "descent = [389.11081827]\n",
      "descent = [384.18541451]\n",
      "descent = [379.32543289]\n",
      "descent = [374.52996361]\n",
      "descent = [369.79811013]\n"
     ]
    },
    {
     "name": "stdout",
     "output_type": "stream",
     "text": [
      "descent = [365.12898889]\n",
      "descent = [360.52172917]\n",
      "descent = [355.97547289]\n",
      "descent = [351.48937438]\n",
      "descent = [347.06260022]\n"
     ]
    },
    {
     "name": "stdout",
     "output_type": "stream",
     "text": [
      "descent = [342.69432908]\n",
      "descent = [338.38375149]\n",
      "descent = [334.13006967]\n",
      "descent = [329.9324974]\n",
      "descent = [325.79025978]\n"
     ]
    },
    {
     "name": "stdout",
     "output_type": "stream",
     "text": [
      "descent = [321.7025931]\n",
      "descent = [317.66874468]\n",
      "descent = [313.68797266]\n",
      "descent = [309.75954588]\n",
      "descent = [305.8827437]\n"
     ]
    },
    {
     "name": "stdout",
     "output_type": "stream",
     "text": [
      "descent = [302.05685584]\n",
      "descent = [298.28118225]\n",
      "descent = [294.55503291]\n",
      "descent = [290.87772772]\n",
      "descent = [287.24859634]\n"
     ]
    },
    {
     "name": "stdout",
     "output_type": "stream",
     "text": [
      "descent = [283.66697804]\n",
      "descent = [280.13222156]\n",
      "descent = [276.64368495]\n",
      "descent = [273.20073548]\n",
      "descent = [269.80274944]\n"
     ]
    },
    {
     "name": "stdout",
     "output_type": "stream",
     "text": [
      "descent = [266.44911205]\n",
      "descent = [263.13921732]\n",
      "descent = [259.87246789]\n",
      "descent = [256.64827493]\n"
     ]
    },
    {
     "name": "stdout",
     "output_type": "stream",
     "text": [
      "descent = [253.46605803]\n",
      "descent = [250.32524501]\n",
      "descent = [247.22527187]\n",
      "descent = [244.16558264]\n",
      "descent = [241.14562922]\n"
     ]
    },
    {
     "name": "stdout",
     "output_type": "stream",
     "text": [
      "descent = [238.16487135]\n",
      "descent = [235.2227764]\n",
      "descent = [232.31881934]\n",
      "descent = [229.45248257]\n",
      "descent = [226.62325583]\n"
     ]
    },
    {
     "name": "stdout",
     "output_type": "stream",
     "text": [
      "descent = [223.83063609]\n",
      "descent = [221.07412746]\n",
      "descent = [218.35324104]\n",
      "descent = [215.66749487]\n",
      "descent = [213.01641379]\n"
     ]
    },
    {
     "name": "stdout",
     "output_type": "stream",
     "text": [
      "descent = [210.39952937]\n",
      "descent = [207.81637977]\n",
      "descent = [205.26650968]\n",
      "descent = [202.74947021]\n",
      "descent = [200.2648188]\n"
     ]
    },
    {
     "name": "stdout",
     "output_type": "stream",
     "text": [
      "descent = [197.81211911]\n",
      "descent = [195.39094095]\n",
      "descent = [193.00086018]\n",
      "descent = [190.64145864]\n",
      "descent = [188.31232401]\n"
     ]
    },
    {
     "name": "stdout",
     "output_type": "stream",
     "text": [
      "descent = [186.01304979]\n",
      "descent = [183.74323517]\n",
      "descent = [181.50248497]\n",
      "descent = [179.29040953]\n",
      "descent = [177.10662467]\n"
     ]
    },
    {
     "name": "stdout",
     "output_type": "stream",
     "text": [
      "descent = [174.95075158]\n",
      "descent = [172.82241675]\n",
      "descent = [170.72125188]\n",
      "descent = [168.64689384]\n",
      "descent = [166.59898455]\n"
     ]
    },
    {
     "name": "stdout",
     "output_type": "stream",
     "text": [
      "descent = [164.57717093]\n",
      "descent = [162.58110485]\n",
      "descent = [160.610443]\n",
      "descent = [158.66484686]\n",
      "descent = [156.74398264]\n"
     ]
    },
    {
     "name": "stdout",
     "output_type": "stream",
     "text": [
      "descent = [154.84752118]\n",
      "descent = [152.9751379]\n",
      "descent = [151.12651272]\n",
      "descent = [149.30133003]\n",
      "descent = [147.49927859]\n"
     ]
    },
    {
     "name": "stdout",
     "output_type": "stream",
     "text": [
      "descent = [145.72005146]\n",
      "descent = [143.96334597]\n",
      "descent = [142.22886366]\n",
      "descent = [140.51631017]\n",
      "descent = [138.82539524]\n"
     ]
    },
    {
     "name": "stdout",
     "output_type": "stream",
     "text": [
      "descent = [137.15583261]\n",
      "descent = [135.50733998]\n",
      "descent = [133.87963896]\n",
      "descent = [132.27245497]\n",
      "descent = [130.68551727]\n"
     ]
    },
    {
     "name": "stdout",
     "output_type": "stream",
     "text": [
      "descent = [129.1185588]\n",
      "descent = [127.57131623]\n",
      "descent = [126.04352981]\n",
      "descent = [124.5349434]\n",
      "descent = [123.04530437]\n"
     ]
    },
    {
     "name": "stdout",
     "output_type": "stream",
     "text": [
      "descent = [121.57436356]\n",
      "descent = [120.12187524]\n",
      "descent = [118.68759705]\n",
      "descent = [117.27128995]\n",
      "descent = [115.8727182]\n"
     ]
    },
    {
     "name": "stdout",
     "output_type": "stream",
     "text": [
      "descent = [114.49164927]\n",
      "descent = [113.12785383]\n",
      "descent = [111.78110566]\n",
      "descent = [110.45118168]\n",
      "descent = [109.13786182]\n"
     ]
    },
    {
     "name": "stdout",
     "output_type": "stream",
     "text": [
      "descent = [107.84092905]\n",
      "descent = [106.56016928]\n",
      "descent = [105.29537135]\n",
      "descent = [104.04632699]\n",
      "descent = [102.81283075]\n"
     ]
    },
    {
     "name": "stdout",
     "output_type": "stream",
     "text": [
      "descent = [101.59468]\n",
      "descent = [100.39167486]\n",
      "descent = [99.20361816]\n",
      "descent = [98.03031543]\n",
      "descent = [96.87157484]\n"
     ]
    },
    {
     "name": "stdout",
     "output_type": "stream",
     "text": [
      "descent = [95.72720715]\n",
      "descent = [94.59702571]\n",
      "descent = [93.48084638]\n",
      "descent = [92.37848755]\n",
      "descent = [91.28977004]\n"
     ]
    },
    {
     "name": "stdout",
     "output_type": "stream",
     "text": [
      "descent = [90.21451711]\n",
      "descent = [89.15255441]\n",
      "descent = [88.10370996]\n",
      "descent = [87.06781408]\n",
      "descent = [86.04469941]\n"
     ]
    },
    {
     "name": "stdout",
     "output_type": "stream",
     "text": [
      "descent = [85.03420084]\n",
      "descent = [84.03615548]\n",
      "descent = [83.05040266]\n",
      "descent = [82.07678384]\n",
      "descent = [81.11514265]\n"
     ]
    },
    {
     "name": "stdout",
     "output_type": "stream",
     "text": [
      "descent = [80.16532481]\n",
      "descent = [79.22717812]\n",
      "descent = [78.30055243]\n",
      "descent = [77.3852996]\n",
      "descent = [76.48127348]\n"
     ]
    },
    {
     "name": "stdout",
     "output_type": "stream",
     "text": [
      "descent = [75.58832989]\n",
      "descent = [74.70632659]\n",
      "descent = [73.83512324]\n",
      "descent = [72.97458136]\n",
      "descent = [72.12456437]\n"
     ]
    },
    {
     "name": "stdout",
     "output_type": "stream",
     "text": [
      "descent = [71.28493748]\n",
      "descent = [70.45556772]\n",
      "descent = [69.6363239]\n",
      "descent = [68.82707657]\n",
      "descent = [68.02769802]\n"
     ]
    },
    {
     "name": "stdout",
     "output_type": "stream",
     "text": [
      "descent = [67.23806225]\n",
      "descent = [66.45804492]\n",
      "descent = [65.68752338]\n",
      "descent = [64.92637658]\n",
      "descent = [64.1744851]\n"
     ]
    },
    {
     "name": "stdout",
     "output_type": "stream",
     "text": [
      "descent = [63.43173111]\n",
      "descent = [62.69799834]\n",
      "descent = [61.97317208]\n",
      "descent = [61.25713913]\n",
      "descent = [60.54978779]\n"
     ]
    },
    {
     "name": "stdout",
     "output_type": "stream",
     "text": [
      "descent = [59.85100786]\n",
      "descent = [59.16069059]\n",
      "descent = [58.47872868]\n",
      "descent = [57.80501622]\n",
      "descent = [57.13944876]\n"
     ]
    },
    {
     "name": "stdout",
     "output_type": "stream",
     "text": [
      "descent = [56.48192317]\n",
      "descent = [55.83233774]\n",
      "descent = [55.19059206]\n",
      "descent = [54.55658707]\n",
      "descent = [53.93022502]\n"
     ]
    },
    {
     "name": "stdout",
     "output_type": "stream",
     "text": [
      "descent = [53.31140943]\n",
      "descent = [52.70004511]\n",
      "descent = [52.09603812]\n",
      "descent = [51.49929575]\n",
      "descent = [50.90972653]\n"
     ]
    },
    {
     "name": "stdout",
     "output_type": "stream",
     "text": [
      "descent = [50.32724017]\n",
      "descent = [49.75174759]\n",
      "descent = [49.18316086]\n",
      "descent = [48.62139321]\n",
      "descent = [48.06635902]\n"
     ]
    },
    {
     "name": "stdout",
     "output_type": "stream",
     "text": [
      "descent = [47.51797379]\n",
      "descent = [46.97615411]\n",
      "descent = [46.4408177]\n",
      "descent = [45.91188331]\n",
      "descent = [45.3892708]\n"
     ]
    },
    {
     "name": "stdout",
     "output_type": "stream",
     "text": [
      "descent = [44.87290104]\n",
      "descent = [44.36269596]\n",
      "descent = [43.85857851]\n",
      "descent = [43.36047263]\n",
      "descent = [42.86830326]\n"
     ]
    },
    {
     "name": "stdout",
     "output_type": "stream",
     "text": [
      "descent = [42.38199632]\n",
      "descent = [41.9014787]\n",
      "descent = [41.42667825]\n",
      "descent = [40.95752372]\n",
      "descent = [40.49394484]\n"
     ]
    },
    {
     "name": "stdout",
     "output_type": "stream",
     "text": [
      "descent = [40.03587223]\n",
      "descent = [39.5832374]\n",
      "descent = [39.13597277]\n",
      "descent = [38.69401163]\n",
      "descent = [38.25728813]\n"
     ]
    },
    {
     "name": "stdout",
     "output_type": "stream",
     "text": [
      "descent = [37.82573729]\n",
      "descent = [37.39929496]\n",
      "descent = [36.97789781]\n",
      "descent = [36.56148336]\n",
      "descent = [36.14998992]\n"
     ]
    },
    {
     "name": "stdout",
     "output_type": "stream",
     "text": [
      "descent = [35.7433566]\n",
      "descent = [35.34152329]\n",
      "descent = [34.94443068]\n",
      "descent = [34.55202019]\n",
      "descent = [34.16423403]\n"
     ]
    },
    {
     "name": "stdout",
     "output_type": "stream",
     "text": [
      "descent = [33.78101515]\n",
      "descent = [33.4023072]\n",
      "descent = [33.02805461]\n",
      "descent = [32.6582025]\n",
      "descent = [32.29269667]\n"
     ]
    },
    {
     "name": "stdout",
     "output_type": "stream",
     "text": [
      "descent = [31.93148367]\n",
      "descent = [31.57451069]\n",
      "descent = [31.22172563]\n",
      "descent = [30.87307704]\n",
      "descent = [30.52851415]\n"
     ]
    },
    {
     "name": "stdout",
     "output_type": "stream",
     "text": [
      "descent = [30.18798681]\n",
      "descent = [29.85144555]\n",
      "descent = [29.51884151]\n",
      "descent = [29.19012646]\n",
      "descent = [28.86525279]\n"
     ]
    },
    {
     "name": "stdout",
     "output_type": "stream",
     "text": [
      "descent = [28.5441735]\n",
      "descent = [28.22684219]\n",
      "descent = [27.91321304]\n",
      "descent = [27.60324084]\n",
      "descent = [27.29688094]\n"
     ]
    },
    {
     "name": "stdout",
     "output_type": "stream",
     "text": [
      "descent = [26.99408926]\n",
      "descent = [26.69482229]\n",
      "descent = [26.39903707]\n",
      "descent = [26.10669118]\n",
      "descent = [25.81774275]\n"
     ]
    },
    {
     "name": "stdout",
     "output_type": "stream",
     "text": [
      "descent = [25.53215045]\n",
      "descent = [25.24987345]\n",
      "descent = [24.97087147]\n",
      "descent = [24.69510471]\n",
      "descent = [24.4225339]\n"
     ]
    },
    {
     "name": "stdout",
     "output_type": "stream",
     "text": [
      "descent = [24.15312025]\n",
      "descent = [23.88682548]\n",
      "descent = [23.62361178]\n",
      "descent = [23.36344183]\n",
      "descent = [23.10627877]\n"
     ]
    },
    {
     "name": "stdout",
     "output_type": "stream",
     "text": [
      "descent = [22.85208621]\n",
      "descent = [22.60082824]\n",
      "descent = [22.35246938]\n",
      "descent = [22.10697459]\n",
      "descent = [21.86430931]\n"
     ]
    },
    {
     "name": "stdout",
     "output_type": "stream",
     "text": [
      "descent = [21.62443938]\n",
      "descent = [21.3873311]\n",
      "descent = [21.15295115]\n",
      "descent = [20.92126669]\n",
      "descent = [20.69224524]\n"
     ]
    },
    {
     "name": "stdout",
     "output_type": "stream",
     "text": [
      "descent = [20.46585477]\n",
      "descent = [20.24206361]\n",
      "descent = [20.02084053]\n",
      "descent = [19.80215467]\n",
      "descent = [19.58597557]\n"
     ]
    },
    {
     "name": "stdout",
     "output_type": "stream",
     "text": [
      "descent = [19.37227312]\n",
      "descent = [19.16101763]\n",
      "descent = [18.95217976]\n",
      "descent = [18.74573054]\n",
      "descent = [18.54164136]\n"
     ]
    },
    {
     "name": "stdout",
     "output_type": "stream",
     "text": [
      "descent = [18.33988398]\n",
      "descent = [18.1404305]\n",
      "descent = [17.94325337]\n",
      "descent = [17.74832539]\n",
      "descent = [17.55561971]\n"
     ]
    },
    {
     "name": "stdout",
     "output_type": "stream",
     "text": [
      "descent = [17.36510978]\n",
      "descent = [17.17676942]\n",
      "descent = [16.99057275]\n",
      "descent = [16.80649423]\n",
      "descent = [16.62450863]\n"
     ]
    },
    {
     "name": "stdout",
     "output_type": "stream",
     "text": [
      "descent = [16.44459103]\n",
      "descent = [16.26671682]\n",
      "descent = [16.09086172]\n",
      "descent = [15.91700171]\n",
      "descent = [15.7451131]\n"
     ]
    },
    {
     "name": "stdout",
     "output_type": "stream",
     "text": [
      "descent = [15.57517249]\n",
      "descent = [15.40715675]\n",
      "descent = [15.24104307]\n",
      "descent = [15.07680889]\n",
      "descent = [14.91443195]\n"
     ]
    },
    {
     "name": "stdout",
     "output_type": "stream",
     "text": [
      "descent = [14.75389025]\n",
      "descent = [14.59516209]\n",
      "descent = [14.438226]\n",
      "descent = [14.28306081]\n",
      "descent = [14.12964559]\n"
     ]
    },
    {
     "name": "stdout",
     "output_type": "stream",
     "text": [
      "descent = [13.97795967]\n",
      "descent = [13.82798265]\n",
      "descent = [13.67969436]\n",
      "descent = [13.5330749]\n",
      "descent = [13.3881046]\n"
     ]
    },
    {
     "name": "stdout",
     "output_type": "stream",
     "text": [
      "descent = [13.24476404]\n",
      "descent = [13.10303404]\n",
      "descent = [12.96289565]\n",
      "descent = [12.82433014]\n",
      "descent = [12.68731905]\n"
     ]
    },
    {
     "name": "stdout",
     "output_type": "stream",
     "text": [
      "descent = [12.55184411]\n",
      "descent = [12.41788729]\n",
      "descent = [12.28543077]\n",
      "descent = [12.15445697]\n",
      "descent = [12.02494849]\n"
     ]
    },
    {
     "name": "stdout",
     "output_type": "stream",
     "text": [
      "descent = [11.89688819]\n",
      "descent = [11.77025909]\n",
      "descent = [11.64504446]\n",
      "descent = [11.52122775]\n",
      "descent = [11.39879261]\n"
     ]
    },
    {
     "name": "stdout",
     "output_type": "stream",
     "text": [
      "descent = [11.27772292]\n",
      "descent = [11.15800272]\n",
      "descent = [11.03961626]\n",
      "descent = [10.92254798]\n",
      "descent = [10.80678253]\n"
     ]
    },
    {
     "name": "stdout",
     "output_type": "stream",
     "text": [
      "descent = [10.69230471]\n",
      "descent = [10.57909952]\n",
      "descent = [10.46715217]\n",
      "descent = [10.35644801]\n",
      "descent = [10.24697258]\n"
     ]
    },
    {
     "name": "stdout",
     "output_type": "stream",
     "text": [
      "descent = [10.13871161]\n",
      "descent = [10.03165099]\n",
      "descent = [9.92577679]\n",
      "descent = [9.82107523]\n",
      "descent = [9.71753273]\n"
     ]
    },
    {
     "name": "stdout",
     "output_type": "stream",
     "text": [
      "descent = [9.61513584]\n",
      "descent = [9.51387129]\n",
      "descent = [9.41372597]\n",
      "descent = [9.31468694]\n",
      "descent = [9.21674138]\n"
     ]
    },
    {
     "name": "stdout",
     "output_type": "stream",
     "text": [
      "descent = [9.11987667]\n",
      "descent = [9.02408031]\n",
      "descent = [8.92933996]\n",
      "descent = [8.83564345]\n",
      "descent = [8.74297871]\n"
     ]
    },
    {
     "name": "stdout",
     "output_type": "stream",
     "text": [
      "descent = [8.65133387]\n",
      "descent = [8.56069715]\n",
      "descent = [8.47105696]\n",
      "descent = [8.38240182]\n",
      "descent = [8.2947204]\n"
     ]
    },
    {
     "name": "stdout",
     "output_type": "stream",
     "text": [
      "descent = [8.20800149]\n",
      "descent = [8.12223404]\n",
      "descent = [8.03740711]\n",
      "descent = [7.95350991]\n",
      "descent = [7.87053176]\n"
     ]
    },
    {
     "name": "stdout",
     "output_type": "stream",
     "text": [
      "descent = [7.78846212]\n",
      "descent = [7.70729059]\n",
      "descent = [7.62700686]\n",
      "descent = [7.54760077]\n",
      "descent = [7.46906227]\n"
     ]
    },
    {
     "name": "stdout",
     "output_type": "stream",
     "text": [
      "descent = [7.39138144]\n",
      "descent = [7.31454848]\n",
      "descent = [7.23855369]\n",
      "descent = [7.16338749]\n",
      "descent = [7.08904043]\n"
     ]
    },
    {
     "name": "stdout",
     "output_type": "stream",
     "text": [
      "descent = [7.01550317]\n",
      "descent = [6.94276645]\n",
      "descent = [6.87082117]\n",
      "descent = [6.79965831]\n",
      "descent = [6.72926894]\n"
     ]
    },
    {
     "name": "stdout",
     "output_type": "stream",
     "text": [
      "descent = [6.65964428]\n",
      "descent = [6.59077562]\n",
      "descent = [6.52265436]\n",
      "descent = [6.45527202]\n",
      "descent = [6.3886202]\n"
     ]
    },
    {
     "name": "stdout",
     "output_type": "stream",
     "text": [
      "descent = [6.32269061]\n",
      "descent = [6.25747505]\n",
      "descent = [6.19296543]\n",
      "descent = [6.12915374]\n",
      "descent = [6.06603209]\n"
     ]
    },
    {
     "name": "stdout",
     "output_type": "stream",
     "text": [
      "descent = [6.00359265]\n",
      "descent = [5.9418277]\n",
      "descent = [5.88072962]\n",
      "descent = [5.82029087]\n",
      "descent = [5.76050399]\n"
     ]
    },
    {
     "name": "stdout",
     "output_type": "stream",
     "text": [
      "descent = [5.70136163]\n",
      "descent = [5.64285651]\n",
      "descent = [5.58498145]\n",
      "descent = [5.52772932]\n",
      "descent = [5.47109313]\n"
     ]
    },
    {
     "name": "stdout",
     "output_type": "stream",
     "text": [
      "descent = [5.41506591]\n",
      "descent = [5.35964084]\n",
      "descent = [5.30481111]\n",
      "descent = [5.25057004]\n",
      "descent = [5.19691102]\n"
     ]
    },
    {
     "name": "stdout",
     "output_type": "stream",
     "text": [
      "descent = [5.1438275]\n",
      "descent = [5.09131301]\n",
      "descent = [5.03936118]\n",
      "descent = [4.98796568]\n",
      "descent = [4.93712029]\n"
     ]
    },
    {
     "name": "stdout",
     "output_type": "stream",
     "text": [
      "descent = [4.88681883]\n",
      "descent = [4.83705522]\n",
      "descent = [4.78782342]\n",
      "descent = [4.7391175]\n",
      "descent = [4.69093156]\n"
     ]
    },
    {
     "name": "stdout",
     "output_type": "stream",
     "text": [
      "descent = [4.6432598]\n",
      "descent = [4.59609648]\n",
      "descent = [4.5494359]\n",
      "descent = [4.50327246]\n",
      "descent = [4.45760063]\n"
     ]
    },
    {
     "name": "stdout",
     "output_type": "stream",
     "text": [
      "descent = [4.4124149]\n",
      "descent = [4.36770987]\n",
      "descent = [4.32348018]\n",
      "descent = [4.27972054]\n",
      "descent = [4.23642572]\n"
     ]
    },
    {
     "name": "stdout",
     "output_type": "stream",
     "text": [
      "descent = [4.19359055]\n",
      "descent = [4.15120992]\n",
      "descent = [4.10927877]\n",
      "descent = [4.06779212]\n",
      "descent = [4.02674504]\n"
     ]
    },
    {
     "name": "stdout",
     "output_type": "stream",
     "text": [
      "descent = [3.98613264]\n",
      "descent = [3.94595011]\n",
      "descent = [3.90619268]\n",
      "descent = [3.86685564]\n",
      "descent = [3.82793434]\n"
     ]
    },
    {
     "name": "stdout",
     "output_type": "stream",
     "text": [
      "descent = [3.78942418]\n",
      "descent = [3.75132061]\n",
      "descent = [3.71361913]\n",
      "descent = [3.67631531]\n",
      "descent = [3.63940475]\n"
     ]
    },
    {
     "name": "stdout",
     "output_type": "stream",
     "text": [
      "descent = [3.60288311]\n",
      "descent = [3.56674609]\n",
      "descent = [3.53098946]\n",
      "descent = [3.49560903]\n",
      "descent = [3.46060065]\n"
     ]
    },
    {
     "name": "stdout",
     "output_type": "stream",
     "text": [
      "descent = [3.42596022]\n",
      "descent = [3.39168369]\n",
      "descent = [3.35776707]\n",
      "descent = [3.32420639]\n",
      "descent = [3.29099774]\n"
     ]
    },
    {
     "name": "stdout",
     "output_type": "stream",
     "text": [
      "descent = [3.25813726]\n",
      "descent = [3.22562113]\n",
      "descent = [3.19344556]\n",
      "descent = [3.16160682]\n",
      "descent = [3.13010122]\n"
     ]
    },
    {
     "name": "stdout",
     "output_type": "stream",
     "text": [
      "descent = [3.0989251]\n",
      "descent = [3.06807487]\n",
      "descent = [3.03754695]\n",
      "descent = [3.00733782]\n",
      "descent = [2.97744399]\n"
     ]
    },
    {
     "name": "stdout",
     "output_type": "stream",
     "text": [
      "descent = [2.94786202]\n",
      "descent = [2.9185885]\n",
      "descent = [2.88962006]\n",
      "descent = [2.86095337]\n",
      "descent = [2.83258514]\n"
     ]
    },
    {
     "name": "stdout",
     "output_type": "stream",
     "text": [
      "descent = [2.80451212]\n",
      "descent = [2.77673109]\n",
      "descent = [2.74923887]\n",
      "descent = [2.72203232]\n",
      "descent = [2.69510833]\n"
     ]
    },
    {
     "name": "stdout",
     "output_type": "stream",
     "text": [
      "descent = [2.66846383]\n",
      "descent = [2.64209577]\n",
      "descent = [2.61600115]\n",
      "descent = [2.59017702]\n",
      "descent = [2.56462042]\n"
     ]
    },
    {
     "name": "stdout",
     "output_type": "stream",
     "text": [
      "descent = [2.53932846]\n",
      "descent = [2.51429827]\n",
      "descent = [2.48952701]\n",
      "descent = [2.46501187]\n",
      "descent = [2.44075009]\n"
     ]
    },
    {
     "name": "stdout",
     "output_type": "stream",
     "text": [
      "descent = [2.41673892]\n",
      "descent = [2.39297566]\n",
      "descent = [2.36945761]\n",
      "descent = [2.34618214]\n",
      "descent = [2.32314662]\n"
     ]
    },
    {
     "name": "stdout",
     "output_type": "stream",
     "text": [
      "descent = [2.30034846]\n",
      "descent = [2.2777851]\n",
      "descent = [2.255454]\n",
      "descent = [2.23335268]\n",
      "descent = [2.21147864]\n"
     ]
    },
    {
     "name": "stdout",
     "output_type": "stream",
     "text": [
      "descent = [2.18982944]\n",
      "descent = [2.16840267]\n",
      "descent = [2.14719593]\n",
      "descent = [2.12620684]\n",
      "descent = [2.10543309]\n"
     ]
    },
    {
     "name": "stdout",
     "output_type": "stream",
     "text": [
      "descent = [2.08487234]\n",
      "descent = [2.06452232]\n",
      "descent = [2.04438076]\n",
      "descent = [2.02444542]\n",
      "descent = [2.0047141]\n"
     ]
    },
    {
     "name": "stdout",
     "output_type": "stream",
     "text": [
      "descent = [1.98518461]\n",
      "descent = [1.96585479]\n",
      "descent = [1.9467225]\n",
      "descent = [1.92778562]\n",
      "descent = [1.90904207]\n"
     ]
    },
    {
     "name": "stdout",
     "output_type": "stream",
     "text": [
      "descent = [1.89048978]\n",
      "descent = [1.8721267]\n",
      "descent = [1.85395082]\n",
      "descent = [1.83596014]\n",
      "descent = [1.81815268]\n"
     ]
    },
    {
     "name": "stdout",
     "output_type": "stream",
     "text": [
      "descent = [1.80052648]\n",
      "descent = [1.78307963]\n",
      "descent = [1.76581019]\n",
      "descent = [1.74871629]\n",
      "descent = [1.73179606]\n"
     ]
    },
    {
     "name": "stdout",
     "output_type": "stream",
     "text": [
      "descent = [1.71504765]\n",
      "descent = [1.69846923]\n",
      "descent = [1.68205899]\n",
      "descent = [1.66581516]\n",
      "descent = [1.64973595]\n"
     ]
    },
    {
     "name": "stdout",
     "output_type": "stream",
     "text": [
      "descent = [1.63381964]\n",
      "descent = [1.61806448]\n",
      "descent = [1.60246876]\n",
      "descent = [1.58703081]\n",
      "descent = [1.57174895]\n"
     ]
    },
    {
     "name": "stdout",
     "output_type": "stream",
     "text": [
      "descent = [1.55662152]\n",
      "descent = [1.54164689]\n",
      "descent = [1.52682345]\n",
      "descent = [1.5121496]\n",
      "descent = [1.49762375]\n"
     ]
    },
    {
     "name": "stdout",
     "output_type": "stream",
     "text": [
      "descent = [1.48324434]\n",
      "descent = [1.46900983]\n",
      "descent = [1.45491869]\n",
      "descent = [1.44096941]\n",
      "descent = [1.42716049]\n"
     ]
    },
    {
     "name": "stdout",
     "output_type": "stream",
     "text": [
      "descent = [1.41349045]\n",
      "descent = [1.39995783]\n",
      "descent = [1.38656118]\n",
      "descent = [1.37329907]\n",
      "descent = [1.36017009]\n"
     ]
    },
    {
     "name": "stdout",
     "output_type": "stream",
     "text": [
      "descent = [1.34717284]\n",
      "descent = [1.33430593]\n",
      "descent = [1.321568]\n",
      "descent = [1.30895769]\n",
      "descent = [1.29647367]\n"
     ]
    },
    {
     "name": "stdout",
     "output_type": "stream",
     "text": [
      "descent = [1.2841146]\n",
      "descent = [1.27187918]\n",
      "descent = [1.25976611]\n",
      "descent = [1.24777412]\n",
      "descent = [1.23590193]\n"
     ]
    },
    {
     "name": "stdout",
     "output_type": "stream",
     "text": [
      "descent = [1.22414829]\n",
      "descent = [1.21251197]\n",
      "descent = [1.20099173]\n",
      "descent = [1.18958637]\n",
      "descent = [1.17829468]\n"
     ]
    },
    {
     "name": "stdout",
     "output_type": "stream",
     "text": [
      "descent = [1.16711547]\n",
      "descent = [1.15604758]\n",
      "descent = [1.14508985]\n",
      "descent = [1.13424112]\n",
      "descent = [1.12350026]\n"
     ]
    },
    {
     "name": "stdout",
     "output_type": "stream",
     "text": [
      "descent = [1.11286615]\n",
      "descent = [1.10233767]\n",
      "descent = [1.09191373]\n",
      "descent = [1.08159325]\n",
      "descent = [1.07137513]\n"
     ]
    },
    {
     "name": "stdout",
     "output_type": "stream",
     "text": [
      "descent = [1.06125833]\n",
      "descent = [1.05124179]\n",
      "descent = [1.04132447]\n",
      "descent = [1.03150534]\n",
      "descent = [1.02178339]\n"
     ]
    },
    {
     "name": "stdout",
     "output_type": "stream",
     "text": [
      "descent = [1.0121576]\n",
      "descent = [1.00262698]\n",
      "descent = [0.99319054]\n",
      "descent = [0.98384731]\n",
      "descent = [0.97459633]\n"
     ]
    },
    {
     "name": "stdout",
     "output_type": "stream",
     "text": [
      "descent = [0.96543664]\n",
      "descent = [0.9563673]\n",
      "descent = [0.94738738]\n",
      "descent = [0.93849594]\n",
      "descent = [0.92969209]\n"
     ]
    },
    {
     "name": "stdout",
     "output_type": "stream",
     "text": [
      "descent = [0.92097491]\n",
      "descent = [0.91234352]\n",
      "descent = [0.90379702]\n",
      "descent = [0.89533455]\n",
      "descent = [0.88695524]\n"
     ]
    },
    {
     "name": "stdout",
     "output_type": "stream",
     "text": [
      "descent = [0.87865823]\n",
      "descent = [0.87044267]\n",
      "descent = [0.86230774]\n",
      "descent = [0.8542526]\n",
      "descent = [0.84627643]\n"
     ]
    },
    {
     "name": "stdout",
     "output_type": "stream",
     "text": [
      "descent = [0.83837842]\n",
      "descent = [0.83055776]\n",
      "descent = [0.82281368]\n",
      "descent = [0.81514537]\n",
      "descent = [0.80755207]\n"
     ]
    },
    {
     "name": "stdout",
     "output_type": "stream",
     "text": [
      "descent = [0.800033]\n",
      "descent = [0.79258741]\n",
      "descent = [0.78521455]\n",
      "descent = [0.77791366]\n",
      "descent = [0.77068402]\n"
     ]
    },
    {
     "name": "stdout",
     "output_type": "stream",
     "text": [
      "descent = [0.7635249]\n",
      "descent = [0.75643557]\n",
      "descent = [0.74941532]\n",
      "descent = [0.74246345]\n",
      "descent = [0.73557927]\n"
     ]
    },
    {
     "name": "stdout",
     "output_type": "stream",
     "text": [
      "descent = [0.72876207]\n",
      "descent = [0.72201119]\n",
      "descent = [0.71532593]\n",
      "descent = [0.70870565]\n",
      "descent = [0.70214966]\n"
     ]
    },
    {
     "name": "stdout",
     "output_type": "stream",
     "text": [
      "descent = [0.69565733]\n",
      "descent = [0.689228]\n",
      "descent = [0.68286103]\n",
      "descent = [0.67655579]\n",
      "descent = [0.67031165]\n"
     ]
    },
    {
     "name": "stdout",
     "output_type": "stream",
     "text": [
      "descent = [0.664128]\n",
      "descent = [0.65800422]\n",
      "descent = [0.65193969]\n",
      "descent = [0.64593383]\n",
      "descent = [0.63998604]\n"
     ]
    },
    {
     "name": "stdout",
     "output_type": "stream",
     "text": [
      "descent = [0.63409572]\n",
      "descent = [0.62826231]\n",
      "descent = [0.62248521]\n",
      "descent = [0.61676387]\n",
      "descent = [0.61109772]\n"
     ]
    },
    {
     "name": "stdout",
     "output_type": "stream",
     "text": [
      "descent = [0.6054862]\n",
      "descent = [0.59992876]\n",
      "descent = [0.59442486]\n",
      "descent = [0.58897395]\n",
      "descent = [0.5835755]\n"
     ]
    },
    {
     "name": "stdout",
     "output_type": "stream",
     "text": [
      "descent = [0.57822898]\n",
      "descent = [0.57293387]\n",
      "descent = [0.56768965]\n",
      "descent = [0.56249581]\n",
      "descent = [0.55735185]\n"
     ]
    },
    {
     "name": "stdout",
     "output_type": "stream",
     "text": [
      "descent = [0.55225725]\n",
      "descent = [0.54721153]\n",
      "descent = [0.54221419]\n",
      "descent = [0.53726475]\n",
      "descent = [0.53236272]\n"
     ]
    },
    {
     "name": "stdout",
     "output_type": "stream",
     "text": [
      "descent = [0.52750764]\n",
      "descent = [0.52269902]\n",
      "descent = [0.51793641]\n",
      "descent = [0.51321935]\n",
      "descent = [0.50854737]\n"
     ]
    },
    {
     "name": "stdout",
     "output_type": "stream",
     "text": [
      "descent = [0.50392003]\n",
      "descent = [0.49933688]\n",
      "descent = [0.49479748]\n",
      "descent = [0.49030139]\n",
      "descent = [0.48584817]\n"
     ]
    },
    {
     "name": "stdout",
     "output_type": "stream",
     "text": [
      "descent = [0.48143741]\n",
      "descent = [0.47706867]\n",
      "descent = [0.47274154]\n",
      "descent = [0.4684556]\n",
      "descent = [0.46421044]\n"
     ]
    },
    {
     "name": "stdout",
     "output_type": "stream",
     "text": [
      "descent = [0.46000566]\n",
      "descent = [0.45584085]\n",
      "descent = [0.45171561]\n",
      "descent = [0.44762956]\n",
      "descent = [0.4435823]\n"
     ]
    },
    {
     "name": "stdout",
     "output_type": "stream",
     "text": [
      "descent = [0.43957344]\n",
      "descent = [0.43560261]\n",
      "descent = [0.43166942]\n",
      "descent = [0.42777351]\n",
      "descent = [0.4239145]\n"
     ]
    },
    {
     "name": "stdout",
     "output_type": "stream",
     "text": [
      "descent = [0.42009202]\n",
      "descent = [0.41630572]\n",
      "descent = [0.41255524]\n",
      "descent = [0.40884022]\n",
      "descent = [0.40516031]\n"
     ]
    },
    {
     "name": "stdout",
     "output_type": "stream",
     "text": [
      "descent = [0.40151516]\n",
      "descent = [0.39790443]\n",
      "descent = [0.39432778]\n",
      "descent = [0.39078487]\n",
      "descent = [0.38727537]\n"
     ]
    },
    {
     "name": "stdout",
     "output_type": "stream",
     "text": [
      "descent = [0.38379895]\n",
      "descent = [0.38035528]\n",
      "descent = [0.37694404]\n",
      "descent = [0.37356491]\n",
      "descent = [0.37021757]\n"
     ]
    },
    {
     "name": "stdout",
     "output_type": "stream",
     "text": [
      "descent = [0.36690171]\n",
      "descent = [0.36361702]\n",
      "descent = [0.36036319]\n",
      "descent = [0.35713992]\n",
      "descent = [0.35394691]\n"
     ]
    },
    {
     "name": "stdout",
     "output_type": "stream",
     "text": [
      "descent = [0.35078386]\n",
      "descent = [0.34765048]\n",
      "descent = [0.34454648]\n",
      "descent = [0.34147156]\n",
      "descent = [0.33842544]\n"
     ]
    },
    {
     "name": "stdout",
     "output_type": "stream",
     "text": [
      "descent = [0.33540784]\n",
      "descent = [0.33241848]\n",
      "descent = [0.32945708]\n",
      "descent = [0.32652337]\n",
      "descent = [0.32361708]\n"
     ]
    },
    {
     "name": "stdout",
     "output_type": "stream",
     "text": [
      "descent = [0.32073794]\n",
      "descent = [0.31788568]\n",
      "descent = [0.31506005]\n",
      "descent = [0.31226077]\n",
      "descent = [0.3094876]\n"
     ]
    },
    {
     "name": "stdout",
     "output_type": "stream",
     "text": [
      "descent = [0.30674027]\n",
      "descent = [0.30401855]\n",
      "descent = [0.30132216]\n",
      "descent = [0.29865088]\n",
      "descent = [0.29600445]\n"
     ]
    },
    {
     "name": "stdout",
     "output_type": "stream",
     "text": [
      "descent = [0.29338264]\n",
      "descent = [0.2907852]\n",
      "descent = [0.28821189]\n",
      "descent = [0.28566248]\n",
      "descent = [0.28313674]\n"
     ]
    },
    {
     "name": "stdout",
     "output_type": "stream",
     "text": [
      "descent = [0.28063444]\n",
      "descent = [0.27815535]\n",
      "descent = [0.27569924]\n",
      "descent = [0.2732659]\n",
      "descent = [0.2708551]\n"
     ]
    },
    {
     "name": "stdout",
     "output_type": "stream",
     "text": [
      "descent = [0.26846662]\n",
      "descent = [0.26610024]\n",
      "descent = [0.26375576]\n",
      "descent = [0.26143295]\n",
      "descent = [0.25913162]\n"
     ]
    },
    {
     "name": "stdout",
     "output_type": "stream",
     "text": [
      "descent = [0.25685154]\n",
      "descent = [0.25459252]\n",
      "descent = [0.25235436]\n",
      "descent = [0.25013685]\n",
      "descent = [0.24793978]\n"
     ]
    },
    {
     "name": "stdout",
     "output_type": "stream",
     "text": [
      "descent = [0.24576297]\n",
      "descent = [0.24360622]\n",
      "descent = [0.24146934]\n",
      "descent = [0.23935212]\n",
      "descent = [0.23725439]\n"
     ]
    },
    {
     "name": "stdout",
     "output_type": "stream",
     "text": [
      "descent = [0.23517596]\n",
      "descent = [0.23311663]\n",
      "descent = [0.23107624]\n",
      "descent = [0.22905458]\n",
      "descent = [0.22705149]\n"
     ]
    },
    {
     "name": "stdout",
     "output_type": "stream",
     "text": [
      "descent = [0.22506678]\n",
      "descent = [0.22310029]\n",
      "descent = [0.22115182]\n",
      "descent = [0.21922122]\n",
      "descent = [0.2173083]\n"
     ]
    },
    {
     "name": "stdout",
     "output_type": "stream",
     "text": [
      "descent = [0.2154129]\n",
      "descent = [0.21353486]\n",
      "descent = [0.211674]\n",
      "descent = [0.20983015]\n",
      "descent = [0.20800317]\n"
     ]
    },
    {
     "name": "stdout",
     "output_type": "stream",
     "text": [
      "descent = [0.20619288]\n",
      "descent = [0.20439913]\n",
      "descent = [0.20262175]\n",
      "descent = [0.2008606]\n",
      "descent = [0.19911551]\n"
     ]
    },
    {
     "name": "stdout",
     "output_type": "stream",
     "text": [
      "descent = [0.19738633]\n",
      "descent = [0.19567292]\n",
      "descent = [0.19177903]\n",
      "descent = [0.18796642]\n",
      "descent = [0.18423332]\n"
     ]
    },
    {
     "name": "stdout",
     "output_type": "stream",
     "text": [
      "descent = [0.18057798]\n",
      "descent = [0.17699873]\n",
      "descent = [0.17349389]\n",
      "descent = [0.17006185]\n",
      "descent = [0.16670103]\n"
     ]
    },
    {
     "name": "stdout",
     "output_type": "stream",
     "text": [
      "descent = [0.16340987]\n",
      "descent = [0.16018688]\n",
      "descent = [0.15703056]\n",
      "descent = [0.15393949]\n",
      "descent = [0.15091223]\n"
     ]
    },
    {
     "name": "stdout",
     "output_type": "stream",
     "text": [
      "descent = [0.14794743]\n",
      "descent = [0.14504372]\n",
      "descent = [0.1421998]\n",
      "descent = [0.13941437]\n",
      "descent = [0.13668617]\n"
     ]
    },
    {
     "name": "stdout",
     "output_type": "stream",
     "text": [
      "descent = [0.13401397]\n",
      "descent = [0.13139657]\n",
      "descent = [0.1288328]\n",
      "descent = [0.1263215]\n",
      "descent = [0.12386155]\n"
     ]
    },
    {
     "name": "stdout",
     "output_type": "stream",
     "text": [
      "descent = [0.12145185]\n",
      "descent = [0.11909132]\n",
      "descent = [0.11677892]\n",
      "descent = [0.11451363]\n",
      "descent = [0.11229442]\n"
     ]
    },
    {
     "name": "stdout",
     "output_type": "stream",
     "text": [
      "descent = [0.11012033]\n",
      "descent = [0.1079904]\n",
      "descent = [0.10590367]\n",
      "descent = [0.10385925]\n",
      "descent = [0.10185622]\n"
     ]
    },
    {
     "name": "stdout",
     "output_type": "stream",
     "text": [
      "descent = [0.09989372]\n",
      "descent = [0.09797089]\n",
      "descent = [0.09608687]\n",
      "descent = [0.09424087]\n",
      "descent = [0.09243206]\n"
     ]
    },
    {
     "name": "stdout",
     "output_type": "stream",
     "text": [
      "descent = [0.09065968]\n",
      "descent = [0.08892294]\n",
      "descent = [0.08722111]\n",
      "descent = [0.08555344]\n",
      "descent = [0.08391922]\n"
     ]
    },
    {
     "name": "stdout",
     "output_type": "stream",
     "text": [
      "descent = [0.08231774]\n",
      "descent = [0.08074833]\n",
      "descent = [0.0792103]\n",
      "descent = [0.077703]\n",
      "descent = [0.07622579]\n"
     ]
    },
    {
     "name": "stdout",
     "output_type": "stream",
     "text": [
      "descent = [0.07477804]\n",
      "descent = [0.07335914]\n",
      "descent = [0.07196847]\n",
      "descent = [0.07060546]\n",
      "descent = [0.06926953]\n"
     ]
    },
    {
     "name": "stdout",
     "output_type": "stream",
     "text": [
      "descent = [0.06796012]\n",
      "descent = [0.06667667]\n",
      "descent = [0.06541865]\n",
      "descent = [0.06418553]\n",
      "descent = [0.06297679]\n"
     ]
    },
    {
     "name": "stdout",
     "output_type": "stream",
     "text": [
      "descent = [0.06179193]\n",
      "descent = [0.06063045]\n",
      "descent = [0.05949187]\n",
      "descent = [0.05837573]\n",
      "descent = [0.05728155]\n"
     ]
    },
    {
     "name": "stdout",
     "output_type": "stream",
     "text": [
      "descent = [0.05620889]\n",
      "descent = [0.05515729]\n",
      "descent = [0.05412634]\n",
      "descent = [0.0531156]\n",
      "descent = [0.05212466]\n"
     ]
    },
    {
     "name": "stdout",
     "output_type": "stream",
     "text": [
      "descent = [0.05115311]\n",
      "descent = [0.05020056]\n",
      "descent = [0.04926662]\n",
      "descent = [0.0483509]\n",
      "descent = [0.04745304]\n"
     ]
    },
    {
     "name": "stdout",
     "output_type": "stream",
     "text": [
      "descent = [0.04657267]\n",
      "descent = [0.04570943]\n",
      "descent = [0.04486298]\n",
      "descent = [0.04403297]\n",
      "descent = [0.04321907]\n"
     ]
    },
    {
     "name": "stdout",
     "output_type": "stream",
     "text": [
      "descent = [0.04242095]\n",
      "descent = [0.04163829]\n",
      "descent = [0.04087078]\n",
      "descent = [0.04011811]\n",
      "descent = [0.03937998]\n"
     ]
    },
    {
     "name": "stdout",
     "output_type": "stream",
     "text": [
      "descent = [0.0386561]\n",
      "descent = [0.03794618]\n",
      "descent = [0.03724993]\n",
      "descent = [0.03656709]\n",
      "descent = [0.03589738]\n"
     ]
    },
    {
     "name": "stdout",
     "output_type": "stream",
     "text": [
      "descent = [0.03524053]\n",
      "descent = [0.03459629]\n",
      "descent = [0.03396441]\n",
      "descent = [0.03334464]\n",
      "descent = [0.03273673]\n"
     ]
    },
    {
     "name": "stdout",
     "output_type": "stream",
     "text": [
      "descent = [0.03214044]\n",
      "descent = [0.03155555]\n",
      "descent = [0.03098182]\n",
      "descent = [0.03041904]\n",
      "descent = [0.02986698]\n"
     ]
    },
    {
     "name": "stdout",
     "output_type": "stream",
     "text": [
      "descent = [0.02932544]\n",
      "descent = [0.02879419]\n",
      "descent = [0.02827304]\n",
      "descent = [0.02776178]\n",
      "descent = [0.02726022]\n"
     ]
    },
    {
     "name": "stdout",
     "output_type": "stream",
     "text": [
      "descent = [0.02676817]\n",
      "descent = [0.02628544]\n",
      "descent = [0.02581184]\n",
      "descent = [0.02534719]\n",
      "descent = [0.02489131]\n"
     ]
    },
    {
     "name": "stdout",
     "output_type": "stream",
     "text": [
      "descent = [0.02444404]\n",
      "descent = [0.02400519]\n",
      "descent = [0.02357462]\n",
      "descent = [0.02315214]\n",
      "descent = [0.02273761]\n"
     ]
    },
    {
     "name": "stdout",
     "output_type": "stream",
     "text": [
      "descent = [0.02233086]\n",
      "descent = [0.02193175]\n",
      "descent = [0.02154012]\n",
      "descent = [0.02115582]\n",
      "descent = [0.02077872]\n"
     ]
    },
    {
     "name": "stdout",
     "output_type": "stream",
     "text": [
      "descent = [0.02040867]\n",
      "descent = [0.02004553]\n",
      "descent = [0.01968918]\n",
      "descent = [0.01933946]\n",
      "descent = [0.01899627]\n"
     ]
    },
    {
     "name": "stdout",
     "output_type": "stream",
     "text": [
      "descent = [0.01865946]\n",
      "descent = [0.01832892]\n",
      "descent = [0.01800452]\n",
      "descent = [0.01768614]\n",
      "descent = [0.01737367]\n"
     ]
    },
    {
     "name": "stdout",
     "output_type": "stream",
     "text": [
      "descent = [0.017067]\n",
      "descent = [0.016766]\n",
      "descent = [0.01647057]\n",
      "descent = [0.0161806]\n",
      "descent = [0.01589598]\n"
     ]
    },
    {
     "name": "stdout",
     "output_type": "stream",
     "text": [
      "descent = [0.01561662]\n",
      "descent = [0.01534241]\n",
      "descent = [0.01507325]\n",
      "descent = [0.01480905]\n",
      "descent = [0.0145497]\n"
     ]
    },
    {
     "name": "stdout",
     "output_type": "stream",
     "text": [
      "descent = [0.01429511]\n",
      "descent = [0.0140452]\n",
      "descent = [0.01379988]\n",
      "descent = [0.01355905]\n",
      "descent = [0.01332263]\n"
     ]
    },
    {
     "name": "stdout",
     "output_type": "stream",
     "text": [
      "descent = [0.01309053]\n",
      "descent = [0.01286267]\n",
      "descent = [0.01263898]\n",
      "descent = [0.01241937]\n",
      "descent = [0.01220376]\n"
     ]
    },
    {
     "name": "stdout",
     "output_type": "stream",
     "text": [
      "descent = [0.01199207]\n",
      "descent = [0.01178424]\n",
      "descent = [0.01158019]\n",
      "descent = [0.01137984]\n",
      "descent = [0.01118314]\n"
     ]
    },
    {
     "name": "stdout",
     "output_type": "stream",
     "text": [
      "descent = [0.01098999]\n",
      "descent = [0.01080035]\n",
      "descent = [0.01061414]\n",
      "descent = [0.0104313]\n",
      "descent = [0.01025176]\n"
     ]
    },
    {
     "name": "stdout",
     "output_type": "stream",
     "text": [
      "descent = [0.01007547]\n",
      "descent = [0.00990235]\n",
      "descent = [0.00973236]\n",
      "descent = [0.00956543]\n",
      "descent = [0.0094015]\n"
     ]
    },
    {
     "name": "stdout",
     "output_type": "stream",
     "text": [
      "descent = [0.00924052]\n",
      "descent = [0.00908243]\n",
      "descent = [0.00892717]\n",
      "descent = [0.0087747]\n",
      "descent = [0.00862497]\n"
     ]
    },
    {
     "name": "stdout",
     "output_type": "stream",
     "text": [
      "descent = [0.00847791]\n",
      "descent = [0.00833349]\n",
      "descent = [0.00819164]\n",
      "descent = [0.00805233]\n",
      "descent = [0.00791551]\n"
     ]
    },
    {
     "name": "stdout",
     "output_type": "stream",
     "text": [
      "descent = [0.00778112]\n",
      "descent = [0.00764913]\n",
      "descent = [0.00751948]\n",
      "descent = [0.00739215]\n",
      "descent = [0.00726707]\n"
     ]
    },
    {
     "name": "stdout",
     "output_type": "stream",
     "text": [
      "descent = [0.00714421]\n",
      "descent = [0.00702354]\n",
      "descent = [0.006905]\n",
      "descent = [0.00678856]\n",
      "descent = [0.00667418]\n"
     ]
    },
    {
     "name": "stdout",
     "output_type": "stream",
     "text": [
      "descent = [0.00656182]\n",
      "descent = [0.00645145]\n",
      "descent = [0.00634302]\n",
      "descent = [0.00623651]\n",
      "descent = [0.00613187]\n"
     ]
    },
    {
     "name": "stdout",
     "output_type": "stream",
     "text": [
      "descent = [0.00602907]\n",
      "descent = [0.00592809]\n",
      "descent = [0.00582887]\n",
      "descent = [0.0057314]\n",
      "descent = [0.00563564]\n"
     ]
    },
    {
     "name": "stdout",
     "output_type": "stream",
     "text": [
      "descent = [0.00554156]\n",
      "descent = [0.00544912]\n",
      "descent = [0.00535831]\n",
      "descent = [0.00526908]\n",
      "descent = [0.00518141]\n"
     ]
    },
    {
     "name": "stdout",
     "output_type": "stream",
     "text": [
      "descent = [0.00509527]\n",
      "descent = [0.00501063]\n",
      "descent = [0.00492747]\n",
      "descent = [0.00484575]\n",
      "descent = [0.00476546]\n"
     ]
    },
    {
     "name": "stdout",
     "output_type": "stream",
     "text": [
      "descent = [0.00468656]\n",
      "descent = [0.00460904]\n",
      "descent = [0.00453285]\n",
      "descent = [0.00445799]\n",
      "descent = [0.00438443]\n"
     ]
    },
    {
     "name": "stdout",
     "output_type": "stream",
     "text": [
      "descent = [0.00431214]\n",
      "descent = [0.0042411]\n",
      "descent = [0.00417129]\n",
      "descent = [0.00410269]\n",
      "descent = [0.00403526]\n"
     ]
    },
    {
     "name": "stdout",
     "output_type": "stream",
     "text": [
      "descent = [0.00396901]\n",
      "descent = [0.00390389]\n",
      "descent = [0.00383989]\n",
      "descent = [0.00377699]\n",
      "descent = [0.00371518]\n"
     ]
    },
    {
     "name": "stdout",
     "output_type": "stream",
     "text": [
      "descent = [0.00365442]\n",
      "descent = [0.00359471]\n",
      "descent = [0.00353602]\n",
      "descent = [0.00347834]\n",
      "descent = [0.00342165]\n"
     ]
    },
    {
     "name": "stdout",
     "output_type": "stream",
     "text": [
      "descent = [0.00336592]\n",
      "descent = [0.00331115]\n",
      "descent = [0.00325731]\n",
      "descent = [0.00320439]\n",
      "descent = [0.00315237]\n"
     ]
    },
    {
     "name": "stdout",
     "output_type": "stream",
     "text": [
      "descent = [0.00310124]\n",
      "descent = [0.00305097]\n",
      "descent = [0.00300157]\n",
      "descent = [0.002953]\n",
      "descent = [0.00290525]\n"
     ]
    },
    {
     "name": "stdout",
     "output_type": "stream",
     "text": [
      "descent = [0.00285832]\n",
      "descent = [0.00281218]\n",
      "descent = [0.00276682]\n",
      "descent = [0.00272223]\n",
      "descent = [0.0026784]\n"
     ]
    },
    {
     "name": "stdout",
     "output_type": "stream",
     "text": [
      "descent = [0.0026353]\n",
      "descent = [0.00259294]\n",
      "descent = [0.00255128]\n",
      "descent = [0.00251033]\n",
      "descent = [0.00247007]\n"
     ]
    },
    {
     "name": "stdout",
     "output_type": "stream",
     "text": [
      "descent = [0.00243049]\n",
      "descent = [0.00239157]\n",
      "descent = [0.0023533]\n",
      "descent = [0.00231568]\n",
      "descent = [0.00227869]\n"
     ]
    },
    {
     "name": "stdout",
     "output_type": "stream",
     "text": [
      "descent = [0.00224232]\n",
      "descent = [0.00220656]\n",
      "descent = [0.00217139]\n",
      "descent = [0.00213682]\n",
      "descent = [0.00210282]\n"
     ]
    },
    {
     "name": "stdout",
     "output_type": "stream",
     "text": [
      "descent = [0.00206939]\n",
      "descent = [0.00203652]\n",
      "descent = [0.00200419]\n",
      "descent = [0.0019724]\n",
      "descent = [0.00194115]\n"
     ]
    },
    {
     "name": "stdout",
     "output_type": "stream",
     "text": [
      "descent = [0.00191041]\n",
      "descent = [0.00188018]\n",
      "descent = [0.00185046]\n",
      "descent = [0.00182122]\n",
      "descent = [0.00179247]\n"
     ]
    },
    {
     "name": "stdout",
     "output_type": "stream",
     "text": [
      "descent = [0.0017642]\n",
      "descent = [0.0017364]\n",
      "descent = [0.00170905]\n",
      "descent = [0.00168216]\n",
      "descent = [0.00165571]\n"
     ]
    },
    {
     "name": "stdout",
     "output_type": "stream",
     "text": [
      "descent = [0.0016297]\n",
      "descent = [0.00160412]\n",
      "descent = [0.00157895]\n",
      "descent = [0.00155421]\n",
      "descent = [0.00152987]\n"
     ]
    },
    {
     "name": "stdout",
     "output_type": "stream",
     "text": [
      "descent = [0.00150592]\n",
      "descent = [0.00148238]\n",
      "descent = [0.00145921]\n",
      "descent = [0.00143643]\n",
      "descent = [0.00141402]\n"
     ]
    },
    {
     "name": "stdout",
     "output_type": "stream",
     "text": [
      "descent = [0.00139198]\n",
      "descent = [0.0013703]\n",
      "descent = [0.00134897]\n",
      "descent = [0.00132799]\n",
      "descent = [0.00130736]\n"
     ]
    },
    {
     "name": "stdout",
     "output_type": "stream",
     "text": [
      "descent = [0.00128706]\n",
      "descent = [0.00126709]\n",
      "descent = [0.00124744]\n",
      "descent = [0.00122812]\n",
      "descent = [0.00120911]\n"
     ]
    },
    {
     "name": "stdout",
     "output_type": "stream",
     "text": [
      "descent = [0.0011904]\n",
      "descent = [0.00117201]\n",
      "descent = [0.00115391]\n",
      "descent = [0.0011361]\n",
      "descent = [0.00111858]\n"
     ]
    },
    {
     "name": "stdout",
     "output_type": "stream",
     "text": [
      "descent = [0.00110134]\n",
      "descent = [0.00108439]\n",
      "descent = [0.00106771]\n",
      "descent = [0.00105129]\n",
      "descent = [0.00103514]\n"
     ]
    },
    {
     "name": "stdout",
     "output_type": "stream",
     "text": [
      "descent = [0.00101926]\n",
      "descent = [0.00100362]\n",
      "descent = [0.00098824]\n",
      "descent = [0.00097311]\n",
      "descent = [0.00095822]\n"
     ]
    },
    {
     "name": "stdout",
     "output_type": "stream",
     "text": [
      "descent = [0.00094357]\n",
      "descent = [0.00092915]\n",
      "descent = [0.00091496]\n",
      "descent = [0.00090101]\n",
      "descent = [0.00088727]\n"
     ]
    },
    {
     "name": "stdout",
     "output_type": "stream",
     "text": [
      "descent = [0.00087376]\n",
      "descent = [0.00086046]\n",
      "descent = [0.00084737]\n",
      "descent = [0.00083449]\n",
      "descent = [0.00082182]\n"
     ]
    },
    {
     "name": "stdout",
     "output_type": "stream",
     "text": [
      "descent = [0.00080935]\n",
      "descent = [0.00079708]\n",
      "descent = [0.000785]\n",
      "descent = [0.00077312]\n",
      "descent = [0.00076142]\n"
     ]
    },
    {
     "name": "stdout",
     "output_type": "stream",
     "text": [
      "descent = [0.00074991]\n",
      "descent = [0.00073858]\n",
      "descent = [0.00072743]\n",
      "descent = [0.00071646]\n",
      "descent = [0.00070566]\n"
     ]
    },
    {
     "name": "stdout",
     "output_type": "stream",
     "text": [
      "descent = [0.00069504]\n",
      "descent = [0.00068458]\n",
      "descent = [0.00067428]\n",
      "descent = [0.00066415]\n",
      "descent = [0.00065418]\n"
     ]
    },
    {
     "name": "stdout",
     "output_type": "stream",
     "text": [
      "descent = [0.00064436]\n",
      "descent = [0.0006347]\n",
      "descent = [0.0006252]\n",
      "descent = [0.00061584]\n",
      "descent = [0.00060662]\n"
     ]
    },
    {
     "name": "stdout",
     "output_type": "stream",
     "text": [
      "descent = [0.00059756]\n",
      "descent = [0.00058863]\n",
      "descent = [0.00057985]\n",
      "descent = [0.0005712]\n",
      "descent = [0.00056269]\n"
     ]
    },
    {
     "name": "stdout",
     "output_type": "stream",
     "text": [
      "descent = [0.00055431]\n",
      "descent = [0.00054606]\n",
      "descent = [0.00053794]\n",
      "descent = [0.00052995]\n",
      "descent = [0.00052208]\n"
     ]
    },
    {
     "name": "stdout",
     "output_type": "stream",
     "text": [
      "descent = [0.00051433]\n",
      "descent = [0.00050671]\n",
      "descent = [0.0004992]\n",
      "descent = [0.00049181]\n",
      "descent = [0.00048453]\n"
     ]
    },
    {
     "name": "stdout",
     "output_type": "stream",
     "text": [
      "descent = [0.00047737]\n",
      "descent = [0.00047032]\n",
      "descent = [0.00046338]\n",
      "descent = [0.00045654]\n"
     ]
    },
    {
     "name": "stdout",
     "output_type": "stream",
     "text": [
      "descent = [0.00044982]\n",
      "descent = [0.00044319]\n",
      "descent = [0.00043667]\n",
      "descent = [0.00043025]\n",
      "descent = [0.00042392]\n"
     ]
    },
    {
     "name": "stdout",
     "output_type": "stream",
     "text": [
      "descent = [0.0004177]\n",
      "descent = [0.00041157]\n",
      "descent = [0.00040554]\n",
      "descent = [0.00039959]\n",
      "descent = [0.00039374]\n"
     ]
    },
    {
     "name": "stdout",
     "output_type": "stream",
     "text": [
      "descent = [0.00038798]\n",
      "descent = [0.00038231]\n",
      "descent = [0.00037673]\n",
      "descent = [0.00037123]\n",
      "descent = [0.00036581]\n"
     ]
    },
    {
     "name": "stdout",
     "output_type": "stream",
     "text": [
      "descent = [0.00036048]\n",
      "descent = [0.00035523]\n",
      "descent = [0.00035006]\n",
      "descent = [0.00034497]\n",
      "descent = [0.00033995]\n"
     ]
    },
    {
     "name": "stdout",
     "output_type": "stream",
     "text": [
      "descent = [0.00033501]\n",
      "descent = [0.00033015]\n",
      "descent = [0.00032536]\n",
      "descent = [0.00032065]\n",
      "descent = [0.000316]\n"
     ]
    },
    {
     "name": "stdout",
     "output_type": "stream",
     "text": [
      "descent = [0.00031143]\n",
      "descent = [0.00030693]\n",
      "descent = [0.00030249]\n",
      "descent = [0.00029812]\n",
      "descent = [0.00029382]\n"
     ]
    },
    {
     "name": "stdout",
     "output_type": "stream",
     "text": [
      "descent = [0.00028959]\n",
      "descent = [0.00028541]\n",
      "descent = [0.0002813]\n",
      "descent = [0.00027726]\n",
      "descent = [0.00027327]\n"
     ]
    },
    {
     "name": "stdout",
     "output_type": "stream",
     "text": [
      "descent = [0.00026934]\n",
      "descent = [0.00026548]\n",
      "descent = [0.00026167]\n",
      "descent = [0.00025792]\n",
      "descent = [0.00025422]\n"
     ]
    },
    {
     "name": "stdout",
     "output_type": "stream",
     "text": [
      "descent = [0.00025058]\n",
      "descent = [0.000247]\n",
      "descent = [0.00024347]\n",
      "descent = [0.00023999]\n",
      "descent = [0.00023656]\n"
     ]
    },
    {
     "name": "stdout",
     "output_type": "stream",
     "text": [
      "descent = [0.00023319]\n",
      "descent = [0.00022986]\n",
      "descent = [0.00022659]\n",
      "descent = [0.00022336]\n",
      "descent = [0.00022019]\n"
     ]
    },
    {
     "name": "stdout",
     "output_type": "stream",
     "text": [
      "descent = [0.00021706]\n",
      "descent = [0.00021397]\n",
      "descent = [0.00021094]\n",
      "descent = [0.00020794]\n",
      "descent = [0.000205]\n"
     ]
    },
    {
     "name": "stdout",
     "output_type": "stream",
     "text": [
      "descent = [0.00020209]\n",
      "descent = [0.00019923]\n",
      "descent = [0.00019641]\n",
      "descent = [0.00019364]\n",
      "descent = [0.0001909]\n"
     ]
    },
    {
     "name": "stdout",
     "output_type": "stream",
     "text": [
      "descent = [0.00018821]\n",
      "descent = [0.00018555]\n",
      "descent = [0.00018294]\n",
      "descent = [0.00018036]\n",
      "descent = [0.00017782]\n"
     ]
    },
    {
     "name": "stdout",
     "output_type": "stream",
     "text": [
      "descent = [0.00017532]\n",
      "descent = [0.00017286]\n",
      "descent = [0.00017043]\n",
      "descent = [0.00016804]\n",
      "descent = [0.00016568]\n"
     ]
    },
    {
     "name": "stdout",
     "output_type": "stream",
     "text": [
      "descent = [0.00016336]\n",
      "descent = [0.00016107]\n",
      "descent = [0.00015882]\n",
      "descent = [0.0001566]\n",
      "descent = [0.00015441]\n"
     ]
    },
    {
     "name": "stdout",
     "output_type": "stream",
     "text": [
      "descent = [0.00015225]\n",
      "descent = [0.00015013]\n",
      "descent = [0.00014803]\n",
      "descent = [0.00014597]\n",
      "descent = [0.00014394]\n"
     ]
    },
    {
     "name": "stdout",
     "output_type": "stream",
     "text": [
      "descent = [0.00014193]\n",
      "descent = [0.00013996]\n",
      "descent = [0.00013801]\n",
      "descent = [0.0001361]\n",
      "descent = [0.00013421]\n"
     ]
    },
    {
     "name": "stdout",
     "output_type": "stream",
     "text": [
      "descent = [0.00013235]\n",
      "descent = [0.00013051]\n",
      "descent = [0.00012871]\n",
      "descent = [0.00012692]\n",
      "descent = [0.00012517]\n"
     ]
    },
    {
     "name": "stdout",
     "output_type": "stream",
     "text": [
      "descent = [0.00012344]\n",
      "descent = [0.00012173]\n",
      "descent = [0.00012005]\n",
      "descent = [0.0001184]\n",
      "descent = [0.00011677]\n"
     ]
    },
    {
     "name": "stdout",
     "output_type": "stream",
     "text": [
      "descent = [0.00011516]\n",
      "descent = [0.00011357]\n",
      "descent = [0.00011201]\n",
      "descent = [0.00011047]\n",
      "descent = [0.00010895]\n"
     ]
    },
    {
     "name": "stdout",
     "output_type": "stream",
     "text": [
      "descent = [0.00010746]\n",
      "descent = [0.00010598]\n",
      "descent = [0.00010453]\n",
      "descent = [0.0001031]\n",
      "descent = [0.00010169]\n"
     ]
    },
    {
     "name": "stdout",
     "output_type": "stream",
     "text": [
      "descent = [0.0001003]\n",
      "descent = [9.89250972e-05]\n",
      "descent = [9.75736773e-05]\n",
      "descent = [9.62416291e-05]\n",
      "descent = [9.49286618e-05]\n"
     ]
    },
    {
     "name": "stdout",
     "output_type": "stream",
     "text": [
      "descent = [9.36344893e-05]\n",
      "descent = [9.235883e-05]\n",
      "descent = [9.11014065e-05]\n",
      "descent = [8.9861946e-05]\n",
      "descent = [8.86401799e-05]\n"
     ]
    },
    {
     "name": "stdout",
     "output_type": "stream",
     "text": [
      "descent = [8.74358436e-05]\n",
      "descent = [8.62486768e-05]\n",
      "descent = [8.50784234e-05]\n",
      "descent = [8.3924831e-05]\n",
      "descent = [8.27876513e-05]\n"
     ]
    },
    {
     "name": "stdout",
     "output_type": "stream",
     "text": [
      "descent = [8.16666399e-05]\n",
      "descent = [8.0561556e-05]\n",
      "descent = [7.94721628e-05]\n",
      "descent = [7.8398227e-05]\n",
      "descent = [7.7339519e-05]\n"
     ]
    },
    {
     "name": "stdout",
     "output_type": "stream",
     "text": [
      "descent = [7.62958127e-05]\n",
      "descent = [7.52668857e-05]\n",
      "descent = [7.42525187e-05]\n",
      "descent = [7.32524963e-05]\n",
      "descent = [7.22666058e-05]\n"
     ]
    },
    {
     "name": "stdout",
     "output_type": "stream",
     "text": [
      "descent = [7.12946383e-05]\n",
      "descent = [7.0336388e-05]\n",
      "descent = [6.9391652e-05]\n",
      "descent = [6.8460231e-05]\n",
      "descent = [6.75419285e-05]\n"
     ]
    },
    {
     "name": "stdout",
     "output_type": "stream",
     "text": [
      "descent = [6.66365509e-05]\n",
      "descent = [6.57439079e-05]\n",
      "descent = [6.4863812e-05]\n",
      "descent = [6.39960784e-05]\n",
      "descent = [6.31405255e-05]\n"
     ]
    },
    {
     "name": "stdout",
     "output_type": "stream",
     "text": [
      "descent = [6.22969742e-05]\n",
      "descent = [6.14652482e-05]\n",
      "descent = [6.06451741e-05]\n",
      "descent = [5.98365808e-05]\n",
      "descent = [5.90393001e-05]\n"
     ]
    },
    {
     "name": "stdout",
     "output_type": "stream",
     "text": [
      "descent = [5.82531664e-05]\n",
      "descent = [5.74780165e-05]\n",
      "descent = [5.67136896e-05]\n",
      "descent = [5.59600278e-05]\n",
      "descent = [5.5216875e-05]\n"
     ]
    },
    {
     "name": "stdout",
     "output_type": "stream",
     "text": [
      "descent = [5.44840778e-05]\n",
      "descent = [5.37614853e-05]\n",
      "descent = [5.30489486e-05]\n",
      "descent = [5.23463213e-05]\n",
      "descent = [5.1653459e-05]\n"
     ]
    },
    {
     "name": "stdout",
     "output_type": "stream",
     "text": [
      "descent = [5.09702198e-05]\n",
      "descent = [5.02964635e-05]\n",
      "descent = [4.96320525e-05]\n",
      "descent = [4.89768511e-05]\n",
      "descent = [4.83307256e-05]\n"
     ]
    },
    {
     "name": "stdout",
     "output_type": "stream",
     "text": [
      "descent = [4.76935444e-05]\n",
      "descent = [4.70651778e-05]\n",
      "descent = [4.64454982e-05]\n",
      "descent = [4.58343798e-05]\n",
      "descent = [4.5231699e-05]\n"
     ]
    },
    {
     "name": "stdout",
     "output_type": "stream",
     "text": [
      "descent = [4.46373335e-05]\n",
      "descent = [4.40511635e-05]\n",
      "descent = [4.34730705e-05]\n",
      "descent = [4.29029381e-05]\n",
      "descent = [4.23406514e-05]\n"
     ]
    },
    {
     "name": "stdout",
     "output_type": "stream",
     "text": [
      "descent = [4.17860975e-05]\n",
      "descent = [4.12391649e-05]\n",
      "descent = [4.06997441e-05]\n",
      "descent = [4.0167727e-05]\n",
      "descent = [3.96430072e-05]\n"
     ]
    },
    {
     "name": "stdout",
     "output_type": "stream",
     "text": [
      "descent = [3.912548e-05]\n",
      "descent = [3.86150422e-05]\n",
      "descent = [3.8111592e-05]\n",
      "descent = [3.76150294e-05]\n",
      "descent = [3.71252555e-05]\n"
     ]
    },
    {
     "name": "stdout",
     "output_type": "stream",
     "text": [
      "descent = [3.66421734e-05]\n",
      "descent = [3.61656873e-05]\n",
      "descent = [3.56957029e-05]\n",
      "descent = [3.52321272e-05]\n",
      "descent = [3.47748689e-05]\n"
     ]
    },
    {
     "name": "stdout",
     "output_type": "stream",
     "text": [
      "descent = [3.43238377e-05]\n",
      "descent = [3.3878945e-05]\n",
      "descent = [3.34401032e-05]\n",
      "descent = [3.30072262e-05]\n",
      "descent = [3.2580229e-05]\n"
     ]
    },
    {
     "name": "stdout",
     "output_type": "stream",
     "text": [
      "descent = [3.21590282e-05]\n",
      "descent = [3.17435413e-05]\n",
      "descent = [3.1333687e-05]\n",
      "descent = [3.09293856e-05]\n",
      "descent = [3.05305582e-05]\n"
     ]
    },
    {
     "name": "stdout",
     "output_type": "stream",
     "text": [
      "descent = [3.01371273e-05]\n",
      "descent = [2.97490164e-05]\n",
      "descent = [2.93661502e-05]\n",
      "descent = [2.89884544e-05]\n",
      "descent = [2.8615856e-05]\n"
     ]
    },
    {
     "name": "stdout",
     "output_type": "stream",
     "text": [
      "descent = [2.8248283e-05]\n",
      "descent = [2.78856644e-05]\n",
      "descent = [2.75279303e-05]\n",
      "descent = [2.71750118e-05]\n",
      "descent = [2.6826841e-05]\n"
     ]
    },
    {
     "name": "stdout",
     "output_type": "stream",
     "text": [
      "descent = [2.6483351e-05]\n",
      "descent = [2.61444761e-05]\n",
      "descent = [2.58101511e-05]\n",
      "descent = [2.54803123e-05]\n",
      "descent = [2.51548966e-05]\n"
     ]
    },
    {
     "name": "stdout",
     "output_type": "stream",
     "text": [
      "descent = [2.48338419e-05]\n",
      "descent = [2.4517087e-05]\n",
      "descent = [2.42045715e-05]\n",
      "descent = [2.38962361e-05]\n",
      "descent = [2.35920224e-05]\n"
     ]
    },
    {
     "name": "stdout",
     "output_type": "stream",
     "text": [
      "descent = [2.32918725e-05]\n",
      "descent = [2.29957296e-05]\n",
      "descent = [2.27035378e-05]\n",
      "descent = [2.24152418e-05]\n",
      "descent = [2.21307873e-05]\n"
     ]
    },
    {
     "name": "stdout",
     "output_type": "stream",
     "text": [
      "descent = [2.18501207e-05]\n",
      "descent = [2.15731892e-05]\n",
      "descent = [2.12999406e-05]\n",
      "descent = [2.10303238e-05]\n",
      "descent = [2.07642883e-05]\n"
     ]
    },
    {
     "name": "stdout",
     "output_type": "stream",
     "text": [
      "descent = [2.05017841e-05]\n",
      "descent = [2.02427623e-05]\n",
      "descent = [1.99871744e-05]\n",
      "descent = [1.97349728e-05]\n",
      "descent = [1.94861106e-05]\n"
     ]
    },
    {
     "name": "stdout",
     "output_type": "stream",
     "text": [
      "descent = [1.92405414e-05]\n",
      "descent = [1.89982196e-05]\n",
      "descent = [1.87591003e-05]\n",
      "descent = [1.85231391e-05]\n",
      "descent = [1.82902924e-05]\n"
     ]
    },
    {
     "name": "stdout",
     "output_type": "stream",
     "text": [
      "descent = [1.80605171e-05]\n",
      "descent = [1.78337709e-05]\n",
      "descent = [1.76100119e-05]\n",
      "descent = [1.73891989e-05]\n",
      "descent = [1.71712912e-05]\n"
     ]
    },
    {
     "name": "stdout",
     "output_type": "stream",
     "text": [
      "descent = [1.6956249e-05]\n",
      "descent = [1.67440327e-05]\n",
      "descent = [1.65346035e-05]\n",
      "descent = [1.6327923e-05]\n",
      "descent = [1.61239534e-05]\n"
     ]
    },
    {
     "name": "stdout",
     "output_type": "stream",
     "text": [
      "descent = [1.59226576e-05]\n",
      "descent = [1.57239988e-05]\n",
      "descent = [1.55279409e-05]\n",
      "descent = [1.53344482e-05]\n",
      "descent = [1.51434856e-05]\n"
     ]
    },
    {
     "name": "stdout",
     "output_type": "stream",
     "text": [
      "descent = [1.49550184e-05]\n",
      "descent = [1.47690125e-05]\n",
      "descent = [1.45854343e-05]\n",
      "descent = [1.44042505e-05]\n",
      "descent = [1.42254285e-05]\n"
     ]
    },
    {
     "name": "stdout",
     "output_type": "stream",
     "text": [
      "descent = [1.40489361e-05]\n",
      "descent = [1.38747414e-05]\n",
      "descent = [1.37028132e-05]\n",
      "descent = [1.35331206e-05]\n",
      "descent = [1.3365633e-05]\n"
     ]
    },
    {
     "name": "stdout",
     "output_type": "stream",
     "text": [
      "descent = [1.32003207e-05]\n",
      "descent = [1.30371539e-05]\n",
      "descent = [1.28761035e-05]\n",
      "descent = [1.27171408e-05]\n",
      "descent = [1.25602374e-05]\n"
     ]
    },
    {
     "name": "stdout",
     "output_type": "stream",
     "text": [
      "descent = [1.24053654e-05]\n",
      "descent = [1.22524973e-05]\n",
      "descent = [1.21016059e-05]\n",
      "descent = [1.19526645e-05]\n",
      "descent = [1.18056467e-05]\n"
     ]
    },
    {
     "name": "stdout",
     "output_type": "stream",
     "text": [
      "descent = [1.16605264e-05]\n",
      "descent = [1.1517278e-05]\n",
      "descent = [1.13758763e-05]\n",
      "descent = [1.12362963e-05]\n",
      "descent = [1.10985135e-05]\n"
     ]
    },
    {
     "name": "stdout",
     "output_type": "stream",
     "text": [
      "descent = [1.09625036e-05]\n",
      "descent = [1.08282427e-05]\n",
      "descent = [1.06957074e-05]\n",
      "descent = [1.05648742e-05]\n",
      "descent = [1.04357205e-05]\n"
     ]
    },
    {
     "name": "stdout",
     "output_type": "stream",
     "text": [
      "descent = [1.03082236e-05]\n",
      "descent = [1.01823612e-05]\n",
      "descent = [1.00581115e-05]\n",
      "descent = [9.93545276e-06]\n",
      "descent = [9.81436366e-06]\n"
     ]
    },
    {
     "name": "stdout",
     "output_type": "stream",
     "text": [
      "descent = [9.6948232e-06]\n",
      "descent = [9.57681062e-06]\n",
      "descent = [9.46030549e-06]\n",
      "descent = [9.34528766e-06]\n",
      "descent = [9.23173722e-06]\n"
     ]
    },
    {
     "name": "stdout",
     "output_type": "stream",
     "text": [
      "descent = [9.11963459e-06]\n",
      "descent = [9.00896043e-06]\n",
      "descent = [8.89969569e-06]\n",
      "descent = [8.79182161e-06]\n",
      "descent = [8.6853196e-06]\n"
     ]
    },
    {
     "name": "stdout",
     "output_type": "stream",
     "text": [
      "descent = [8.58017142e-06]\n",
      "descent = [8.47635904e-06]\n",
      "descent = [8.37386471e-06]\n",
      "descent = [8.27267091e-06]\n",
      "descent = [8.17276033e-06]\n"
     ]
    },
    {
     "name": "stdout",
     "output_type": "stream",
     "text": [
      "descent = [8.07411596e-06]\n",
      "descent = [7.976721e-06]\n",
      "descent = [7.88055889e-06]\n",
      "descent = [7.78561327e-06]\n",
      "descent = [7.69186801e-06]\n"
     ]
    },
    {
     "name": "stdout",
     "output_type": "stream",
     "text": [
      "descent = [7.59930727e-06]\n",
      "descent = [7.50791537e-06]\n",
      "descent = [7.41767681e-06]\n",
      "descent = [7.32857639e-06]\n",
      "descent = [7.24059908e-06]\n"
     ]
    },
    {
     "name": "stdout",
     "output_type": "stream",
     "text": [
      "descent = [7.15373006e-06]\n",
      "descent = [7.06795468e-06]\n",
      "descent = [6.98325857e-06]\n",
      "descent = [6.89962749e-06]\n",
      "descent = [6.81704742e-06]\n"
     ]
    },
    {
     "name": "stdout",
     "output_type": "stream",
     "text": [
      "descent = [6.73550451e-06]\n",
      "descent = [6.65498517e-06]\n",
      "descent = [6.5754759e-06]\n",
      "descent = [6.49696346e-06]\n",
      "descent = [6.41943475e-06]\n"
     ]
    },
    {
     "name": "stdout",
     "output_type": "stream",
     "text": [
      "descent = [6.34287689e-06]\n",
      "descent = [6.26727713e-06]\n",
      "descent = [6.19262289e-06]\n",
      "descent = [6.11890186e-06]\n",
      "descent = [6.04610177e-06]\n"
     ]
    },
    {
     "name": "stdout",
     "output_type": "stream",
     "text": [
      "descent = [5.97421059e-06]\n",
      "descent = [5.90321645e-06]\n",
      "descent = [5.83310762e-06]\n",
      "descent = [5.76387252e-06]\n",
      "descent = [5.69549979e-06]\n"
     ]
    },
    {
     "name": "stdout",
     "output_type": "stream",
     "text": [
      "descent = [5.62797816e-06]\n",
      "descent = [5.56129655e-06]\n",
      "descent = [5.49544401e-06]\n",
      "descent = [5.43040973e-06]\n",
      "descent = [5.3661831e-06]\n"
     ]
    },
    {
     "name": "stdout",
     "output_type": "stream",
     "text": [
      "descent = [5.30275358e-06]\n",
      "descent = [5.24011086e-06]\n",
      "descent = [5.17824468e-06]\n",
      "descent = [5.11714498e-06]\n",
      "descent = [5.05680183e-06]\n"
     ]
    },
    {
     "name": "stdout",
     "output_type": "stream",
     "text": [
      "descent = [4.99720539e-06]\n",
      "descent = [4.938346e-06]\n",
      "descent = [4.88021413e-06]\n",
      "descent = [4.82280035e-06]\n",
      "descent = [4.76609537e-06]\n"
     ]
    },
    {
     "name": "stdout",
     "output_type": "stream",
     "text": [
      "descent = [4.71009003e-06]\n",
      "descent = [4.6547753e-06]\n",
      "descent = [4.60014227e-06]\n",
      "descent = [4.54618212e-06]\n",
      "descent = [4.49288619e-06]\n"
     ]
    },
    {
     "name": "stdout",
     "output_type": "stream",
     "text": [
      "descent = [4.44024592e-06]\n",
      "descent = [4.38825284e-06]\n",
      "descent = [4.33689867e-06]\n",
      "descent = [4.28617514e-06]\n",
      "descent = [4.23607417e-06]\n"
     ]
    },
    {
     "name": "stdout",
     "output_type": "stream",
     "text": [
      "descent = [4.18658774e-06]\n",
      "descent = [4.13770798e-06]\n",
      "descent = [4.0894271e-06]\n",
      "descent = [4.04173739e-06]\n",
      "descent = [3.99463129e-06]\n"
     ]
    },
    {
     "name": "stdout",
     "output_type": "stream",
     "text": [
      "descent = [3.94810133e-06]\n",
      "descent = [3.90214013e-06]\n",
      "descent = [3.85674039e-06]\n",
      "descent = [3.81189495e-06]\n",
      "descent = [3.76759673e-06]\n"
     ]
    },
    {
     "name": "stdout",
     "output_type": "stream",
     "text": [
      "descent = [3.72383871e-06]\n",
      "descent = [3.68061403e-06]\n",
      "descent = [3.63791584e-06]\n",
      "descent = [3.59573747e-06]\n",
      "descent = [3.55407226e-06]\n"
     ]
    },
    {
     "name": "stdout",
     "output_type": "stream",
     "text": [
      "descent = [3.51291369e-06]\n",
      "descent = [3.47225531e-06]\n",
      "descent = [3.43209075e-06]\n",
      "descent = [3.39241374e-06]\n",
      "descent = [3.35321807e-06]\n"
     ]
    },
    {
     "name": "stdout",
     "output_type": "stream",
     "text": [
      "descent = [3.31449763e-06]\n",
      "descent = [3.27624639e-06]\n",
      "descent = [3.2384584e-06]\n",
      "descent = [3.20112777e-06]\n",
      "descent = [3.16424874e-06]\n"
     ]
    },
    {
     "name": "stdout",
     "output_type": "stream",
     "text": [
      "descent = [3.12781554e-06]\n",
      "descent = [3.09182256e-06]\n",
      "descent = [3.05626423e-06]\n",
      "descent = [3.02113505e-06]\n",
      "descent = [2.9864296e-06]\n"
     ]
    },
    {
     "name": "stdout",
     "output_type": "stream",
     "text": [
      "descent = [2.95214251e-06]\n",
      "descent = [2.91826853e-06]\n",
      "descent = [2.88480243e-06]\n",
      "descent = [2.85173906e-06]\n",
      "descent = [2.81907336e-06]\n"
     ]
    },
    {
     "name": "stdout",
     "output_type": "stream",
     "text": [
      "descent = [2.78680032e-06]\n",
      "descent = [2.754915e-06]\n",
      "descent = [2.72341251e-06]\n",
      "descent = [2.69228805e-06]\n",
      "descent = [2.66153687e-06]\n"
     ]
    },
    {
     "name": "stdout",
     "output_type": "stream",
     "text": [
      "descent = [2.63115427e-06]\n",
      "descent = [2.60113564e-06]\n",
      "descent = [2.57147642e-06]\n",
      "descent = [2.54217209e-06]\n",
      "descent = [2.5132182e-06]\n"
     ]
    },
    {
     "name": "stdout",
     "output_type": "stream",
     "text": [
      "descent = [2.48461037e-06]\n",
      "descent = [2.45634427e-06]\n",
      "descent = [2.42841562e-06]\n",
      "descent = [2.40082021e-06]\n",
      "descent = [2.37355388e-06]\n"
     ]
    },
    {
     "name": "stdout",
     "output_type": "stream",
     "text": [
      "descent = [2.34661252e-06]\n",
      "descent = [2.31999205e-06]\n",
      "descent = [2.29368849e-06]\n",
      "descent = [2.2676979e-06]\n",
      "descent = [2.24201636e-06]\n"
     ]
    },
    {
     "name": "stdout",
     "output_type": "stream",
     "text": [
      "descent = [2.21664004e-06]\n",
      "descent = [2.19156513e-06]\n",
      "descent = [2.16678788e-06]\n",
      "descent = [2.1423046e-06]\n",
      "descent = [2.11811163e-06]\n"
     ]
    },
    {
     "name": "stdout",
     "output_type": "stream",
     "text": [
      "descent = [2.09420537e-06]\n",
      "descent = [2.07058226e-06]\n",
      "descent = [2.04723879e-06]\n",
      "descent = [2.0241715e-06]\n",
      "descent = [2.00137696e-06]\n"
     ]
    },
    {
     "name": "stdout",
     "output_type": "stream",
     "text": [
      "descent = [1.97885178e-06]\n",
      "descent = [1.95659266e-06]\n",
      "descent = [1.93459629e-06]\n",
      "descent = [1.91285944e-06]\n",
      "descent = [1.89137886e-06]\n"
     ]
    },
    {
     "name": "stdout",
     "output_type": "stream",
     "text": [
      "descent = [1.87015144e-06]\n",
      "descent = [1.84917402e-06]\n",
      "descent = [1.82844353e-06]\n",
      "descent = [1.80795693e-06]\n",
      "descent = [1.78771122e-06]\n"
     ]
    },
    {
     "name": "stdout",
     "output_type": "stream",
     "text": [
      "descent = [1.76770342e-06]\n",
      "descent = [1.7479306e-06]\n",
      "descent = [1.72838988e-06]\n",
      "descent = [1.70907842e-06]\n",
      "descent = [1.68999338e-06]\n"
     ]
    },
    {
     "name": "stdout",
     "output_type": "stream",
     "text": [
      "descent = [1.67113199e-06]\n",
      "descent = [1.65249152e-06]\n",
      "descent = [1.63406924e-06]\n",
      "descent = [1.61586249e-06]\n",
      "descent = [1.59786861e-06]\n"
     ]
    },
    {
     "name": "stdout",
     "output_type": "stream",
     "text": [
      "descent = [1.58008501e-06]\n",
      "descent = [1.56250912e-06]\n",
      "descent = [1.54513839e-06]\n",
      "descent = [1.52797032e-06]\n",
      "descent = [1.51100243e-06]\n"
     ]
    },
    {
     "name": "stdout",
     "output_type": "stream",
     "text": [
      "descent = [1.49423228e-06]\n",
      "descent = [1.47765745e-06]\n",
      "descent = [1.46127556e-06]\n",
      "descent = [1.44508427e-06]\n",
      "descent = [1.42908124e-06]\n"
     ]
    },
    {
     "name": "stdout",
     "output_type": "stream",
     "text": [
      "descent = [1.4132642e-06]\n",
      "descent = [1.39763087e-06]\n",
      "descent = [1.38217901e-06]\n",
      "descent = [1.36690643e-06]\n",
      "descent = [1.35181095e-06]\n"
     ]
    },
    {
     "name": "stdout",
     "output_type": "stream",
     "text": [
      "descent = [1.33689041e-06]\n",
      "descent = [1.32214269e-06]\n",
      "descent = [1.30756572e-06]\n",
      "descent = [1.29315739e-06]\n",
      "descent = [1.27891568e-06]\n"
     ]
    },
    {
     "name": "stdout",
     "output_type": "stream",
     "text": [
      "descent = [1.26483856e-06]\n",
      "descent = [1.25092405e-06]\n",
      "descent = [1.23717018e-06]\n",
      "descent = [1.223575e-06]\n",
      "descent = [1.21013661e-06]\n"
     ]
    },
    {
     "name": "stdout",
     "output_type": "stream",
     "text": [
      "descent = [1.1968531e-06]\n",
      "descent = [1.18372261e-06]\n",
      "descent = [1.1707433e-06]\n",
      "descent = [1.15791333e-06]\n",
      "descent = [1.14523092e-06]\n"
     ]
    },
    {
     "name": "stdout",
     "output_type": "stream",
     "text": [
      "descent = [1.13269427e-06]\n",
      "descent = [1.12030165e-06]\n",
      "descent = [1.10805132e-06]\n",
      "descent = [1.09594155e-06]\n"
     ]
    },
    {
     "name": "stdout",
     "output_type": "stream",
     "text": [
      "descent = [1.08397068e-06]\n",
      "descent = [1.07213702e-06]\n",
      "descent = [1.06043895e-06]\n",
      "descent = [1.04887482e-06]\n",
      "descent = [1.03744302e-06]\n"
     ]
    },
    {
     "name": "stdout",
     "output_type": "stream",
     "text": [
      "descent = [1.02614199e-06]\n",
      "descent = [1.01497014e-06]\n",
      "descent = [1.00392593e-06]\n",
      "descent = [9.93007839e-07]\n",
      "descent = [9.82214361e-07]\n"
     ]
    },
    {
     "name": "stdout",
     "output_type": "stream",
     "text": [
      "descent = [9.71543992e-07]\n",
      "descent = [9.60995282e-07]\n",
      "descent = [9.50566753e-07]\n",
      "descent = [9.40257001e-07]\n",
      "descent = [9.3006458e-07]\n"
     ]
    },
    {
     "name": "stdout",
     "output_type": "stream",
     "text": [
      "descent = [9.19988121e-07]\n",
      "descent = [9.10026222e-07]\n",
      "descent = [9.00177523e-07]\n",
      "descent = [8.90440685e-07]\n",
      "descent = [8.80814368e-07]\n"
     ]
    },
    {
     "name": "stdout",
     "output_type": "stream",
     "text": [
      "descent = [8.71297264e-07]\n",
      "descent = [8.61888077e-07]\n",
      "descent = [8.52585522e-07]\n",
      "descent = [8.4338833e-07]\n",
      "descent = [8.34295269e-07]\n"
     ]
    },
    {
     "name": "stdout",
     "output_type": "stream",
     "text": [
      "descent = [8.2530508e-07]\n",
      "descent = [8.16416556e-07]\n",
      "descent = [8.07628499e-07]\n",
      "descent = [7.98939714e-07]\n",
      "descent = [7.90349026e-07]\n"
     ]
    },
    {
     "name": "stdout",
     "output_type": "stream",
     "text": [
      "descent = [7.81855278e-07]\n",
      "descent = [7.7345732e-07]\n",
      "descent = [7.65154033e-07]\n",
      "descent = [7.56944284e-07]\n",
      "descent = [7.4882698e-07]\n"
     ]
    },
    {
     "name": "stdout",
     "output_type": "stream",
     "text": [
      "descent = [7.40801018e-07]\n",
      "descent = [7.32865343e-07]\n",
      "descent = [7.25018873e-07]\n",
      "descent = [7.17260573e-07]\n",
      "descent = [7.09589389e-07]\n"
     ]
    },
    {
     "name": "stdout",
     "output_type": "stream",
     "text": [
      "descent = [7.02004305e-07]\n",
      "descent = [6.94504319e-07]\n",
      "descent = [6.87088415e-07]\n",
      "descent = [6.79755615e-07]\n",
      "descent = [6.72504935e-07]\n"
     ]
    },
    {
     "name": "stdout",
     "output_type": "stream",
     "text": [
      "descent = [6.65335426e-07]\n",
      "descent = [6.5824613e-07]\n",
      "descent = [6.51236102e-07]\n",
      "descent = [6.4430442e-07]\n",
      "descent = [6.37450165e-07]\n"
     ]
    },
    {
     "name": "stdout",
     "output_type": "stream",
     "text": [
      "descent = [6.30672436e-07]\n",
      "descent = [6.23970329e-07]\n",
      "descent = [6.1734297e-07]\n",
      "descent = [6.10789481e-07]\n",
      "descent = [6.04309003e-07]\n"
     ]
    },
    {
     "name": "stdout",
     "output_type": "stream",
     "text": [
      "descent = [5.97900684e-07]\n",
      "descent = [5.91563675e-07]\n",
      "descent = [5.85297161e-07]\n",
      "descent = [5.79100296e-07]\n",
      "descent = [5.72972296e-07]\n"
     ]
    },
    {
     "name": "stdout",
     "output_type": "stream",
     "text": [
      "descent = [5.66912348e-07]\n",
      "descent = [5.60919658e-07]\n",
      "descent = [5.54993452e-07]\n",
      "descent = [5.49132946e-07]\n",
      "descent = [5.43337391e-07]\n"
     ]
    },
    {
     "name": "stdout",
     "output_type": "stream",
     "text": [
      "descent = [5.37606021e-07]\n",
      "descent = [5.31938102e-07]\n",
      "descent = [5.26332891e-07]\n",
      "descent = [5.20789665e-07]\n",
      "descent = [5.15307709e-07]\n"
     ]
    },
    {
     "name": "stdout",
     "output_type": "stream",
     "text": [
      "descent = [5.09886309e-07]\n",
      "descent = [5.04524765e-07]\n",
      "descent = [4.99222388e-07]\n",
      "descent = [4.93978495e-07]\n",
      "descent = [4.88792396e-07]\n"
     ]
    },
    {
     "name": "stdout",
     "output_type": "stream",
     "text": [
      "descent = [4.83663449e-07]\n",
      "descent = [4.78590982e-07]\n",
      "descent = [4.73574335e-07]\n",
      "descent = [4.68612881e-07]\n",
      "descent = [4.63705971e-07]\n"
     ]
    },
    {
     "name": "stdout",
     "output_type": "stream",
     "text": [
      "descent = [4.58852984e-07]\n",
      "descent = [4.54053302e-07]\n",
      "descent = [4.49306307e-07]\n",
      "descent = [4.44611393e-07]\n",
      "descent = [4.39967962e-07]\n"
     ]
    },
    {
     "name": "stdout",
     "output_type": "stream",
     "text": [
      "descent = [4.35375426e-07]\n",
      "descent = [4.30833197e-07]\n",
      "descent = [4.26340705e-07]\n",
      "descent = [4.21897373e-07]\n",
      "descent = [4.17502635e-07]\n"
     ]
    },
    {
     "name": "stdout",
     "output_type": "stream",
     "text": [
      "descent = [4.13155947e-07]\n",
      "descent = [4.08856743e-07]\n",
      "descent = [4.04604492e-07]\n",
      "descent = [4.00398656e-07]\n",
      "descent = [3.96238697e-07]\n"
     ]
    },
    {
     "name": "stdout",
     "output_type": "stream",
     "text": [
      "descent = [3.92124092e-07]\n",
      "descent = [3.88054334e-07]\n",
      "descent = [3.84028899e-07]\n",
      "descent = [3.80047293e-07]\n",
      "descent = [3.76109006e-07]\n"
     ]
    },
    {
     "name": "stdout",
     "output_type": "stream",
     "text": [
      "descent = [3.72213546e-07]\n",
      "descent = [3.68360429e-07]\n",
      "descent = [3.64549176e-07]\n",
      "descent = [3.60779303e-07]\n",
      "descent = [3.57050342e-07]\n"
     ]
    },
    {
     "name": "stdout",
     "output_type": "stream",
     "text": [
      "descent = [3.53361829e-07]\n",
      "descent = [3.49713306e-07]\n",
      "descent = [3.46104318e-07]\n",
      "descent = [3.42534415e-07]\n",
      "descent = [3.39003161e-07]\n"
     ]
    },
    {
     "name": "stdout",
     "output_type": "stream",
     "text": [
      "descent = [3.35510102e-07]\n",
      "descent = [3.3205482e-07]\n",
      "descent = [3.28636882e-07]\n",
      "descent = [3.25255867e-07]\n",
      "descent = [3.21911358e-07]\n"
     ]
    },
    {
     "name": "stdout",
     "output_type": "stream",
     "text": [
      "descent = [3.18602937e-07]\n",
      "descent = [3.15330203e-07]\n",
      "descent = [3.12092748e-07]\n",
      "descent = [3.08890173e-07]\n",
      "descent = [3.05722093e-07]\n"
     ]
    },
    {
     "name": "stdout",
     "output_type": "stream",
     "text": [
      "descent = [3.02588109e-07]\n",
      "descent = [2.99487841e-07]\n",
      "descent = [2.96420911e-07]\n",
      "descent = [2.93386939e-07]\n",
      "descent = [2.90385556e-07]\n"
     ]
    },
    {
     "name": "stdout",
     "output_type": "stream",
     "text": [
      "descent = [2.87416398e-07]\n",
      "descent = [2.84479101e-07]\n",
      "descent = [2.81573308e-07]\n",
      "descent = [2.78698664e-07]\n",
      "descent = [2.75854817e-07]\n"
     ]
    },
    {
     "name": "stdout",
     "output_type": "stream",
     "text": [
      "descent = [2.73041425e-07]\n",
      "descent = [2.70258147e-07]\n",
      "descent = [2.67504642e-07]\n",
      "descent = [2.6478058e-07]\n",
      "descent = [2.62085633e-07]\n"
     ]
    },
    {
     "name": "stdout",
     "output_type": "stream",
     "text": [
      "descent = [2.59419467e-07]\n",
      "descent = [2.56781768e-07]\n",
      "descent = [2.54172215e-07]\n",
      "descent = [2.51590492e-07]\n",
      "descent = [2.49036287e-07]\n"
     ]
    },
    {
     "name": "stdout",
     "output_type": "stream",
     "text": [
      "descent = [2.465093e-07]\n",
      "descent = [2.44009223e-07]\n",
      "descent = [2.41535753e-07]\n",
      "descent = [2.39088602e-07]\n",
      "descent = [2.36667464e-07]\n"
     ]
    },
    {
     "name": "stdout",
     "output_type": "stream",
     "text": [
      "descent = [2.3427206e-07]\n",
      "descent = [2.31902101e-07]\n",
      "descent = [2.29557305e-07]\n",
      "descent = [2.27237384e-07]\n",
      "descent = [2.24942072e-07]\n"
     ]
    },
    {
     "name": "stdout",
     "output_type": "stream",
     "text": [
      "descent = [2.22671091e-07]\n",
      "descent = [2.20424172e-07]\n",
      "descent = [2.18201049e-07]\n",
      "descent = [2.16001456e-07]\n",
      "descent = [2.13825132e-07]\n"
     ]
    },
    {
     "name": "stdout",
     "output_type": "stream",
     "text": [
      "descent = [2.11671823e-07]\n",
      "descent = [2.09541266e-07]\n",
      "descent = [2.0743322e-07]\n",
      "descent = [2.0534743e-07]\n",
      "descent = [2.03283649e-07]\n"
     ]
    },
    {
     "name": "stdout",
     "output_type": "stream",
     "text": [
      "descent = [2.01241636e-07]\n",
      "descent = [1.9922115e-07]\n",
      "descent = [1.97221956e-07]\n",
      "descent = [1.95243814e-07]\n",
      "descent = [1.93286495e-07]\n"
     ]
    },
    {
     "name": "stdout",
     "output_type": "stream",
     "text": [
      "descent = [1.91349767e-07]\n",
      "descent = [1.89433407e-07]\n",
      "descent = [1.87537188e-07]\n",
      "descent = [1.85660891e-07]\n",
      "descent = [1.83804294e-07]\n"
     ]
    },
    {
     "name": "stdout",
     "output_type": "stream",
     "text": [
      "descent = [1.8196718e-07]\n",
      "descent = [1.80149337e-07]\n",
      "descent = [1.78350553e-07]\n",
      "descent = [1.7657062e-07]\n",
      "descent = [1.74809326e-07]\n"
     ]
    },
    {
     "name": "stdout",
     "output_type": "stream",
     "text": [
      "descent = [1.73066474e-07]\n",
      "descent = [1.71341858e-07]\n",
      "descent = [1.69635275e-07]\n",
      "descent = [1.67946533e-07]\n",
      "descent = [1.66275432e-07]\n"
     ]
    },
    {
     "name": "stdout",
     "output_type": "stream",
     "text": [
      "descent = [1.64621783e-07]\n",
      "descent = [1.62985393e-07]\n",
      "descent = [1.61366077e-07]\n",
      "descent = [1.59763643e-07]\n",
      "descent = [1.5817791e-07]\n"
     ]
    },
    {
     "name": "stdout",
     "output_type": "stream",
     "text": [
      "descent = [1.56608694e-07]\n",
      "descent = [1.55055816e-07]\n",
      "descent = [1.53519098e-07]\n",
      "descent = [1.51998362e-07]\n",
      "descent = [1.50493437e-07]\n"
     ]
    },
    {
     "name": "stdout",
     "output_type": "stream",
     "text": [
      "descent = [1.4900415e-07]\n",
      "descent = [1.47530331e-07]\n",
      "descent = [1.46071807e-07]\n",
      "descent = [1.4462842e-07]\n",
      "descent = [1.432e-07]\n"
     ]
    },
    {
     "name": "stdout",
     "output_type": "stream",
     "text": [
      "descent = [1.41786387e-07]\n",
      "descent = [1.40387417e-07]\n",
      "descent = [1.39002934e-07]\n",
      "descent = [1.3763278e-07]\n",
      "descent = [1.36276801e-07]\n"
     ]
    },
    {
     "name": "stdout",
     "output_type": "stream",
     "text": [
      "descent = [1.3493484e-07]\n",
      "descent = [1.33606751e-07]\n",
      "descent = [1.32292377e-07]\n",
      "descent = [1.30991578e-07]\n",
      "descent = [1.29704197e-07]\n"
     ]
    },
    {
     "name": "stdout",
     "output_type": "stream",
     "text": [
      "descent = [1.28430098e-07]\n",
      "descent = [1.27169131e-07]\n",
      "descent = [1.25921161e-07]\n",
      "descent = [1.24686041e-07]\n",
      "descent = [1.23463637e-07]\n"
     ]
    },
    {
     "name": "stdout",
     "output_type": "stream",
     "text": [
      "descent = [1.2225381e-07]\n",
      "descent = [1.21056422e-07]\n",
      "descent = [1.19871345e-07]\n",
      "descent = [1.18698444e-07]\n",
      "descent = [1.17537586e-07]\n"
     ]
    },
    {
     "name": "stdout",
     "output_type": "stream",
     "text": [
      "descent = [1.16388642e-07]\n",
      "descent = [1.15251485e-07]\n",
      "descent = [1.14125991e-07]\n",
      "descent = [1.13012028e-07]\n",
      "descent = [1.11909479e-07]\n"
     ]
    },
    {
     "name": "stdout",
     "output_type": "stream",
     "text": [
      "descent = [1.10818219e-07]\n",
      "descent = [1.09738124e-07]\n",
      "descent = [1.08669079e-07]\n",
      "descent = [1.07610964e-07]\n",
      "descent = [1.06563661e-07]\n"
     ]
    },
    {
     "name": "stdout",
     "output_type": "stream",
     "text": [
      "descent = [1.05527057e-07]\n",
      "descent = [1.04501033e-07]\n",
      "descent = [1.03485481e-07]\n",
      "descent = [1.02480285e-07]\n",
      "descent = [1.01485337e-07]\n"
     ]
    },
    {
     "name": "stdout",
     "output_type": "stream",
     "text": [
      "descent = [1.00500527e-07]\n",
      "descent = [9.95257472e-08]\n",
      "descent = [9.8560886e-08]\n",
      "descent = [9.76058455e-08]\n",
      "descent = [9.66605162e-08]\n"
     ]
    },
    {
     "name": "stdout",
     "output_type": "stream",
     "text": [
      "descent = [9.57247952e-08]\n",
      "descent = [9.47985794e-08]\n",
      "descent = [9.3881771e-08]\n",
      "descent = [9.29742689e-08]\n",
      "descent = [9.20759715e-08]\n"
     ]
    },
    {
     "name": "stdout",
     "output_type": "stream",
     "text": [
      "descent = [9.11867847e-08]\n",
      "descent = [9.0306608e-08]\n",
      "descent = [8.94353485e-08]\n",
      "descent = [8.85729096e-08]\n",
      "descent = [8.77191994e-08]\n"
     ]
    },
    {
     "name": "stdout",
     "output_type": "stream",
     "text": [
      "descent = [8.68741264e-08]\n",
      "descent = [8.60375963e-08]\n",
      "descent = [8.52095205e-08]\n",
      "descent = [8.43898083e-08]\n",
      "descent = [8.3578373e-08]\n"
     ]
    },
    {
     "name": "stdout",
     "output_type": "stream",
     "text": [
      "descent = [8.27751258e-08]\n",
      "descent = [8.19799815e-08]\n",
      "descent = [8.11928525e-08]\n",
      "descent = [8.04136531e-08]\n",
      "descent = [7.96423042e-08]\n"
     ]
    },
    {
     "name": "stdout",
     "output_type": "stream",
     "text": [
      "descent = [7.88787199e-08]\n",
      "descent = [7.81228176e-08]\n",
      "descent = [7.73745211e-08]\n",
      "descent = [7.66337441e-08]\n",
      "descent = [7.59004115e-08]\n"
     ]
    },
    {
     "name": "stdout",
     "output_type": "stream",
     "text": [
      "descent = [7.51744425e-08]\n",
      "descent = [7.44557599e-08]\n",
      "descent = [7.37442921e-08]\n",
      "descent = [7.30399564e-08]\n",
      "descent = [7.23426825e-08]\n"
     ]
    },
    {
     "name": "stdout",
     "output_type": "stream",
     "text": [
      "descent = [7.16523927e-08]\n",
      "descent = [7.09690176e-08]\n",
      "descent = [7.02924815e-08]\n",
      "descent = [6.96227147e-08]\n",
      "descent = [6.89596437e-08]\n"
     ]
    },
    {
     "name": "stdout",
     "output_type": "stream",
     "text": [
      "descent = [6.83032029e-08]\n",
      "descent = [6.7653318e-08]\n",
      "descent = [6.70099233e-08]\n",
      "descent = [6.63729504e-08]\n",
      "descent = [6.5742333e-08]\n"
     ]
    },
    {
     "name": "stdout",
     "output_type": "stream",
     "text": [
      "descent = [6.51180028e-08]\n",
      "descent = [6.4499895e-08]\n",
      "descent = [6.3887946e-08]\n",
      "descent = [6.32820874e-08]\n",
      "descent = [6.26822623e-08]\n"
     ]
    },
    {
     "name": "stdout",
     "output_type": "stream",
     "text": [
      "descent = [6.20884003e-08]\n",
      "descent = [6.15004453e-08]\n",
      "descent = [6.0918333e-08]\n",
      "descent = [6.03420057e-08]\n",
      "descent = [5.97713973e-08]\n"
     ]
    },
    {
     "name": "stdout",
     "output_type": "stream",
     "text": [
      "descent = [5.92064537e-08]\n",
      "descent = [5.86471141e-08]\n",
      "descent = [5.80933201e-08]\n",
      "descent = [5.75450148e-08]\n",
      "descent = [5.70021404e-08]\n"
     ]
    },
    {
     "name": "stdout",
     "output_type": "stream",
     "text": [
      "descent = [5.64646411e-08]\n",
      "descent = [5.59324613e-08]\n",
      "descent = [5.54055436e-08]\n",
      "descent = [5.48838372e-08]\n",
      "descent = [5.43672873e-08]\n"
     ]
    },
    {
     "name": "stdout",
     "output_type": "stream",
     "text": [
      "descent = [5.38558391e-08]\n",
      "descent = [5.33494391e-08]\n",
      "descent = [5.28480375e-08]\n",
      "descent = [5.23515812e-08]\n",
      "descent = [5.18600206e-08]\n"
     ]
    },
    {
     "name": "stdout",
     "output_type": "stream",
     "text": [
      "descent = [5.13733021e-08]\n",
      "descent = [5.08913791e-08]\n",
      "descent = [5.04142009e-08]\n",
      "descent = [4.99417176e-08]\n",
      "descent = [4.94738812e-08]\n"
     ]
    },
    {
     "name": "stdout",
     "output_type": "stream",
     "text": [
      "descent = [4.90106462e-08]\n",
      "descent = [4.85519626e-08]\n",
      "descent = [4.80977834e-08]\n",
      "descent = [4.76480651e-08]\n",
      "descent = [4.72027569e-08]\n"
     ]
    },
    {
     "name": "stdout",
     "output_type": "stream",
     "text": [
      "descent = [4.67618185e-08]\n",
      "descent = [4.6325203e-08]\n",
      "descent = [4.58928654e-08]\n",
      "descent = [4.54647631e-08]\n",
      "descent = [4.50408506e-08]\n"
     ]
    },
    {
     "name": "stdout",
     "output_type": "stream",
     "text": [
      "descent = [4.46210879e-08]\n",
      "descent = [4.42054309e-08]\n",
      "descent = [4.37938363e-08]\n",
      "descent = [4.33862642e-08]\n",
      "descent = [4.29826733e-08]\n"
     ]
    },
    {
     "name": "stdout",
     "output_type": "stream",
     "text": [
      "descent = [4.25830227e-08]\n",
      "descent = [4.21872723e-08]\n",
      "descent = [4.17953808e-08]\n",
      "descent = [4.14073103e-08]\n",
      "descent = [4.10230229e-08]\n"
     ]
    },
    {
     "name": "stdout",
     "output_type": "stream",
     "text": [
      "descent = [4.06424767e-08]\n",
      "descent = [4.02656366e-08]\n",
      "descent = [3.98924629e-08]\n",
      "descent = [3.95229186e-08]\n",
      "descent = [3.91569683e-08]\n"
     ]
    },
    {
     "name": "stdout",
     "output_type": "stream",
     "text": [
      "descent = [3.8794573e-08]\n",
      "descent = [3.84356987e-08]\n",
      "descent = [3.80803072e-08]\n",
      "descent = [3.77283662e-08]\n",
      "descent = [3.73798386e-08]\n"
     ]
    },
    {
     "name": "stdout",
     "output_type": "stream",
     "text": [
      "descent = [3.7034689e-08]\n",
      "descent = [3.6692885e-08]\n",
      "descent = [3.63543914e-08]\n",
      "descent = [3.60191745e-08]\n",
      "descent = [3.56872023e-08]\n"
     ]
    },
    {
     "name": "stdout",
     "output_type": "stream",
     "text": [
      "descent = [3.53584425e-08]\n",
      "descent = [3.50328603e-08]\n",
      "descent = [3.47104233e-08]\n",
      "descent = [3.43911022e-08]\n",
      "descent = [3.40748629e-08]\n"
     ]
    },
    {
     "name": "stdout",
     "output_type": "stream",
     "text": [
      "descent = [3.3761677e-08]\n",
      "descent = [3.3451512e-08]\n",
      "descent = [3.31443376e-08]\n",
      "descent = [3.28401225e-08]\n",
      "descent = [3.25388388e-08]\n"
     ]
    },
    {
     "name": "stdout",
     "output_type": "stream",
     "text": [
      "descent = [3.22404545e-08]\n",
      "descent = [3.19449435e-08]\n",
      "descent = [3.16522764e-08]\n",
      "descent = [3.13624212e-08]\n",
      "descent = [3.10753517e-08]\n"
     ]
    },
    {
     "name": "stdout",
     "output_type": "stream",
     "text": [
      "descent = [3.07910423e-08]\n",
      "descent = [3.05094601e-08]\n",
      "descent = [3.02305823e-08]\n",
      "descent = [2.99543784e-08]\n",
      "descent = [2.96808247e-08]\n"
     ]
    },
    {
     "name": "stdout",
     "output_type": "stream",
     "text": [
      "descent = [2.94098918e-08]\n",
      "descent = [2.9141555e-08]\n",
      "descent = [2.88757876e-08]\n",
      "descent = [2.86125639e-08]\n",
      "descent = [2.83518574e-08]\n"
     ]
    },
    {
     "name": "stdout",
     "output_type": "stream",
     "text": [
      "descent = [2.80936449e-08]\n",
      "descent = [2.78379015e-08]\n",
      "descent = [2.75846011e-08]\n",
      "descent = [2.73337197e-08]\n",
      "descent = [2.70852323e-08]\n"
     ]
    },
    {
     "name": "stdout",
     "output_type": "stream",
     "text": [
      "descent = [2.68391158e-08]\n",
      "descent = [2.65953462e-08]\n",
      "descent = [2.63539006e-08]\n",
      "descent = [2.61147565e-08]\n",
      "descent = [2.58778891e-08]\n"
     ]
    },
    {
     "name": "stdout",
     "output_type": "stream",
     "text": [
      "descent = [2.56432763e-08]\n",
      "descent = [2.54108969e-08]\n",
      "descent = [2.51807263e-08]\n",
      "descent = [2.49527439e-08]\n",
      "descent = [2.47269298e-08]\n"
     ]
    },
    {
     "name": "stdout",
     "output_type": "stream",
     "text": [
      "descent = [2.45032581e-08]\n",
      "descent = [2.42817111e-08]\n",
      "descent = [2.4062266e-08]\n",
      "descent = [2.3844902e-08]\n",
      "descent = [2.36296001e-08]\n"
     ]
    },
    {
     "name": "stdout",
     "output_type": "stream",
     "text": [
      "descent = [2.34163375e-08]\n",
      "descent = [2.32050951e-08]\n",
      "descent = [2.29958531e-08]\n",
      "descent = [2.27885901e-08]\n",
      "descent = [2.25832889e-08]\n"
     ]
    },
    {
     "name": "stdout",
     "output_type": "stream",
     "text": [
      "descent = [2.23799283e-08]\n",
      "descent = [2.21784896e-08]\n",
      "descent = [2.19789541e-08]\n",
      "descent = [2.17813033e-08]\n",
      "descent = [2.15855171e-08]\n"
     ]
    },
    {
     "name": "stdout",
     "output_type": "stream",
     "text": [
      "descent = [2.13915781e-08]\n",
      "descent = [2.11994673e-08]\n",
      "descent = [2.10091681e-08]\n",
      "descent = [2.08206617e-08]\n",
      "descent = [2.06339308e-08]\n"
     ]
    },
    {
     "name": "stdout",
     "output_type": "stream",
     "text": [
      "descent = [2.04489565e-08]\n",
      "descent = [2.02657225e-08]\n",
      "descent = [2.00842126e-08]\n",
      "descent = [1.99044094e-08]\n",
      "descent = [1.97262945e-08]\n"
     ]
    },
    {
     "name": "stdout",
     "output_type": "stream",
     "text": [
      "descent = [1.95498519e-08]\n",
      "descent = [1.93750664e-08]\n",
      "descent = [1.92019213e-08]\n",
      "descent = [1.90304001e-08]\n",
      "descent = [1.88604869e-08]\n"
     ]
    },
    {
     "name": "stdout",
     "output_type": "stream",
     "text": [
      "descent = [1.86921656e-08]\n",
      "descent = [1.85254197e-08]\n",
      "descent = [1.83602359e-08]\n",
      "descent = [1.81965988e-08]\n",
      "descent = [1.80344922e-08]\n"
     ]
    },
    {
     "name": "stdout",
     "output_type": "stream",
     "text": [
      "descent = [1.78739006e-08]\n",
      "descent = [1.77148106e-08]\n",
      "descent = [1.75572064e-08]\n",
      "descent = [1.74010734e-08]\n",
      "descent = [1.72463981e-08]\n"
     ]
    },
    {
     "name": "stdout",
     "output_type": "stream",
     "text": [
      "descent = [1.70931659e-08]\n",
      "descent = [1.69413619e-08]\n",
      "descent = [1.67909736e-08]\n",
      "descent = [1.66419852e-08]\n",
      "descent = [1.64943852e-08]\n"
     ]
    },
    {
     "name": "stdout",
     "output_type": "stream",
     "text": [
      "descent = [1.63481596e-08]\n",
      "descent = [1.6203294e-08]\n",
      "descent = [1.6059776e-08]\n",
      "descent = [1.59175913e-08]\n",
      "descent = [1.57767285e-08]\n"
     ]
    },
    {
     "name": "stdout",
     "output_type": "stream",
     "text": [
      "descent = [1.56371743e-08]\n",
      "descent = [1.54989159e-08]\n",
      "descent = [1.53619392e-08]\n",
      "descent = [1.52262341e-08]\n",
      "descent = [1.50917864e-08]\n"
     ]
    },
    {
     "name": "stdout",
     "output_type": "stream",
     "text": [
      "descent = [1.49585853e-08]\n",
      "descent = [1.4826618e-08]\n",
      "descent = [1.46958719e-08]\n",
      "descent = [1.45663362e-08]\n",
      "descent = [1.44379998e-08]\n"
     ]
    },
    {
     "name": "stdout",
     "output_type": "stream",
     "text": [
      "descent = [1.43108491e-08]\n",
      "descent = [1.41848739e-08]\n",
      "descent = [1.40600625e-08]\n",
      "descent = [1.39364041e-08]\n",
      "descent = [1.38138864e-08]\n"
     ]
    },
    {
     "name": "stdout",
     "output_type": "stream",
     "text": [
      "descent = [1.36924994e-08]\n",
      "descent = [1.35722325e-08]\n",
      "descent = [1.34530738e-08]\n",
      "descent = [1.33350131e-08]\n",
      "descent = [1.32180401e-08]\n"
     ]
    },
    {
     "name": "stdout",
     "output_type": "stream",
     "text": [
      "descent = [1.31021442e-08]\n",
      "descent = [1.29873135e-08]\n",
      "descent = [1.28735405e-08]\n",
      "descent = [1.27608126e-08]\n",
      "descent = [1.26491216e-08]\n"
     ]
    },
    {
     "name": "stdout",
     "output_type": "stream",
     "text": [
      "descent = [1.25384558e-08]\n",
      "descent = [1.2428807e-08]\n",
      "descent = [1.23201642e-08]\n",
      "descent = [1.22125178e-08]\n",
      "descent = [1.21058579e-08]\n"
     ]
    },
    {
     "name": "stdout",
     "output_type": "stream",
     "text": [
      "descent = [1.20001769e-08]\n",
      "descent = [1.1895464e-08]\n",
      "descent = [1.17917096e-08]\n",
      "descent = [1.16889054e-08]\n",
      "descent = [1.15870416e-08]\n"
     ]
    },
    {
     "name": "stdout",
     "output_type": "stream",
     "text": [
      "descent = [1.14861099e-08]\n",
      "descent = [1.13861007e-08]\n",
      "descent = [1.12870053e-08]\n",
      "descent = [1.11888155e-08]\n",
      "descent = [1.10915219e-08]\n"
     ]
    },
    {
     "name": "stdout",
     "output_type": "stream",
     "text": [
      "descent = [1.09951163e-08]\n",
      "descent = [1.08995898e-08]\n",
      "descent = [1.08049349e-08]\n",
      "descent = [1.07111426e-08]\n",
      "descent = [1.04979909e-08]\n"
     ]
    },
    {
     "name": "stdout",
     "output_type": "stream",
     "text": [
      "descent = [1.02892883e-08]\n",
      "descent = [1.00849377e-08]\n",
      "descent = [9.88484568e-09]\n",
      "descent = [9.68891639e-09]\n",
      "descent = [9.49706146e-09]\n"
     ]
    },
    {
     "name": "stdout",
     "output_type": "stream",
     "text": [
      "descent = [9.30919111e-09]\n",
      "descent = [9.12521985e-09]\n",
      "descent = [8.94506189e-09]\n",
      "descent = [8.76863537e-09]\n",
      "descent = [8.59585822e-09]\n"
     ]
    },
    {
     "name": "stdout",
     "output_type": "stream",
     "text": [
      "descent = [8.42665296e-09]\n",
      "descent = [8.26094091e-09]\n",
      "descent = [8.09864722e-09]\n",
      "descent = [7.93969865e-09]\n",
      "descent = [7.78402179e-09]\n"
     ]
    },
    {
     "name": "stdout",
     "output_type": "stream",
     "text": [
      "descent = [7.63154684e-09]\n",
      "descent = [7.48220591e-09]\n",
      "descent = [7.33592896e-09]\n",
      "descent = [7.19265267e-09]\n",
      "descent = [7.05231148e-09]\n"
     ]
    },
    {
     "name": "stdout",
     "output_type": "stream",
     "text": [
      "descent = [6.91484268e-09]\n",
      "descent = [6.78018494e-09]\n",
      "descent = [6.64827809e-09]\n",
      "descent = [6.51906274e-09]\n",
      "descent = [6.3924825e-09]\n"
     ]
    },
    {
     "name": "stdout",
     "output_type": "stream",
     "text": [
      "descent = [6.26847943e-09]\n",
      "descent = [6.14699998e-09]\n",
      "descent = [6.02799069e-09]\n",
      "descent = [5.9113976e-09]\n",
      "descent = [5.79717072e-09]\n"
     ]
    },
    {
     "name": "stdout",
     "output_type": "stream",
     "text": [
      "descent = [5.68525885e-09]\n",
      "descent = [5.5756131e-09]\n",
      "descent = [5.46818575e-09]\n",
      "descent = [5.36292971e-09]\n",
      "descent = [5.25979883e-09]\n"
     ]
    },
    {
     "name": "stdout",
     "output_type": "stream",
     "text": [
      "descent = [5.15874828e-09]\n",
      "descent = [5.05973428e-09]\n",
      "descent = [4.96271384e-09]\n",
      "descent = [4.86764527e-09]\n",
      "descent = [4.77448668e-09]\n"
     ]
    },
    {
     "name": "stdout",
     "output_type": "stream",
     "text": [
      "descent = [4.68319831e-09]\n",
      "descent = [4.59374072e-09]\n",
      "descent = [4.50607613e-09]\n",
      "descent = [4.42016636e-09]\n",
      "descent = [4.33597419e-09]\n"
     ]
    },
    {
     "name": "stdout",
     "output_type": "stream",
     "text": [
      "descent = [4.25346502e-09]\n",
      "descent = [4.17260271e-09]\n",
      "descent = [4.09335266e-09]\n",
      "descent = [4.01568181e-09]\n",
      "descent = [3.9395566e-09]\n"
     ]
    },
    {
     "name": "stdout",
     "output_type": "stream",
     "text": [
      "descent = [3.86494532e-09]\n",
      "descent = [3.79181665e-09]\n",
      "descent = [3.72013946e-09]\n",
      "descent = [3.64988352e-09]\n",
      "descent = [3.58101919e-09]\n"
     ]
    },
    {
     "name": "stdout",
     "output_type": "stream",
     "text": [
      "descent = [3.51351819e-09]\n",
      "descent = [3.4473516e-09]\n",
      "descent = [3.38249217e-09]\n",
      "descent = [3.31891291e-09]\n",
      "descent = [3.25658719e-09]\n"
     ]
    },
    {
     "name": "stdout",
     "output_type": "stream",
     "text": [
      "descent = [3.19548952e-09]\n",
      "descent = [3.13559375e-09]\n",
      "descent = [3.07687638e-09]\n",
      "descent = [3.01931202e-09]\n",
      "descent = [2.96287777e-09]\n"
     ]
    },
    {
     "name": "stdout",
     "output_type": "stream",
     "text": [
      "descent = [2.90754968e-09]\n",
      "descent = [2.85330549e-09]\n",
      "descent = [2.80012296e-09]\n",
      "descent = [2.74798024e-09]\n",
      "descent = [2.69685623e-09]\n"
     ]
    },
    {
     "name": "stdout",
     "output_type": "stream",
     "text": [
      "descent = [2.64673004e-09]\n",
      "descent = [2.59758104e-09]\n",
      "descent = [2.54938932e-09]\n",
      "descent = [2.50213586e-09]\n",
      "descent = [2.45580066e-09]\n"
     ]
    },
    {
     "name": "stdout",
     "output_type": "stream",
     "text": [
      "descent = [2.41036608e-09]\n",
      "descent = [2.36581326e-09]\n",
      "descent = [2.32212432e-09]\n",
      "descent = [2.27928134e-09]\n",
      "descent = [2.23726786e-09]\n"
     ]
    },
    {
     "name": "stdout",
     "output_type": "stream",
     "text": [
      "descent = [2.1960669e-09]\n",
      "descent = [2.15566153e-09]\n",
      "descent = [2.11603636e-09]\n",
      "descent = [2.07717514e-09]\n",
      "descent = [2.03906274e-09]\n"
     ]
    },
    {
     "name": "stdout",
     "output_type": "stream",
     "text": [
      "descent = [2.00168399e-09]\n",
      "descent = [1.96502381e-09]\n",
      "descent = [1.92906798e-09]\n",
      "descent = [1.89380237e-09]\n",
      "descent = [1.85921281e-09]\n"
     ]
    },
    {
     "name": "stdout",
     "output_type": "stream",
     "text": [
      "descent = [1.82528647e-09]\n",
      "descent = [1.79200961e-09]\n",
      "descent = [1.75936881e-09]\n",
      "descent = [1.7273521e-09]\n",
      "descent = [1.69594592e-09]\n"
     ]
    },
    {
     "name": "stdout",
     "output_type": "stream",
     "text": [
      "descent = [1.66513938e-09]\n",
      "descent = [1.63491973e-09]\n",
      "descent = [1.60527509e-09]\n",
      "descent = [1.57619484e-09]\n",
      "descent = [1.54766715e-09]\n"
     ]
    },
    {
     "name": "stdout",
     "output_type": "stream",
     "text": [
      "descent = [1.51968083e-09]\n",
      "descent = [1.49222562e-09]\n",
      "descent = [1.46529058e-09]\n",
      "descent = [1.43886578e-09]\n",
      "descent = [1.41294097e-09]\n"
     ]
    },
    {
     "name": "stdout",
     "output_type": "stream",
     "text": [
      "descent = [1.38750555e-09]\n",
      "descent = [1.36255121e-09]\n",
      "descent = [1.33806727e-09]\n",
      "descent = [1.31404519e-09]\n",
      "descent = [1.29047527e-09]\n"
     ]
    },
    {
     "name": "stdout",
     "output_type": "stream",
     "text": [
      "descent = [1.26734903e-09]\n",
      "descent = [1.24465733e-09]\n",
      "descent = [1.22239199e-09]\n",
      "descent = [1.20054469e-09]\n",
      "descent = [1.17910654e-09]\n"
     ]
    },
    {
     "name": "stdout",
     "output_type": "stream",
     "text": [
      "descent = [1.15807031e-09]\n",
      "descent = [1.13742793e-09]\n",
      "descent = [1.11717126e-09]\n",
      "descent = [1.09729314e-09]\n",
      "descent = [1.07778621e-09]\n"
     ]
    },
    {
     "name": "stdout",
     "output_type": "stream",
     "text": [
      "descent = [1.0586428e-09]\n",
      "descent = [1.03985639e-09]\n",
      "descent = [1.02141963e-09]\n",
      "descent = [1.00332572e-09]\n",
      "descent = [9.85568236e-10]\n"
     ]
    },
    {
     "name": "stdout",
     "output_type": "stream",
     "text": [
      "descent = [9.68140194e-10]\n",
      "descent = [9.51035427e-10]\n",
      "descent = [9.3424786e-10]\n",
      "descent = [9.17771145e-10]\n",
      "descent = [9.01599357e-10]\n"
     ]
    },
    {
     "name": "stdout",
     "output_type": "stream",
     "text": [
      "descent = [8.85726448e-10]\n",
      "descent = [8.70146747e-10]\n",
      "descent = [8.54854421e-10]\n",
      "descent = [8.39844104e-10]\n",
      "descent = [8.25110321e-10]\n"
     ]
    },
    {
     "name": "stdout",
     "output_type": "stream",
     "text": [
      "descent = [8.10647758e-10]\n",
      "descent = [7.96450954e-10]\n",
      "descent = [7.82515126e-10]\n",
      "descent = [7.68834931e-10]\n",
      "descent = [7.55406028e-10]\n"
     ]
    },
    {
     "name": "stdout",
     "output_type": "stream",
     "text": [
      "descent = [7.42222788e-10]\n",
      "descent = [7.29281038e-10]\n",
      "descent = [7.16575916e-10]\n",
      "descent = [7.04103218e-10]\n",
      "descent = [6.91858306e-10]\n"
     ]
    },
    {
     "name": "stdout",
     "output_type": "stream",
     "text": [
      "descent = [6.7983663e-10]\n",
      "descent = [6.68034099e-10]\n",
      "descent = [6.56446562e-10]\n",
      "descent = [6.45069841e-10]\n",
      "descent = [6.33900058e-10]\n"
     ]
    },
    {
     "name": "stdout",
     "output_type": "stream",
     "text": [
      "descent = [6.22933143e-10]\n",
      "descent = [6.12165408e-10]\n",
      "descent = [6.01592719e-10]\n",
      "descent = [5.91211687e-10]\n",
      "descent = [5.81018564e-10]\n"
     ]
    },
    {
     "name": "stdout",
     "output_type": "stream",
     "text": [
      "descent = [5.7100972e-10]\n",
      "descent = [5.61181862e-10]\n",
      "descent = [5.5153135e-10]\n",
      "descent = [5.42055135e-10]\n",
      "descent = [5.32749734e-10]\n"
     ]
    },
    {
     "name": "stdout",
     "output_type": "stream",
     "text": [
      "descent = [5.23611808e-10]\n",
      "descent = [5.14638305e-10]\n",
      "descent = [5.05826087e-10]\n",
      "descent = [4.97172308e-10]\n",
      "descent = [4.88673879e-10]\n"
     ]
    },
    {
     "name": "stdout",
     "output_type": "stream",
     "text": [
      "descent = [4.80327721e-10]\n",
      "descent = [4.72131143e-10]\n",
      "descent = [4.64081341e-10]\n",
      "descent = [4.56175465e-10]\n",
      "descent = [4.48410918e-10]\n"
     ]
    },
    {
     "name": "stdout",
     "output_type": "stream",
     "text": [
      "descent = [4.40785021e-10]\n",
      "descent = [4.33295151e-10]\n",
      "descent = [4.25938861e-10]\n",
      "descent = [4.18713578e-10]\n",
      "descent = [4.11616831e-10]\n"
     ]
    },
    {
     "name": "stdout",
     "output_type": "stream",
     "text": [
      "descent = [4.04646397e-10]\n",
      "descent = [3.97799634e-10]\n",
      "descent = [3.91074655e-10]\n",
      "descent = [3.84468686e-10]\n",
      "descent = [3.77979852e-10]\n"
     ]
    },
    {
     "name": "stdout",
     "output_type": "stream",
     "text": [
      "descent = [3.71605919e-10]\n",
      "descent = [3.65344844e-10]\n",
      "descent = [3.59194203e-10]\n",
      "descent = [3.5315246e-10]\n",
      "descent = [3.4721722e-10]\n"
     ]
    },
    {
     "name": "stdout",
     "output_type": "stream",
     "text": [
      "descent = [3.4138668e-10]\n",
      "descent = [3.35658715e-10]\n",
      "descent = [3.30031861e-10]\n",
      "descent = [3.24503669e-10]\n",
      "descent = [3.19072659e-10]\n"
     ]
    },
    {
     "name": "stdout",
     "output_type": "stream",
     "text": [
      "descent = [3.13737147e-10]\n",
      "descent = [3.08495156e-10]\n",
      "descent = [3.03345145e-10]\n",
      "descent = [2.98285181e-10]\n",
      "descent = [2.93313914e-10]\n"
     ]
    },
    {
     "name": "stdout",
     "output_type": "stream",
     "text": [
      "descent = [2.88429541e-10]\n",
      "descent = [2.83630387e-10]\n",
      "descent = [2.78915153e-10]\n",
      "descent = [2.7428212e-10]\n",
      "descent = [2.69729731e-10]\n"
     ]
    },
    {
     "name": "stdout",
     "output_type": "stream",
     "text": [
      "descent = [2.65256702e-10]\n",
      "descent = [2.6086135e-10]\n",
      "descent = [2.56542622e-10]\n",
      "descent = [2.52298807e-10]\n",
      "descent = [2.48128679e-10]\n"
     ]
    },
    {
     "name": "stdout",
     "output_type": "stream",
     "text": [
      "descent = [2.44030749e-10]\n",
      "descent = [2.4000401e-10]\n",
      "descent = [2.36046843e-10]\n",
      "descent = [2.32158213e-10]\n",
      "descent = [2.28336636e-10]\n"
     ]
    },
    {
     "name": "stdout",
     "output_type": "stream",
     "text": [
      "descent = [2.24581226e-10]\n",
      "descent = [2.20890481e-10]\n",
      "descent = [2.17263505e-10]\n",
      "descent = [2.13698923e-10]\n",
      "descent = [2.10195714e-10]\n"
     ]
    },
    {
     "name": "stdout",
     "output_type": "stream",
     "text": [
      "descent = [2.06752802e-10]\n",
      "descent = [2.03369028e-10]\n",
      "descent = [2.00043276e-10]\n",
      "descent = [1.96774682e-10]\n",
      "descent = [1.93562051e-10]\n"
     ]
    },
    {
     "name": "stdout",
     "output_type": "stream",
     "text": [
      "descent = [1.90404514e-10]\n",
      "descent = [1.87301009e-10]\n",
      "descent = [1.84250581e-10]\n",
      "descent = [1.81252184e-10]\n",
      "descent = [1.78305076e-10]\n"
     ]
    },
    {
     "name": "stdout",
     "output_type": "stream",
     "text": [
      "descent = [1.7540821e-10]\n",
      "descent = [1.72560745e-10]\n",
      "descent = [1.6976168e-10]\n",
      "descent = [1.67010358e-10]\n",
      "descent = [1.64305859e-10]\n"
     ]
    },
    {
     "name": "stdout",
     "output_type": "stream",
     "text": [
      "descent = [1.61647206e-10]\n",
      "descent = [1.59033589e-10]\n",
      "descent = [1.56464566e-10]\n",
      "descent = [1.53938896e-10]\n",
      "descent = [1.51456058e-10]\n"
     ]
    },
    {
     "name": "stdout",
     "output_type": "stream",
     "text": [
      "descent = [1.49015232e-10]\n",
      "descent = [1.46615677e-10]\n",
      "descent = [1.44256624e-10]\n",
      "descent = [1.41937404e-10]\n",
      "descent = [1.39657362e-10]\n"
     ]
    },
    {
     "name": "stdout",
     "output_type": "stream",
     "text": [
      "descent = [1.37415743e-10]\n",
      "descent = [1.35211795e-10]\n",
      "descent = [1.33044971e-10]\n",
      "descent = [1.30914594e-10]\n",
      "descent = [1.28819947e-10]\n"
     ]
    },
    {
     "name": "stdout",
     "output_type": "stream",
     "text": [
      "descent = [1.26760549e-10]\n",
      "descent = [1.24735617e-10]\n",
      "descent = [1.22744706e-10]\n",
      "descent = [1.20787076e-10]\n",
      "descent = [1.1886225e-10]\n"
     ]
    },
    {
     "name": "stdout",
     "output_type": "stream",
     "text": [
      "descent = [1.16969539e-10]\n",
      "descent = [1.15108491e-10]\n",
      "descent = [1.13278502e-10]\n",
      "descent = [1.11479009e-10]\n",
      "descent = [1.09709553e-10]\n"
     ]
    },
    {
     "name": "stdout",
     "output_type": "stream",
     "text": [
      "descent = [1.07969546e-10]\n",
      "descent = [1.06258449e-10]\n",
      "descent = [1.04575838e-10]\n",
      "descent = [1.02921183e-10]\n",
      "descent = [1.01293964e-10]\n"
     ]
    },
    {
     "name": "stdout",
     "output_type": "stream",
     "text": [
      "descent = [9.96938076e-11]\n",
      "descent = [9.81201548e-11]\n",
      "descent = [9.65725235e-11]\n",
      "descent = [9.50505584e-11]\n",
      "descent = [9.35536422e-11]\n"
     ]
    },
    {
     "name": "stdout",
     "output_type": "stream",
     "text": [
      "descent = [9.20815649e-11]\n",
      "descent = [9.06337979e-11]\n",
      "descent = [8.92098098e-11]\n",
      "descent = [8.78093729e-11]\n",
      "descent = [8.64320391e-11]\n"
     ]
    },
    {
     "name": "stdout",
     "output_type": "stream",
     "text": [
      "descent = [8.50772704e-11]\n",
      "descent = [8.37448783e-11]\n",
      "descent = [8.24343635e-11]\n",
      "descent = [8.11452831e-11]\n",
      "descent = [7.98774068e-11]\n"
     ]
    },
    {
     "name": "stdout",
     "output_type": "stream",
     "text": [
      "descent = [7.86303349e-11]\n",
      "descent = [7.740368e-11]\n",
      "descent = [7.6197092e-11]\n",
      "descent = [7.50102153e-11]\n",
      "descent = [7.38427683e-11]\n"
     ]
    },
    {
     "name": "stdout",
     "output_type": "stream",
     "text": [
      "descent = [7.26943968e-11]\n",
      "descent = [7.15647153e-11]\n",
      "descent = [7.04535049e-11]\n",
      "descent = [6.9360318e-11]\n",
      "descent = [6.82850745e-11]\n"
     ]
    },
    {
     "name": "stdout",
     "output_type": "stream",
     "text": [
      "descent = [6.72271522e-11]\n",
      "descent = [6.61864769e-11]\n",
      "descent = [6.51627639e-11]\n",
      "descent = [6.41556577e-11]\n",
      "descent = [6.31648551e-11]\n"
     ]
    },
    {
     "name": "stdout",
     "output_type": "stream",
     "text": [
      "descent = [6.21900658e-11]\n",
      "descent = [6.1231131e-11]\n",
      "descent = [6.02876934e-11]\n",
      "descent = [5.93594904e-11]\n",
      "descent = [5.84462527e-11]\n"
     ]
    },
    {
     "name": "stdout",
     "output_type": "stream",
     "text": [
      "descent = [5.75478111e-11]\n",
      "descent = [5.6663794e-11]\n",
      "descent = [5.57941007e-11]\n",
      "descent = [5.4938361e-11]\n",
      "descent = [5.40963762e-11]\n"
     ]
    },
    {
     "name": "stdout",
     "output_type": "stream",
     "text": [
      "descent = [5.32679981e-11]\n",
      "descent = [5.24528591e-11]\n",
      "descent = [5.16508306e-11]\n",
      "descent = [5.08617117e-11]\n",
      "descent = [5.00852284e-11]\n"
     ]
    },
    {
     "name": "stdout",
     "output_type": "stream",
     "text": [
      "descent = [4.9321145e-11]\n",
      "descent = [4.85693028e-11]\n",
      "descent = [4.78294992e-11]\n",
      "descent = [4.71015386e-11]\n",
      "descent = [4.63851711e-11]\n"
     ]
    },
    {
     "name": "stdout",
     "output_type": "stream",
     "text": [
      "descent = [4.56802027e-11]\n",
      "descent = [4.49864821e-11]\n",
      "descent = [4.43038852e-11]\n",
      "descent = [4.36320819e-11]\n",
      "descent = [4.29709907e-11]\n"
     ]
    },
    {
     "name": "stdout",
     "output_type": "stream",
     "text": [
      "descent = [4.23204541e-11]\n",
      "descent = [4.16802225e-11]\n",
      "descent = [4.10501438e-11]\n",
      "descent = [4.04300482e-11]\n",
      "descent = [3.98198042e-11]\n"
     ]
    },
    {
     "name": "stdout",
     "output_type": "stream",
     "text": [
      "descent = [3.92192031e-11]\n",
      "descent = [3.86280986e-11]\n",
      "descent = [3.80463454e-11]\n",
      "descent = [3.74737939e-11]\n",
      "descent = [3.69102911e-11]\n"
     ]
    },
    {
     "name": "stdout",
     "output_type": "stream",
     "text": [
      "descent = [3.6355693e-11]\n",
      "descent = [3.58098164e-11]\n",
      "descent = [3.52725383e-11]\n",
      "descent = [3.47437057e-11]\n",
      "descent = [3.42232253e-11]\n"
     ]
    },
    {
     "name": "stdout",
     "output_type": "stream",
     "text": [
      "descent = [3.37109099e-11]\n",
      "descent = [3.32066497e-11]\n",
      "descent = [3.27102679e-11]\n",
      "descent = [3.222173e-11]\n",
      "descent = [3.17407924e-11]\n"
     ]
    },
    {
     "name": "stdout",
     "output_type": "stream",
     "text": [
      "descent = [3.12673859e-11]\n",
      "descent = [3.08014451e-11]\n",
      "descent = [3.03427353e-11]\n",
      "descent = [2.98912173e-11]\n",
      "descent = [2.94467477e-11]\n"
     ]
    },
    {
     "name": "stdout",
     "output_type": "stream",
     "text": [
      "descent = [2.90092362e-11]\n",
      "descent = [2.85785098e-11]\n",
      "descent = [2.81545059e-11]\n",
      "descent = [2.77371019e-11]\n",
      "descent = [2.73261658e-11]\n"
     ]
    },
    {
     "name": "stdout",
     "output_type": "stream",
     "text": [
      "descent = [2.69216599e-11]\n",
      "descent = [2.65233964e-11]\n",
      "descent = [2.61313306e-11]\n",
      "descent = [2.57453497e-11]\n",
      "descent = [2.53653701e-11]\n"
     ]
    },
    {
     "name": "stdout",
     "output_type": "stream",
     "text": [
      "descent = [2.49912221e-11]\n",
      "descent = [2.46229189e-11]\n",
      "descent = [2.42602763e-11]\n",
      "descent = [2.39032736e-11]\n",
      "descent = [2.3551759e-11]\n"
     ]
    },
    {
     "name": "stdout",
     "output_type": "stream",
     "text": [
      "descent = [2.32056565e-11]\n",
      "descent = [2.2864923e-11]\n",
      "descent = [2.25294057e-11]\n",
      "descent = [2.21990687e-11]\n",
      "descent = [2.1873796e-11]\n"
     ]
    },
    {
     "name": "stdout",
     "output_type": "stream",
     "text": [
      "descent = [2.15535653e-11]\n",
      "descent = [2.12382075e-11]\n",
      "descent = [2.09277139e-11]\n",
      "descent = [2.0621991e-11]\n",
      "descent = [2.03209393e-11]\n"
     ]
    },
    {
     "name": "stdout",
     "output_type": "stream",
     "text": [
      "descent = [2.00244951e-11]\n",
      "descent = [1.97326161e-11]\n",
      "descent = [1.94451869e-11]\n",
      "descent = [1.91621238e-11]\n",
      "descent = [1.88834101e-11]\n"
     ]
    },
    {
     "name": "stdout",
     "output_type": "stream",
     "text": [
      "descent = [1.86089489e-11]\n",
      "descent = [1.83386826e-11]\n",
      "descent = [1.80725172e-11]\n",
      "descent = [1.78104141e-11]\n"
     ]
    },
    {
     "name": "stdout",
     "output_type": "stream",
     "text": [
      "descent = [1.75522808e-11]\n",
      "descent = [1.72980827e-11]\n",
      "descent = [1.70477639e-11]\n",
      "descent = [1.680122e-11]\n",
      "descent = [1.6558426e-11]\n"
     ]
    },
    {
     "name": "stdout",
     "output_type": "stream",
     "text": [
      "descent = [1.63193376e-11]\n",
      "descent = [1.60838502e-11]\n",
      "descent = [1.58519214e-11]\n",
      "descent = [1.56235024e-11]\n",
      "descent = [1.53985593e-11]\n"
     ]
    },
    {
     "name": "stdout",
     "output_type": "stream",
     "text": [
      "descent = [1.51770039e-11]\n",
      "descent = [1.49587932e-11]\n",
      "descent = [1.47438619e-11]\n",
      "descent = [1.4532187e-11]\n",
      "descent = [1.43236891e-11]\n"
     ]
    },
    {
     "name": "stdout",
     "output_type": "stream",
     "text": [
      "descent = [1.41183373e-11]\n",
      "descent = [1.39160576e-11]\n",
      "descent = [1.37168612e-11]\n",
      "descent = [1.3520602e-11]\n",
      "descent = [1.3327308e-11]\n"
     ]
    },
    {
     "name": "stdout",
     "output_type": "stream",
     "text": [
      "descent = [1.3136927e-11]\n",
      "descent = [1.29493948e-11]\n",
      "descent = [1.27646697e-11]\n",
      "descent = [1.25827183e-11]\n",
      "descent = [1.24034633e-11]\n"
     ]
    },
    {
     "name": "stdout",
     "output_type": "stream",
     "text": [
      "descent = [1.22269026e-11]\n",
      "descent = [1.20529944e-11]\n",
      "descent = [1.18816712e-11]\n",
      "descent = [1.17128923e-11]\n",
      "descent = [1.1546637e-11]\n"
     ]
    },
    {
     "name": "stdout",
     "output_type": "stream",
     "text": [
      "descent = [1.13828395e-11]\n",
      "descent = [1.12215219e-11]\n",
      "descent = [1.10625622e-11]\n",
      "descent = [1.09059801e-11]\n",
      "descent = [1.07517292e-11]\n"
     ]
    },
    {
     "name": "stdout",
     "output_type": "stream",
     "text": [
      "descent = [1.05997696e-11]\n",
      "descent = [1.04500643e-11]\n",
      "descent = [1.03025717e-11]\n",
      "descent = [1.01572584e-11]\n",
      "descent = [1.00140962e-11]\n"
     ]
    },
    {
     "name": "stdout",
     "output_type": "stream",
     "text": [
      "descent = [9.87304073e-12]\n",
      "descent = [9.73409882e-12]\n",
      "descent = [9.5971769e-12]\n",
      "descent = [9.46231169e-12]\n",
      "descent = [9.32940086e-12]\n"
     ]
    },
    {
     "name": "stdout",
     "output_type": "stream",
     "text": [
      "descent = [9.19846003e-12]\n",
      "descent = [9.0694538e-12]\n",
      "descent = [8.94234306e-12]\n",
      "descent = [8.81711587e-12]\n",
      "descent = [8.69371586e-12]\n"
     ]
    },
    {
     "name": "stdout",
     "output_type": "stream",
     "text": [
      "descent = [8.57212369e-12]\n",
      "descent = [8.45231674e-12]\n",
      "descent = [8.33427429e-12]\n",
      "descent = [8.21794952e-12]\n",
      "descent = [8.10334265e-12]\n"
     ]
    },
    {
     "name": "stdout",
     "output_type": "stream",
     "text": [
      "descent = [7.99040521e-12]\n",
      "descent = [7.87911947e-12]\n",
      "descent = [7.76946295e-12]\n",
      "descent = [7.66139413e-12]\n",
      "descent = [7.55491542e-12]\n"
     ]
    },
    {
     "name": "stdout",
     "output_type": "stream",
     "text": [
      "descent = [7.44997217e-12]\n",
      "descent = [7.34659182e-12]\n",
      "descent = [7.24468809e-12]\n",
      "descent = [7.14427799e-12]\n",
      "descent = [7.04534343e-12]\n"
     ]
    },
    {
     "name": "stdout",
     "output_type": "stream",
     "text": [
      "descent = [6.94782267e-12]\n",
      "descent = [6.85172045e-12]\n",
      "descent = [6.75703416e-12]\n",
      "descent = [6.66369272e-12]\n",
      "descent = [6.57171166e-12]\n"
     ]
    },
    {
     "name": "stdout",
     "output_type": "stream",
     "text": [
      "descent = [6.48107414e-12]\n",
      "descent = [6.39174436e-12]\n",
      "descent = [6.30371094e-12]\n",
      "descent = [6.21694529e-12]\n",
      "descent = [6.13142621e-12]\n"
     ]
    },
    {
     "name": "stdout",
     "output_type": "stream",
     "text": [
      "descent = [6.04715042e-12]\n",
      "descent = [5.96407965e-12]\n",
      "descent = [5.88220864e-12]\n",
      "descent = [5.80152223e-12]\n",
      "descent = [5.72200165e-12]\n"
     ]
    },
    {
     "name": "stdout",
     "output_type": "stream",
     "text": [
      "descent = [5.6436222e-12]\n",
      "descent = [5.5663731e-12]\n",
      "descent = [5.49022358e-12]\n",
      "descent = [5.41516654e-12]\n",
      "descent = [5.34118705e-12]\n"
     ]
    },
    {
     "name": "stdout",
     "output_type": "stream",
     "text": [
      "descent = [5.26826618e-12]\n",
      "descent = [5.19639481e-12]\n",
      "descent = [5.12556046e-12]\n",
      "descent = [5.05572442e-12]\n",
      "descent = [4.98688964e-12]\n"
     ]
    },
    {
     "name": "stdout",
     "output_type": "stream",
     "text": [
      "descent = [4.91903995e-12]\n",
      "descent = [4.8521656e-12]\n",
      "descent = [4.78625038e-12]\n",
      "descent = [4.72125986e-12]\n",
      "descent = [4.6571881e-12]\n"
     ]
    },
    {
     "name": "stdout",
     "output_type": "stream",
     "text": [
      "descent = [4.59406353e-12]\n",
      "descent = [4.53179861e-12]\n",
      "descent = [4.4704402e-12]\n",
      "descent = [4.40995527e-12]\n",
      "descent = [4.35030955e-12]\n"
     ]
    },
    {
     "name": "stdout",
     "output_type": "stream",
     "text": [
      "descent = [4.29152606e-12]\n",
      "descent = [4.23356393e-12]\n",
      "descent = [4.1764392e-12]\n",
      "descent = [4.12012223e-12]\n",
      "descent = [4.06458894e-12]\n"
     ]
    },
    {
     "name": "stdout",
     "output_type": "stream",
     "text": [
      "descent = [4.00985417e-12]\n",
      "descent = [3.9558827e-12]\n",
      "descent = [3.90267279e-12]\n",
      "descent = [3.85020939e-12]\n",
      "descent = [3.79851344e-12]\n"
     ]
    },
    {
     "name": "stdout",
     "output_type": "stream",
     "text": [
      "descent = [3.7475252e-12]\n",
      "descent = [3.69725591e-12]\n",
      "descent = [3.6476935e-12]\n",
      "descent = [3.59882975e-12]\n",
      "descent = [3.55065402e-12]\n"
     ]
    },
    {
     "name": "stdout",
     "output_type": "stream",
     "text": [
      "descent = [3.50315212e-12]\n",
      "descent = [3.45631397e-12]\n",
      "descent = [3.41014281e-12]\n",
      "descent = [3.36462056e-12]\n",
      "descent = [3.31971805e-12]\n"
     ]
    },
    {
     "name": "stdout",
     "output_type": "stream",
     "text": [
      "descent = [3.27546014e-12]\n",
      "descent = [3.23182093e-12]\n",
      "descent = [3.18878601e-12]\n",
      "descent = [3.14635312e-12]\n",
      "descent = [3.10451934e-12]\n"
     ]
    },
    {
     "name": "stdout",
     "output_type": "stream",
     "text": [
      "descent = [3.06325339e-12]\n",
      "descent = [3.02257557e-12]\n",
      "descent = [2.98246016e-12]\n",
      "descent = [2.94291252e-12]\n",
      "descent = [2.90389894e-12]\n"
     ]
    },
    {
     "name": "stdout",
     "output_type": "stream",
     "text": [
      "descent = [2.86544744e-12]\n",
      "descent = [2.8275138e-12]\n",
      "descent = [2.79011305e-12]\n",
      "descent = [2.75323761e-12]\n",
      "descent = [2.71686339e-12]\n"
     ]
    },
    {
     "name": "stdout",
     "output_type": "stream",
     "text": [
      "descent = [2.68099485e-12]\n",
      "descent = [2.64561934e-12]\n",
      "descent = [2.61074847e-12]\n",
      "descent = [2.57634542e-12]\n",
      "descent = [2.54242464e-12]\n"
     ]
    },
    {
     "name": "stdout",
     "output_type": "stream",
     "text": [
      "descent = [2.50896879e-12]\n",
      "descent = [2.47598069e-12]\n",
      "descent = [2.44343975e-12]\n",
      "descent = [2.41136751e-12]\n",
      "descent = [2.37972165e-12]\n"
     ]
    },
    {
     "name": "stdout",
     "output_type": "stream",
     "text": [
      "descent = [2.34851552e-12]\n",
      "descent = [2.31772576e-12]\n",
      "descent = [2.28737545e-12]\n",
      "descent = [2.25743788e-12]\n",
      "descent = [2.22790585e-12]\n"
     ]
    },
    {
     "name": "stdout",
     "output_type": "stream",
     "text": [
      "descent = [2.1987833e-12]\n",
      "descent = [2.17006123e-12]\n",
      "descent = [2.14173829e-12]\n",
      "descent = [2.11379234e-12]\n",
      "descent = [2.0862346e-12]\n"
     ]
    },
    {
     "name": "stdout",
     "output_type": "stream",
     "text": [
      "descent = [2.05904518e-12]\n",
      "descent = [2.03223935e-12]\n",
      "descent = [2.00579119e-12]\n",
      "descent = [1.97972356e-12]\n",
      "descent = [1.95397837e-12]\n"
     ]
    },
    {
     "name": "stdout",
     "output_type": "stream",
     "text": [
      "descent = [1.92861214e-12]\n",
      "descent = [1.90358171e-12]\n",
      "descent = [1.87888604e-12]\n",
      "descent = [1.85453448e-12]\n",
      "descent = [1.83051652e-12]\n"
     ]
    },
    {
     "name": "stdout",
     "output_type": "stream",
     "text": [
      "descent = [1.80681443e-12]\n",
      "descent = [1.78344103e-12]\n",
      "descent = [1.76038918e-12]\n",
      "descent = [1.73764573e-12]\n",
      "descent = [1.71520355e-12]\n"
     ]
    },
    {
     "name": "stdout",
     "output_type": "stream",
     "text": [
      "descent = [1.69307528e-12]\n",
      "descent = [1.67124597e-12]\n",
      "descent = [1.64971004e-12]\n",
      "descent = [1.62846363e-12]\n",
      "descent = [1.60750605e-12]\n"
     ]
    },
    {
     "name": "stdout",
     "output_type": "stream",
     "text": [
      "descent = [1.58682668e-12]\n",
      "descent = [1.56643268e-12]\n",
      "descent = [1.54631346e-12]\n",
      "descent = [1.52647083e-12]\n",
      "descent = [1.50688707e-12]\n"
     ]
    },
    {
     "name": "stdout",
     "output_type": "stream",
     "text": [
      "descent = [1.48756399e-12]\n",
      "descent = [1.4685045e-12]\n",
      "descent = [1.44970022e-12]\n",
      "descent = [1.43115396e-12]\n",
      "descent = [1.41285047e-12]\n"
     ]
    },
    {
     "name": "stdout",
     "output_type": "stream",
     "text": [
      "descent = [1.39479648e-12]\n",
      "descent = [1.376982e-12]\n",
      "descent = [1.3594073e-12]\n",
      "descent = [1.34206809e-12]\n",
      "descent = [1.32495949e-12]\n"
     ]
    },
    {
     "name": "stdout",
     "output_type": "stream",
     "text": [
      "descent = [1.30807903e-12]\n",
      "descent = [1.29143405e-12]\n",
      "descent = [1.27500059e-12]\n",
      "descent = [1.25878684e-12]\n",
      "descent = [1.24278985e-12]\n"
     ]
    },
    {
     "name": "stdout",
     "output_type": "stream",
     "text": [
      "descent = [1.22700831e-12]\n",
      "descent = [1.21144427e-12]\n",
      "descent = [1.19608457e-12]\n",
      "descent = [1.18091438e-12]\n",
      "descent = [1.16595975e-12]\n"
     ]
    },
    {
     "name": "stdout",
     "output_type": "stream",
     "text": [
      "descent = [1.15120468e-12]\n",
      "descent = [1.13664603e-12]\n",
      "descent = [1.12227343e-12]\n",
      "descent = [1.10809282e-12]\n",
      "descent = [1.09409763e-12]\n"
     ]
    },
    {
     "name": "stdout",
     "output_type": "stream",
     "text": [
      "descent = [1.08029617e-12]\n",
      "descent = [1.06667451e-12]\n",
      "descent = [1.05323107e-12]\n",
      "descent = [1.03996547e-12]\n",
      "descent = [1.02687248e-12]\n"
     ]
    },
    {
     "name": "stdout",
     "output_type": "stream",
     "text": [
      "descent = [1.01395646e-12]\n",
      "descent = [1.00121215e-12]\n",
      "descent = [9.88632583e-13]\n",
      "descent = [9.76223279e-13]\n",
      "descent = [9.63972399e-13]\n"
     ]
    },
    {
     "name": "stdout",
     "output_type": "stream",
     "text": [
      "descent = [9.51885746e-13]\n",
      "descent = [9.39960908e-13]\n",
      "descent = [9.28183972e-13]\n",
      "descent = [9.16572299e-13]\n",
      "descent = [9.05104179e-13]\n"
     ]
    },
    {
     "name": "stdout",
     "output_type": "stream",
     "text": [
      "descent = [8.93791489e-13]\n",
      "descent = [8.82625783e-13]\n",
      "descent = [8.71608956e-13]\n",
      "descent = [8.60738174e-13]\n",
      "descent = [8.50004227e-13]\n"
     ]
    },
    {
     "name": "stdout",
     "output_type": "stream",
     "text": [
      "descent = [8.39407934e-13]\n",
      "descent = [8.28958372e-13]\n",
      "descent = [8.18633635e-13]\n",
      "descent = [8.08455786e-13]\n",
      "descent = [7.98410154e-13]\n"
     ]
    },
    {
     "name": "stdout",
     "output_type": "stream",
     "text": [
      "descent = [7.8848838e-13]\n",
      "descent = [7.7870033e-13]\n",
      "descent = [7.69045285e-13]\n",
      "descent = [7.59505984e-13]\n",
      "descent = [7.50093914e-13]\n"
     ]
    },
    {
     "name": "stdout",
     "output_type": "stream",
     "text": [
      "descent = [7.40805412e-13]\n",
      "descent = [7.3163633e-13]\n",
      "descent = [7.22586127e-13]\n",
      "descent = [7.13654262e-13]\n",
      "descent = [7.04841349e-13]\n"
     ]
    },
    {
     "name": "stdout",
     "output_type": "stream",
     "text": [
      "descent = [6.96133468e-13]\n",
      "descent = [6.87547718e-13]\n",
      "descent = [6.7906869e-13]\n",
      "descent = [6.70703733e-13]\n",
      "descent = [6.62442163e-13]\n"
     ]
    },
    {
     "name": "stdout",
     "output_type": "stream",
     "text": [
      "descent = [6.54290965e-13]\n",
      "descent = [6.4624553e-13]\n",
      "descent = [6.38302974e-13]\n",
      "descent = [6.30455485e-13]\n",
      "descent = [6.22715984e-13]\n"
     ]
    },
    {
     "name": "stdout",
     "output_type": "stream",
     "text": [
      "descent = [6.15074311e-13]\n",
      "descent = [6.07536867e-13]\n",
      "descent = [6.00087879e-13]\n",
      "descent = [5.92736644e-13]\n",
      "descent = [5.85481042e-13]\n"
     ]
    },
    {
     "name": "stdout",
     "output_type": "stream",
     "text": [
      "descent = [5.78320631e-13]\n",
      "descent = [5.71245706e-13]\n",
      "descent = [5.64270545e-13]\n",
      "descent = [5.57384682e-13]\n"
     ]
    },
    {
     "name": "stdout",
     "output_type": "stream",
     "text": [
      "descent = [5.50583228e-13]\n",
      "descent = [5.4386643e-13]\n",
      "descent = [5.37239289e-13]\n",
      "descent = [5.30693834e-13]\n",
      "descent = [5.24235309e-13]\n"
     ]
    },
    {
     "name": "stdout",
     "output_type": "stream",
     "text": [
      "descent = [5.17861325e-13]\n",
      "descent = [5.11562438e-13]\n",
      "descent = [5.05346195e-13]\n",
      "descent = [4.9920843e-13]\n",
      "descent = [4.9315296e-13]\n"
     ]
    },
    {
     "name": "stdout",
     "output_type": "stream",
     "text": [
      "descent = [4.87169845e-13]\n",
      "descent = [4.81265548e-13]\n",
      "descent = [4.75434895e-13]\n",
      "descent = [4.69679721e-13]\n",
      "descent = [4.63996534e-13]\n"
     ]
    },
    {
     "name": "stdout",
     "output_type": "stream",
     "text": [
      "descent = [4.58383389e-13]\n",
      "descent = [4.5285103e-13]\n",
      "descent = [4.47378301e-13]\n",
      "descent = [4.41977333e-13]\n",
      "descent = [4.36646237e-13]\n"
     ]
    },
    {
     "name": "stdout",
     "output_type": "stream",
     "text": [
      "descent = [4.31383064e-13]\n",
      "descent = [4.26185769e-13]\n",
      "descent = [4.21057287e-13]\n",
      "descent = [4.15986724e-13]\n",
      "descent = [4.10982911e-13]\n"
     ]
    },
    {
     "name": "stdout",
     "output_type": "stream",
     "text": [
      "descent = [4.06045787e-13]\n",
      "descent = [4.01165551e-13]\n",
      "descent = [3.96352123e-13]\n",
      "descent = [3.91594867e-13]\n",
      "descent = [3.86900909e-13]\n"
     ]
    },
    {
     "name": "stdout",
     "output_type": "stream",
     "text": [
      "descent = [3.8226486e-13]\n",
      "descent = [3.77688359e-13]\n",
      "descent = [3.73167579e-13]\n",
      "descent = [3.68703618e-13]\n",
      "descent = [3.64292615e-13]\n"
     ]
    },
    {
     "name": "stdout",
     "output_type": "stream",
     "text": [
      "descent = [3.59941674e-13]\n",
      "descent = [3.55644457e-13]\n",
      "descent = [3.51402162e-13]\n",
      "descent = [3.47206403e-13]\n",
      "descent = [3.43074545e-13]\n"
     ]
    },
    {
     "name": "stdout",
     "output_type": "stream",
     "text": [
      "descent = [3.38987105e-13]\n",
      "descent = [3.34948036e-13]\n",
      "descent = [3.30962982e-13]\n",
      "descent = [3.27027846e-13]\n",
      "descent = [3.23146448e-13]\n"
     ]
    },
    {
     "name": "stdout",
     "output_type": "stream",
     "text": [
      "descent = [3.19305729e-13]\n",
      "descent = [3.15518305e-13]\n",
      "descent = [3.11774076e-13]\n",
      "descent = [3.08072738e-13]\n",
      "descent = [3.04425528e-13]\n"
     ]
    },
    {
     "name": "stdout",
     "output_type": "stream",
     "text": [
      "descent = [3.00819628e-13]\n",
      "descent = [2.97259613e-13]\n",
      "descent = [2.93747863e-13]\n",
      "descent = [2.90274406e-13]\n",
      "descent = [2.8684181e-13]\n"
     ]
    },
    {
     "name": "stdout",
     "output_type": "stream",
     "text": [
      "descent = [2.83458854e-13]\n",
      "descent = [2.80116204e-13]\n",
      "descent = [2.76811257e-13]\n",
      "descent = [2.73546169e-13]\n",
      "descent = [2.70324908e-13]\n"
     ]
    },
    {
     "name": "stdout",
     "output_type": "stream",
     "text": [
      "descent = [2.67142763e-13]\n",
      "descent = [2.64001994e-13]\n",
      "descent = [2.60896163e-13]\n",
      "descent = [2.5782984e-13]\n",
      "descent = [2.5480215e-13]\n"
     ]
    },
    {
     "name": "stdout",
     "output_type": "stream",
     "text": [
      "descent = [2.51812106e-13]\n",
      "descent = [2.48858334e-13]\n",
      "descent = [2.45940999e-13]\n",
      "descent = [2.43059103e-13]\n"
     ]
    },
    {
     "name": "stdout",
     "output_type": "stream",
     "text": [
      "descent = [2.40212547e-13]\n",
      "descent = [2.37403857e-13]\n",
      "descent = [2.34627511e-13]\n",
      "descent = [2.31882734e-13]\n",
      "descent = [2.29176584e-13]\n"
     ]
    },
    {
     "name": "stdout",
     "output_type": "stream",
     "text": [
      "descent = [2.26499671e-13]\n",
      "descent = [2.23855328e-13]\n",
      "descent = [2.21244497e-13]\n",
      "descent = [2.18665015e-13]\n",
      "descent = [2.16118415e-13]\n"
     ]
    },
    {
     "name": "stdout",
     "output_type": "stream",
     "text": [
      "descent = [2.13602957e-13]\n",
      "descent = [2.11118995e-13]\n",
      "descent = [2.08662408e-13]\n",
      "descent = [2.06237784e-13]\n",
      "descent = [2.03843439e-13]\n"
     ]
    },
    {
     "name": "stdout",
     "output_type": "stream",
     "text": [
      "descent = [2.01475972e-13]\n",
      "descent = [1.99139147e-13]\n",
      "descent = [1.96830081e-13]\n",
      "descent = [1.94546882e-13]\n",
      "descent = [1.9229415e-13]\n"
     ]
    },
    {
     "name": "stdout",
     "output_type": "stream",
     "text": [
      "descent = [1.90071755e-13]\n",
      "descent = [1.87873079e-13]\n",
      "descent = [1.85703625e-13]\n",
      "descent = [1.83554062e-13]\n",
      "descent = [1.81435966e-13]\n"
     ]
    },
    {
     "name": "stdout",
     "output_type": "stream",
     "text": [
      "descent = [1.79342788e-13]\n",
      "descent = [1.77274036e-13]\n",
      "descent = [1.75231227e-13]\n",
      "descent = [1.73209915e-13]\n",
      "descent = [1.7121752e-13]\n"
     ]
    },
    {
     "name": "stdout",
     "output_type": "stream",
     "text": [
      "descent = [1.69246194e-13]\n",
      "descent = [1.67298158e-13]\n",
      "descent = [1.65377706e-13]\n",
      "descent = [1.63477079e-13]\n",
      "descent = [1.61600361e-13]\n"
     ]
    },
    {
     "name": "stdout",
     "output_type": "stream",
     "text": [
      "descent = [1.5974757e-13]\n",
      "descent = [1.57915279e-13]\n",
      "descent = [1.56104033e-13]\n",
      "descent = [1.54316387e-13]\n",
      "descent = [1.52549728e-13]\n"
     ]
    },
    {
     "name": "stdout",
     "output_type": "stream",
     "text": [
      "descent = [1.50801431e-13]\n",
      "descent = [1.49077467e-13]\n",
      "descent = [1.47374313e-13]\n",
      "descent = [1.45691899e-13]\n",
      "descent = [1.44028553e-13]\n"
     ]
    },
    {
     "name": "stdout",
     "output_type": "stream",
     "text": [
      "descent = [1.42387215e-13]\n",
      "descent = [1.40762621e-13]\n",
      "descent = [1.39157992e-13]\n",
      "descent = [1.37572035e-13]\n",
      "descent = [1.36008044e-13]\n"
     ]
    },
    {
     "name": "stdout",
     "output_type": "stream",
     "text": [
      "descent = [1.34462009e-13]\n",
      "descent = [1.32932341e-13]\n",
      "descent = [1.31420354e-13]\n",
      "descent = [1.29929782e-13]\n",
      "descent = [1.28453666e-13]\n"
     ]
    },
    {
     "name": "stdout",
     "output_type": "stream",
     "text": [
      "descent = [1.26996136e-13]\n",
      "descent = [1.25557547e-13]\n",
      "descent = [1.24132117e-13]\n",
      "descent = [1.2272791e-13]\n",
      "descent = [1.21340122e-13]\n"
     ]
    },
    {
     "name": "stdout",
     "output_type": "stream",
     "text": [
      "descent = [1.19964905e-13]\n",
      "descent = [1.18610345e-13]\n",
      "descent = [1.17268934e-13]\n",
      "descent = [1.15945128e-13]\n",
      "descent = [1.14637435e-13]\n"
     ]
    },
    {
     "name": "stdout",
     "output_type": "stream",
     "text": [
      "descent = [1.13343773e-13]\n",
      "descent = [1.12065506e-13]\n",
      "descent = [1.10803405e-13]\n",
      "descent = [1.09556039e-13]\n",
      "descent = [1.08321445e-13]\n"
     ]
    },
    {
     "name": "stdout",
     "output_type": "stream",
     "text": [
      "descent = [1.07104278e-13]\n",
      "descent = [1.05900215e-13]\n",
      "descent = [1.04709999e-13]\n",
      "descent = [1.0353324e-13]\n",
      "descent = [1.02370419e-13]\n"
     ]
    },
    {
     "name": "stdout",
     "output_type": "stream",
     "text": [
      "descent = [1.01223847e-13]\n",
      "descent = [1.00087212e-13]\n",
      "descent = [9.89673683e-14]\n",
      "descent = [9.78586962e-14]\n",
      "descent = [9.67636427e-14]\n"
     ]
    },
    {
     "name": "stdout",
     "output_type": "stream",
     "text": [
      "descent = [9.568233e-14]\n",
      "descent = [9.46113668e-14]\n",
      "descent = [9.35529094e-14]\n",
      "descent = [9.25090208e-14]\n",
      "descent = [9.14764268e-14]\n"
     ]
    },
    {
     "name": "stdout",
     "output_type": "stream",
     "text": [
      "descent = [9.04574977e-14]\n",
      "descent = [8.94475134e-14]\n",
      "descent = [8.84538999e-14]\n",
      "descent = [8.74684248e-14]\n",
      "descent = [8.64933132e-14]\n"
     ]
    },
    {
     "name": "stdout",
     "output_type": "stream",
     "text": [
      "descent = [8.55313263e-14]\n",
      "descent = [8.45799596e-14]\n",
      "descent = [8.36411778e-14]\n",
      "descent = [8.27121658e-14]\n",
      "descent = [8.17950526e-14]\n"
     ]
    },
    {
     "name": "stdout",
     "output_type": "stream",
     "text": [
      "descent = [8.08872018e-14]\n",
      "descent = [7.99907394e-14]\n",
      "descent = [7.91050879e-14]\n",
      "descent = [7.82292307e-14]\n",
      "descent = [7.7362367e-14]\n"
     ]
    },
    {
     "name": "stdout",
     "output_type": "stream",
     "text": [
      "descent = [7.65059694e-14]\n",
      "descent = [7.56603349e-14]\n",
      "descent = [7.48244167e-14]\n",
      "descent = [7.3998097e-14]\n",
      "descent = [7.31819191e-14]\n"
     ]
    },
    {
     "name": "stdout",
     "output_type": "stream",
     "text": [
      "descent = [7.23746099e-14]\n",
      "descent = [7.15765526e-14]\n",
      "descent = [7.07862712e-14]\n",
      "descent = [7.00078204e-14]\n",
      "descent = [6.92379586e-14]\n"
     ]
    },
    {
     "name": "stdout",
     "output_type": "stream",
     "text": [
      "descent = [6.84758655e-14]\n",
      "descent = [6.77238429e-14]\n",
      "descent = [6.69789258e-14]\n",
      "descent = [6.6242821e-14]\n",
      "descent = [6.55149711e-14]\n"
     ]
    },
    {
     "name": "stdout",
     "output_type": "stream",
     "text": [
      "descent = [6.4797437e-14]\n",
      "descent = [6.40858881e-14]\n",
      "descent = [6.33827289e-14]\n",
      "descent = [6.26893445e-14]\n",
      "descent = [6.20031603e-14]\n"
     ]
    },
    {
     "name": "stdout",
     "output_type": "stream",
     "text": [
      "descent = [6.13258504e-14]\n",
      "descent = [6.0655332e-14]\n",
      "descent = [5.99921145e-14]\n",
      "descent = [5.93367323e-14]\n",
      "descent = [5.86888125e-14]\n"
     ]
    },
    {
     "name": "stdout",
     "output_type": "stream",
     "text": [
      "descent = [5.80483496e-14]\n",
      "descent = [5.74151935e-14]\n",
      "descent = [5.679044e-14]\n",
      "descent = [5.61717558e-14]\n",
      "descent = [5.55601588e-14]\n"
     ]
    },
    {
     "name": "stdout",
     "output_type": "stream",
     "text": [
      "descent = [5.4955517e-14]\n",
      "descent = [5.43565234e-14]\n",
      "descent = [5.37654773e-14]\n",
      "descent = [5.3182086e-14]\n",
      "descent = [5.26048982e-14]\n"
     ]
    },
    {
     "name": "stdout",
     "output_type": "stream",
     "text": [
      "descent = [5.20347178e-14]\n",
      "descent = [5.14687389e-14]\n",
      "descent = [5.09115153e-14]\n",
      "descent = [5.03610421e-14]\n",
      "descent = [4.98146129e-14]\n"
     ]
    },
    {
     "name": "stdout",
     "output_type": "stream",
     "text": [
      "descent = [4.92760483e-14]\n",
      "descent = [4.87424328e-14]\n",
      "descent = [4.82156478e-14]\n",
      "descent = [4.76937416e-14]\n",
      "descent = [4.71792732e-14]\n"
     ]
    },
    {
     "name": "stdout",
     "output_type": "stream",
     "text": [
      "descent = [4.66710876e-14]\n",
      "descent = [4.61673659e-14]\n",
      "descent = [4.56704263e-14]\n",
      "descent = [4.51764316e-14]\n",
      "descent = [4.46892264e-14]\n"
     ]
    },
    {
     "name": "stdout",
     "output_type": "stream",
     "text": [
      "descent = [4.42088338e-14]\n",
      "descent = [4.37338217e-14]\n"
     ]
    },
    {
     "name": "stdout",
     "output_type": "stream",
     "text": [
      "descent = [4.32629863e-14]\n",
      "descent = [4.27977655e-14]\n"
     ]
    },
    {
     "name": "stdout",
     "output_type": "stream",
     "text": [
      "descent = [4.23382039e-14]\n",
      "descent = [4.18841281e-14]\n"
     ]
    },
    {
     "name": "stdout",
     "output_type": "stream",
     "text": [
      "descent = [4.143458e-14]\n",
      "descent = [4.09899518e-14]\n"
     ]
    },
    {
     "name": "stdout",
     "output_type": "stream",
     "text": [
      "descent = [4.05506062e-14]\n",
      "descent = [4.011763e-14]\n"
     ]
    },
    {
     "name": "stdout",
     "output_type": "stream",
     "text": [
      "descent = [3.9687151e-14]\n",
      "descent = [3.92614388e-14]\n"
     ]
    },
    {
     "name": "stdout",
     "output_type": "stream",
     "text": [
      "descent = [3.88427968e-14]\n",
      "descent = [3.84272746e-14]\n"
     ]
    },
    {
     "name": "stdout",
     "output_type": "stream",
     "text": [
      "descent = [3.80167969e-14]\n",
      "descent = [3.76108928e-14]\n"
     ]
    },
    {
     "name": "stdout",
     "output_type": "stream",
     "text": [
      "descent = [3.72090673e-14]\n",
      "descent = [3.6811555e-14]\n"
     ]
    },
    {
     "name": "stdout",
     "output_type": "stream",
     "text": [
      "descent = [3.64195021e-14]\n",
      "descent = [3.60316186e-14]\n"
     ]
    },
    {
     "name": "stdout",
     "output_type": "stream",
     "text": [
      "descent = [3.56474559e-14]\n",
      "descent = [3.52686591e-14]\n"
     ]
    },
    {
     "name": "stdout",
     "output_type": "stream",
     "text": [
      "descent = [3.489313e-14]\n",
      "descent = [3.45219432e-14]\n"
     ]
    },
    {
     "name": "stdout",
     "output_type": "stream",
     "text": [
      "descent = [3.41562247e-14]\n",
      "descent = [3.37928168e-14]\n"
     ]
    },
    {
     "name": "stdout",
     "output_type": "stream",
     "text": [
      "descent = [3.34341688e-14]\n",
      "descent = [3.30796165e-14]\n"
     ]
    },
    {
     "name": "stdout",
     "output_type": "stream",
     "text": [
      "descent = [3.27284578e-14]\n",
      "descent = [3.23811453e-14]\n"
     ]
    },
    {
     "name": "stdout",
     "output_type": "stream",
     "text": [
      "descent = [3.20391926e-14]\n",
      "descent = [3.16993662e-14]\n"
     ]
    },
    {
     "name": "stdout",
     "output_type": "stream",
     "text": [
      "descent = [3.1365109e-14]\n",
      "descent = [3.10330084e-14]\n"
     ]
    },
    {
     "name": "stdout",
     "output_type": "stream",
     "text": [
      "descent = [3.0703416e-14]\n",
      "descent = [3.03793154e-14]\n"
     ]
    },
    {
     "name": "stdout",
     "output_type": "stream",
     "text": [
      "descent = [3.00590581e-14]\n",
      "descent = [2.97409646e-14]\n",
      "descent = [2.94277514e-14]\n",
      "descent = [2.91179531e-14]\n"
     ]
    },
    {
     "name": "stdout",
     "output_type": "stream",
     "text": [
      "descent = [2.88103679e-14]\n",
      "descent = [2.85076088e-14]\n"
     ]
    },
    {
     "name": "stdout",
     "output_type": "stream",
     "text": [
      "descent = [2.82077124e-14]\n",
      "descent = [2.79108857e-14]\n"
     ]
    },
    {
     "name": "stdout",
     "output_type": "stream",
     "text": [
      "descent = [2.76168976e-14]\n",
      "descent = [2.73266796e-14]\n",
      "descent = [2.70389574e-14]\n"
     ]
    },
    {
     "name": "stdout",
     "output_type": "stream",
     "text": [
      "descent = [2.67563442e-14]\n",
      "descent = [2.64746063e-14]\n",
      "descent = [2.61980021e-14]\n",
      "descent = [2.59233143e-14]\n"
     ]
    },
    {
     "name": "stdout",
     "output_type": "stream",
     "text": [
      "descent = [2.56515354e-14]\n",
      "descent = [2.53827629e-14]\n"
     ]
    },
    {
     "name": "stdout",
     "output_type": "stream",
     "text": [
      "descent = [2.51164214e-14]\n",
      "descent = [2.48539205e-14]\n"
     ]
    },
    {
     "name": "stdout",
     "output_type": "stream",
     "text": [
      "descent = [2.45938153e-14]\n",
      "descent = [2.43368835e-14]\n",
      "descent = [2.4083536e-14]\n"
     ]
    },
    {
     "name": "stdout",
     "output_type": "stream",
     "text": [
      "descent = [2.38320888e-14]\n",
      "descent = [2.35836616e-14]\n",
      "descent = [2.33370256e-14]\n",
      "descent = [2.30936262e-14]\n",
      "descent = [2.2853521e-14]\n"
     ]
    },
    {
     "name": "stdout",
     "output_type": "stream",
     "text": [
      "descent = [2.26153357e-14]\n",
      "descent = [2.23800538e-14]\n"
     ]
    },
    {
     "name": "stdout",
     "output_type": "stream",
     "text": [
      "descent = [2.21480362e-14]\n",
      "descent = [2.19172573e-14]\n",
      "descent = [2.16894653e-14]\n",
      "descent = [2.14646226e-14]\n",
      "descent = [2.12417371e-14]\n"
     ]
    },
    {
     "name": "stdout",
     "output_type": "stream",
     "text": [
      "descent = [2.10210642e-14]\n",
      "descent = [2.08033256e-14]\n",
      "descent = [2.05880553e-14]\n",
      "descent = [2.03746887e-14]\n",
      "descent = [2.01632896e-14]\n"
     ]
    },
    {
     "name": "stdout",
     "output_type": "stream",
     "text": [
      "descent = [1.99551396e-14]\n",
      "descent = [1.97485238e-14]\n",
      "descent = [1.95448273e-14]\n",
      "descent = [1.9342846e-14]\n",
      "descent = [1.91422636e-14]\n"
     ]
    },
    {
     "name": "stdout",
     "output_type": "stream",
     "text": [
      "descent = [1.8945745e-14]\n",
      "descent = [1.87501183e-14]\n",
      "descent = [1.85570509e-14]\n",
      "descent = [1.83657598e-14]\n",
      "descent = [1.81768281e-14]\n"
     ]
    },
    {
     "name": "stdout",
     "output_type": "stream",
     "text": [
      "descent = [1.79889521e-14]\n",
      "descent = [1.78043659e-14]\n",
      "descent = [1.76209957e-14]\n",
      "descent = [1.74400003e-14]\n",
      "descent = [1.72606148e-14]\n"
     ]
    },
    {
     "name": "stdout",
     "output_type": "stream",
     "text": [
      "descent = [1.7083532e-14]\n",
      "descent = [1.690793e-14]\n",
      "descent = [1.67352656e-14]\n",
      "descent = [1.65636262e-14]\n",
      "descent = [1.63941568e-14]\n"
     ]
    },
    {
     "name": "stdout",
     "output_type": "stream",
     "text": [
      "descent = [1.62254736e-14]\n",
      "descent = [1.60599422e-14]\n",
      "descent = [1.58953281e-14]\n",
      "descent = [1.57329306e-14]\n",
      "descent = [1.55718238e-14]\n"
     ]
    },
    {
     "name": "stdout",
     "output_type": "stream",
     "text": [
      "descent = [1.54130021e-14]\n",
      "descent = [1.52559357e-14]\n",
      "descent = [1.5099385e-14]\n",
      "descent = [1.49460336e-14]\n",
      "descent = [1.47940518e-14]\n"
     ]
    },
    {
     "name": "stdout",
     "output_type": "stream",
     "text": [
      "descent = [1.46423131e-14]\n",
      "descent = [1.44931827e-14]\n",
      "descent = [1.43460227e-14]\n",
      "descent = [1.41999718e-14]\n",
      "descent = [1.40558941e-14]\n"
     ]
    },
    {
     "name": "stdout",
     "output_type": "stream",
     "text": [
      "descent = [1.39130313e-14]\n",
      "descent = [1.37712158e-14]\n",
      "descent = [1.36317772e-14]\n",
      "descent = [1.34933366e-14]\n",
      "descent = [1.33568286e-14]\n"
     ]
    },
    {
     "name": "stdout",
     "output_type": "stream",
     "text": [
      "descent = [1.32215873e-14]\n",
      "descent = [1.3087226e-14]\n",
      "descent = [1.29548323e-14]\n",
      "descent = [1.28238516e-14]\n",
      "descent = [1.26938795e-14]\n"
     ]
    },
    {
     "name": "stdout",
     "output_type": "stream",
     "text": [
      "descent = [1.2565633e-14]\n",
      "descent = [1.24388901e-14]\n",
      "descent = [1.23129683e-14]\n",
      "descent = [1.21889926e-14]\n",
      "descent = [1.20655424e-14]\n"
     ]
    },
    {
     "name": "stdout",
     "output_type": "stream",
     "text": [
      "descent = [1.19441537e-14]\n",
      "descent = [1.18233874e-14]\n",
      "descent = [1.17039599e-14]\n",
      "descent = [1.15866884e-14]\n",
      "descent = [1.14696803e-14]\n"
     ]
    },
    {
     "name": "stdout",
     "output_type": "stream",
     "text": [
      "descent = [1.13544624e-14]\n",
      "descent = [1.12407296e-14]\n",
      "descent = [1.11277042e-14]\n",
      "descent = [1.10158018e-14]\n",
      "descent = [1.09047848e-14]\n"
     ]
    },
    {
     "name": "stdout",
     "output_type": "stream",
     "text": [
      "descent = [1.07954873e-14]\n",
      "descent = [1.06875175e-14]\n",
      "descent = [1.05799872e-14]\n",
      "descent = [1.04743185e-14]\n",
      "descent = [1.03692097e-14]\n"
     ]
    },
    {
     "name": "stdout",
     "output_type": "stream",
     "text": [
      "descent = [1.02655648e-14]\n",
      "descent = [1.01627102e-14]\n",
      "descent = [1.00613592e-14]\n",
      "descent = [9.96091446e-15]\n",
      "descent = [9.86093465e-15]\n"
     ]
    },
    {
     "name": "stdout",
     "output_type": "stream",
     "text": [
      "descent = [9.76242224e-15]\n",
      "descent = [9.66518644e-15]\n",
      "descent = [9.56878365e-15]\n",
      "descent = [9.47369432e-15]\n"
     ]
    },
    {
     "name": "stdout",
     "output_type": "stream",
     "text": [
      "descent = [9.37905606e-15]\n",
      "descent = [9.28564741e-15]\n",
      "descent = [9.19311112e-15]\n",
      "descent = [9.10162741e-15]\n"
     ]
    },
    {
     "name": "stdout",
     "output_type": "stream",
     "text": [
      "descent = [9.01111039e-15]\n",
      "descent = [8.92119272e-15]\n",
      "descent = [8.8327581e-15]\n",
      "descent = [8.74505963e-15]\n",
      "descent = [8.65853851e-15]\n"
     ]
    },
    {
     "name": "stdout",
     "output_type": "stream",
     "text": [
      "descent = [8.57267626e-15]\n",
      "descent = [8.4874333e-15]\n",
      "descent = [8.40371871e-15]\n",
      "descent = [8.32045441e-15]\n",
      "descent = [8.23785882e-15]\n"
     ]
    },
    {
     "name": "stdout",
     "output_type": "stream",
     "text": [
      "descent = [8.15603807e-15]\n",
      "descent = [8.0757637e-15]\n",
      "descent = [7.9957089e-15]\n",
      "descent = [7.91683129e-15]\n",
      "descent = [7.83867985e-15]\n"
     ]
    },
    {
     "name": "stdout",
     "output_type": "stream",
     "text": [
      "descent = [7.7615513e-15]\n",
      "descent = [7.68445227e-15]\n",
      "descent = [7.60912432e-15]\n",
      "descent = [7.53398007e-15]\n",
      "descent = [7.45954184e-15]\n"
     ]
    },
    {
     "name": "stdout",
     "output_type": "stream",
     "text": [
      "descent = [7.38600547e-15]\n",
      "descent = [7.31369709e-15]\n"
     ]
    },
    {
     "name": "stdout",
     "output_type": "stream",
     "text": [
      "descent = [7.24185217e-15]\n",
      "descent = [7.17017459e-15]\n",
      "descent = [7.10007534e-15]\n",
      "descent = [7.0299559e-15]\n"
     ]
    },
    {
     "name": "stdout",
     "output_type": "stream",
     "text": [
      "descent = [6.96084478e-15]\n",
      "descent = [6.89269292e-15]\n"
     ]
    },
    {
     "name": "stdout",
     "output_type": "stream",
     "text": [
      "descent = [6.82506383e-15]\n",
      "descent = [6.75838768e-15]\n"
     ]
    },
    {
     "name": "stdout",
     "output_type": "stream",
     "text": [
      "descent = [6.69193924e-15]\n",
      "descent = [6.62591126e-15]\n"
     ]
    },
    {
     "name": "stdout",
     "output_type": "stream",
     "text": [
      "descent = [6.56165433e-15]\n",
      "descent = [6.49756347e-15]\n"
     ]
    },
    {
     "name": "stdout",
     "output_type": "stream",
     "text": [
      "descent = [6.434059e-15]\n",
      "descent = [6.3708436e-15]\n",
      "descent = [6.30858842e-15]\n",
      "descent = [6.24682287e-15]\n"
     ]
    },
    {
     "name": "stdout",
     "output_type": "stream",
     "text": [
      "descent = [6.18602823e-15]\n",
      "descent = [6.12593048e-15]\n",
      "descent = [6.06615526e-15]\n",
      "descent = [6.00708229e-15]\n",
      "descent = [5.94806176e-15]\n"
     ]
    },
    {
     "name": "stdout",
     "output_type": "stream",
     "text": [
      "descent = [5.89001909e-15]\n",
      "descent = [5.8332888e-15]\n",
      "descent = [5.77604237e-15]\n",
      "descent = [5.72034153e-15]\n",
      "descent = [5.66438131e-15]\n"
     ]
    },
    {
     "name": "stdout",
     "output_type": "stream",
     "text": [
      "descent = [5.60960119e-15]\n",
      "descent = [5.55481174e-15]\n",
      "descent = [5.50092946e-15]\n"
     ]
    },
    {
     "name": "stdout",
     "output_type": "stream",
     "text": [
      "descent = [5.44812898e-15]\n",
      "descent = [5.39479212e-15]\n",
      "descent = [5.34277298e-15]\n"
     ]
    },
    {
     "name": "stdout",
     "output_type": "stream",
     "text": [
      "descent = [5.29103244e-15]\n",
      "descent = [5.23949815e-15]\n",
      "descent = [5.18900236e-15]\n",
      "descent = [5.13865231e-15]\n",
      "descent = [5.08896443e-15]\n"
     ]
    },
    {
     "name": "stdout",
     "output_type": "stream",
     "text": [
      "descent = [5.04007004e-15]\n",
      "descent = [4.99152445e-15]\n",
      "descent = [4.94318212e-15]\n"
     ]
    },
    {
     "name": "stdout",
     "output_type": "stream",
     "text": [
      "descent = [4.89559637e-15]\n",
      "descent = [4.84839322e-15]\n",
      "descent = [4.80202592e-15]\n"
     ]
    },
    {
     "name": "stdout",
     "output_type": "stream",
     "text": [
      "descent = [4.75531281e-15]\n",
      "descent = [4.7096928e-15]\n",
      "descent = [4.66401189e-15]\n",
      "descent = [4.61929518e-15]\n"
     ]
    },
    {
     "name": "stdout",
     "output_type": "stream",
     "text": [
      "descent = [4.57501856e-15]\n",
      "descent = [4.53095277e-15]\n",
      "descent = [4.48773169e-15]\n"
     ]
    },
    {
     "name": "stdout",
     "output_type": "stream",
     "text": [
      "descent = [4.44435388e-15]\n",
      "descent = [4.40162249e-15]\n",
      "descent = [4.35944935e-15]\n",
      "descent = [4.31770132e-15]\n",
      "descent = [4.27644225e-15]\n"
     ]
    },
    {
     "name": "stdout",
     "output_type": "stream",
     "text": [
      "descent = [4.23524864e-15]\n",
      "descent = [4.19462751e-15]\n",
      "descent = [4.15468326e-15]\n",
      "descent = [4.11474905e-15]\n"
     ]
    },
    {
     "name": "stdout",
     "output_type": "stream",
     "text": [
      "descent = [4.07569174e-15]\n",
      "descent = [4.03706858e-15]\n",
      "descent = [3.99800814e-15]\n",
      "descent = [3.96012865e-15]\n",
      "descent = [3.92200776e-15]\n"
     ]
    },
    {
     "name": "stdout",
     "output_type": "stream",
     "text": [
      "descent = [3.88454759e-15]\n",
      "descent = [3.84773987e-15]\n",
      "descent = [3.81134825e-15]\n",
      "descent = [3.77488843e-15]\n"
     ]
    },
    {
     "name": "stdout",
     "output_type": "stream",
     "text": [
      "descent = [3.73883561e-15]\n",
      "descent = [3.70320298e-15]\n"
     ]
    },
    {
     "name": "stdout",
     "output_type": "stream",
     "text": [
      "descent = [3.66813687e-15]\n",
      "descent = [3.63318866e-15]\n",
      "descent = [3.59906498e-15]\n"
     ]
    },
    {
     "name": "stdout",
     "output_type": "stream",
     "text": [
      "descent = [3.56411645e-15]\n",
      "descent = [3.53052243e-15]\n",
      "descent = [3.49720825e-15]\n",
      "descent = [3.46413755e-15]\n",
      "descent = [3.43132139e-15]\n"
     ]
    },
    {
     "name": "stdout",
     "output_type": "stream",
     "text": [
      "descent = [3.39817504e-15]\n",
      "descent = [3.36640597e-15]\n",
      "descent = [3.33471632e-15]\n",
      "descent = [3.30270421e-15]\n",
      "descent = [3.27153205e-15]\n"
     ]
    },
    {
     "name": "stdout",
     "output_type": "stream",
     "text": [
      "descent = [3.24079733e-15]\n",
      "descent = [3.21017911e-15]\n",
      "descent = [3.179756e-15]\n",
      "descent = [3.14976003e-15]\n",
      "descent = [3.12015828e-15]\n"
     ]
    },
    {
     "name": "stdout",
     "output_type": "stream",
     "text": [
      "descent = [3.09073644e-15]\n",
      "descent = [3.06122601e-15]\n",
      "descent = [3.03288159e-15]\n",
      "descent = [3.00430921e-15]\n",
      "descent = [2.97603115e-15]\n"
     ]
    },
    {
     "name": "stdout",
     "output_type": "stream",
     "text": [
      "descent = [2.94796137e-15]\n",
      "descent = [2.92031689e-15]\n",
      "descent = [2.89272229e-15]\n",
      "descent = [2.86570577e-15]\n",
      "descent = [2.83878631e-15]\n"
     ]
    },
    {
     "name": "stdout",
     "output_type": "stream",
     "text": [
      "descent = [2.81192081e-15]\n",
      "descent = [2.78562125e-15]\n",
      "descent = [2.75948039e-15]\n",
      "descent = [2.7335411e-15]\n",
      "descent = [2.70821299e-15]\n"
     ]
    },
    {
     "name": "stdout",
     "output_type": "stream",
     "text": [
      "descent = [2.68266116e-15]\n",
      "descent = [2.6577594e-15]\n",
      "descent = [2.63270604e-15]\n",
      "descent = [2.60817895e-15]\n",
      "descent = [2.58368958e-15]\n"
     ]
    },
    {
     "name": "stdout",
     "output_type": "stream",
     "text": [
      "descent = [2.55937009e-15]\n",
      "descent = [2.53555493e-15]\n",
      "descent = [2.51209157e-15]\n",
      "descent = [2.48868144e-15]\n",
      "descent = [2.46553522e-15]\n"
     ]
    },
    {
     "name": "stdout",
     "output_type": "stream",
     "text": [
      "descent = [2.44229066e-15]\n",
      "descent = [2.41991686e-15]\n",
      "descent = [2.39702333e-15]\n",
      "descent = [2.37491678e-15]\n",
      "descent = [2.35275432e-15]\n"
     ]
    },
    {
     "name": "stdout",
     "output_type": "stream",
     "text": [
      "descent = [2.33090952e-15]\n",
      "descent = [2.30927118e-15]\n",
      "descent = [2.28755758e-15]\n",
      "descent = [2.26664877e-15]\n",
      "descent = [2.24546848e-15]\n"
     ]
    },
    {
     "name": "stdout",
     "output_type": "stream",
     "text": [
      "descent = [2.22471213e-15]\n",
      "descent = [2.20417924e-15]\n",
      "descent = [2.18350629e-15]\n",
      "descent = [2.16353489e-15]\n",
      "descent = [2.14342196e-15]\n"
     ]
    },
    {
     "name": "stdout",
     "output_type": "stream",
     "text": [
      "descent = [2.12346048e-15]\n",
      "descent = [2.10384948e-15]\n",
      "descent = [2.08438361e-15]\n",
      "descent = [2.06502341e-15]\n",
      "descent = [2.04593083e-15]\n"
     ]
    },
    {
     "name": "stdout",
     "output_type": "stream",
     "text": [
      "descent = [2.02716262e-15]\n",
      "descent = [2.00831782e-15]\n",
      "descent = [1.98979931e-15]\n",
      "descent = [1.97123294e-15]\n",
      "descent = [1.95321393e-15]\n"
     ]
    },
    {
     "name": "stdout",
     "output_type": "stream",
     "text": [
      "descent = [1.93552267e-15]\n",
      "descent = [1.91761801e-15]\n",
      "descent = [1.89985796e-15]\n",
      "descent = [1.88213217e-15]\n",
      "descent = [1.86509681e-15]\n"
     ]
    },
    {
     "name": "stdout",
     "output_type": "stream",
     "text": [
      "descent = [1.84792515e-15]\n",
      "descent = [1.83095978e-15]\n",
      "descent = [1.81409241e-15]\n",
      "descent = [1.79741312e-15]\n",
      "descent = [1.78087992e-15]\n"
     ]
    },
    {
     "name": "stdout",
     "output_type": "stream",
     "text": [
      "descent = [1.76468497e-15]\n",
      "descent = [1.74847002e-15]\n",
      "descent = [1.73234086e-15]\n",
      "descent = [1.71677861e-15]\n",
      "descent = [1.70080951e-15]\n"
     ]
    },
    {
     "name": "stdout",
     "output_type": "stream",
     "text": [
      "descent = [1.68526886e-15]\n",
      "descent = [1.6700951e-15]\n",
      "descent = [1.6548617e-15]\n",
      "descent = [1.63949624e-15]\n",
      "descent = [1.62455289e-15]\n"
     ]
    },
    {
     "name": "stdout",
     "output_type": "stream",
     "text": [
      "descent = [1.60967635e-15]\n",
      "descent = [1.59510402e-15]\n",
      "descent = [1.58039764e-15]\n",
      "descent = [1.56596687e-15]\n",
      "descent = [1.55161897e-15]\n"
     ]
    },
    {
     "name": "stdout",
     "output_type": "stream",
     "text": [
      "descent = [1.53771636e-15]\n",
      "descent = [1.5236455e-15]\n",
      "descent = [1.50970845e-15]\n",
      "descent = [1.4959803e-15]\n",
      "descent = [1.48251418e-15]\n"
     ]
    },
    {
     "name": "stdout",
     "output_type": "stream",
     "text": [
      "descent = [1.46921663e-15]\n",
      "descent = [1.45563394e-15]\n",
      "descent = [1.44238375e-15]\n",
      "descent = [1.4292518e-15]\n",
      "descent = [1.41645764e-15]\n"
     ]
    },
    {
     "name": "stdout",
     "output_type": "stream",
     "text": [
      "descent = [1.40344785e-15]\n",
      "descent = [1.39085794e-15]\n",
      "descent = [1.37825407e-15]\n",
      "descent = [1.36570196e-15]\n",
      "descent = [1.35334195e-15]\n"
     ]
    },
    {
     "name": "stdout",
     "output_type": "stream",
     "text": [
      "descent = [1.3412331e-15]\n",
      "descent = [1.32898506e-15]\n",
      "descent = [1.31711408e-15]\n",
      "descent = [1.30506133e-15]\n",
      "descent = [1.29339928e-15]\n"
     ]
    },
    {
     "name": "stdout",
     "output_type": "stream",
     "text": [
      "descent = [1.2817222e-15]\n",
      "descent = [1.26999843e-15]\n",
      "descent = [1.2585867e-15]\n",
      "descent = [1.2472104e-15]\n",
      "descent = [1.23593105e-15]\n"
     ]
    },
    {
     "name": "stdout",
     "output_type": "stream",
     "text": [
      "descent = [1.22479517e-15]\n",
      "descent = [1.21383303e-15]\n",
      "descent = [1.20287316e-15]\n",
      "descent = [1.19217329e-15]\n",
      "descent = [1.18143187e-15]\n"
     ]
    },
    {
     "name": "stdout",
     "output_type": "stream",
     "text": [
      "descent = [1.17082924e-15]\n",
      "descent = [1.16045317e-15]\n",
      "descent = [1.1499131e-15]\n",
      "descent = [1.13960204e-15]\n",
      "descent = [1.12926669e-15]\n"
     ]
    },
    {
     "name": "stdout",
     "output_type": "stream",
     "text": [
      "descent = [1.11941387e-15]\n",
      "descent = [1.10935915e-15]\n",
      "descent = [1.09928474e-15]\n",
      "descent = [1.08929617e-15]\n",
      "descent = [1.07950833e-15]\n"
     ]
    },
    {
     "name": "stdout",
     "output_type": "stream",
     "text": [
      "descent = [1.06994537e-15]\n",
      "descent = [1.06030923e-15]\n",
      "descent = [1.05081888e-15]\n",
      "descent = [1.04148214e-15]\n",
      "descent = [1.03225396e-15]\n"
     ]
    },
    {
     "name": "stdout",
     "output_type": "stream",
     "text": [
      "descent = [1.02312705e-15]\n",
      "descent = [1.01402163e-15]\n",
      "descent = [1.00490532e-15]\n",
      "descent = [9.95994391e-16]\n",
      "descent = [9.86950694e-16]\n"
     ]
    },
    {
     "name": "stdout",
     "output_type": "stream",
     "text": [
      "descent = [9.78241942e-16]\n",
      "descent = [9.69476951e-16]\n",
      "descent = [9.60785958e-16]\n",
      "descent = [9.52345867e-16]\n",
      "descent = [9.43894239e-16]\n"
     ]
    },
    {
     "name": "stdout",
     "output_type": "stream",
     "text": [
      "descent = [9.35554067e-16]\n",
      "descent = [9.27239635e-16]\n"
     ]
    },
    {
     "name": "stdout",
     "output_type": "stream",
     "text": [
      "descent = [9.1907911e-16]\n",
      "descent = [9.10707301e-16]\n"
     ]
    },
    {
     "name": "stdout",
     "output_type": "stream",
     "text": [
      "descent = [9.02925223e-16]\n",
      "descent = [8.94708709e-16]\n"
     ]
    },
    {
     "name": "stdout",
     "output_type": "stream",
     "text": [
      "descent = [8.86782297e-16]\n",
      "descent = [8.78852947e-16]\n"
     ]
    },
    {
     "name": "stdout",
     "output_type": "stream",
     "text": [
      "descent = [8.71183467e-16]\n",
      "descent = [8.63458233e-16]\n"
     ]
    },
    {
     "name": "stdout",
     "output_type": "stream",
     "text": [
      "descent = [8.55786058e-16]\n",
      "descent = [8.48291236e-16]\n"
     ]
    },
    {
     "name": "stdout",
     "output_type": "stream",
     "text": [
      "descent = [8.4079563e-16]\n",
      "descent = [8.33371519e-16]\n",
      "descent = [8.25936118e-16]\n",
      "descent = [8.18803372e-16]\n",
      "descent = [8.11358069e-16]\n"
     ]
    },
    {
     "name": "stdout",
     "output_type": "stream",
     "text": [
      "descent = [8.04350276e-16]\n",
      "descent = [7.97326667e-16]\n",
      "descent = [7.9021101e-16]\n",
      "descent = [7.83241431e-16]\n",
      "descent = [7.76367207e-16]\n"
     ]
    },
    {
     "name": "stdout",
     "output_type": "stream",
     "text": [
      "descent = [7.69516355e-16]\n",
      "descent = [7.62744632e-16]\n",
      "descent = [7.56163582e-16]\n",
      "descent = [7.49380685e-16]\n",
      "descent = [7.42927675e-16]\n"
     ]
    },
    {
     "name": "stdout",
     "output_type": "stream",
     "text": [
      "descent = [7.361876e-16]\n",
      "descent = [7.29845737e-16]\n",
      "descent = [7.23330655e-16]\n",
      "descent = [7.16971341e-16]\n",
      "descent = [7.10809863e-16]\n"
     ]
    },
    {
     "name": "stdout",
     "output_type": "stream",
     "text": [
      "descent = [7.04469497e-16]\n",
      "descent = [6.98509753e-16]\n",
      "descent = [6.92431578e-16]\n",
      "descent = [6.86252163e-16]\n",
      "descent = [6.80283846e-16]\n"
     ]
    },
    {
     "name": "stdout",
     "output_type": "stream",
     "text": [
      "descent = [6.74318436e-16]\n",
      "descent = [6.68465416e-16]\n",
      "descent = [6.62607031e-16]\n",
      "descent = [6.56811344e-16]\n",
      "descent = [6.51009598e-16]\n"
     ]
    },
    {
     "name": "stdout",
     "output_type": "stream",
     "text": [
      "descent = [6.45444288e-16]\n",
      "descent = [6.39891363e-16]\n"
     ]
    },
    {
     "name": "stdout",
     "output_type": "stream",
     "text": [
      "descent = [6.34149279e-16]\n",
      "descent = [6.28686629e-16]\n"
     ]
    },
    {
     "name": "stdout",
     "output_type": "stream",
     "text": [
      "descent = [6.23230354e-16]\n",
      "descent = [6.17871899e-16]\n"
     ]
    },
    {
     "name": "stdout",
     "output_type": "stream",
     "text": [
      "descent = [6.12398083e-16]\n",
      "descent = [6.07038598e-16]\n"
     ]
    },
    {
     "name": "stdout",
     "output_type": "stream",
     "text": [
      "descent = [6.01767643e-16]\n",
      "descent = [5.96682721e-16]\n",
      "descent = [5.9135389e-16]\n"
     ]
    },
    {
     "name": "stdout",
     "output_type": "stream",
     "text": [
      "descent = [5.86264988e-16]\n"
     ]
    }
   ],
   "source": [
    "b = np.zeros((1))\n",
    "w = np.zeros(8)  # All weights start from 0\n",
    "learn_rate=0.001\n",
    "\n",
    "temp_b=0\n",
    "temp_w=np.zeros(8)\n",
    "\n",
    "num_rows = training_data.shape[0]\n",
    "num_columns=8\n",
    "x_train=np.zeros((num_rows,num_columns))\n",
    "y_train=np.zeros(num_rows)\n",
    "\n",
    "for i in range(num_rows):\n",
    "    x_train[i] = fetch_row(\"training_data.csv\", i)\n",
    "y_train = pd.read_csv(\"training_data.csv\")[\"Weight\"]\n",
    "\n",
    "mean = np.mean(x_train, axis=0)\n",
    "std = np.std(x_train, axis=0)\n",
    "std[std == 0] = 1  # Prevent division by zero\n",
    "x_train = (x_train - mean) / std\n",
    "\n",
    "for iter in range(3):\n",
    "    for i in range(num_rows):\n",
    "        learn_rate = 0.01 / (1 + 0.001 * i)\n",
    "        for j in range(8):\n",
    "            des=Descent_w(x_train,y_train,num_rows,w,b,j)\n",
    "            temp_w[j]=w[j]-learn_rate*des\n",
    "        des_b=learn_rate*Descent_b(x_train,y_train,num_rows,w,b)\n",
    "        temp_b=b-des_b\n",
    "        for j in range(8):\n",
    "            w[j]=temp_w[j]\n",
    "        b=temp_b\n",
    "        print(f\"descent = {Descent(x_train,y_train,num_rows,w,b)}\")"
   ]
  },
  {
   "cell_type": "code",
   "execution_count": 11,
   "metadata": {
    "execution": {
     "iopub.execute_input": "2025-04-06T13:46:39.539021Z",
     "iopub.status.busy": "2025-04-06T13:46:39.538755Z",
     "iopub.status.idle": "2025-04-06T13:46:39.552969Z",
     "shell.execute_reply": "2025-04-06T13:46:39.552497Z"
    }
   },
   "outputs": [
    {
     "name": "stderr",
     "output_type": "stream",
     "text": [
      "C:\\Users\\kshit\\AppData\\Local\\Temp\\ipykernel_8628\\378531489.py:6: DeprecationWarning: Conversion of an array with ndim > 0 to a scalar is deprecated, and will error in future. Ensure you extract a single element from your array before performing this operation. (Deprecated NumPy 1.25.)\n",
      "  ratio[i]=np.dot(x_test[i],w)+b\n"
     ]
    },
    {
     "data": {
      "text/plain": [
       "array([  8.7851721 ,  36.18964973, -45.02130807,  -2.28342352,\n",
       "        -0.38380117,  23.57913542,  28.50323659, -64.74361559])"
      ]
     },
     "execution_count": 11,
     "metadata": {},
     "output_type": "execute_result"
    }
   ],
   "source": [
    "x_test=np.zeros((50,8))\n",
    "ratio=np.zeros(50)\n",
    "\n",
    "for i in range(50):\n",
    "    x_test[i]=fetch_row(\"testing_data.csv\",i)\n",
    "    ratio[i]=np.dot(x_test[i],w)+b\n",
    "\n",
    "mean = np.mean(x_test, axis=0)\n",
    "std = np.std(x_test, axis=0)\n",
    "std[std == 0] = 1  # Prevent division by zero\n",
    "x_test = (x_test - mean) / std\n",
    "\n",
    "final_result={\n",
    "    \"Stock\": pd.read_csv(\"testing_data.csv\")[\"Stock\"],\n",
    "    \"Price\":pd.read_csv(\"testing_data.csv\")[\"Price\"],\n",
    "    \"Weights\":ratio\n",
    "}\n",
    "df=pd.DataFrame(final_result)\n",
    "df.to_csv(\"results.csv\",index=False)\n",
    "w"
   ]
  },
  {
   "cell_type": "code",
   "execution_count": 12,
   "metadata": {
    "execution": {
     "iopub.execute_input": "2025-04-06T13:46:39.555391Z",
     "iopub.status.busy": "2025-04-06T13:46:39.555169Z",
     "iopub.status.idle": "2025-04-06T13:46:39.562453Z",
     "shell.execute_reply": "2025-04-06T13:46:39.561731Z"
    }
   },
   "outputs": [],
   "source": [
    "weight_bias={\n",
    "    \"Weights\":w,\n",
    "    \"Bias\":[b for i in range(len(w))]\n",
    "}\n",
    "dataFrame=pd.DataFrame(weight_bias)\n",
    "dataFrame.to_csv(\"Weight_Bias.csv\",index=False)"
   ]
  },
  {
   "cell_type": "markdown",
   "metadata": {},
   "source": [
    "##### Updating Training Data"
   ]
  },
  {
   "cell_type": "code",
   "execution_count": 13,
   "metadata": {
    "execution": {
     "iopub.execute_input": "2025-04-06T13:46:39.564748Z",
     "iopub.status.busy": "2025-04-06T13:46:39.564557Z",
     "iopub.status.idle": "2025-04-06T13:46:39.577895Z",
     "shell.execute_reply": "2025-04-06T13:46:39.577250Z"
    }
   },
   "outputs": [
    {
     "name": "stdout",
     "output_type": "stream",
     "text": [
      "training_data.csv already exists.\n",
      "Data appended to training_data.csv successfully.\n"
     ]
    }
   ],
   "source": [
    "def create_csv(filename=\"training_data.csv\"):\n",
    "    columns = [\"Sector\", \"Stock\", \"Price\", \"P/E\", \"Sector Lowest\", \"52 Week High\", \"200d-EMA\", \"Alpha\", \"Beta\", \"Worth\", \"Weight\"]\n",
    "    if not os.path.exists(filename):\n",
    "        df = pd.DataFrame(columns=columns)\n",
    "        df.to_csv(filename, index=False)\n",
    "        print(f\"{filename} created successfully.\")\n",
    "    else:\n",
    "        print(f\"{filename} already exists.\")\n",
    "\n",
    "def update_csv(sector, stock, price, pe, sector_lowest, high_52, dema, alpha, beta, worth, weight, filename=\"training_data.csv\"):\n",
    "    data = {\n",
    "        \"Sector\": sector,\n",
    "        \"Stock\": stock,\n",
    "        \"Price\": price,\n",
    "        \"P/E\": pe,\n",
    "        \"Sector Lowest\": sector_lowest,\n",
    "        \"52 Week High\": high_52,\n",
    "        \"200d-EMA\": dema,\n",
    "        \"Alpha\": alpha,\n",
    "        \"Beta\": beta,\n",
    "        \"Worth\": worth,\n",
    "        \"Weight\": weight\n",
    "    }\n",
    "    \n",
    "    df = pd.DataFrame(data)\n",
    "    df.to_csv(filename, mode='a', header=not os.path.exists(filename), index=False)\n",
    "    print(f\"Data appended to {filename} successfully.\")\n",
    "\n",
    "# Example Usage:\n",
    "# Create the CSV file if not exists\n",
    "create_csv()\n",
    "\n",
    "# Example data to update the CSV file\n",
    "update_csv(\n",
    "    sector=pd.read_csv(\"testing_data.csv\")[\"Sector\"],\n",
    "    stock=pd.read_csv(\"testing_data.csv\")[\"Stock\"],\n",
    "    price=pd.read_csv(\"testing_data.csv\")[\"Price\"],\n",
    "    pe=pd.read_csv(\"testing_data.csv\")[\"P/E\"],\n",
    "    sector_lowest=pd.read_csv(\"testing_data.csv\")[\"Sector Lowest\"],\n",
    "    high_52=pd.read_csv(\"testing_data.csv\")[\"52 Week High\"],\n",
    "    dema=pd.read_csv(\"testing_data.csv\")[\"200d-EMA\"],\n",
    "    alpha=pd.read_csv(\"testing_data.csv\")[\"Alpha\"],\n",
    "    beta=pd.read_csv(\"testing_data.csv\")[\"Beta\"],\n",
    "    worth=pd.read_csv(\"testing_data.csv\")[\"Worth\"],\n",
    "    weight=ratio\n",
    ")"
   ]
  },
  {
   "cell_type": "markdown",
   "metadata": {},
   "source": [
    "## Picking the 10 Best Stocks"
   ]
  },
  {
   "cell_type": "code",
   "execution_count": 14,
   "metadata": {
    "execution": {
     "iopub.execute_input": "2025-04-06T13:46:39.581209Z",
     "iopub.status.busy": "2025-04-06T13:46:39.580759Z",
     "iopub.status.idle": "2025-04-06T13:46:39.590665Z",
     "shell.execute_reply": "2025-04-06T13:46:39.589930Z"
    }
   },
   "outputs": [],
   "source": [
    "results=pd.read_csv(\"results.csv\")\n",
    "chosen_index=[-1 for i in range(10)]\n",
    "liquidity=pd.read_csv(\"liquidity.csv\")[\"Amihud's Illiquidity Ratio\"]\n",
    "stock_data=pd.read_csv(\"stock_prices.csv\")\n",
    "stock_sector=stock_data[\"Sector\"]\n",
    "stock_name=stock_data[\"Stock\"]\n",
    "stock_price=stock_data[\"Last Price ($)\"]"
   ]
  },
  {
   "cell_type": "code",
   "execution_count": 15,
   "metadata": {
    "execution": {
     "iopub.execute_input": "2025-04-06T13:46:39.593064Z",
     "iopub.status.busy": "2025-04-06T13:46:39.592867Z",
     "iopub.status.idle": "2025-04-06T13:46:39.596144Z",
     "shell.execute_reply": "2025-04-06T13:46:39.595484Z"
    }
   },
   "outputs": [],
   "source": [
    "weights=results[\"Weights\"]\n",
    "num_row=len(weights)\n",
    "weight_sum=0"
   ]
  },
  {
   "cell_type": "code",
   "execution_count": 16,
   "metadata": {
    "execution": {
     "iopub.execute_input": "2025-04-06T13:46:39.598346Z",
     "iopub.status.busy": "2025-04-06T13:46:39.598146Z",
     "iopub.status.idle": "2025-04-06T13:46:39.603969Z",
     "shell.execute_reply": "2025-04-06T13:46:39.603250Z"
    }
   },
   "outputs": [
    {
     "data": {
      "text/plain": [
       "[26, 27, 28, 29, 23, 46, 22, 12, 20, 10]"
      ]
     },
     "execution_count": 16,
     "metadata": {},
     "output_type": "execute_result"
    }
   ],
   "source": [
    "for j in range(10):\n",
    "    max=-float('inf')\n",
    "    max_index=-1\n",
    "    for i in range(num_row):\n",
    "        if not(i in chosen_index):\n",
    "            if max<weights[i]:\n",
    "                max=weights[i]\n",
    "                max_index=i\n",
    "    chosen_index[j]=max_index\n",
    "    weight_sum+=weights[max_index]\n",
    "chosen_index"
   ]
  },
  {
   "cell_type": "code",
   "execution_count": 17,
   "metadata": {
    "execution": {
     "iopub.execute_input": "2025-04-06T13:46:39.606399Z",
     "iopub.status.busy": "2025-04-06T13:46:39.606183Z",
     "iopub.status.idle": "2025-04-06T13:46:39.611457Z",
     "shell.execute_reply": "2025-04-06T13:46:39.610930Z"
    }
   },
   "outputs": [],
   "source": [
    "data={\n",
    "    \"Sector\":[stock_sector[k] for k in chosen_index],\n",
    "    \"Stock\": [stock_name[i] for i in chosen_index],\n",
    "    \"Price\": [stock_price[i] for i in chosen_index],\n",
    "    \"Liquidity\": [liquidity[i] for i in chosen_index],\n",
    "    \"Weights\": [weights[i]*100/weight_sum for i in chosen_index]\n",
    "}\n",
    "darf = pd.DataFrame(data)\n",
    "darf.to_csv(\"Stock_final_investment.csv\",index=False)"
   ]
  }
 ],
 "metadata": {
  "kernelspec": {
   "display_name": "Python 3",
   "language": "python",
   "name": "python3"
  },
  "language_info": {
   "codemirror_mode": {
    "name": "ipython",
    "version": 3
   },
   "file_extension": ".py",
   "mimetype": "text/x-python",
   "name": "python",
   "nbconvert_exporter": "python",
   "pygments_lexer": "ipython3",
   "version": "3.13.1"
  }
 },
 "nbformat": 4,
 "nbformat_minor": 2
}
